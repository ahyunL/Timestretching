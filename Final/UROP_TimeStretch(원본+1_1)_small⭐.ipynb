{
 "cells": [
  {
   "cell_type": "code",
   "execution_count": 1,
   "metadata": {
    "colab": {
     "base_uri": "https://localhost:8080/"
    },
    "collapsed": true,
    "id": "trDKdeAbaIGI",
    "outputId": "abe32602-0d68-4fb8-937f-5135bd712373"
   },
   "outputs": [
    {
     "name": "stdout",
     "output_type": "stream",
     "text": [
      "\u001b[2K     \u001b[90m━━━━━━━━━━━━━━━━━━━━━━━━━━━━━━━━━━━━━━━━\u001b[0m \u001b[32m43.7/43.7 kB\u001b[0m \u001b[31m3.5 MB/s\u001b[0m eta \u001b[36m0:00:00\u001b[0m\n",
      "\u001b[2K   \u001b[90m━━━━━━━━━━━━━━━━━━━━━━━━━━━━━━━━━━━━━━━━\u001b[0m \u001b[32m527.3/527.3 kB\u001b[0m \u001b[31m34.0 MB/s\u001b[0m eta \u001b[36m0:00:00\u001b[0m\n",
      "\u001b[2K   \u001b[90m━━━━━━━━━━━━━━━━━━━━━━━━━━━━━━━━━━━━━━━━\u001b[0m \u001b[32m84.1/84.1 kB\u001b[0m \u001b[31m8.0 MB/s\u001b[0m eta \u001b[36m0:00:00\u001b[0m\n",
      "\u001b[2K   \u001b[90m━━━━━━━━━━━━━━━━━━━━━━━━━━━━━━━━━━━━━━━━\u001b[0m \u001b[32m9.5/9.5 MB\u001b[0m \u001b[31m135.2 MB/s\u001b[0m eta \u001b[36m0:00:00\u001b[0m\n",
      "\u001b[2K   \u001b[90m━━━━━━━━━━━━━━━━━━━━━━━━━━━━━━━━━━━━━━━━\u001b[0m \u001b[32m177.6/177.6 kB\u001b[0m \u001b[31m16.2 MB/s\u001b[0m eta \u001b[36m0:00:00\u001b[0m\n",
      "\u001b[2K   \u001b[90m━━━━━━━━━━━━━━━━━━━━━━━━━━━━━━━━━━━━━━━━\u001b[0m \u001b[32m3.1/3.1 MB\u001b[0m \u001b[31m84.1 MB/s\u001b[0m eta \u001b[36m0:00:00\u001b[0m\n",
      "\u001b[2K   \u001b[90m━━━━━━━━━━━━━━━━━━━━━━━━━━━━━━━━━━━━━━━━\u001b[0m \u001b[32m3.6/3.6 MB\u001b[0m \u001b[31m113.5 MB/s\u001b[0m eta \u001b[36m0:00:00\u001b[0m\n",
      "\u001b[?25h\u001b[31mERROR: pip's dependency resolver does not currently take into account all the packages that are installed. This behaviour is the source of the following dependency conflicts.\n",
      "gcsfs 2025.3.0 requires fsspec==2025.3.0, but you have fsspec 2024.6.1 which is incompatible.\u001b[0m\u001b[31m\n",
      "\u001b[2K   \u001b[90m━━━━━━━━━━━━━━━━━━━━━━━━━━━━━━━━━━━━━━━━\u001b[0m \u001b[32m193.6/193.6 kB\u001b[0m \u001b[31m19.1 MB/s\u001b[0m eta \u001b[36m0:00:00\u001b[0m\n",
      "\u001b[?25h\u001b[31mERROR: pip's dependency resolver does not currently take into account all the packages that are installed. This behaviour is the source of the following dependency conflicts.\n",
      "datasets 2.21.0 requires fsspec[http]<=2024.6.1,>=2023.1.0, but you have fsspec 2025.3.0 which is incompatible.\u001b[0m\u001b[31m\n",
      "\u001b[0m"
     ]
    }
   ],
   "source": [
    "# 핵심 패키지(스트리밍 호환 버전)\n",
    "!pip -q install \"datasets<3.0.0\" \"evaluate<0.5.0\" \"transformers>=4.38,<4.45\" \\\n",
    "                huggingface_hub torchaudio jiwer soundfile\n",
    "\n",
    "# fsspec/gcsfs 충돌 정리\n",
    "!pip -q install -U fsspec==2025.3.0 gcsfs"
   ]
  },
  {
   "cell_type": "code",
   "execution_count": 2,
   "metadata": {
    "colab": {
     "base_uri": "https://localhost:8080/"
    },
    "id": "6V5n2Jn1bK18",
    "outputId": "dd393363-0d84-4358-d3fb-6a51059aa7d6"
   },
   "outputs": [
    {
     "name": "stdout",
     "output_type": "stream",
     "text": [
      "datasets: 2.21.0\n",
      "evaluate: 0.4.5\n",
      "transformers: 4.44.2\n",
      "fsspec: 2025.3.0\n",
      "gcsfs: 2025.3.0\n",
      "python: 3.12.11 (main, Jun  4 2025, 08:56:18) [GCC 11.4.0]\n"
     ]
    }
   ],
   "source": [
    "import datasets, evaluate, transformers, fsspec, gcsfs, sys\n",
    "print(\"datasets:\", datasets.__version__)    # ← 2.x 여야 OK\n",
    "print(\"evaluate:\", evaluate.__version__)    # ← 0.4.x 권장\n",
    "print(\"transformers:\", transformers.__version__)\n",
    "print(\"fsspec:\", fsspec.__version__)\n",
    "print(\"gcsfs:\", gcsfs.__version__)\n",
    "print(\"python:\", sys.version)"
   ]
  },
  {
   "cell_type": "code",
   "execution_count": 3,
   "metadata": {
    "colab": {
     "base_uri": "https://localhost:8080/",
     "height": 17,
     "referenced_widgets": [
      "909491a9280d4747b4f3fb13324e89ed",
      "d9e099b7e70c46e297ba17fce7150fc8",
      "dbfdf9dbae80425780325db002674294",
      "94df89fd90f748b5bc2e76decbe83816",
      "3e7a0d26b442467ebf95061c4fa605e4",
      "e7d98da58b5c44b9a7cdcf152c569dd9",
      "fb090b2ff00e46e89dcab851f79488b2",
      "a0ed32476d8d4e0694a7f5a9b861f602",
      "500130023518466282a9ee02cae3b451",
      "0c65f0b0b75e40639b58a02c48bf0575",
      "24dbba22da0b4d8795be454485482711",
      "319fbb17b57540c7aa8da28675fce5b2",
      "b2aaab62f872408ba2c9e886faea4430",
      "cb73ff22cf72454c9d16d139b9152d8b",
      "7922aa677869415a9c3650d481f892b1",
      "e5945cd61bb941cf9d73566eb3dbf7b0",
      "280fff53ce244496aa90e00e1697cc14",
      "0f70c66d74474241b3c57f1574ae64f1",
      "6dda53c0aa0a4b1e863a1b58e0c01959",
      "81ac3537ae3f475e8e7feba7212132bd"
     ]
    },
    "id": "OFRkdPZmSL1g",
    "outputId": "7b132569-5b7e-4ec0-fe8d-5ae62adb297b"
   },
   "outputs": [
    {
     "data": {
      "application/vnd.jupyter.widget-view+json": {
       "model_id": "909491a9280d4747b4f3fb13324e89ed",
       "version_major": 2,
       "version_minor": 0
      },
      "text/plain": [
       "VBox(children=(HTML(value='<center> <img\\nsrc=https://huggingface.co/front/assets/huggingface_logo-noborder.sv…"
      ]
     },
     "metadata": {},
     "output_type": "display_data"
    }
   ],
   "source": [
    "from huggingface_hub import notebook_login\n",
    "notebook_login()"
   ]
  },
  {
   "cell_type": "code",
   "execution_count": 4,
   "metadata": {
    "colab": {
     "base_uri": "https://localhost:8080/"
    },
    "id": "MEYx5rA_SoNe",
    "outputId": "ebe588e6-31c8-4700-db2f-478980f4ec48"
   },
   "outputs": [
    {
     "name": "stdout",
     "output_type": "stream",
     "text": [
      "Seed fixed to 42.\n"
     ]
    }
   ],
   "source": [
    "from datasets import load_dataset, Audio, Dataset, concatenate_datasets\n",
    "from transformers import (\n",
    "    WhisperProcessor, WhisperForConditionalGeneration,\n",
    "    Seq2SeqTrainingArguments, Seq2SeqTrainer, EarlyStoppingCallback\n",
    ")\n",
    "from dataclasses import dataclass\n",
    "from typing import Any, Dict, List, Union\n",
    "from evaluate import load as load_metric\n",
    "from IPython.display import display\n",
    "import pandas as pd\n",
    "import matplotlib.pyplot as plt\n",
    "\n",
    "import os, random, numpy as np, torch\n",
    "\n",
    "SEED = 42\n",
    "random.seed(SEED); np.random.seed(SEED); torch.manual_seed(SEED)\n",
    "if torch.cuda.is_available():\n",
    "    torch.cuda.manual_seed_all(SEED)\n",
    "os.environ[\"PYTHONHASHSEED\"] = str(SEED)\n",
    "torch.backends.cudnn.deterministic = True\n",
    "torch.backends.cudnn.benchmark = False\n",
    "print(\"Seed fixed to {}.\".format(SEED))"
   ]
  },
  {
   "cell_type": "code",
   "execution_count": 5,
   "metadata": {
    "colab": {
     "base_uri": "https://localhost:8080/",
     "height": 634,
     "referenced_widgets": [
      "fb5d19a6b202412bb9f8ff6aa6f06b7f",
      "7d3b8b5df19548238f9dbbc4edde88db",
      "2fea847dd63c4433b651499efc8a102e",
      "9455ca50bafa4fe4a3b472d81dcac353",
      "a0138d273b8d467fb90696936924ed0f",
      "21f71b3bd30e44d2bc8a745d67c3c43c",
      "9366393eb938465aa5a8ce8dc69ec83d",
      "7d2247440fd346c5996d8eab6ff74e18",
      "eaa1ab0767cb4e26bd313257f53fba10",
      "c8293805828e472f95e61698678a28db",
      "027af0e80f9b466b81302f57261f679a",
      "378f8adc66f644e295c9d9a0c58cd211",
      "c2bc99d80f59425c95106b2fa8d4241a",
      "6f397b6dc240480c9fd6c2ecae46f98b",
      "76452f2b29c84235afe2db2f0898e047",
      "3846ef20e629462a94492f04d499881d",
      "c32b422184534d83ada3b5da5dfee6ee",
      "1bc7a74bb3164c4eac4b2fd6e35a7f05",
      "a088575a6d67499ea8792d5f7d60174c",
      "d5fe212b6d63444ab82a8c4ec1e1d283",
      "d8cf30b2fbc64747a9ff591990391c48",
      "3fac8f3b82024a8faee9786798e5ec24",
      "8930c69e39844e0ea6c33c1c3558d4c9",
      "975fed948a6d439aa59529dda1e1fdfb",
      "69f3d3b1a783471e98b4cfc527c05c78",
      "987c66f402a745e0b1a3974136ec69b0",
      "a4667051036546a8b723faf0e0d2ee65",
      "6c84179808b04b52b12ff57e1f35c10f",
      "88cd45465320447481f00ba6796f172f",
      "356faac2d3d64b6a8c5764d4aa340e84",
      "25afe43bc93c4deab384e83a521e7fbe",
      "89a751dc93274995adea8ca7719764b8",
      "7b24afd661ff455facbe0f109da0142a",
      "6cac2892d3044adc88f239288688f7e1",
      "6f8983ffa33b4f6eb9280b976e64e534",
      "3bb4395dfd114ef49334d0dc84c9d527",
      "eac68882376e4fe08ee83f6ac5cbe4ee",
      "7008fcce6b734024af96001cc43b76a7",
      "b2ab3885a7ad4e218fdc06afc8e74865",
      "cd3a0541a0944e5b9c18f7b7613e656e",
      "c758b9c72bd44c52bfe96e2ca785ab91",
      "999b638c17964c10b41e4f653e643cfc",
      "3d60027e85464d3c812dc9b3c9316ff3",
      "4003f71cecc84e58ac4e1aa136c95d3f"
     ]
    },
    "id": "rBnEN1UpS9kQ",
    "outputId": "78b27fd9-9693-4480-e63f-ebd14b0e7fca"
   },
   "outputs": [
    {
     "name": "stdout",
     "output_type": "stream",
     "text": [
      "✅ Loading ko...\n"
     ]
    },
    {
     "name": "stderr",
     "output_type": "stream",
     "text": [
      "/usr/local/lib/python3.12/dist-packages/huggingface_hub/utils/_auth.py:94: UserWarning: \n",
      "The secret `HF_TOKEN` does not exist in your Colab secrets.\n",
      "To authenticate with the Hugging Face Hub, create a token in your settings tab (https://huggingface.co/settings/tokens), set it as secret in your Google Colab and restart your session.\n",
      "You will be able to reuse this secret in all of your notebooks.\n",
      "Please note that authentication is recommended but still optional to access public models or datasets.\n",
      "  warnings.warn(\n"
     ]
    },
    {
     "data": {
      "application/vnd.jupyter.widget-view+json": {
       "model_id": "fb5d19a6b202412bb9f8ff6aa6f06b7f",
       "version_major": 2,
       "version_minor": 0
      },
      "text/plain": [
       "Downloading builder script:   0%|          | 0.00/8.17k [00:00<?, ?B/s]"
      ]
     },
     "metadata": {},
     "output_type": "display_data"
    },
    {
     "data": {
      "application/vnd.jupyter.widget-view+json": {
       "model_id": "378f8adc66f644e295c9d9a0c58cd211",
       "version_major": 2,
       "version_minor": 0
      },
      "text/plain": [
       "Downloading readme:   0%|          | 0.00/12.3k [00:00<?, ?B/s]"
      ]
     },
     "metadata": {},
     "output_type": "display_data"
    },
    {
     "data": {
      "application/vnd.jupyter.widget-view+json": {
       "model_id": "8930c69e39844e0ea6c33c1c3558d4c9",
       "version_major": 2,
       "version_minor": 0
      },
      "text/plain": [
       "Downloading extra modules:   0%|          | 0.00/3.74k [00:00<?, ?B/s]"
      ]
     },
     "metadata": {},
     "output_type": "display_data"
    },
    {
     "data": {
      "application/vnd.jupyter.widget-view+json": {
       "model_id": "6cac2892d3044adc88f239288688f7e1",
       "version_major": 2,
       "version_minor": 0
      },
      "text/plain": [
       "Downloading extra modules:   0%|          | 0.00/77.3k [00:00<?, ?B/s]"
      ]
     },
     "metadata": {},
     "output_type": "display_data"
    },
    {
     "name": "stdout",
     "output_type": "stream",
     "text": [
      "The repository for mozilla-foundation/common_voice_16_1 contains custom code which must be executed to correctly load the dataset. You can inspect the repository content at https://hf.co/datasets/mozilla-foundation/common_voice_16_1.\n",
      "You can avoid this prompt in future by passing the argument `trust_remote_code=True`.\n",
      "\n",
      "Do you wish to run the custom code? [y/N] y\n"
     ]
    },
    {
     "name": "stderr",
     "output_type": "stream",
     "text": [
      "Reading metadata...: 401it [00:00, 568.24it/s]\n",
      "Reading metadata...: 235it [00:00, 462.52it/s]\n",
      "Reading metadata...: 282it [00:00, 564.43it/s]\n"
     ]
    },
    {
     "name": "stdout",
     "output_type": "stream",
     "text": [
      "✅ Loading ja...\n"
     ]
    },
    {
     "name": "stderr",
     "output_type": "stream",
     "text": [
      "Reading metadata...: 9616it [00:00, 11022.65it/s]\n",
      "Reading metadata...: 6094it [00:01, 6004.71it/s]\n",
      "Reading metadata...: 6094it [00:00, 6118.43it/s]\n"
     ]
    },
    {
     "name": "stdout",
     "output_type": "stream",
     "text": [
      "✅ Loading en...\n"
     ]
    },
    {
     "name": "stderr",
     "output_type": "stream",
     "text": [
      "Reading metadata...: 1090061it [00:36, 29826.69it/s]\n",
      "Reading metadata...: 16390it [00:01, 12931.68it/s]\n",
      "Reading metadata...: 16390it [00:01, 12575.84it/s]\n"
     ]
    },
    {
     "name": "stdout",
     "output_type": "stream",
     "text": [
      "✅ Loading de...\n"
     ]
    },
    {
     "name": "stderr",
     "output_type": "stream",
     "text": [
      "Reading metadata...: 576207it [00:20, 28464.34it/s]\n",
      "Reading metadata...: 16173it [00:01, 9839.53it/s]\n",
      "Reading metadata...: 16173it [00:01, 13018.16it/s]\n"
     ]
    },
    {
     "name": "stdout",
     "output_type": "stream",
     "text": [
      "{'train': 800, 'val': 400, 'test': 400}\n"
     ]
    }
   ],
   "source": [
    "# 2) 데이터 로드(Streaming -> in-memory)\n",
    "n_train, n_val, n_test = 200, 100, 100\n",
    "langs = [\"ko\",\"ja\",\"en\",\"de\"]\n",
    "\n",
    "def take_valid(gen, n, lang_code):\n",
    "    out = []\n",
    "    for ex in gen:\n",
    "        if ex.get(\"audio\") is not None and ex.get(\"sentence\"):\n",
    "            ex = dict(ex)\n",
    "            ex[\"locale\"] = lang_code\n",
    "            out.append(ex)\n",
    "            if len(out) >= n:\n",
    "                break\n",
    "    return out\n",
    "\n",
    "train_data, val_data, test_data = [], [], []\n",
    "for lang in langs:\n",
    "    print(f\"✅ Loading {lang}...\")\n",
    "    ds_tr = load_dataset(\"mozilla-foundation/common_voice_16_1\", lang, split=\"train\",      streaming=True)\n",
    "    ds_va = load_dataset(\"mozilla-foundation/common_voice_16_1\", lang, split=\"validation\", streaming=True)\n",
    "    ds_te = load_dataset(\"mozilla-foundation/common_voice_16_1\", lang, split=\"test\",       streaming=True)\n",
    "    train_data += take_valid(ds_tr, n_train, lang)\n",
    "    val_data   += take_valid(ds_va, n_val,   lang)\n",
    "    test_data  += take_valid(ds_te, n_test,  lang)\n",
    "\n",
    "random.shuffle(train_data); random.shuffle(val_data); random.shuffle(test_data)\n",
    "train_dataset = Dataset.from_list(train_data)\n",
    "val_dataset   = Dataset.from_list(val_data)\n",
    "test_dataset  = Dataset.from_list(test_data)\n",
    "print({\"train\": len(train_dataset), \"val\": len(val_dataset), \"test\": len(test_dataset)})"
   ]
  },
  {
   "cell_type": "code",
   "execution_count": 6,
   "metadata": {
    "colab": {
     "base_uri": "https://localhost:8080/",
     "height": 386,
     "referenced_widgets": [
      "cf318dd94d804566b094f7f7a2ca9c59",
      "9080fcd19cb04d1c91b1cfb083d67154",
      "fc4d68eb3ed840e79768abf3668a4e7c",
      "bf98026801d0466aaa1425874da7093a",
      "bcbad27c4f1a4fe68d978512dc4453b0",
      "8fc6328688d14ac0b7655703f0486ed0",
      "c31fcf75815b4b66abe2cc35502ee224",
      "35ac2e4ad2e04b678cd9616e138f8b74",
      "024181b1b135477ca71e3c82708855cb",
      "ac3e8d9767754fe8b17047d48829ce2b",
      "cf27a81ade7344d78f84c6a5ca983ee1",
      "89a73dddc3ae496bb471cd68a894f29d",
      "b48e56b8f42a482abb8169bcecbd6df6",
      "70461c889ac94b30b3aba7b17e03410d",
      "724e0c55b1ce45f78aa1acfd04495c7e",
      "5b4022eb916749b58247b2cdd4201b58",
      "155ad947b80f4ed59f496e55a45facf3",
      "b576de6d7c6d47fe92723b720bc73ce6",
      "6ca78292b5184a39b90318e4edd9e5e9",
      "2a64450163874b89a65f5036051bc909",
      "74e6aea572fc47c987d99710edb4999a",
      "369b3175bd4e4265b8a4bed7f26b56bc",
      "f66f58f1b6b94cde9f66ffd2cddad1fe",
      "456b4a83184c4906a86317f7445df77a",
      "f0e90acf68184e01963addaee555b3d1",
      "240bec44bfa84dacb0690363699f6e7f",
      "1a493bc4da314725abddd7e6aadc1077",
      "f9ad2b89c90a4aeea06e3e600339aa57",
      "669deb8c6d4d4ec0b3dd59d7dd5e2997",
      "ab6285a548ce4098bba6b10068494e53",
      "ab97267cc47f4c76b6bbb4021f24ab96",
      "d6868cfc683a4ea083e0dea317075535",
      "0ddb78db1dac414f89fd7f4a86389fa0",
      "d420386928334f4fb1f46fe5d691fa80",
      "d648de2eb93646fcb1540a10e5b46078",
      "cf66ff84e4624dd9b455fa1f5e0c6901",
      "21bfb7aa49cd4dfbbf6492e695c62d5c",
      "40b2f23854134882a37187eda206628d",
      "f0f691b27c584517a3f27ea17b4feadc",
      "a073e3d57278449f8bb669dac6e05c03",
      "e2816ca533aa4fbba1b32ecbc2b6480b",
      "c64aa02769c54a5087d60df51703eb2a",
      "12623c34b9054320afb6b59f509dcedb",
      "2bf1e188b3064800bcfd0eb319bf14ae",
      "2464a72a58794b03a2d3a67a78ca1e1a",
      "2edec3a75cc743249de4059a3f844747",
      "ad77e70cac3345fb9a742f684e2ae6c1",
      "d40355ded53e460fbe577df52d541af7",
      "3bd0280410924b488edbb7234f1e355d",
      "4afb987f0c304f1abd31276e5b1776fd",
      "a04989fc18174d2c8728f0e6659e9e75",
      "10c1289ffed64af08b536a1f1958ac57",
      "8142d80763c64364910b4a6463f7de74",
      "a903165e048c4d47a08d882021a5fb04",
      "18f11f093d9544af9e90c77fd2060f12",
      "06ea4762753b4ba388e29008efc8f518",
      "67ea04329f09447ba8bf841626a7669f",
      "af28186503ac4d1a9165298dd393448f",
      "1acdc8c05ca14e8a96714f36f5c537e6",
      "8df338aa691349a89e434988ae312df6",
      "b4a787c2a5fe4f08a53b2545b77f3444",
      "864394269f49439d8d654f7eb6df28d0",
      "a3a3fbf702a34975b0d02af388aecaa8",
      "50d9438b46bb46b0b8f79394a3da6cf9",
      "bbb0ff28d0aa496a90479771bc626eb8",
      "9be5295fe8a144e3b9d509d8674c2848",
      "69aebd06da10468bac56ef2314b7fa90",
      "2c5c49b68e0f424f8720cb67a2ee0ca8",
      "fad6c86683c941eba729e3b8a05d4795",
      "18233a44465f41fbaeec724780038138",
      "d7cc025fdcb541248187e89d9d989ca7",
      "06d08ed48c41419db12c4ed6e07ec38e",
      "79f9666895414300b8897f527e97ebde",
      "b5cfb67626dc4ca99a1f29a13b8bee43",
      "29108d8e19db403abfc39f1b44ac40f1",
      "6dfde743e9aa4c6986c54789f5f79102",
      "32163d27eb314ee0a3b8aeeb63ea638b",
      "60a6838daf6d4a0582eaa1cafae62582",
      "2fb8faaa72784dce9b5fa765e9e17d3a",
      "3163f9d962764cdf9e9a753031767a68",
      "a51dcbb5762c4338ad12b31e9539db7f",
      "f1f214147dc04340b4a9db47fad4f0a5",
      "a97e9fb3af6449309f4b0860b1c78288",
      "269e699a3a724a61b04d730eae2c0fc4",
      "0fc726b69b724fbf80a461b74f7a7c0a",
      "ff064c8bf32c4d428034f78906b08130",
      "586b07aaadec46f2a7926ff765bcfdb4",
      "1a7d816aacb64fa784ec3098884c7a63",
      "eab9dd6cf42243d6a4c09bc148b345a2",
      "2224a2af2a144995a96db36679978690",
      "4bd59a21def241909291f99ada37bd31",
      "8fcd8eff42e6487fbfbf80fac27e1f31",
      "3d1ef4aa6d2f4e7aa9301e38248a3159",
      "1b8fbae82c1d4dce80f3b5e3e2c13011",
      "7ad322cb7c7b49d78677aa2de773f4f9",
      "f6f2399830be4d298f5585819738038b",
      "cd9920834285472e8743481084752a8e",
      "82c7c4d6db534b83883e1b810edc96a8",
      "65e3fa180f6a43779ea33d7be1931bab",
      "9840fe07f69642f68076e285b95bd429",
      "ccde5c314f4b46e4aa970aa3c29921a8",
      "cc13f574785243afa833b5cc8f6ea1f8",
      "e67a0a91f42c4000ad3b6cbc3a53a96c",
      "d62977d4812e4a14939ebe77d0f6736b",
      "be6e097aff474247b2983d6d1a90a561",
      "3693fa320e6842d58cee3e2e1fad263d",
      "a1dfc3df3bea4e169f0d27a6fe12b743",
      "645b0c1d74d3402a99747bc9973d036b",
      "9c9f3ebfd098400788773d7d86598457",
      "94c1b521d977438b8edbdeb012a4d780",
      "c0a9cfab7aea482b924fe296ef69f7cf",
      "57d1544b58594e6ca53c7e10036c128e",
      "18157c9c1c644b5fa950c3253049a6de",
      "cb67a715c66442abbc95e180a7551e50",
      "72d6d5dc39ac444fa0291852a00dcb11",
      "05e4de95944c4d8685364259a178b0fe",
      "46e5c40ee6844f21b52e5357292c1b5a",
      "4d0064e23549474e8b5d8ce7f86a1c0d",
      "25d9144e11154223bb28d4b9e6b9fcd0",
      "63d0b49c6fbd482790d5438088ecc760",
      "a41a5bf664ec401190a88559a5094c88"
     ]
    },
    "id": "cjHSZGXdVVrJ",
    "outputId": "4ae41696-6c6a-4259-b3c5-f2580851308f"
   },
   "outputs": [
    {
     "data": {
      "application/vnd.jupyter.widget-view+json": {
       "model_id": "cf318dd94d804566b094f7f7a2ca9c59",
       "version_major": 2,
       "version_minor": 0
      },
      "text/plain": [
       "preprocessor_config.json: 0.00B [00:00, ?B/s]"
      ]
     },
     "metadata": {},
     "output_type": "display_data"
    },
    {
     "data": {
      "application/vnd.jupyter.widget-view+json": {
       "model_id": "89a73dddc3ae496bb471cd68a894f29d",
       "version_major": 2,
       "version_minor": 0
      },
      "text/plain": [
       "tokenizer_config.json: 0.00B [00:00, ?B/s]"
      ]
     },
     "metadata": {},
     "output_type": "display_data"
    },
    {
     "data": {
      "application/vnd.jupyter.widget-view+json": {
       "model_id": "f66f58f1b6b94cde9f66ffd2cddad1fe",
       "version_major": 2,
       "version_minor": 0
      },
      "text/plain": [
       "vocab.json: 0.00B [00:00, ?B/s]"
      ]
     },
     "metadata": {},
     "output_type": "display_data"
    },
    {
     "data": {
      "application/vnd.jupyter.widget-view+json": {
       "model_id": "d420386928334f4fb1f46fe5d691fa80",
       "version_major": 2,
       "version_minor": 0
      },
      "text/plain": [
       "tokenizer.json: 0.00B [00:00, ?B/s]"
      ]
     },
     "metadata": {},
     "output_type": "display_data"
    },
    {
     "data": {
      "application/vnd.jupyter.widget-view+json": {
       "model_id": "2464a72a58794b03a2d3a67a78ca1e1a",
       "version_major": 2,
       "version_minor": 0
      },
      "text/plain": [
       "merges.txt: 0.00B [00:00, ?B/s]"
      ]
     },
     "metadata": {},
     "output_type": "display_data"
    },
    {
     "data": {
      "application/vnd.jupyter.widget-view+json": {
       "model_id": "06ea4762753b4ba388e29008efc8f518",
       "version_major": 2,
       "version_minor": 0
      },
      "text/plain": [
       "normalizer.json: 0.00B [00:00, ?B/s]"
      ]
     },
     "metadata": {},
     "output_type": "display_data"
    },
    {
     "data": {
      "application/vnd.jupyter.widget-view+json": {
       "model_id": "69aebd06da10468bac56ef2314b7fa90",
       "version_major": 2,
       "version_minor": 0
      },
      "text/plain": [
       "added_tokens.json: 0.00B [00:00, ?B/s]"
      ]
     },
     "metadata": {},
     "output_type": "display_data"
    },
    {
     "data": {
      "application/vnd.jupyter.widget-view+json": {
       "model_id": "60a6838daf6d4a0582eaa1cafae62582",
       "version_major": 2,
       "version_minor": 0
      },
      "text/plain": [
       "special_tokens_map.json: 0.00B [00:00, ?B/s]"
      ]
     },
     "metadata": {},
     "output_type": "display_data"
    },
    {
     "data": {
      "application/vnd.jupyter.widget-view+json": {
       "model_id": "eab9dd6cf42243d6a4c09bc148b345a2",
       "version_major": 2,
       "version_minor": 0
      },
      "text/plain": [
       "Map:   0%|          | 0/800 [00:00<?, ? examples/s]"
      ]
     },
     "metadata": {},
     "output_type": "display_data"
    },
    {
     "data": {
      "application/vnd.jupyter.widget-view+json": {
       "model_id": "9840fe07f69642f68076e285b95bd429",
       "version_major": 2,
       "version_minor": 0
      },
      "text/plain": [
       "Map:   0%|          | 0/400 [00:00<?, ? examples/s]"
      ]
     },
     "metadata": {},
     "output_type": "display_data"
    },
    {
     "data": {
      "application/vnd.jupyter.widget-view+json": {
       "model_id": "c0a9cfab7aea482b924fe296ef69f7cf",
       "version_major": 2,
       "version_minor": 0
      },
      "text/plain": [
       "Map:   0%|          | 0/400 [00:00<?, ? examples/s]"
      ]
     },
     "metadata": {},
     "output_type": "display_data"
    },
    {
     "name": "stdout",
     "output_type": "stream",
     "text": [
      "Device: cuda | Seed: 42\n"
     ]
    }
   ],
   "source": [
    "# 3) 전처리\n",
    "TARGET_SR = 16000\n",
    "model_checkpoint = \"openai/whisper-small\"\n",
    "\n",
    "processor = WhisperProcessor.from_pretrained(model_checkpoint)\n",
    "feature_extractor = processor.feature_extractor\n",
    "tokenizer = processor.tokenizer\n",
    "\n",
    "train_dataset = train_dataset.cast_column(\"audio\", Audio(sampling_rate=TARGET_SR))\n",
    "val_dataset   = val_dataset.cast_column(\"audio\",   Audio(sampling_rate=TARGET_SR))\n",
    "test_dataset  = test_dataset.cast_column(\"audio\",  Audio(sampling_rate=TARGET_SR))\n",
    "\n",
    "def prepare_dataset(example):\n",
    "    a = example[\"audio\"]\n",
    "    example[\"input_features\"] = feature_extractor(a[\"array\"], sampling_rate=TARGET_SR).input_features[0]\n",
    "    example[\"labels\"] = tokenizer(example[\"sentence\"]).input_ids\n",
    "    return example\n",
    "\n",
    "keep_cols = {\"input_features\",\"labels\",\"locale\"}\n",
    "proc_train_orig = train_dataset.map(prepare_dataset, remove_columns=[c for c in train_dataset.column_names if c not in keep_cols])\n",
    "proc_val_orig   = val_dataset.map(  prepare_dataset, remove_columns=[c for c in val_dataset.column_names   if c not in keep_cols])\n",
    "proc_test_orig  = test_dataset.map( prepare_dataset, remove_columns=[c for c in test_dataset.column_names  if c not in keep_cols])\n",
    "\n",
    "for ds_ in (proc_train_orig, proc_val_orig, proc_test_orig):\n",
    "    ds_.set_format(columns=list(keep_cols))\n",
    "\n",
    "device = \"cuda\" if torch.cuda.is_available() else \"cpu\"\n",
    "print(\"Device:\", device, \"| Seed:\", SEED)"
   ]
  },
  {
   "cell_type": "code",
   "execution_count": 7,
   "metadata": {
    "colab": {
     "base_uri": "https://localhost:8080/",
     "height": 113,
     "referenced_widgets": [
      "60357fa2898b4223a42c7e2b95ac483d",
      "490c4408200b41928426bf778ad23b0c",
      "732fc0b4ab544811ab599b06238b32e5",
      "92cec3ba5e41460fbde11b133807d67c",
      "fab934b2bd7b48feb965e0e1f67faae3",
      "6d634334d4b64463a3f05145246d4c3f",
      "902e67de7825443097d9bfc75764665c",
      "cf18f149867742098296e905ad0dc806",
      "f904f57e3cef48b4af71ec8404700631",
      "1cbde8ad5e0c4cb69cc2da63e6d9b9db",
      "0a74083bc7204142b1954f2b7968eec9",
      "e54251e6dee0464a982ef71095ae81ec",
      "7285dfa376bd403d8993d58a2681ab25",
      "b54e06d86b784203a6d6a2b94cc7045b",
      "3b6eccff01844e36bebc89fff5cf9f4a",
      "2251a43f284e490aa330cd181beca64c",
      "d006f0ad3b7d40c385f82eba63993eb1",
      "41e2804d94934f7bbb7ffab8f922fa09",
      "0d9a2da799894f9895a3073350158a29",
      "c874b95dcaf74559af79e546aa64a9f8",
      "7d0a5f7fc1934b40b130859d4044103d",
      "f9391e1acb4a4c199a02d57a340b3ac9",
      "617aeef66e1643ebbe84f12f4029a8bf",
      "3088b082b9e34c86a54ac19937994acd",
      "958214a9bd9a41aca959c2b1737c124e",
      "48b1f5dab3e2441fbdb38f32a775c4a9",
      "ccf291262d0c4fccac9791edea18872a",
      "29bd7b417b464455aa9a534029be539b",
      "da3e4983c07046b58f27c974a19cc1b6",
      "f937499828a44a4887e73b77f838674b",
      "b9cb6939670d4d7583daddfb4e4d5cd8",
      "96c1c1a4559c4214bb32ca6a031ec94b",
      "7e831c9371aa439788b1376e11165201"
     ]
    },
    "id": "J0_PJW6LVXwA",
    "outputId": "7f2af133-3ac3-490b-826d-6d0569de146a"
   },
   "outputs": [
    {
     "data": {
      "application/vnd.jupyter.widget-view+json": {
       "model_id": "60357fa2898b4223a42c7e2b95ac483d",
       "version_major": 2,
       "version_minor": 0
      },
      "text/plain": [
       "config.json: 0.00B [00:00, ?B/s]"
      ]
     },
     "metadata": {},
     "output_type": "display_data"
    },
    {
     "data": {
      "application/vnd.jupyter.widget-view+json": {
       "model_id": "e54251e6dee0464a982ef71095ae81ec",
       "version_major": 2,
       "version_minor": 0
      },
      "text/plain": [
       "model.safetensors:   0%|          | 0.00/967M [00:00<?, ?B/s]"
      ]
     },
     "metadata": {},
     "output_type": "display_data"
    },
    {
     "data": {
      "application/vnd.jupyter.widget-view+json": {
       "model_id": "617aeef66e1643ebbe84f12f4029a8bf",
       "version_major": 2,
       "version_minor": 0
      },
      "text/plain": [
       "generation_config.json: 0.00B [00:00, ?B/s]"
      ]
     },
     "metadata": {},
     "output_type": "display_data"
    }
   ],
   "source": [
    "# 4) 모델 로딩 & Whisper generate() 안전 세팅\n",
    "model = WhisperForConditionalGeneration.from_pretrained(model_checkpoint).to(device)\n",
    "\n",
    "# pad/eos/start/forced 프롬프트 확정\n",
    "tok = processor.tokenizer\n",
    "if tok.pad_token_id is None:\n",
    "    tok.pad_token = tok.eos_token\n",
    "\n",
    "start_id = tok.convert_tokens_to_ids(\"<|startoftranscript|>\")\n",
    "if start_id is None:\n",
    "    start_id = processor.get_decoder_prompt_ids(language=\"english\", task=\"transcribe\")[0][1]\n",
    "\n",
    "forced_ids_en = processor.get_decoder_prompt_ids(language=\"english\", task=\"transcribe\")\n",
    "\n",
    "for cfg in (model.config, model.generation_config):\n",
    "    cfg.pad_token_id = tok.pad_token_id\n",
    "    cfg.eos_token_id = tok.eos_token_id\n",
    "    cfg.decoder_start_token_id = start_id\n",
    "    cfg.forced_decoder_ids = forced_ids_en\n",
    "\n",
    "model.config.use_cache = False\n",
    "model.config.suppress_tokens = []\n",
    "\n",
    "# 5) Collator: 라벨 패딩 & decoder_input_ids 생성(우리가 명시 제공)\n",
    "@dataclass\n",
    "class DataCollatorSpeechSeq2SeqWithPadding:\n",
    "    processor: Any\n",
    "    padding: Union[bool, str] = True\n",
    "    def __call__(self, features: List[Dict[str, Union[List[int], torch.Tensor]]]) -> Dict[str, torch.Tensor]:\n",
    "        # 입력 피처\n",
    "        input_features = [{\"input_features\": f[\"input_features\"]} for f in features]\n",
    "        batch = self.processor.feature_extractor.pad(input_features, return_tensors=\"pt\")\n",
    "\n",
    "        # 라벨 패딩 + -100 마스킹\n",
    "        label_features = [{\"input_ids\": f[\"labels\"]} for f in features]\n",
    "        labels_batch = self.processor.tokenizer.pad(label_features, return_tensors=\"pt\")\n",
    "        labels = labels_batch[\"input_ids\"].masked_fill(labels_batch.attention_mask.ne(1), -100)\n",
    "        batch[\"labels\"] = labels.contiguous()\n",
    "\n",
    "        # decoder_input_ids (right-shift with <|startoftranscript|>)\n",
    "        tok = self.processor.tokenizer\n",
    "        start_id = tok.convert_tokens_to_ids(\"<|startoftranscript|>\")\n",
    "        if start_id is None:\n",
    "            start_id = self.processor.get_decoder_prompt_ids(language=\"english\", task=\"transcribe\")[0][1]\n",
    "        pad_id = tok.pad_token_id\n",
    "\n",
    "        labels_clean = labels.clone()\n",
    "        labels_clean[labels_clean == -100] = pad_id\n",
    "\n",
    "        dec_inp = torch.full_like(labels_clean, fill_value=pad_id)\n",
    "        dec_inp[:, 0] = start_id\n",
    "        dec_inp[:, 1:] = labels_clean[:, :-1]\n",
    "\n",
    "        batch[\"decoder_input_ids\"] = dec_inp.contiguous()\n",
    "        batch[\"decoder_attention_mask\"] = (dec_inp != pad_id).long()\n",
    "        batch[\"input_features\"] = batch[\"input_features\"].contiguous()\n",
    "        return batch\n",
    "\n",
    "data_collator = DataCollatorSpeechSeq2SeqWithPadding(processor=processor)"
   ]
  },
  {
   "cell_type": "code",
   "execution_count": 8,
   "metadata": {
    "colab": {
     "base_uri": "https://localhost:8080/"
    },
    "id": "zRRJ4C0CCC6o",
    "outputId": "791f981c-ec97-42e4-edaf-a21be40c0263"
   },
   "outputs": [
    {
     "name": "stdout",
     "output_type": "stream",
     "text": [
      "Reading package lists... Done\n",
      "Building dependency tree... Done\n",
      "Reading state information... Done\n",
      "The following additional packages will be installed:\n",
      "  libao-common libao4 libid3tag0 libmad0 libopencore-amrnb0 libopencore-amrwb0\n",
      "  libsox-fmt-alsa libsox-fmt-ao libsox-fmt-base libsox-fmt-mp3 libsox-fmt-oss\n",
      "  libsox-fmt-pulse libsox3 libwavpack1\n",
      "Suggested packages:\n",
      "  libaudio2 libsndio6.1\n",
      "The following NEW packages will be installed:\n",
      "  libao-common libao4 libid3tag0 libmad0 libopencore-amrnb0 libopencore-amrwb0\n",
      "  libsox-dev libsox-fmt-all libsox-fmt-alsa libsox-fmt-ao libsox-fmt-base\n",
      "  libsox-fmt-mp3 libsox-fmt-oss libsox-fmt-pulse libsox3 libwavpack1 sox\n",
      "0 upgraded, 17 newly installed, 0 to remove and 35 not upgraded.\n",
      "Need to get 1,157 kB of archives.\n",
      "After this operation, 4,262 kB of additional disk space will be used.\n",
      "Get:1 http://archive.ubuntu.com/ubuntu jammy/main amd64 libao-common all 1.2.2+20180113-1.1ubuntu3 [6,568 B]\n",
      "Get:2 http://archive.ubuntu.com/ubuntu jammy/main amd64 libao4 amd64 1.2.2+20180113-1.1ubuntu3 [35.2 kB]\n",
      "Get:3 http://archive.ubuntu.com/ubuntu jammy/universe amd64 libid3tag0 amd64 0.15.1b-14 [31.3 kB]\n",
      "Get:4 http://archive.ubuntu.com/ubuntu jammy/universe amd64 libmad0 amd64 0.15.1b-10ubuntu1 [63.1 kB]\n",
      "Get:5 http://archive.ubuntu.com/ubuntu jammy/universe amd64 libopencore-amrnb0 amd64 0.1.5-1 [94.8 kB]\n",
      "Get:6 http://archive.ubuntu.com/ubuntu jammy/universe amd64 libopencore-amrwb0 amd64 0.1.5-1 [49.1 kB]\n",
      "Get:7 http://archive.ubuntu.com/ubuntu jammy-updates/universe amd64 libsox3 amd64 14.4.2+git20190427-2+deb11u2ubuntu0.22.04.1 [240 kB]\n",
      "Get:8 http://archive.ubuntu.com/ubuntu jammy-updates/universe amd64 libsox-fmt-alsa amd64 14.4.2+git20190427-2+deb11u2ubuntu0.22.04.1 [11.2 kB]\n",
      "Get:9 http://archive.ubuntu.com/ubuntu jammy-updates/universe amd64 libsox-fmt-ao amd64 14.4.2+git20190427-2+deb11u2ubuntu0.22.04.1 [7,740 B]\n",
      "Get:10 http://archive.ubuntu.com/ubuntu jammy/main amd64 libwavpack1 amd64 5.4.0-1build2 [83.7 kB]\n",
      "Get:11 http://archive.ubuntu.com/ubuntu jammy-updates/universe amd64 libsox-fmt-base amd64 14.4.2+git20190427-2+deb11u2ubuntu0.22.04.1 [33.7 kB]\n",
      "Get:12 http://archive.ubuntu.com/ubuntu jammy-updates/universe amd64 libsox-fmt-mp3 amd64 14.4.2+git20190427-2+deb11u2ubuntu0.22.04.1 [17.3 kB]\n",
      "Get:13 http://archive.ubuntu.com/ubuntu jammy-updates/universe amd64 libsox-fmt-oss amd64 14.4.2+git20190427-2+deb11u2ubuntu0.22.04.1 [9,424 B]\n",
      "Get:14 http://archive.ubuntu.com/ubuntu jammy-updates/universe amd64 libsox-fmt-pulse amd64 14.4.2+git20190427-2+deb11u2ubuntu0.22.04.1 [7,732 B]\n",
      "Get:15 http://archive.ubuntu.com/ubuntu jammy-updates/universe amd64 libsox-fmt-all amd64 14.4.2+git20190427-2+deb11u2ubuntu0.22.04.1 [5,016 B]\n",
      "Get:16 http://archive.ubuntu.com/ubuntu jammy-updates/universe amd64 libsox-dev amd64 14.4.2+git20190427-2+deb11u2ubuntu0.22.04.1 [356 kB]\n",
      "Get:17 http://archive.ubuntu.com/ubuntu jammy-updates/universe amd64 sox amd64 14.4.2+git20190427-2+deb11u2ubuntu0.22.04.1 [104 kB]\n",
      "Fetched 1,157 kB in 2s (734 kB/s)\n",
      "Selecting previously unselected package libao-common.\n",
      "(Reading database ... 126371 files and directories currently installed.)\n",
      "Preparing to unpack .../00-libao-common_1.2.2+20180113-1.1ubuntu3_all.deb ...\n",
      "Unpacking libao-common (1.2.2+20180113-1.1ubuntu3) ...\n",
      "Selecting previously unselected package libao4:amd64.\n",
      "Preparing to unpack .../01-libao4_1.2.2+20180113-1.1ubuntu3_amd64.deb ...\n",
      "Unpacking libao4:amd64 (1.2.2+20180113-1.1ubuntu3) ...\n",
      "Selecting previously unselected package libid3tag0:amd64.\n",
      "Preparing to unpack .../02-libid3tag0_0.15.1b-14_amd64.deb ...\n",
      "Unpacking libid3tag0:amd64 (0.15.1b-14) ...\n",
      "Selecting previously unselected package libmad0:amd64.\n",
      "Preparing to unpack .../03-libmad0_0.15.1b-10ubuntu1_amd64.deb ...\n",
      "Unpacking libmad0:amd64 (0.15.1b-10ubuntu1) ...\n",
      "Selecting previously unselected package libopencore-amrnb0:amd64.\n",
      "Preparing to unpack .../04-libopencore-amrnb0_0.1.5-1_amd64.deb ...\n",
      "Unpacking libopencore-amrnb0:amd64 (0.1.5-1) ...\n",
      "Selecting previously unselected package libopencore-amrwb0:amd64.\n",
      "Preparing to unpack .../05-libopencore-amrwb0_0.1.5-1_amd64.deb ...\n",
      "Unpacking libopencore-amrwb0:amd64 (0.1.5-1) ...\n",
      "Selecting previously unselected package libsox3:amd64.\n",
      "Preparing to unpack .../06-libsox3_14.4.2+git20190427-2+deb11u2ubuntu0.22.04.1_amd64.deb ...\n",
      "Unpacking libsox3:amd64 (14.4.2+git20190427-2+deb11u2ubuntu0.22.04.1) ...\n",
      "Selecting previously unselected package libsox-fmt-alsa:amd64.\n",
      "Preparing to unpack .../07-libsox-fmt-alsa_14.4.2+git20190427-2+deb11u2ubuntu0.22.04.1_amd64.deb ...\n",
      "Unpacking libsox-fmt-alsa:amd64 (14.4.2+git20190427-2+deb11u2ubuntu0.22.04.1) ...\n",
      "Selecting previously unselected package libsox-fmt-ao:amd64.\n",
      "Preparing to unpack .../08-libsox-fmt-ao_14.4.2+git20190427-2+deb11u2ubuntu0.22.04.1_amd64.deb ...\n",
      "Unpacking libsox-fmt-ao:amd64 (14.4.2+git20190427-2+deb11u2ubuntu0.22.04.1) ...\n",
      "Selecting previously unselected package libwavpack1:amd64.\n",
      "Preparing to unpack .../09-libwavpack1_5.4.0-1build2_amd64.deb ...\n",
      "Unpacking libwavpack1:amd64 (5.4.0-1build2) ...\n",
      "Selecting previously unselected package libsox-fmt-base:amd64.\n",
      "Preparing to unpack .../10-libsox-fmt-base_14.4.2+git20190427-2+deb11u2ubuntu0.22.04.1_amd64.deb ...\n",
      "Unpacking libsox-fmt-base:amd64 (14.4.2+git20190427-2+deb11u2ubuntu0.22.04.1) ...\n",
      "Selecting previously unselected package libsox-fmt-mp3:amd64.\n",
      "Preparing to unpack .../11-libsox-fmt-mp3_14.4.2+git20190427-2+deb11u2ubuntu0.22.04.1_amd64.deb ...\n",
      "Unpacking libsox-fmt-mp3:amd64 (14.4.2+git20190427-2+deb11u2ubuntu0.22.04.1) ...\n",
      "Selecting previously unselected package libsox-fmt-oss:amd64.\n",
      "Preparing to unpack .../12-libsox-fmt-oss_14.4.2+git20190427-2+deb11u2ubuntu0.22.04.1_amd64.deb ...\n",
      "Unpacking libsox-fmt-oss:amd64 (14.4.2+git20190427-2+deb11u2ubuntu0.22.04.1) ...\n",
      "Selecting previously unselected package libsox-fmt-pulse:amd64.\n",
      "Preparing to unpack .../13-libsox-fmt-pulse_14.4.2+git20190427-2+deb11u2ubuntu0.22.04.1_amd64.deb ...\n",
      "Unpacking libsox-fmt-pulse:amd64 (14.4.2+git20190427-2+deb11u2ubuntu0.22.04.1) ...\n",
      "Selecting previously unselected package libsox-fmt-all:amd64.\n",
      "Preparing to unpack .../14-libsox-fmt-all_14.4.2+git20190427-2+deb11u2ubuntu0.22.04.1_amd64.deb ...\n",
      "Unpacking libsox-fmt-all:amd64 (14.4.2+git20190427-2+deb11u2ubuntu0.22.04.1) ...\n",
      "Selecting previously unselected package libsox-dev:amd64.\n",
      "Preparing to unpack .../15-libsox-dev_14.4.2+git20190427-2+deb11u2ubuntu0.22.04.1_amd64.deb ...\n",
      "Unpacking libsox-dev:amd64 (14.4.2+git20190427-2+deb11u2ubuntu0.22.04.1) ...\n",
      "Selecting previously unselected package sox.\n",
      "Preparing to unpack .../16-sox_14.4.2+git20190427-2+deb11u2ubuntu0.22.04.1_amd64.deb ...\n",
      "Unpacking sox (14.4.2+git20190427-2+deb11u2ubuntu0.22.04.1) ...\n",
      "Setting up libsox3:amd64 (14.4.2+git20190427-2+deb11u2ubuntu0.22.04.1) ...\n",
      "Setting up libsox-fmt-oss:amd64 (14.4.2+git20190427-2+deb11u2ubuntu0.22.04.1) ...\n",
      "Setting up libao-common (1.2.2+20180113-1.1ubuntu3) ...\n",
      "Setting up libid3tag0:amd64 (0.15.1b-14) ...\n",
      "Setting up libopencore-amrwb0:amd64 (0.1.5-1) ...\n",
      "Setting up libsox-fmt-alsa:amd64 (14.4.2+git20190427-2+deb11u2ubuntu0.22.04.1) ...\n",
      "Setting up libao4:amd64 (1.2.2+20180113-1.1ubuntu3) ...\n",
      "Setting up libmad0:amd64 (0.15.1b-10ubuntu1) ...\n",
      "Setting up libwavpack1:amd64 (5.4.0-1build2) ...\n",
      "Setting up libopencore-amrnb0:amd64 (0.1.5-1) ...\n",
      "Setting up libsox-fmt-base:amd64 (14.4.2+git20190427-2+deb11u2ubuntu0.22.04.1) ...\n",
      "Setting up libsox-fmt-ao:amd64 (14.4.2+git20190427-2+deb11u2ubuntu0.22.04.1) ...\n",
      "Setting up libsox-fmt-mp3:amd64 (14.4.2+git20190427-2+deb11u2ubuntu0.22.04.1) ...\n",
      "Setting up libsox-fmt-pulse:amd64 (14.4.2+git20190427-2+deb11u2ubuntu0.22.04.1) ...\n",
      "Setting up sox (14.4.2+git20190427-2+deb11u2ubuntu0.22.04.1) ...\n",
      "Setting up libsox-fmt-all:amd64 (14.4.2+git20190427-2+deb11u2ubuntu0.22.04.1) ...\n",
      "Setting up libsox-dev:amd64 (14.4.2+git20190427-2+deb11u2ubuntu0.22.04.1) ...\n",
      "Processing triggers for libc-bin (2.35-0ubuntu3.8) ...\n",
      "/sbin/ldconfig.real: /usr/local/lib/libtbbbind_2_5.so.3 is not a symbolic link\n",
      "\n",
      "/sbin/ldconfig.real: /usr/local/lib/libtbbmalloc_proxy.so.2 is not a symbolic link\n",
      "\n",
      "/sbin/ldconfig.real: /usr/local/lib/libur_adapter_opencl.so.0 is not a symbolic link\n",
      "\n",
      "/sbin/ldconfig.real: /usr/local/lib/libtbbbind.so.3 is not a symbolic link\n",
      "\n",
      "/sbin/ldconfig.real: /usr/local/lib/libtbb.so.12 is not a symbolic link\n",
      "\n",
      "/sbin/ldconfig.real: /usr/local/lib/libumf.so.0 is not a symbolic link\n",
      "\n",
      "/sbin/ldconfig.real: /usr/local/lib/libtbbbind_2_0.so.3 is not a symbolic link\n",
      "\n",
      "/sbin/ldconfig.real: /usr/local/lib/libtcm.so.1 is not a symbolic link\n",
      "\n",
      "/sbin/ldconfig.real: /usr/local/lib/libur_adapter_level_zero_v2.so.0 is not a symbolic link\n",
      "\n",
      "/sbin/ldconfig.real: /usr/local/lib/libtbbmalloc.so.2 is not a symbolic link\n",
      "\n",
      "/sbin/ldconfig.real: /usr/local/lib/libhwloc.so.15 is not a symbolic link\n",
      "\n",
      "/sbin/ldconfig.real: /usr/local/lib/libtcm_debug.so.1 is not a symbolic link\n",
      "\n",
      "/sbin/ldconfig.real: /usr/local/lib/libur_adapter_level_zero.so.0 is not a symbolic link\n",
      "\n",
      "/sbin/ldconfig.real: /usr/local/lib/libur_loader.so.0 is not a symbolic link\n",
      "\n",
      "Processing triggers for man-db (2.10.2-1) ...\n",
      "Processing triggers for mailcap (3.70+nmu1ubuntu1) ...\n"
     ]
    }
   ],
   "source": [
    "!apt-get -y install sox libsox-dev libsox-fmt-all"
   ]
  },
  {
   "cell_type": "code",
   "execution_count": 9,
   "metadata": {
    "colab": {
     "base_uri": "https://localhost:8080/",
     "height": 153,
     "referenced_widgets": [
      "42bc413625ff4a3383f0f4e1bcc541a9",
      "5e8c9bd4de734d61ad0bf96a135f2f9d",
      "d1de0416d9d84b46875a6d731bab087b",
      "cc8522e43ed7492fb711daae7b2faf09",
      "a9c84229b2734565a2be5d6bc8d11229",
      "646b9521ce8840c6924e092ec396d6be",
      "d7116d3653dd4a54abb34b40df5023e5",
      "109f5f2fc2da4b80bbcf8eaa75552fcc",
      "a0e5fdffcbf542c6b1052ebe017aa662",
      "517a6b3202534702bc027b687f497903",
      "e1b291a6c47242ba99e8aa3d642482bf",
      "005cdd114a394eec93269b540526f279",
      "82c58d8681b948f69edaed8255b34c64",
      "d56d83bdf37446d3bff654c6e1d3ee22",
      "5589b37f527b416996403dfb86734487",
      "b925a4245e204f64bb2db80b1fbf0284",
      "f9a0c34bacf54dd7a42178a3b7c04047",
      "83c8df221ac6437aa3c8fa6b99f37270",
      "6371e635cc304416821c8288ec3813fd",
      "0aeacc9e4e794fbf963d5b86647b45f6",
      "f614139d752b4abea78f264a24e3fc7d",
      "a6593759ddcd44c689c8d1efcc4f76da"
     ]
    },
    "id": "2BzwyZnLVZhX",
    "outputId": "927f4506-4b53-4025-cb9d-c0c3fd21a506"
   },
   "outputs": [
    {
     "data": {
      "application/vnd.jupyter.widget-view+json": {
       "model_id": "42bc413625ff4a3383f0f4e1bcc541a9",
       "version_major": 2,
       "version_minor": 0
      },
      "text/plain": [
       "Map:   0%|          | 0/800 [00:00<?, ? examples/s]"
      ]
     },
     "metadata": {},
     "output_type": "display_data"
    },
    {
     "name": "stderr",
     "output_type": "stream",
     "text": [
      "/tmp/ipython-input-3231345611.py:15: UserWarning: torchaudio.sox_effects.sox_effects.apply_effects_tensor has been deprecated. This deprecation is part of a large refactoring effort to transition TorchAudio into a maintenance phase. Please see https://github.com/pytorch/audio/issues/3902 for more information. It will be removed from the 2.9 release. \n",
      "  aug, sr_out = torchaudio.sox_effects.apply_effects_tensor(wav, sr, effects)\n"
     ]
    },
    {
     "data": {
      "application/vnd.jupyter.widget-view+json": {
       "model_id": "005cdd114a394eec93269b540526f279",
       "version_major": 2,
       "version_minor": 0
      },
      "text/plain": [
       "Map:   0%|          | 0/800 [00:00<?, ? examples/s]"
      ]
     },
     "metadata": {},
     "output_type": "display_data"
    },
    {
     "name": "stdout",
     "output_type": "stream",
     "text": [
      "Train(orig): 800 Train(1.1 sel): 800 → Mixed: 1600\n"
     ]
    }
   ],
   "source": [
    "import numpy as np, torchaudio\n",
    "\n",
    "def _to_tensor_1ch(x_np):\n",
    "    x = torch.tensor(np.asarray(x_np, dtype=np.float32))\n",
    "    if x.dim() == 1:\n",
    "        x = x.unsqueeze(0)\n",
    "    return x\n",
    "\n",
    "def speed_perturb_np(wav_np, sr, rate: float):\n",
    "    if rate == 1.0:\n",
    "        return wav_np, sr\n",
    "    try:\n",
    "        wav = _to_tensor_1ch(wav_np)\n",
    "        effects = [[\"tempo\", str(rate)]]  # 피치 보존\n",
    "        aug, sr_out = torchaudio.sox_effects.apply_effects_tensor(wav, sr, effects)\n",
    "        return aug.squeeze(0).numpy(), sr_out\n",
    "    except Exception as e:\n",
    "        print(\"[WARN][sox] tempo failed -> fallback(no-aug):\", e)\n",
    "        return wav_np, sr\n",
    "\n",
    "train_raw_16k = train_dataset.cast_column(\"audio\", Audio(sampling_rate=TARGET_SR))\n",
    "\n",
    "def augment_copy(ds_raw, rate: float):\n",
    "    def _aug(b):\n",
    "        a = b[\"audio\"]\n",
    "        aug_np, sr_out = speed_perturb_np(a[\"array\"], a[\"sampling_rate\"], rate)\n",
    "        b = dict(b)\n",
    "        b[\"audio\"] = {\"array\": aug_np, \"path\": None, \"sampling_rate\": sr_out}\n",
    "        return b\n",
    "    ds_aug = ds_raw.map(_aug)\n",
    "    ds_proc = ds_aug.map(\n",
    "        prepare_dataset,\n",
    "        remove_columns=[c for c in ds_aug.column_names if c not in {\"input_features\",\"labels\",\"locale\"}]\n",
    "    )\n",
    "    ds_proc.set_format(columns=[\"input_features\",\"labels\",\"locale\"])\n",
    "    return ds_proc\n",
    "\n",
    "# 원본 + 1.1배 속도 증강 샘플 1:1\n",
    "proc_train_sp11 = augment_copy(train_raw_16k, 1.1)\n",
    "k = len(proc_train_orig)\n",
    "m = min(len(proc_train_sp11), k)\n",
    "proc_train_sp11_sel = proc_train_sp11.shuffle(seed=SEED).select(range(m))\n",
    "proc_train_mix = concatenate_datasets([proc_train_orig, proc_train_sp11_sel]).shuffle(seed=SEED)\n",
    "print(\"Train(orig):\", len(proc_train_orig), \"Train(1.1 sel):\", len(proc_train_sp11_sel), \"→ Mixed:\", len(proc_train_mix))"
   ]
  },
  {
   "cell_type": "code",
   "execution_count": 12,
   "metadata": {
    "colab": {
     "base_uri": "https://localhost:8080/",
     "height": 380
    },
    "id": "3Ltj8iPjVbm9",
    "outputId": "9e629b70-fe51-47e7-e592-635aa6a5321e"
   },
   "outputs": [
    {
     "name": "stderr",
     "output_type": "stream",
     "text": [
      "/usr/local/lib/python3.12/dist-packages/transformers/training_args.py:1525: FutureWarning: `evaluation_strategy` is deprecated and will be removed in version 4.46 of 🤗 Transformers. Use `eval_strategy` instead\n",
      "  warnings.warn(\n"
     ]
    },
    {
     "name": "stdout",
     "output_type": "stream",
     "text": [
      "[sanity] before train: 0\n"
     ]
    },
    {
     "data": {
      "text/html": [
       "\n",
       "    <div>\n",
       "      \n",
       "      <progress value='600' max='1600' style='width:300px; height:20px; vertical-align: middle;'></progress>\n",
       "      [ 600/1600 22:02 < 36:51, 0.45 it/s, Epoch 3/8]\n",
       "    </div>\n",
       "    <table border=\"1\" class=\"dataframe\">\n",
       "  <thead>\n",
       " <tr style=\"text-align: left;\">\n",
       "      <th>Epoch</th>\n",
       "      <th>Training Loss</th>\n",
       "      <th>Validation Loss</th>\n",
       "    </tr>\n",
       "  </thead>\n",
       "  <tbody>\n",
       "    <tr>\n",
       "      <td>1</td>\n",
       "      <td>No log</td>\n",
       "      <td>2.280026</td>\n",
       "    </tr>\n",
       "    <tr>\n",
       "      <td>2</td>\n",
       "      <td>No log</td>\n",
       "      <td>2.318782</td>\n",
       "    </tr>\n",
       "    <tr>\n",
       "      <td>3</td>\n",
       "      <td>1.520900</td>\n",
       "      <td>2.447135</td>\n",
       "    </tr>\n",
       "  </tbody>\n",
       "</table><p>"
      ],
      "text/plain": [
       "<IPython.core.display.HTML object>"
      ]
     },
     "metadata": {},
     "output_type": "display_data"
    },
    {
     "name": "stderr",
     "output_type": "stream",
     "text": [
      "Some non-default generation parameters are set in the model config. These should go into a GenerationConfig file (https://huggingface.co/docs/transformers/generation_strategies#save-a-custom-decoding-strategy-with-your-model) instead. This warning will be raised to an exception in v4.41.\n",
      "Non-default generation parameters: {'max_length': 448, 'suppress_tokens': [], 'begin_suppress_tokens': [220, 50257]}\n",
      "Some non-default generation parameters are set in the model config. These should go into a GenerationConfig file (https://huggingface.co/docs/transformers/generation_strategies#save-a-custom-decoding-strategy-with-your-model) instead. This warning will be raised to an exception in v4.41.\n",
      "Non-default generation parameters: {'max_length': 448, 'suppress_tokens': [], 'begin_suppress_tokens': [220, 50257]}\n",
      "Some non-default generation parameters are set in the model config. These should go into a GenerationConfig file (https://huggingface.co/docs/transformers/generation_strategies#save-a-custom-decoding-strategy-with-your-model) instead. This warning will be raised to an exception in v4.41.\n",
      "Non-default generation parameters: {'max_length': 448, 'suppress_tokens': [], 'begin_suppress_tokens': [220, 50257]}\n",
      "There were missing keys in the checkpoint model loaded: ['proj_out.weight'].\n"
     ]
    },
    {
     "name": "stdout",
     "output_type": "stream",
     "text": [
      "[sanity] after  train: 600\n"
     ]
    }
   ],
   "source": [
    "# 7) Trainer 설정\n",
    "args = Seq2SeqTrainingArguments(\n",
    "    output_dir=\"./whisper-small-mix_1p1\",\n",
    "    per_device_train_batch_size=4,\n",
    "    gradient_accumulation_steps=2,\n",
    "    learning_rate=2e-5,\n",
    "    num_train_epochs=8,\n",
    "    weight_decay=0.01,\n",
    "    label_smoothing_factor=0.1,\n",
    "    warmup_ratio=0.1,\n",
    "    lr_scheduler_type=\"linear\",\n",
    "    max_grad_norm=1.0,\n",
    "    fp16=torch.cuda.is_available(),\n",
    "    report_to=\"none\",\n",
    "\n",
    "    predict_with_generate=True,      # eval/predict 시 generate 사용\n",
    "    generation_max_length=225,\n",
    "\n",
    "    evaluation_strategy=\"epoch\",\n",
    "    save_strategy=\"epoch\",\n",
    "    load_best_model_at_end=True,\n",
    "    metric_for_best_model=\"eval_loss\",\n",
    "    greater_is_better=False,\n",
    "\n",
    "    remove_unused_columns=False,\n",
    ")\n",
    "\n",
    "trainer_mix11 = Seq2SeqTrainer(\n",
    "    model=model,\n",
    "    args=args,\n",
    "    train_dataset=proc_train_mix,\n",
    "    eval_dataset=proc_val_orig,\n",
    "    tokenizer=processor.tokenizer,   # 중요!\n",
    "    data_collator=data_collator,\n",
    "    callbacks=[EarlyStoppingCallback(early_stopping_patience=2)],\n",
    ")\n",
    "\n",
    "print(\"[sanity] before train:\", trainer_mix11.state.global_step)\n",
    "trainer_mix11.train()\n",
    "print(\"[sanity] after  train:\", trainer_mix11.state.global_step)"
   ]
  },
  {
   "cell_type": "code",
   "execution_count": 13,
   "metadata": {
    "colab": {
     "base_uri": "https://localhost:8080/",
     "height": 1000,
     "referenced_widgets": [
      "f65bc1cf3f9b4ce5a2567718dd0081e4",
      "f4c3756878f74185af225146f4c7a8e4",
      "cb67265a0fc548268b96a8cd74bd7321",
      "14055791c0e64906a82a63f7d339a64c",
      "1e8467dd60dc448195514a937e97b3b1",
      "1bd52d9a0e3c46e588a094b3833c6daf",
      "98b57f5f55c54b57810f30191dd023c8",
      "e46ee489597942cf84c8bed3c9476e05",
      "72af729df05c4f96a6c39217f051f688",
      "5d3523b99f1e44f0b8cce38837757984",
      "3ca85da9a7af48d39ddb05bce20457bc",
      "e2a1d3b21b18432a869cf5b067aa1916",
      "0d2a37c25f3546fea2e103b56e2f8274",
      "04b655a99c6a4cad9018083c19f40270",
      "81a373b5d0c94a75bc2c379402dae8fe",
      "a0a506e989a74cf2881f9158874f8c72",
      "7cff69ef95a843afade9fb9e0b960107",
      "421cc576457e444c90045a484a671049",
      "edf4c79446ae4f43bb12d4d015b8143c",
      "0111179b6ee74ecf833795dc0a6f9f02",
      "70ef6b7fe09c4eaa967a2780d92b902d",
      "1bee716c108247df90928728be89e3e8",
      "25c1895e2fd447148d24017e294c03c2",
      "f5bc6df8d5d5419f9305f40c26bcbe7e",
      "3ced58fac64f41039380bacd11bb8ccc",
      "a7fc4445e8154f1486b22762840d82b9",
      "ed5392aca49d47d1b055d21b4f34731f",
      "48bf03941bb24a348d72213821df40e6",
      "1ae4618d5de042a496477f682ed9c652",
      "e1c73865385f4e1a8acdcb72d9629302",
      "5d2b5915ec5242e0ba66c23e5b8b291a",
      "adab4ba085f84dc29a4384ed339e7e06",
      "f6b178cb23b54c92839db0ea15db1cd7",
      "ad677309d3f1455886daa16bfa8866c4",
      "972fb844e0174cf89cd58379fbea17db",
      "ddaa2dcb5b5a405fae3119fbe1805802",
      "117fd64ada694113bcf83ffb977d4bac",
      "ef46ba30f1eb491481dbffd5a40fe0e0",
      "679aeff3d88546efaa27d3bc4fa09e51",
      "ee8abc6f8c69401083f03cd6ac7885eb",
      "a6803fbbdc3d40249c2c9b2682e7bfea",
      "a4db34e4a0b84cb79e3fffbf538dde58",
      "ebfe03c536e34049b9a676161f822bbc",
      "2ca3f38d64354edaa0a4e4f8acf4d3aa",
      "41b9ead2dabc4e3594253542cc5e5940",
      "d5fbe544828741da90cb4f88a0cc9318",
      "82b1685e3f7b428da3177260216bdaf2",
      "6eeb5b831ae34630aa1f1710dbbcb0ee",
      "66a98c2c74f9404888abac0a70402e64",
      "f316eb675e844d61b724dbab294e952f",
      "0920edc5bb2945b18ada229c5cd6a258",
      "4a11a667e2d048cb8085327ad9211592",
      "f2159a46aedf435e83f17459a6da0349",
      "c52be6391d154addaae0f252a82b515f",
      "ff68c571ddfa43a5b3eb5fbb2ab151c3",
      "37b22627206e4afaade9a45e0a8c3635",
      "d604ac4c22b5433ebd309019e8064e09",
      "61233dbb014342fc8ada67dfbf42c7a0",
      "cf432cc27efd4e3da7933233bb1d2587",
      "2b8d1bdf3f624db0b4d675f4d62e4c03",
      "632a34eeec3e45759b5fe576581aab75",
      "b10b6fe1fb2c493eb512ed39dc495dfc",
      "7d66275be0434eb49ff56ce93324351f",
      "fc4c60858edf42749519bd1ebf90744f",
      "ca3577a9d40a48e29b66e34a8e4fa1b9",
      "0d88086646c04c87be446c924e033267"
     ]
    },
    "id": "-ViCMo23VcNa",
    "outputId": "37374511-8f5b-4fb1-d8a0-09dc95d4be5e"
   },
   "outputs": [
    {
     "data": {
      "application/vnd.jupyter.widget-view+json": {
       "model_id": "f65bc1cf3f9b4ce5a2567718dd0081e4",
       "version_major": 2,
       "version_minor": 0
      },
      "text/plain": [
       "Downloading builder script: 0.00B [00:00, ?B/s]"
      ]
     },
     "metadata": {},
     "output_type": "display_data"
    },
    {
     "data": {
      "application/vnd.jupyter.widget-view+json": {
       "model_id": "e2a1d3b21b18432a869cf5b067aa1916",
       "version_major": 2,
       "version_minor": 0
      },
      "text/plain": [
       "Downloading builder script: 0.00B [00:00, ?B/s]"
      ]
     },
     "metadata": {},
     "output_type": "display_data"
    },
    {
     "name": "stdout",
     "output_type": "stream",
     "text": [
      "[CHECK] Evaluating on TEST set: size=400 (val=400)\n"
     ]
    },
    {
     "data": {
      "application/vnd.jupyter.widget-view+json": {
       "model_id": "25c1895e2fd447148d24017e294c03c2",
       "version_major": 2,
       "version_minor": 0
      },
      "text/plain": [
       "Filter:   0%|          | 0/400 [00:00<?, ? examples/s]"
      ]
     },
     "metadata": {},
     "output_type": "display_data"
    },
    {
     "name": "stderr",
     "output_type": "stream",
     "text": [
      "The attention mask is not set and cannot be inferred from input because pad token is same as eos token. As a consequence, you may observe unexpected behavior. Please pass your input's `attention_mask` to obtain reliable results.\n"
     ]
    },
    {
     "data": {
      "text/html": [],
      "text/plain": [
       "<IPython.core.display.HTML object>"
      ]
     },
     "metadata": {},
     "output_type": "display_data"
    },
    {
     "name": "stdout",
     "output_type": "stream",
     "text": [
      "\n",
      "[test_orig] KO samples (k=10)\n",
      "#00 PRED: 그러나 실제로 뽑은 숫자는 지난주에 미치지 못한 것으로 나타났다.\n",
      "     REF : 그러나 실제로 뽑은 숫자는 지난 주에 미치지 못한 것으로 나타났다.\n",
      "---\n",
      "#01 PRED: 신앗대는 이렇게 말하며 유서방을 견눈질 해 보았다.\n",
      "     REF : 싱앗대는 이렇게 말하며 유서방을 곁눈질해 보았다.\n",
      "---\n",
      "#02 PRED: 신철이는 어짖 보면 감정을 가진 사람같지 않아 보였다.\n",
      "     REF : 신철이는 어찌 보면 감정을 가진 사람 같지 않아 보였다.\n",
      "---\n",
      "#03 PRED:  내다보니깐 엉덕 어려웠던 집에 불이 붙으며 사람들이 왔다갔다 야단이었습니다.\n",
      "     REF : 내다보니까 언덕 아래 어떤 집에 불이 붙으며 사람들이 왔다갔다 야단이었습니다.\n",
      "---\n",
      "#04 PRED:  인력화가 무거워지네 그의 몸은 이상하게도 가벼졌고\n",
      "     REF : 인력거가 무거워지매 그의 몸은 이상하게도 가벼워졌고\n",
      "---\n",
      "#05 PRED: 마스크 잘 쓰고 다니고 길쥐심에서 다녀와\n",
      "     REF : 마스크 잘 쓰고 다니고, 길 조심해서 다녀와.\n",
      "---\n",
      "#06 PRED: 나를 나와준 고향과담도 더 정이 들었고요.\n",
      "     REF : 나를 낳어 준 고향버덤두 더 정이 들었고요.\n",
      "---\n",
      "#07 PRED: 선비는 생각지 않은 이 말에 앞이 아득해지며 방안이 팅팅 놀았다.\n",
      "     REF : 선비는 생각지 않은 이 말에 앞이 아뜩해지며 방 안이 핑핑 돌았다.\n",
      "---\n",
      "#08 PRED: 벽을 새로 감독과 그가 마주 누은 것이 직각되자 불쾌하였다.\n",
      "     REF : 벽을 새로 감독과 그가 마주 누운 것이 직각 되자 불쾌하였다.\n",
      "---\n",
      "#09 PRED: 내가 너는 옥점인 연과 조금도 달리 생각지 않는다.\n",
      "     REF : 내가 너는 옥점이년과 조금도 달리 생각지 않는다.\n",
      "---\n"
     ]
    },
    {
     "data": {
      "application/vnd.jupyter.widget-view+json": {
       "model_id": "ad677309d3f1455886daa16bfa8866c4",
       "version_major": 2,
       "version_minor": 0
      },
      "text/plain": [
       "Filter:   0%|          | 0/400 [00:00<?, ? examples/s]"
      ]
     },
     "metadata": {},
     "output_type": "display_data"
    },
    {
     "data": {
      "text/html": [],
      "text/plain": [
       "<IPython.core.display.HTML object>"
      ]
     },
     "metadata": {},
     "output_type": "display_data"
    },
    {
     "name": "stdout",
     "output_type": "stream",
     "text": [
      "\n",
      "[test_orig] JA samples (k=10)\n",
      "#00 PRED: 福島県広野町\n",
      "     REF : 福島県広野町\n",
      "---\n",
      "#01 PRED: だがことわる\n",
      "     REF : だが断る\n",
      "---\n",
      "#02 PRED: そしていくら見舞いとしても君が悪ければ悪いほど書いてその髪をじっと見つめないではいられませんでした\n",
      "     REF : そして、いくら見まいとしても、きみが悪ければ悪いほど、かえってその影を、じっと見つめないではいられませんでした。\n",
      "---\n",
      "#03 PRED: ニーダザク選手のシュートはハノファーである\n",
      "     REF : ニーダーザクセン州の州都はハノーファーである\n",
      "---\n",
      "#04 PRED: そこで自分で出かけていて、調べ始めました。彼はさんざん探し回りました。\n",
      "     REF : そこで自分で出かけて行って、調べはじめました。かれはさんざんさがしまわりました。\n",
      "---\n",
      "#05 PRED: ok\n",
      "     REF : 「おやおや、汚いやつめまた出て来やがったな。」とイワンは言いました。\n",
      "---\n",
      "#06 PRED: そこから見ていると、その徳はだんだんの上に立ち上がって、右階の旅の旅のほうを振り向いて、何かを覚えで叫びました。\n",
      "     REF : そこから見ていると、その男は段々の上に立ち上って、右隣りの畑の方を振り向いて、何か大声で叫びました。\n",
      "---\n",
      "#07 PRED: 今日の天気は晴れ\n",
      "     REF : 今日の天気は晴れ\n",
      "---\n",
      "#08 PRED: さあ行こう。\n",
      "     REF : さあ、行こう。\n",
      "---\n",
      "#09 PRED: 行程は否定によって買い換えされたものでなければならない。\n",
      "     REF : その肯定は否定によって媒介されたものでなければならぬ。\n",
      "---\n"
     ]
    },
    {
     "data": {
      "application/vnd.jupyter.widget-view+json": {
       "model_id": "41b9ead2dabc4e3594253542cc5e5940",
       "version_major": 2,
       "version_minor": 0
      },
      "text/plain": [
       "Filter:   0%|          | 0/400 [00:00<?, ? examples/s]"
      ]
     },
     "metadata": {},
     "output_type": "display_data"
    },
    {
     "data": {
      "text/html": [],
      "text/plain": [
       "<IPython.core.display.HTML object>"
      ]
     },
     "metadata": {},
     "output_type": "display_data"
    },
    {
     "name": "stdout",
     "output_type": "stream",
     "text": [
      "\n",
      "[test_orig] EN samples (k=10)\n",
      "#00 PRED: Hello, this is one of my most famous and most important to the class of the class, known as the Romani-Libbert-Huppernitz.\n",
      "     REF : Enoxaparin belongs to the class of drugs known as low molecular weight heparins.\n",
      "---\n",
      "#01 PRED: Eight.\n",
      "     REF : eight\n",
      "---\n",
      "#02 PRED: Do you mean it?\n",
      "     REF : Do you mean it?\n",
      "---\n",
      "#03 PRED: You shall see the other guy, Spice Fillet, how good at fighting he is.\n",
      "     REF : You should see the other guy, specifically, how good at fighting he is.\n",
      "---\n",
      "#04 PRED: Karina is still enough of dancing with the stars, most at the following month.\n",
      "     REF : Karina Smirnoff of \"Dancing With The Stars\" hosted the following month.\n",
      "---\n",
      "#05 PRED: The nearest railway station is at Rohnford.\n",
      "     REF : The nearest railway station is at Romford.\n",
      "---\n",
      "#06 PRED: He ended up running to the bars, which fortify the windows of the first floor.\n",
      "     REF : He ended up running to the bars which fortified the windows of the first floor.\n",
      "---\n",
      "#07 PRED: The things are then delivered to the costumers.\n",
      "     REF : The prints are then delivered to the customer.\n",
      "---\n",
      "#08 PRED: Zels began playing jazz trumpet, but eventually should change to blues, guitar.\n",
      "     REF : Geils began playing jazz trumpet but eventually switched to blues guitar.\n",
      "---\n",
      "#09 PRED: Doing a handstand needs a lot of practice to learn.\n",
      "     REF : Doing a handstand needs a lot of practice to learn.\n",
      "---\n"
     ]
    },
    {
     "data": {
      "application/vnd.jupyter.widget-view+json": {
       "model_id": "37b22627206e4afaade9a45e0a8c3635",
       "version_major": 2,
       "version_minor": 0
      },
      "text/plain": [
       "Filter:   0%|          | 0/400 [00:00<?, ? examples/s]"
      ]
     },
     "metadata": {},
     "output_type": "display_data"
    },
    {
     "data": {
      "text/html": [],
      "text/plain": [
       "<IPython.core.display.HTML object>"
      ]
     },
     "metadata": {},
     "output_type": "display_data"
    },
    {
     "name": "stdout",
     "output_type": "stream",
     "text": [
      "\n",
      "[test_orig] DE samples (k=10)\n",
      "#00 PRED: Wenn nicht, dann läckt man sie irgendwo hin, woplatzes.\n",
      "     REF : Wenn nicht, dann legt man sie irgendwo hin, wo Platz ist.\n",
      "---\n",
      "#01 PRED: Wie ist die derzeitige Verkehrssituation?\n",
      "     REF : Wie ist die derzeitige Verkehrssituation?\n",
      "---\n",
      "#02 PRED: Aus dem Prozess haben der Hexen Verfolgen mit dem keinerlten Tischen als Hete bekannt.\n",
      "     REF : Aus den Prozessakten der Hexenverfolgung sind keine authentischen Rezepte bekannt.\n",
      "---\n",
      "#03 PRED: Er er rang den ersten Platz in seiner Hubraumklasse.\n",
      "     REF : Er errang den ersten Platz in seiner Hubraumklasse.\n",
      "---\n",
      "#04 PRED: Auch du Schreck!\n",
      "     REF : Ach du Schreck!\n",
      "---\n",
      "#05 PRED: Abschließend möchte ich Ihnen gerne etwas sehr wichtiges mitteilen.\n",
      "     REF : Abschließend möchte ich Ihnen gerne etwas sehr Wichtiges mitteilen.\n",
      "---\n",
      "#06 PRED: Ihr sofortestrechen erschienen in Morde-Magazinen mit der Waukart das Basa Maria.\n",
      "     REF : Ihre Fotostrecken erschienen in Modemagazinen wie der Vogue, Harper’s Bazaar und Marie Claire.\n",
      "---\n",
      "#07 PRED: Ser wurde Thomas Hauer als auch Margaret Ducklers wurden im Tauerflundengefangten gesetzt.\n",
      "     REF : Sowohl Thomas Howard als auch Margaret Douglas wurden im Tower of London gefangen gesetzt.\n",
      "---\n",
      "#08 PRED: Eislutschler sind viel leckerer als Eistöten.\n",
      "     REF : Eislutscher sind viel leckerer als Eistüten.\n",
      "---\n",
      "#09 PRED: Sie gewannen das Match mit sechs Löchern vorschprungen.\n",
      "     REF : Sie gewannen das Match mit sechs Löchern Vorsprung.\n",
      "---\n"
     ]
    },
    {
     "data": {
      "application/vnd.google.colaboratory.intrinsic+json": {
       "summary": "{\n  \"name\": \"df_orig\",\n  \"rows\": 4,\n  \"fields\": [\n    {\n      \"column\": \"set\",\n      \"properties\": {\n        \"dtype\": \"category\",\n        \"num_unique_values\": 1,\n        \"samples\": [\n          \"test_orig\"\n        ],\n        \"semantic_type\": \"\",\n        \"description\": \"\"\n      }\n    },\n    {\n      \"column\": \"lang\",\n      \"properties\": {\n        \"dtype\": \"string\",\n        \"num_unique_values\": 4,\n        \"samples\": [\n          \"en\"\n        ],\n        \"semantic_type\": \"\",\n        \"description\": \"\"\n      }\n    },\n    {\n      \"column\": \"WER\",\n      \"properties\": {\n        \"dtype\": \"number\",\n        \"std\": 0.26060016259816476,\n        \"min\": 0.2569832402234637,\n        \"max\": 0.8648648648648649,\n        \"num_unique_values\": 4,\n        \"samples\": [\n          0.2569832402234637\n        ],\n        \"semantic_type\": \"\",\n        \"description\": \"\"\n      }\n    },\n    {\n      \"column\": \"CER\",\n      \"properties\": {\n        \"dtype\": \"number\",\n        \"std\": 0.099725836516163,\n        \"min\": 0.12858001201682356,\n        \"max\": 0.3548543689320388,\n        \"num_unique_values\": 4,\n        \"samples\": [\n          0.12858001201682356\n        ],\n        \"semantic_type\": \"\",\n        \"description\": \"\"\n      }\n    },\n    {\n      \"column\": \"N\",\n      \"properties\": {\n        \"dtype\": \"number\",\n        \"std\": 0,\n        \"min\": 100,\n        \"max\": 100,\n        \"num_unique_values\": 1,\n        \"samples\": [\n          100\n        ],\n        \"semantic_type\": \"\",\n        \"description\": \"\"\n      }\n    }\n  ]\n}",
       "type": "dataframe",
       "variable_name": "df_orig"
      },
      "text/html": [
       "\n",
       "  <div id=\"df-335e279b-3ab6-43a4-b23f-9e45d1d08cdd\" class=\"colab-df-container\">\n",
       "    <div>\n",
       "<style scoped>\n",
       "    .dataframe tbody tr th:only-of-type {\n",
       "        vertical-align: middle;\n",
       "    }\n",
       "\n",
       "    .dataframe tbody tr th {\n",
       "        vertical-align: top;\n",
       "    }\n",
       "\n",
       "    .dataframe thead th {\n",
       "        text-align: right;\n",
       "    }\n",
       "</style>\n",
       "<table border=\"1\" class=\"dataframe\">\n",
       "  <thead>\n",
       "    <tr style=\"text-align: right;\">\n",
       "      <th></th>\n",
       "      <th>set</th>\n",
       "      <th>lang</th>\n",
       "      <th>WER</th>\n",
       "      <th>CER</th>\n",
       "      <th>N</th>\n",
       "    </tr>\n",
       "  </thead>\n",
       "  <tbody>\n",
       "    <tr>\n",
       "      <th>3</th>\n",
       "      <td>test_orig</td>\n",
       "      <td>de</td>\n",
       "      <td>0.402861</td>\n",
       "      <td>0.171657</td>\n",
       "      <td>100</td>\n",
       "    </tr>\n",
       "    <tr>\n",
       "      <th>2</th>\n",
       "      <td>test_orig</td>\n",
       "      <td>en</td>\n",
       "      <td>0.256983</td>\n",
       "      <td>0.128580</td>\n",
       "      <td>100</td>\n",
       "    </tr>\n",
       "    <tr>\n",
       "      <th>1</th>\n",
       "      <td>test_orig</td>\n",
       "      <td>ja</td>\n",
       "      <td>0.864865</td>\n",
       "      <td>0.354854</td>\n",
       "      <td>100</td>\n",
       "    </tr>\n",
       "    <tr>\n",
       "      <th>0</th>\n",
       "      <td>test_orig</td>\n",
       "      <td>ko</td>\n",
       "      <td>0.452603</td>\n",
       "      <td>0.182523</td>\n",
       "      <td>100</td>\n",
       "    </tr>\n",
       "  </tbody>\n",
       "</table>\n",
       "</div>\n",
       "    <div class=\"colab-df-buttons\">\n",
       "\n",
       "  <div class=\"colab-df-container\">\n",
       "    <button class=\"colab-df-convert\" onclick=\"convertToInteractive('df-335e279b-3ab6-43a4-b23f-9e45d1d08cdd')\"\n",
       "            title=\"Convert this dataframe to an interactive table.\"\n",
       "            style=\"display:none;\">\n",
       "\n",
       "  <svg xmlns=\"http://www.w3.org/2000/svg\" height=\"24px\" viewBox=\"0 -960 960 960\">\n",
       "    <path d=\"M120-120v-720h720v720H120Zm60-500h600v-160H180v160Zm220 220h160v-160H400v160Zm0 220h160v-160H400v160ZM180-400h160v-160H180v160Zm440 0h160v-160H620v160ZM180-180h160v-160H180v160Zm440 0h160v-160H620v160Z\"/>\n",
       "  </svg>\n",
       "    </button>\n",
       "\n",
       "  <style>\n",
       "    .colab-df-container {\n",
       "      display:flex;\n",
       "      gap: 12px;\n",
       "    }\n",
       "\n",
       "    .colab-df-convert {\n",
       "      background-color: #E8F0FE;\n",
       "      border: none;\n",
       "      border-radius: 50%;\n",
       "      cursor: pointer;\n",
       "      display: none;\n",
       "      fill: #1967D2;\n",
       "      height: 32px;\n",
       "      padding: 0 0 0 0;\n",
       "      width: 32px;\n",
       "    }\n",
       "\n",
       "    .colab-df-convert:hover {\n",
       "      background-color: #E2EBFA;\n",
       "      box-shadow: 0px 1px 2px rgba(60, 64, 67, 0.3), 0px 1px 3px 1px rgba(60, 64, 67, 0.15);\n",
       "      fill: #174EA6;\n",
       "    }\n",
       "\n",
       "    .colab-df-buttons div {\n",
       "      margin-bottom: 4px;\n",
       "    }\n",
       "\n",
       "    [theme=dark] .colab-df-convert {\n",
       "      background-color: #3B4455;\n",
       "      fill: #D2E3FC;\n",
       "    }\n",
       "\n",
       "    [theme=dark] .colab-df-convert:hover {\n",
       "      background-color: #434B5C;\n",
       "      box-shadow: 0px 1px 3px 1px rgba(0, 0, 0, 0.15);\n",
       "      filter: drop-shadow(0px 1px 2px rgba(0, 0, 0, 0.3));\n",
       "      fill: #FFFFFF;\n",
       "    }\n",
       "  </style>\n",
       "\n",
       "    <script>\n",
       "      const buttonEl =\n",
       "        document.querySelector('#df-335e279b-3ab6-43a4-b23f-9e45d1d08cdd button.colab-df-convert');\n",
       "      buttonEl.style.display =\n",
       "        google.colab.kernel.accessAllowed ? 'block' : 'none';\n",
       "\n",
       "      async function convertToInteractive(key) {\n",
       "        const element = document.querySelector('#df-335e279b-3ab6-43a4-b23f-9e45d1d08cdd');\n",
       "        const dataTable =\n",
       "          await google.colab.kernel.invokeFunction('convertToInteractive',\n",
       "                                                    [key], {});\n",
       "        if (!dataTable) return;\n",
       "\n",
       "        const docLinkHtml = 'Like what you see? Visit the ' +\n",
       "          '<a target=\"_blank\" href=https://colab.research.google.com/notebooks/data_table.ipynb>data table notebook</a>'\n",
       "          + ' to learn more about interactive tables.';\n",
       "        element.innerHTML = '';\n",
       "        dataTable['output_type'] = 'display_data';\n",
       "        await google.colab.output.renderOutput(dataTable, element);\n",
       "        const docLink = document.createElement('div');\n",
       "        docLink.innerHTML = docLinkHtml;\n",
       "        element.appendChild(docLink);\n",
       "      }\n",
       "    </script>\n",
       "  </div>\n",
       "\n",
       "\n",
       "    <div id=\"df-cbdee605-46c8-4ccc-b0fa-cc5f8be589ac\">\n",
       "      <button class=\"colab-df-quickchart\" onclick=\"quickchart('df-cbdee605-46c8-4ccc-b0fa-cc5f8be589ac')\"\n",
       "                title=\"Suggest charts\"\n",
       "                style=\"display:none;\">\n",
       "\n",
       "<svg xmlns=\"http://www.w3.org/2000/svg\" height=\"24px\"viewBox=\"0 0 24 24\"\n",
       "     width=\"24px\">\n",
       "    <g>\n",
       "        <path d=\"M19 3H5c-1.1 0-2 .9-2 2v14c0 1.1.9 2 2 2h14c1.1 0 2-.9 2-2V5c0-1.1-.9-2-2-2zM9 17H7v-7h2v7zm4 0h-2V7h2v10zm4 0h-2v-4h2v4z\"/>\n",
       "    </g>\n",
       "</svg>\n",
       "      </button>\n",
       "\n",
       "<style>\n",
       "  .colab-df-quickchart {\n",
       "      --bg-color: #E8F0FE;\n",
       "      --fill-color: #1967D2;\n",
       "      --hover-bg-color: #E2EBFA;\n",
       "      --hover-fill-color: #174EA6;\n",
       "      --disabled-fill-color: #AAA;\n",
       "      --disabled-bg-color: #DDD;\n",
       "  }\n",
       "\n",
       "  [theme=dark] .colab-df-quickchart {\n",
       "      --bg-color: #3B4455;\n",
       "      --fill-color: #D2E3FC;\n",
       "      --hover-bg-color: #434B5C;\n",
       "      --hover-fill-color: #FFFFFF;\n",
       "      --disabled-bg-color: #3B4455;\n",
       "      --disabled-fill-color: #666;\n",
       "  }\n",
       "\n",
       "  .colab-df-quickchart {\n",
       "    background-color: var(--bg-color);\n",
       "    border: none;\n",
       "    border-radius: 50%;\n",
       "    cursor: pointer;\n",
       "    display: none;\n",
       "    fill: var(--fill-color);\n",
       "    height: 32px;\n",
       "    padding: 0;\n",
       "    width: 32px;\n",
       "  }\n",
       "\n",
       "  .colab-df-quickchart:hover {\n",
       "    background-color: var(--hover-bg-color);\n",
       "    box-shadow: 0 1px 2px rgba(60, 64, 67, 0.3), 0 1px 3px 1px rgba(60, 64, 67, 0.15);\n",
       "    fill: var(--button-hover-fill-color);\n",
       "  }\n",
       "\n",
       "  .colab-df-quickchart-complete:disabled,\n",
       "  .colab-df-quickchart-complete:disabled:hover {\n",
       "    background-color: var(--disabled-bg-color);\n",
       "    fill: var(--disabled-fill-color);\n",
       "    box-shadow: none;\n",
       "  }\n",
       "\n",
       "  .colab-df-spinner {\n",
       "    border: 2px solid var(--fill-color);\n",
       "    border-color: transparent;\n",
       "    border-bottom-color: var(--fill-color);\n",
       "    animation:\n",
       "      spin 1s steps(1) infinite;\n",
       "  }\n",
       "\n",
       "  @keyframes spin {\n",
       "    0% {\n",
       "      border-color: transparent;\n",
       "      border-bottom-color: var(--fill-color);\n",
       "      border-left-color: var(--fill-color);\n",
       "    }\n",
       "    20% {\n",
       "      border-color: transparent;\n",
       "      border-left-color: var(--fill-color);\n",
       "      border-top-color: var(--fill-color);\n",
       "    }\n",
       "    30% {\n",
       "      border-color: transparent;\n",
       "      border-left-color: var(--fill-color);\n",
       "      border-top-color: var(--fill-color);\n",
       "      border-right-color: var(--fill-color);\n",
       "    }\n",
       "    40% {\n",
       "      border-color: transparent;\n",
       "      border-right-color: var(--fill-color);\n",
       "      border-top-color: var(--fill-color);\n",
       "    }\n",
       "    60% {\n",
       "      border-color: transparent;\n",
       "      border-right-color: var(--fill-color);\n",
       "    }\n",
       "    80% {\n",
       "      border-color: transparent;\n",
       "      border-right-color: var(--fill-color);\n",
       "      border-bottom-color: var(--fill-color);\n",
       "    }\n",
       "    90% {\n",
       "      border-color: transparent;\n",
       "      border-bottom-color: var(--fill-color);\n",
       "    }\n",
       "  }\n",
       "</style>\n",
       "\n",
       "      <script>\n",
       "        async function quickchart(key) {\n",
       "          const quickchartButtonEl =\n",
       "            document.querySelector('#' + key + ' button');\n",
       "          quickchartButtonEl.disabled = true;  // To prevent multiple clicks.\n",
       "          quickchartButtonEl.classList.add('colab-df-spinner');\n",
       "          try {\n",
       "            const charts = await google.colab.kernel.invokeFunction(\n",
       "                'suggestCharts', [key], {});\n",
       "          } catch (error) {\n",
       "            console.error('Error during call to suggestCharts:', error);\n",
       "          }\n",
       "          quickchartButtonEl.classList.remove('colab-df-spinner');\n",
       "          quickchartButtonEl.classList.add('colab-df-quickchart-complete');\n",
       "        }\n",
       "        (() => {\n",
       "          let quickchartButtonEl =\n",
       "            document.querySelector('#df-cbdee605-46c8-4ccc-b0fa-cc5f8be589ac button');\n",
       "          quickchartButtonEl.style.display =\n",
       "            google.colab.kernel.accessAllowed ? 'block' : 'none';\n",
       "        })();\n",
       "      </script>\n",
       "    </div>\n",
       "\n",
       "  <div id=\"id_ca0ecbef-72b9-4b9f-941c-231497e70101\">\n",
       "    <style>\n",
       "      .colab-df-generate {\n",
       "        background-color: #E8F0FE;\n",
       "        border: none;\n",
       "        border-radius: 50%;\n",
       "        cursor: pointer;\n",
       "        display: none;\n",
       "        fill: #1967D2;\n",
       "        height: 32px;\n",
       "        padding: 0 0 0 0;\n",
       "        width: 32px;\n",
       "      }\n",
       "\n",
       "      .colab-df-generate:hover {\n",
       "        background-color: #E2EBFA;\n",
       "        box-shadow: 0px 1px 2px rgba(60, 64, 67, 0.3), 0px 1px 3px 1px rgba(60, 64, 67, 0.15);\n",
       "        fill: #174EA6;\n",
       "      }\n",
       "\n",
       "      [theme=dark] .colab-df-generate {\n",
       "        background-color: #3B4455;\n",
       "        fill: #D2E3FC;\n",
       "      }\n",
       "\n",
       "      [theme=dark] .colab-df-generate:hover {\n",
       "        background-color: #434B5C;\n",
       "        box-shadow: 0px 1px 3px 1px rgba(0, 0, 0, 0.15);\n",
       "        filter: drop-shadow(0px 1px 2px rgba(0, 0, 0, 0.3));\n",
       "        fill: #FFFFFF;\n",
       "      }\n",
       "    </style>\n",
       "    <button class=\"colab-df-generate\" onclick=\"generateWithVariable('df_orig')\"\n",
       "            title=\"Generate code using this dataframe.\"\n",
       "            style=\"display:none;\">\n",
       "\n",
       "  <svg xmlns=\"http://www.w3.org/2000/svg\" height=\"24px\"viewBox=\"0 0 24 24\"\n",
       "       width=\"24px\">\n",
       "    <path d=\"M7,19H8.4L18.45,9,17,7.55,7,17.6ZM5,21V16.75L18.45,3.32a2,2,0,0,1,2.83,0l1.4,1.43a1.91,1.91,0,0,1,.58,1.4,1.91,1.91,0,0,1-.58,1.4L9.25,21ZM18.45,9,17,7.55Zm-12,3A5.31,5.31,0,0,0,4.9,8.1,5.31,5.31,0,0,0,1,6.5,5.31,5.31,0,0,0,4.9,4.9,5.31,5.31,0,0,0,6.5,1,5.31,5.31,0,0,0,8.1,4.9,5.31,5.31,0,0,0,12,6.5,5.46,5.46,0,0,0,6.5,12Z\"/>\n",
       "  </svg>\n",
       "    </button>\n",
       "    <script>\n",
       "      (() => {\n",
       "      const buttonEl =\n",
       "        document.querySelector('#id_ca0ecbef-72b9-4b9f-941c-231497e70101 button.colab-df-generate');\n",
       "      buttonEl.style.display =\n",
       "        google.colab.kernel.accessAllowed ? 'block' : 'none';\n",
       "\n",
       "      buttonEl.onclick = () => {\n",
       "        google.colab.notebook.generateWithVariable('df_orig');\n",
       "      }\n",
       "      })();\n",
       "    </script>\n",
       "  </div>\n",
       "\n",
       "    </div>\n",
       "  </div>\n"
      ],
      "text/plain": [
       "         set lang       WER       CER    N\n",
       "3  test_orig   de  0.402861  0.171657  100\n",
       "2  test_orig   en  0.256983  0.128580  100\n",
       "1  test_orig   ja  0.864865  0.354854  100\n",
       "0  test_orig   ko  0.452603  0.182523  100"
      ]
     },
     "metadata": {},
     "output_type": "display_data"
    },
    {
     "name": "stdout",
     "output_type": "stream",
     "text": [
      "Saved -> /content/results_mix1p1_test_orig_ONLY.csv\n"
     ]
    }
   ],
   "source": [
    "# 8) 평가\n",
    "LANG_NAME = {\"ko\":\"korean\", \"ja\":\"japanese\", \"en\":\"english\", \"de\":\"german\"}\n",
    "wer_metric = load_metric(\"wer\")\n",
    "cer_metric = load_metric(\"cer\")\n",
    "\n",
    "def eval_on(ds_proc, trainer_obj, label, sample_k=10, show_samples=True):\n",
    "    rows = []\n",
    "    for lang in [\"ko\",\"ja\",\"en\",\"de\"]:\n",
    "        subset = ds_proc.filter(lambda x: x[\"locale\"] == lang)\n",
    "        if len(subset) == 0:\n",
    "            print(f\"[WARN] No samples for {lang} in {label}\")\n",
    "            rows.append({\"set\": label, \"lang\": lang, \"WER\": float(\"nan\"), \"CER\": float(\"nan\"), \"N\": 0})\n",
    "            continue\n",
    "\n",
    "        # 언어별 프롬프트 강제 (generate 시 사용)\n",
    "        forced_ids = processor.get_decoder_prompt_ids(language=LANG_NAME[lang], task=\"transcribe\")\n",
    "        trainer_obj.model.generation_config.forced_decoder_ids = forced_ids\n",
    "        trainer_obj.model.generation_config.max_length = 225\n",
    "\n",
    "        out = trainer_obj.predict(subset)  # predict_with_generate=True → 토큰 시퀀스 반환\n",
    "\n",
    "        # 예측/정답 디코딩\n",
    "        preds = tokenizer.batch_decode(out.predictions, skip_special_tokens=True)\n",
    "        label_ids = np.where(out.label_ids != -100, out.label_ids, tokenizer.pad_token_id)\n",
    "        refs  = tokenizer.batch_decode(label_ids, skip_special_tokens=True)\n",
    "\n",
    "        wer = wer_metric.compute(predictions=preds, references=refs)\n",
    "        cer = cer_metric.compute(predictions=preds, references=refs)\n",
    "        rows.append({\"set\": label, \"lang\": lang, \"WER\": wer, \"CER\": cer, \"N\": len(refs)})\n",
    "\n",
    "        if show_samples and sample_k > 0:\n",
    "            print(f\"\\n[{label}] {lang.upper()} samples (k={min(sample_k, len(refs))})\")\n",
    "            for i, (p, r) in enumerate(zip(preds, refs)):\n",
    "                if i >= sample_k: break\n",
    "                print(f\"#{i:02d} PRED: {p}\")\n",
    "                print(f\"     REF : {r}\")\n",
    "                print(\"---\")\n",
    "\n",
    "    return pd.DataFrame(rows).sort_values(\"lang\")\n",
    "\n",
    "print(f\"[CHECK] Evaluating on TEST set: size={len(proc_test_orig)} (val={len(proc_val_orig)})\")\n",
    "df_orig = eval_on(proc_test_orig, trainer_mix11, \"test_orig\", sample_k=10, show_samples=True)\n",
    "display(df_orig)\n",
    "df_orig.to_csv(\"/content/results_mix1p1_test_orig_ONLY.csv\", index=False)\n",
    "print(\"Saved -> /content/results_mix1p1_test_orig_ONLY.csv\")"
   ]
  },
  {
   "cell_type": "code",
   "execution_count": 14,
   "metadata": {
    "colab": {
     "base_uri": "https://localhost:8080/",
     "height": 507
    },
    "id": "WrH-EKRwVeHg",
    "outputId": "59772a50-e785-4ed2-cb53-5409faf8b3d2"
   },
   "outputs": [
    {
     "data": {
      "image/png": "[encoded data removed]",
      "text/plain": [
       "<Figure size 700x500 with 1 Axes>"
      ]
     },
     "metadata": {},
     "output_type": "display_data"
    }
   ],
   "source": [
    "import matplotlib.pyplot as plt\n",
    "\n",
    "# 9) 시각화\n",
    "def bar_lang(df, label):\n",
    "    plt.figure(figsize=(7,5))\n",
    "    langs = [\"ko\",\"ja\",\"en\",\"de\"]\n",
    "    vals = []\n",
    "    for l in langs:\n",
    "        row = df[df[\"lang\"]==l]\n",
    "        vals.append(float(row[\"WER\"].values[0]) if len(row) else float(\"nan\"))\n",
    "    plt.bar([l.upper() for l in langs], vals)\n",
    "    plt.title(f\"WER - {label}\")\n",
    "    plt.ylabel(\"WER\")\n",
    "    plt.tight_layout()\n",
    "    plt.show()\n",
    "\n",
    "bar_lang(df_orig, \"Original Test (mix 1.1)\")"
   ]
  }
 ],
 "metadata": {
  "accelerator": "GPU",
  "colab": {
   "gpuType": "T4",
   "machine_shape": "hm",
   "provenance": []
  },
  "kernelspec": {
   "display_name": "Python 3",
   "name": "python3"
  },
  "language_info": {
   "name": "python"
  }
 },
 "nbformat": 4,
 "nbformat_minor": 0
}
