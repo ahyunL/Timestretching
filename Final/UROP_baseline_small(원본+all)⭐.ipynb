{
 "cells": [
  {
   "cell_type": "code",
   "execution_count": 1,
   "metadata": {
    "colab": {
     "base_uri": "https://localhost:8080/"
    },
    "id": "aTK6DJIFxeEv",
    "outputId": "f326399c-e854-492e-c01d-d4440a9c62b7"
   },
   "outputs": [
    {
     "name": "stdout",
     "output_type": "stream",
     "text": [
      "\u001b[2K     \u001b[90m━━━━━━━━━━━━━━━━━━━━━━━━━━━━━━━━━━━━━━━━\u001b[0m \u001b[32m43.7/43.7 kB\u001b[0m \u001b[31m1.6 MB/s\u001b[0m eta \u001b[36m0:00:00\u001b[0m\n",
      "\u001b[2K   \u001b[90m━━━━━━━━━━━━━━━━━━━━━━━━━━━━━━━━━━━━━━━━\u001b[0m \u001b[32m527.3/527.3 kB\u001b[0m \u001b[31m32.0 MB/s\u001b[0m eta \u001b[36m0:00:00\u001b[0m\n",
      "\u001b[2K   \u001b[90m━━━━━━━━━━━━━━━━━━━━━━━━━━━━━━━━━━━━━━━━\u001b[0m \u001b[32m84.1/84.1 kB\u001b[0m \u001b[31m4.9 MB/s\u001b[0m eta \u001b[36m0:00:00\u001b[0m\n",
      "\u001b[2K   \u001b[90m━━━━━━━━━━━━━━━━━━━━━━━━━━━━━━━━━━━━━━━━\u001b[0m \u001b[32m9.5/9.5 MB\u001b[0m \u001b[31m89.3 MB/s\u001b[0m eta \u001b[36m0:00:00\u001b[0m\n",
      "\u001b[2K   \u001b[90m━━━━━━━━━━━━━━━━━━━━━━━━━━━━━━━━━━━━━━━━\u001b[0m \u001b[32m177.6/177.6 kB\u001b[0m \u001b[31m14.6 MB/s\u001b[0m eta \u001b[36m0:00:00\u001b[0m\n",
      "\u001b[2K   \u001b[90m━━━━━━━━━━━━━━━━━━━━━━━━━━━━━━━━━━━━━━━━\u001b[0m \u001b[32m3.1/3.1 MB\u001b[0m \u001b[31m65.6 MB/s\u001b[0m eta \u001b[36m0:00:00\u001b[0m\n",
      "\u001b[2K   \u001b[90m━━━━━━━━━━━━━━━━━━━━━━━━━━━━━━━━━━━━━━━━\u001b[0m \u001b[32m3.6/3.6 MB\u001b[0m \u001b[31m104.4 MB/s\u001b[0m eta \u001b[36m0:00:00\u001b[0m\n",
      "\u001b[?25h\u001b[31mERROR: pip's dependency resolver does not currently take into account all the packages that are installed. This behaviour is the source of the following dependency conflicts.\n",
      "gcsfs 2025.3.0 requires fsspec==2025.3.0, but you have fsspec 2024.6.1 which is incompatible.\u001b[0m\u001b[31m\n",
      "\u001b[2K   \u001b[90m━━━━━━━━━━━━━━━━━━━━━━━━━━━━━━━━━━━━━━━━\u001b[0m \u001b[32m193.6/193.6 kB\u001b[0m \u001b[31m14.4 MB/s\u001b[0m eta \u001b[36m0:00:00\u001b[0m\n",
      "\u001b[?25h\u001b[31mERROR: pip's dependency resolver does not currently take into account all the packages that are installed. This behaviour is the source of the following dependency conflicts.\n",
      "datasets 2.21.0 requires fsspec[http]<=2024.6.1,>=2023.1.0, but you have fsspec 2025.3.0 which is incompatible.\u001b[0m\u001b[31m\n",
      "\u001b[0mdatasets: 2.21.0\n",
      "evaluate: 0.4.5\n",
      "transformers: 4.44.2\n",
      "fsspec: 2025.3.0\n",
      "gcsfs: 2025.3.0\n",
      "python: 3.12.11 (main, Jun  4 2025, 08:56:18) [GCC 11.4.0]\n"
     ]
    }
   ],
   "source": [
    "# 핵심 패키지(스트리밍 호환 버전)\n",
    "!pip -q install \"datasets<3.0.0\" \"evaluate<0.5.0\" \"transformers>=4.38,<4.45\" \\\n",
    "                huggingface_hub torchaudio jiwer soundfile\n",
    "\n",
    "# fsspec/gcsfs 충돌 정리\n",
    "!pip -q install -U fsspec==2025.3.0 gcsfs\n",
    "\n",
    "import datasets, evaluate, transformers, fsspec, gcsfs, sys\n",
    "print(\"datasets:\", datasets.__version__)    # ← 2.x 여야 OK\n",
    "print(\"evaluate:\", evaluate.__version__)    # ← 0.4.x 권장\n",
    "print(\"transformers:\", transformers.__version__)\n",
    "print(\"fsspec:\", fsspec.__version__)\n",
    "print(\"gcsfs:\", gcsfs.__version__)\n",
    "print(\"python:\", sys.version)"
   ]
  },
  {
   "cell_type": "code",
   "execution_count": 2,
   "metadata": {
    "colab": {
     "base_uri": "https://localhost:8080/",
     "height": 17,
     "referenced_widgets": [
      "5254573da74440578fd03467933dd3e9",
      "bf97cb284fa04ffd8c5e6a865416ffa1",
      "64adac4706f947dfb4aa632933c61074",
      "58fc4be48988403a87ebeb35a96f6cfe",
      "70c2f2e1993842b8828b87951505224f",
      "8216f6007b09426da8147243a7e2da41",
      "9307235aa17046fdb94be9418d3839b5",
      "fcaa06fd65434e6f9f031f8784285a76",
      "50436c09f5904c17993c944940c6551a",
      "24af6340d7864736a74b35551d15dc83",
      "403886e2b12f403bb414b98f0d69b3b9",
      "02d74506d5404be3b75123d3bcb8a6c0",
      "a4d3ab3e2c3b49d794c031794997edde",
      "75d43b3a4bc74c6da2eea64745f5786d",
      "6ef12a2140cd4f17bf9b47a842d7de5f",
      "b54985fa29d2410f9c136ed25cf154e9",
      "47495cc8a73749fa903619d10b8b6f37",
      "feb21a39698c4b2abdd7c34e4e38fd9d",
      "38a31f1c3cb048eba10f11630b4bf24f",
      "2c83f4982a814dcdaeb5a3e34f3897e2"
     ]
    },
    "id": "HRwtQqBu1rzJ",
    "outputId": "e47c71ea-97cf-4aa7-893d-f20a26e07d6a"
   },
   "outputs": [
    {
     "data": {
      "application/vnd.jupyter.widget-view+json": {
       "model_id": "5254573da74440578fd03467933dd3e9",
       "version_major": 2,
       "version_minor": 0
      },
      "text/plain": [
       "VBox(children=(HTML(value='<center> <img\\nsrc=https://huggingface.co/front/assets/huggingface_logo-noborder.sv…"
      ]
     },
     "metadata": {},
     "output_type": "display_data"
    }
   ],
   "source": [
    "from huggingface_hub import notebook_login\n",
    "notebook_login()"
   ]
  },
  {
   "cell_type": "code",
   "execution_count": 3,
   "metadata": {
    "colab": {
     "base_uri": "https://localhost:8080/"
    },
    "id": "o_UXVfDQ11Np",
    "outputId": "5e42f365-0bc8-44b5-c034-966d85bdbf35"
   },
   "outputs": [
    {
     "name": "stdout",
     "output_type": "stream",
     "text": [
      "Seed fixed to 42.\n"
     ]
    }
   ],
   "source": [
    "from datasets import load_dataset, Audio, Dataset, concatenate_datasets\n",
    "from transformers import (\n",
    "    WhisperProcessor, WhisperForConditionalGeneration,\n",
    "    Seq2SeqTrainingArguments, Seq2SeqTrainer, EarlyStoppingCallback\n",
    ")\n",
    "from dataclasses import dataclass\n",
    "from typing import Any, Dict, List, Union\n",
    "from evaluate import load as load_metric\n",
    "from IPython.display import display\n",
    "import pandas as pd\n",
    "import matplotlib.pyplot as plt\n",
    "\n",
    "import os, random, numpy as np, torch\n",
    "\n",
    "SEED = 42\n",
    "random.seed(SEED); np.random.seed(SEED); torch.manual_seed(SEED)\n",
    "if torch.cuda.is_available():\n",
    "    torch.cuda.manual_seed_all(SEED)\n",
    "os.environ[\"PYTHONHASHSEED\"] = str(SEED)\n",
    "torch.backends.cudnn.deterministic = True\n",
    "torch.backends.cudnn.benchmark = False\n",
    "print(\"Seed fixed to {}.\".format(SEED))"
   ]
  },
  {
   "cell_type": "code",
   "execution_count": 4,
   "metadata": {
    "colab": {
     "base_uri": "https://localhost:8080/",
     "height": 634,
     "referenced_widgets": [
      "7cefc38857884db5871a0e3505be4865",
      "8e81d12b727a48bb8630ec367e56b6d4",
      "06a80aaeb7294b289dec95c5e42eb6ed",
      "531e99bf9487461ebb3b642c5098a4d3",
      "6ab2cb767b5f4d498603c3879ad17269",
      "3a723154c1c546078d9d534ca80e9a7f",
      "1004afce640e491fb7690907d4f90e36",
      "55ae4d5638b448a48d445db1dfb1772f",
      "e257d8297fe94fd5bc33cc451889be55",
      "b70d234cd93545b3952ae74bd1113e0a",
      "dfed6560ff194c2bb40506df93f5aefc",
      "4da595d275ed4761bb550c80ee6e6e86",
      "276a29931ad04f89b2fa15ab3755a1c3",
      "c9d8915bc16645728f8b20216c54eaf6",
      "4e4d1d14185f48fc965d0f7a26ab196d",
      "60362e801d284933af17a128addc0bfe",
      "12ebcb3ef12740ceab48889ae15929af",
      "375816ce4c874f999e444b4e3aa1429c",
      "ce8c8eb2841d45508e76676ab4018534",
      "df4a4a971f8b4f3cabf256975ae233ec",
      "ca3abb634d69422dafeb8f5ad517201c",
      "25ac2e47eb5f43819bfb48812ef9c96a",
      "f3ce5960a6874205bfcb5433773f0dd5",
      "4fe9da2dac7f4b9ea5b66db712ca6c01",
      "b6d511070e0f46f29d7b2b7cafd3268e",
      "7ca3da8222a84e499fbb43bfb5c13b74",
      "36c4823d428449b488e7bb662007a1d9",
      "9c889c8576a44110a88eb80a6cd64f7f",
      "3eadabb96bd9441185fdf78afffe5923",
      "b42bd71075a44c6788bfdedb8b5fa740",
      "dc80c2bd21584b20ab47b8c06134c350",
      "2c5b42706618447886c796be3431b9c5",
      "c2d5e2585ffa49debcad3c6905f7c950",
      "cfc51ebbf6e3450c9c6f0495a2fbf819",
      "b2fbc7368ac24ac792c5e7b02a3b0618",
      "53572b496edd41e2940077094caeb1aa",
      "065caeccf095409cb387e800ae8d30c9",
      "9476e0d32b9a4d94b12aaf0b63b6c273",
      "5d3c31120cb44fcbaa2b62c0c2767f99",
      "4e4c2f3e184447888136e55a186991ab",
      "8ffc54570bc840c487a57e4f263c7852",
      "0cac3938772e481491a8e0bcddfebd7d",
      "033e26c549a54461a12bbe9d59de35ac",
      "8d84b0bb911f479289c1b8ec172feb65"
     ]
    },
    "id": "uzyWC_SU19Ds",
    "outputId": "382e3e23-8b82-4a9d-c5a3-aca8c1b6df08"
   },
   "outputs": [
    {
     "name": "stdout",
     "output_type": "stream",
     "text": [
      "✅ Loading ko...\n"
     ]
    },
    {
     "name": "stderr",
     "output_type": "stream",
     "text": [
      "/usr/local/lib/python3.12/dist-packages/huggingface_hub/utils/_auth.py:94: UserWarning: \n",
      "The secret `HF_TOKEN` does not exist in your Colab secrets.\n",
      "To authenticate with the Hugging Face Hub, create a token in your settings tab (https://huggingface.co/settings/tokens), set it as secret in your Google Colab and restart your session.\n",
      "You will be able to reuse this secret in all of your notebooks.\n",
      "Please note that authentication is recommended but still optional to access public models or datasets.\n",
      "  warnings.warn(\n"
     ]
    },
    {
     "data": {
      "application/vnd.jupyter.widget-view+json": {
       "model_id": "7cefc38857884db5871a0e3505be4865",
       "version_major": 2,
       "version_minor": 0
      },
      "text/plain": [
       "Downloading builder script:   0%|          | 0.00/8.17k [00:00<?, ?B/s]"
      ]
     },
     "metadata": {},
     "output_type": "display_data"
    },
    {
     "data": {
      "application/vnd.jupyter.widget-view+json": {
       "model_id": "4da595d275ed4761bb550c80ee6e6e86",
       "version_major": 2,
       "version_minor": 0
      },
      "text/plain": [
       "Downloading readme:   0%|          | 0.00/12.3k [00:00<?, ?B/s]"
      ]
     },
     "metadata": {},
     "output_type": "display_data"
    },
    {
     "data": {
      "application/vnd.jupyter.widget-view+json": {
       "model_id": "f3ce5960a6874205bfcb5433773f0dd5",
       "version_major": 2,
       "version_minor": 0
      },
      "text/plain": [
       "Downloading extra modules:   0%|          | 0.00/3.74k [00:00<?, ?B/s]"
      ]
     },
     "metadata": {},
     "output_type": "display_data"
    },
    {
     "data": {
      "application/vnd.jupyter.widget-view+json": {
       "model_id": "cfc51ebbf6e3450c9c6f0495a2fbf819",
       "version_major": 2,
       "version_minor": 0
      },
      "text/plain": [
       "Downloading extra modules:   0%|          | 0.00/77.3k [00:00<?, ?B/s]"
      ]
     },
     "metadata": {},
     "output_type": "display_data"
    },
    {
     "name": "stdout",
     "output_type": "stream",
     "text": [
      "The repository for mozilla-foundation/common_voice_16_1 contains custom code which must be executed to correctly load the dataset. You can inspect the repository content at https://hf.co/datasets/mozilla-foundation/common_voice_16_1.\n",
      "You can avoid this prompt in future by passing the argument `trust_remote_code=True`.\n",
      "\n",
      "Do you wish to run the custom code? [y/N] y\n"
     ]
    },
    {
     "name": "stderr",
     "output_type": "stream",
     "text": [
      "Reading metadata...: 401it [00:00, 834.18it/s]\n",
      "Reading metadata...: 235it [00:00, 459.43it/s]\n",
      "Reading metadata...: 282it [00:00, 527.36it/s]\n"
     ]
    },
    {
     "name": "stdout",
     "output_type": "stream",
     "text": [
      "✅ Loading ja...\n"
     ]
    },
    {
     "name": "stderr",
     "output_type": "stream",
     "text": [
      "Reading metadata...: 9616it [00:00, 15843.59it/s]\n",
      "Reading metadata...: 6094it [00:01, 4486.75it/s]\n",
      "Reading metadata...: 6094it [00:00, 10585.60it/s]\n"
     ]
    },
    {
     "name": "stdout",
     "output_type": "stream",
     "text": [
      "✅ Loading en...\n"
     ]
    },
    {
     "name": "stderr",
     "output_type": "stream",
     "text": [
      "Reading metadata...: 1090061it [00:34, 31605.33it/s]\n",
      "Reading metadata...: 16390it [00:01, 15694.69it/s]\n",
      "Reading metadata...: 16390it [00:01, 13084.10it/s]\n"
     ]
    },
    {
     "name": "stdout",
     "output_type": "stream",
     "text": [
      "✅ Loading de...\n"
     ]
    },
    {
     "name": "stderr",
     "output_type": "stream",
     "text": [
      "Reading metadata...: 576207it [00:19, 29905.92it/s]\n",
      "Reading metadata...: 16173it [00:00, 19686.74it/s]\n",
      "Reading metadata...: 16173it [00:01, 12588.88it/s]\n"
     ]
    },
    {
     "name": "stdout",
     "output_type": "stream",
     "text": [
      "{'train': 800, 'val': 400, 'test': 400}\n"
     ]
    }
   ],
   "source": [
    "# 2) 데이터 로드(Streaming -> in-memory)\n",
    "n_train, n_val, n_test = 200, 100, 100\n",
    "langs = [\"ko\",\"ja\",\"en\",\"de\"]\n",
    "\n",
    "def take_valid(gen, n, lang_code):\n",
    "    out = []\n",
    "    for ex in gen:\n",
    "        if ex.get(\"audio\") is not None and ex.get(\"sentence\"):\n",
    "            ex = dict(ex)\n",
    "            ex[\"locale\"] = lang_code\n",
    "            out.append(ex)\n",
    "            if len(out) >= n:\n",
    "                break\n",
    "    return out\n",
    "\n",
    "train_data, val_data, test_data = [], [], []\n",
    "for lang in langs:\n",
    "    print(f\"✅ Loading {lang}...\")\n",
    "    ds_tr = load_dataset(\"mozilla-foundation/common_voice_16_1\", lang, split=\"train\",      streaming=True)\n",
    "    ds_va = load_dataset(\"mozilla-foundation/common_voice_16_1\", lang, split=\"validation\", streaming=True)\n",
    "    ds_te = load_dataset(\"mozilla-foundation/common_voice_16_1\", lang, split=\"test\",       streaming=True)\n",
    "    train_data += take_valid(ds_tr, n_train, lang)\n",
    "    val_data   += take_valid(ds_va, n_val,   lang)\n",
    "    test_data  += take_valid(ds_te, n_test,  lang)\n",
    "\n",
    "random.shuffle(train_data); random.shuffle(val_data); random.shuffle(test_data)\n",
    "train_dataset = Dataset.from_list(train_data)\n",
    "val_dataset   = Dataset.from_list(val_data)\n",
    "test_dataset  = Dataset.from_list(test_data)\n",
    "print({\"train\": len(train_dataset), \"val\": len(val_dataset), \"test\": len(test_dataset)})"
   ]
  },
  {
   "cell_type": "code",
   "execution_count": 5,
   "metadata": {
    "colab": {
     "base_uri": "https://localhost:8080/",
     "height": 386,
     "referenced_widgets": [
      "92b42ce4294947229cfd8e53aa252a7e",
      "4e1cfd0aba054e94b0692c4911516e42",
      "3c5c9549ea2b4a1aa5cdc8395f4dab5a",
      "9a2b36066dbb444aa8773c6632d593c8",
      "6a4bdf9b7f2342fb98a62bd2f0056a01",
      "ac1cf0bb40e649d990449dd065b78910",
      "8db688c3a84f4d20ba7411d05cff9b11",
      "11107e93dc9a47038eb385e60b13d2a5",
      "d0be2058eb6a4ba19f6932278c6c322b",
      "f8fee58face1473288fead2a11210cfe",
      "5e143c7b43a8487baa7158e84ef345e4",
      "12c5df9c2b934bbbba8999a82aefadbb",
      "b9f8bc435d99490eb2118c79a2ce08dc",
      "c370d7562a444fa3ba6f3859cf02bb2b",
      "02cafcf568ea4b52b10cee6ca72e6225",
      "83563a3a5965454bbbb6ac178cb13988",
      "c23dbfe1e1d041558105772e4a8d6226",
      "f4535e4823b54e5eb24d1da28253b32c",
      "89262544e69e4493906d6816d469df24",
      "901a704893a140288bcd69e766897da1",
      "0216fd2317094c1983d617930776e0f8",
      "b61ac05917964de5829e896de896d52f",
      "4df9da43675e4aa49dfe64c0da101c67",
      "70c5484d673e414cb34d0027770def59",
      "e03f86c88f3345b2ac891d8fc5da27a6",
      "df02ee4b61744e3fa0816ddd4aa3ccb8",
      "d46d9c6d6ce0433891133cb10a84e4f1",
      "994f54778a0c4a17b6af51df33fbb2f5",
      "34936a9cbd6b432a81573a7796b0b3e8",
      "e452ce0adea345fb9318c5c3fa98c5c2",
      "7f6865a814d64d3dbf1acc5493166430",
      "fc9d37126a7f4ea78658bcab40a07f85",
      "c5b3440fcdb3497aa93d39afd0171bf9",
      "00147863b83a4185b637f4e93f3e3f4f",
      "1419f030b37a48bfb05c6845c8359cbf",
      "6fa1c9c350fa4cf79ba933c269418905",
      "bcabc1595de5407da620635e1901947f",
      "4fa134d0078042eda9599134f7b174c4",
      "a68a6155e2424d18aadaca80d8b6c151",
      "a98f578ee73b482cb8933e0f201a55f2",
      "cc79e1fe6ef34925aded3ba766e40c1a",
      "d34df2c1fc384740b3c95f0afb5bd062",
      "84f24b2fe4474dd3bd2edf2d955eb075",
      "6ad0f277fc4446d89974fd6a50279251",
      "55b9526e9f384060badbb2133a8fa5a9",
      "acd25dbadd854fc3b09a67c49f039523",
      "d3811dacc1b54049b6f04bd263e28893",
      "7fdb52dfe0d54c279fe5639ab5a19c63",
      "96086dc3f73e4951822e014e6589e1f8",
      "79ace085fd934cc294ba3beb0950f2cc",
      "c3835737281342849c289f1234da6d5c",
      "d4ba4e0b0423423b8b52133e003b325d",
      "6403b675484a46659a82da9e28b512a1",
      "4a515b09e1bd4ac081d259820bf36586",
      "595809d118964f42bfb328f7b2883e69",
      "b51182793f1f4d5980eb29a7ff9f240a",
      "e0f9977900a94d9d9e8f159836c09489",
      "372218acff734540a53104b51c88c42a",
      "f92e45d2088d43989e821ebd747cdd8c",
      "056fd48c4dd14ec398bf60ec780f1989",
      "3607edb5d1d047f0b88d22cada43b91b",
      "fbed26a75bb043a79d59d6714966d0ba",
      "0363116585c94433bff85b396b2373fd",
      "65419cc9413349d7b7e0444d31ca81d8",
      "6f6e8bcaba484dbd9fec317f485dbf4c",
      "ad2d21b0204642b1aad4f986d1e13759",
      "79e58e85c59e4c71a95765c74bd0ad5b",
      "1789e4a0e0c84599952c30d044530b3f",
      "1f42705a72864a2ca8a1b41820e1476d",
      "57da9ef84c504321a7c147c2bdaaf26c",
      "3965908db7954f7d8e84e3452000e5c6",
      "5786c12d048349f9ae87ae5d3c69233b",
      "1de4734d3b1142f38c6e2b5ac12f29e4",
      "b97386dc5aa24996a1572216ba6072d4",
      "776d850f4627464394bce7ad90692755",
      "421ea2b6e6f5410b94a5a4aace4cf18c",
      "d009e607faa242daa8c8f207ea44d0e1",
      "4051f5dd90cc41b9b5c4299df11c471b",
      "18b9299449934677847765af2e032239",
      "2574235368fd46ea945e64269ce1b808",
      "7e629cc7e3f341a6a9aed2d6363ab21d",
      "bc651998e4aa465e8a55d54f9b4ddf04",
      "f7b1203765794447b1f42aa91826ec9a",
      "6fde7bcb3f6f4226a2461cde4e6c475c",
      "d76d60e260a14f409583d1aa317698b1",
      "1cd6fee579b44cfa8e455dc3914e9087",
      "bc352101856c47598576281f22c44542",
      "88cfeae8f2cf4823a42f9bd8f984e018",
      "4c2a959a2fba4eeda1bc87e658628023",
      "8607395a2c2e4e92bfe44c40e9f13a52",
      "ea76d0514898455bb9c3cbaebcea8f94",
      "74542b7d67bb45a2b1d00011ad248998",
      "fd1db0f33de44f2a8fd260de52e52347",
      "51927aa42de54be99d099266a712003f",
      "4d4f8de47b4549afbe3d0da473eda652",
      "b30b6ce92ed9437c9292494c96f5f5c2",
      "0f0ea8f63c134bd18f945e3c75e7aaa7",
      "84dc76dfad0a4e4c8f8215fcd3b04815",
      "e75f237fb04e4b1ea7c21debe795f359",
      "161bae549ef348c08d12aae3c0823136",
      "b84e6325f1354162b77970c8a4d22ccf",
      "64d9ec05fd3f4f5ba2797a782c429c80",
      "dc55fb5c23ad4bfca2b11776b32c3b1f",
      "d65f04b249ad4a37a1f0d5a5ea552241",
      "dc93beaa118b40d08db66fc568ec42b4",
      "2b7b0f137d0043ef96a4229d57a374e6",
      "d49445067cf843c4a6e8deadb4ed3174",
      "bbb36b157d954d98ba90e455e879cef9",
      "e5f2d9fba29444d1ab93289ecd9581fd",
      "938e89d6d10a4d908e26c94353b2801e",
      "28e9806cd06949f8a9e4e8f8164dff5b",
      "f94bcb89c68145ec94d1d72da183be36",
      "8bd1c0393a714dab9e0746285c26d28a",
      "bb5b02d9d2e8414fb128f46ad4f838ea",
      "20c38e4d93c14672ae458ad3c7197bee",
      "f206e38e472e48cba3a0ec96c2625046",
      "ec12e963c9074412a1ca35da0b97b4c9",
      "7efc1599a9b5463785372fa89b467219",
      "e042c85e54584667954457ccd11ab176",
      "d22c4396f3aa40ac97a737d6aed46f21",
      "07ed92251b3e4555ad48f283a8600dbc"
     ]
    },
    "id": "ptynQiDF1_6Q",
    "outputId": "dc8f5ba3-23f0-4616-949e-bf1b00f0ffe1"
   },
   "outputs": [
    {
     "data": {
      "application/vnd.jupyter.widget-view+json": {
       "model_id": "92b42ce4294947229cfd8e53aa252a7e",
       "version_major": 2,
       "version_minor": 0
      },
      "text/plain": [
       "preprocessor_config.json: 0.00B [00:00, ?B/s]"
      ]
     },
     "metadata": {},
     "output_type": "display_data"
    },
    {
     "data": {
      "application/vnd.jupyter.widget-view+json": {
       "model_id": "12c5df9c2b934bbbba8999a82aefadbb",
       "version_major": 2,
       "version_minor": 0
      },
      "text/plain": [
       "tokenizer_config.json: 0.00B [00:00, ?B/s]"
      ]
     },
     "metadata": {},
     "output_type": "display_data"
    },
    {
     "data": {
      "application/vnd.jupyter.widget-view+json": {
       "model_id": "4df9da43675e4aa49dfe64c0da101c67",
       "version_major": 2,
       "version_minor": 0
      },
      "text/plain": [
       "vocab.json: 0.00B [00:00, ?B/s]"
      ]
     },
     "metadata": {},
     "output_type": "display_data"
    },
    {
     "data": {
      "application/vnd.jupyter.widget-view+json": {
       "model_id": "00147863b83a4185b637f4e93f3e3f4f",
       "version_major": 2,
       "version_minor": 0
      },
      "text/plain": [
       "tokenizer.json: 0.00B [00:00, ?B/s]"
      ]
     },
     "metadata": {},
     "output_type": "display_data"
    },
    {
     "data": {
      "application/vnd.jupyter.widget-view+json": {
       "model_id": "55b9526e9f384060badbb2133a8fa5a9",
       "version_major": 2,
       "version_minor": 0
      },
      "text/plain": [
       "merges.txt: 0.00B [00:00, ?B/s]"
      ]
     },
     "metadata": {},
     "output_type": "display_data"
    },
    {
     "data": {
      "application/vnd.jupyter.widget-view+json": {
       "model_id": "b51182793f1f4d5980eb29a7ff9f240a",
       "version_major": 2,
       "version_minor": 0
      },
      "text/plain": [
       "normalizer.json: 0.00B [00:00, ?B/s]"
      ]
     },
     "metadata": {},
     "output_type": "display_data"
    },
    {
     "data": {
      "application/vnd.jupyter.widget-view+json": {
       "model_id": "79e58e85c59e4c71a95765c74bd0ad5b",
       "version_major": 2,
       "version_minor": 0
      },
      "text/plain": [
       "added_tokens.json: 0.00B [00:00, ?B/s]"
      ]
     },
     "metadata": {},
     "output_type": "display_data"
    },
    {
     "data": {
      "application/vnd.jupyter.widget-view+json": {
       "model_id": "4051f5dd90cc41b9b5c4299df11c471b",
       "version_major": 2,
       "version_minor": 0
      },
      "text/plain": [
       "special_tokens_map.json: 0.00B [00:00, ?B/s]"
      ]
     },
     "metadata": {},
     "output_type": "display_data"
    },
    {
     "data": {
      "application/vnd.jupyter.widget-view+json": {
       "model_id": "4c2a959a2fba4eeda1bc87e658628023",
       "version_major": 2,
       "version_minor": 0
      },
      "text/plain": [
       "Map:   0%|          | 0/800 [00:00<?, ? examples/s]"
      ]
     },
     "metadata": {},
     "output_type": "display_data"
    },
    {
     "data": {
      "application/vnd.jupyter.widget-view+json": {
       "model_id": "161bae549ef348c08d12aae3c0823136",
       "version_major": 2,
       "version_minor": 0
      },
      "text/plain": [
       "Map:   0%|          | 0/400 [00:00<?, ? examples/s]"
      ]
     },
     "metadata": {},
     "output_type": "display_data"
    },
    {
     "data": {
      "application/vnd.jupyter.widget-view+json": {
       "model_id": "28e9806cd06949f8a9e4e8f8164dff5b",
       "version_major": 2,
       "version_minor": 0
      },
      "text/plain": [
       "Map:   0%|          | 0/400 [00:00<?, ? examples/s]"
      ]
     },
     "metadata": {},
     "output_type": "display_data"
    },
    {
     "name": "stdout",
     "output_type": "stream",
     "text": [
      "Device: cuda | Seed: 42\n"
     ]
    }
   ],
   "source": [
    "# 3) 전처리\n",
    "TARGET_SR = 16000\n",
    "model_checkpoint = \"openai/whisper-small\"\n",
    "\n",
    "processor = WhisperProcessor.from_pretrained(model_checkpoint)\n",
    "feature_extractor = processor.feature_extractor\n",
    "tokenizer = processor.tokenizer\n",
    "\n",
    "train_dataset = train_dataset.cast_column(\"audio\", Audio(sampling_rate=TARGET_SR))\n",
    "val_dataset   = val_dataset.cast_column(\"audio\",   Audio(sampling_rate=TARGET_SR))\n",
    "test_dataset  = test_dataset.cast_column(\"audio\",  Audio(sampling_rate=TARGET_SR))\n",
    "\n",
    "def prepare_dataset(example):\n",
    "    a = example[\"audio\"]\n",
    "    example[\"input_features\"] = feature_extractor(a[\"array\"], sampling_rate=TARGET_SR).input_features[0]\n",
    "    example[\"labels\"] = tokenizer(example[\"sentence\"]).input_ids\n",
    "    return example\n",
    "\n",
    "keep_cols = {\"input_features\",\"labels\",\"locale\"}\n",
    "proc_train_orig = train_dataset.map(prepare_dataset, remove_columns=[c for c in train_dataset.column_names if c not in keep_cols])\n",
    "proc_val_orig   = val_dataset.map(  prepare_dataset, remove_columns=[c for c in val_dataset.column_names   if c not in keep_cols])\n",
    "proc_test_orig  = test_dataset.map( prepare_dataset, remove_columns=[c for c in test_dataset.column_names  if c not in keep_cols])\n",
    "\n",
    "for ds_ in (proc_train_orig, proc_val_orig, proc_test_orig):\n",
    "    ds_.set_format(columns=list(keep_cols))\n",
    "\n",
    "device = \"cuda\" if torch.cuda.is_available() else \"cpu\"\n",
    "print(\"Device:\", device, \"| Seed:\", SEED)"
   ]
  },
  {
   "cell_type": "code",
   "execution_count": 6,
   "metadata": {
    "colab": {
     "base_uri": "https://localhost:8080/",
     "height": 113,
     "referenced_widgets": [
      "2ef550f1772b4b638816ae30e5219b55",
      "d2e5ed6eefe44712a38b16b70319413f",
      "78895a807387472c97141e1f996960ff",
      "04d58daabef14aa8bd55485a9a4b682d",
      "0a1c684edc3e49089b96965d275a5029",
      "8d7df9a4776b4c8aa862d415420dc0a7",
      "3a22df1a6ede4716a104505da179cfd5",
      "7612b67c153e41bea7e9b8493f8f4bb5",
      "c67ef62f5ff6424ab7f5a388975aaf9a",
      "c912cd2c359c4386958c5c51549b9d81",
      "65e7484ae8fa43ca8c7bbe3678049c18",
      "e7f79209198e401b8b7c995f26dcb1ff",
      "eb06c62fec23488d85d67070e2d02534",
      "b9d46e79f16140f8b89c6fb11dd75fe7",
      "a8bfd97c69154d85a9ac0eb4eca830ec",
      "d2af7ce0bb414421b2a6c2dc2b6493b2",
      "6ccc1416eb2944629c72d0dc5ed0c34a",
      "f68ff7b2e4c74bf1935f5c319d1a4a9f",
      "8c79783dd0264b009f826bb9b32a07a3",
      "a0ca304c63a1423ea7c505e338fdbd5b",
      "7051d879a0174103b3d92c91674794ef",
      "cf6b56b40cd94f6fb6afcd0ebfe73d98",
      "2588dd9be2924d0a9a261f23b1a548d0",
      "176cc75639c445d6b42fe959b22a862f",
      "0080935e30c6428e996ba82443c016a4",
      "783ae4edf3154ae1ad9ca5d1ad58558e",
      "ca42557a810140d1beda5c461d450c28",
      "0e98fbe4a16944b0b35c0eb29b09b095",
      "5b60ce840d26420c9375b80508f2a679",
      "d3081ed3392a47149926582f9ee14fe3",
      "28b8ef3ad86c469a925448926322d2d0",
      "ddb1fd819b2e436097d1ef1142dd891a",
      "e4df39af3e8f4909a60bef3b3ec4c157"
     ]
    },
    "id": "2nKgfR6n2ChI",
    "outputId": "76022d68-2661-4f3b-91db-df205f7ec22d"
   },
   "outputs": [
    {
     "data": {
      "application/vnd.jupyter.widget-view+json": {
       "model_id": "2ef550f1772b4b638816ae30e5219b55",
       "version_major": 2,
       "version_minor": 0
      },
      "text/plain": [
       "config.json: 0.00B [00:00, ?B/s]"
      ]
     },
     "metadata": {},
     "output_type": "display_data"
    },
    {
     "data": {
      "application/vnd.jupyter.widget-view+json": {
       "model_id": "e7f79209198e401b8b7c995f26dcb1ff",
       "version_major": 2,
       "version_minor": 0
      },
      "text/plain": [
       "model.safetensors:   0%|          | 0.00/967M [00:00<?, ?B/s]"
      ]
     },
     "metadata": {},
     "output_type": "display_data"
    },
    {
     "data": {
      "application/vnd.jupyter.widget-view+json": {
       "model_id": "2588dd9be2924d0a9a261f23b1a548d0",
       "version_major": 2,
       "version_minor": 0
      },
      "text/plain": [
       "generation_config.json: 0.00B [00:00, ?B/s]"
      ]
     },
     "metadata": {},
     "output_type": "display_data"
    }
   ],
   "source": [
    "# 4) 모델 로딩 & Whisper generate() 안전 세팅\n",
    "model = WhisperForConditionalGeneration.from_pretrained(model_checkpoint).to(device)\n",
    "\n",
    "# pad/eos/start/forced 프롬프트 확정\n",
    "tok = processor.tokenizer\n",
    "if tok.pad_token_id is None:\n",
    "    tok.pad_token = tok.eos_token\n",
    "\n",
    "start_id = tok.convert_tokens_to_ids(\"<|startoftranscript|>\")\n",
    "if start_id is None:\n",
    "    start_id = processor.get_decoder_prompt_ids(language=\"english\", task=\"transcribe\")[0][1]\n",
    "\n",
    "forced_ids_en = processor.get_decoder_prompt_ids(language=\"english\", task=\"transcribe\")\n",
    "\n",
    "for cfg in (model.config, model.generation_config):\n",
    "    cfg.pad_token_id = tok.pad_token_id\n",
    "    cfg.eos_token_id = tok.eos_token_id\n",
    "    cfg.decoder_start_token_id = start_id\n",
    "    cfg.forced_decoder_ids = forced_ids_en\n",
    "\n",
    "model.config.use_cache = False\n",
    "model.config.suppress_tokens = []\n",
    "\n",
    "# 5) Collator: 라벨 패딩 & decoder_input_ids 생성(우리가 명시 제공)\n",
    "@dataclass\n",
    "class DataCollatorSpeechSeq2SeqWithPadding:\n",
    "    processor: Any\n",
    "    padding: Union[bool, str] = True\n",
    "    def __call__(self, features: List[Dict[str, Union[List[int], torch.Tensor]]]) -> Dict[str, torch.Tensor]:\n",
    "        # 입력 피처\n",
    "        input_features = [{\"input_features\": f[\"input_features\"]} for f in features]\n",
    "        batch = self.processor.feature_extractor.pad(input_features, return_tensors=\"pt\")\n",
    "\n",
    "        # 라벨 패딩 + -100 마스킹\n",
    "        label_features = [{\"input_ids\": f[\"labels\"]} for f in features]\n",
    "        labels_batch = self.processor.tokenizer.pad(label_features, return_tensors=\"pt\")\n",
    "        labels = labels_batch[\"input_ids\"].masked_fill(labels_batch.attention_mask.ne(1), -100)\n",
    "        batch[\"labels\"] = labels.contiguous()\n",
    "\n",
    "        # decoder_input_ids (right-shift with <|startoftranscript|>)\n",
    "        tok = self.processor.tokenizer\n",
    "        start_id = tok.convert_tokens_to_ids(\"<|startoftranscript|>\")\n",
    "        if start_id is None:\n",
    "            start_id = self.processor.get_decoder_prompt_ids(language=\"english\", task=\"transcribe\")[0][1]\n",
    "        pad_id = tok.pad_token_id\n",
    "\n",
    "        labels_clean = labels.clone()\n",
    "        labels_clean[labels_clean == -100] = pad_id\n",
    "\n",
    "        dec_inp = torch.full_like(labels_clean, fill_value=pad_id)\n",
    "        dec_inp[:, 0] = start_id\n",
    "        dec_inp[:, 1:] = labels_clean[:, :-1]\n",
    "\n",
    "        batch[\"decoder_input_ids\"] = dec_inp.contiguous()\n",
    "        batch[\"decoder_attention_mask\"] = (dec_inp != pad_id).long()\n",
    "        batch[\"input_features\"] = batch[\"input_features\"].contiguous()\n",
    "        return batch\n",
    "\n",
    "data_collator = DataCollatorSpeechSeq2SeqWithPadding(processor=processor)"
   ]
  },
  {
   "cell_type": "code",
   "execution_count": 7,
   "metadata": {
    "colab": {
     "base_uri": "https://localhost:8080/"
    },
    "id": "6DvuRE4k2HLG",
    "outputId": "4473c37b-7005-4494-a3b7-0704f542f145"
   },
   "outputs": [
    {
     "name": "stdout",
     "output_type": "stream",
     "text": [
      "Reading package lists... Done\n",
      "Building dependency tree... Done\n",
      "Reading state information... Done\n",
      "The following additional packages will be installed:\n",
      "  libao-common libao4 libid3tag0 libmad0 libopencore-amrnb0 libopencore-amrwb0\n",
      "  libsox-fmt-alsa libsox-fmt-ao libsox-fmt-base libsox-fmt-mp3 libsox-fmt-oss\n",
      "  libsox-fmt-pulse libsox3 libwavpack1\n",
      "Suggested packages:\n",
      "  libaudio2 libsndio6.1\n",
      "The following NEW packages will be installed:\n",
      "  libao-common libao4 libid3tag0 libmad0 libopencore-amrnb0 libopencore-amrwb0\n",
      "  libsox-dev libsox-fmt-all libsox-fmt-alsa libsox-fmt-ao libsox-fmt-base\n",
      "  libsox-fmt-mp3 libsox-fmt-oss libsox-fmt-pulse libsox3 libwavpack1 sox\n",
      "0 upgraded, 17 newly installed, 0 to remove and 35 not upgraded.\n",
      "Need to get 1,157 kB of archives.\n",
      "After this operation, 4,262 kB of additional disk space will be used.\n",
      "Get:1 http://archive.ubuntu.com/ubuntu jammy/main amd64 libao-common all 1.2.2+20180113-1.1ubuntu3 [6,568 B]\n",
      "Get:2 http://archive.ubuntu.com/ubuntu jammy/main amd64 libao4 amd64 1.2.2+20180113-1.1ubuntu3 [35.2 kB]\n",
      "Get:3 http://archive.ubuntu.com/ubuntu jammy/universe amd64 libid3tag0 amd64 0.15.1b-14 [31.3 kB]\n",
      "Get:4 http://archive.ubuntu.com/ubuntu jammy/universe amd64 libmad0 amd64 0.15.1b-10ubuntu1 [63.1 kB]\n",
      "Get:5 http://archive.ubuntu.com/ubuntu jammy/universe amd64 libopencore-amrnb0 amd64 0.1.5-1 [94.8 kB]\n",
      "Get:6 http://archive.ubuntu.com/ubuntu jammy/universe amd64 libopencore-amrwb0 amd64 0.1.5-1 [49.1 kB]\n",
      "Get:7 http://archive.ubuntu.com/ubuntu jammy-updates/universe amd64 libsox3 amd64 14.4.2+git20190427-2+deb11u2ubuntu0.22.04.1 [240 kB]\n",
      "Get:8 http://archive.ubuntu.com/ubuntu jammy-updates/universe amd64 libsox-fmt-alsa amd64 14.4.2+git20190427-2+deb11u2ubuntu0.22.04.1 [11.2 kB]\n",
      "Get:9 http://archive.ubuntu.com/ubuntu jammy-updates/universe amd64 libsox-fmt-ao amd64 14.4.2+git20190427-2+deb11u2ubuntu0.22.04.1 [7,740 B]\n",
      "Get:10 http://archive.ubuntu.com/ubuntu jammy/main amd64 libwavpack1 amd64 5.4.0-1build2 [83.7 kB]\n",
      "Get:11 http://archive.ubuntu.com/ubuntu jammy-updates/universe amd64 libsox-fmt-base amd64 14.4.2+git20190427-2+deb11u2ubuntu0.22.04.1 [33.7 kB]\n",
      "Get:12 http://archive.ubuntu.com/ubuntu jammy-updates/universe amd64 libsox-fmt-mp3 amd64 14.4.2+git20190427-2+deb11u2ubuntu0.22.04.1 [17.3 kB]\n",
      "Get:13 http://archive.ubuntu.com/ubuntu jammy-updates/universe amd64 libsox-fmt-oss amd64 14.4.2+git20190427-2+deb11u2ubuntu0.22.04.1 [9,424 B]\n",
      "Get:14 http://archive.ubuntu.com/ubuntu jammy-updates/universe amd64 libsox-fmt-pulse amd64 14.4.2+git20190427-2+deb11u2ubuntu0.22.04.1 [7,732 B]\n",
      "Get:15 http://archive.ubuntu.com/ubuntu jammy-updates/universe amd64 libsox-fmt-all amd64 14.4.2+git20190427-2+deb11u2ubuntu0.22.04.1 [5,016 B]\n",
      "Get:16 http://archive.ubuntu.com/ubuntu jammy-updates/universe amd64 libsox-dev amd64 14.4.2+git20190427-2+deb11u2ubuntu0.22.04.1 [356 kB]\n",
      "Get:17 http://archive.ubuntu.com/ubuntu jammy-updates/universe amd64 sox amd64 14.4.2+git20190427-2+deb11u2ubuntu0.22.04.1 [104 kB]\n",
      "Fetched 1,157 kB in 2s (738 kB/s)\n",
      "Selecting previously unselected package libao-common.\n",
      "(Reading database ... 126371 files and directories currently installed.)\n",
      "Preparing to unpack .../00-libao-common_1.2.2+20180113-1.1ubuntu3_all.deb ...\n",
      "Unpacking libao-common (1.2.2+20180113-1.1ubuntu3) ...\n",
      "Selecting previously unselected package libao4:amd64.\n",
      "Preparing to unpack .../01-libao4_1.2.2+20180113-1.1ubuntu3_amd64.deb ...\n",
      "Unpacking libao4:amd64 (1.2.2+20180113-1.1ubuntu3) ...\n",
      "Selecting previously unselected package libid3tag0:amd64.\n",
      "Preparing to unpack .../02-libid3tag0_0.15.1b-14_amd64.deb ...\n",
      "Unpacking libid3tag0:amd64 (0.15.1b-14) ...\n",
      "Selecting previously unselected package libmad0:amd64.\n",
      "Preparing to unpack .../03-libmad0_0.15.1b-10ubuntu1_amd64.deb ...\n",
      "Unpacking libmad0:amd64 (0.15.1b-10ubuntu1) ...\n",
      "Selecting previously unselected package libopencore-amrnb0:amd64.\n",
      "Preparing to unpack .../04-libopencore-amrnb0_0.1.5-1_amd64.deb ...\n",
      "Unpacking libopencore-amrnb0:amd64 (0.1.5-1) ...\n",
      "Selecting previously unselected package libopencore-amrwb0:amd64.\n",
      "Preparing to unpack .../05-libopencore-amrwb0_0.1.5-1_amd64.deb ...\n",
      "Unpacking libopencore-amrwb0:amd64 (0.1.5-1) ...\n",
      "Selecting previously unselected package libsox3:amd64.\n",
      "Preparing to unpack .../06-libsox3_14.4.2+git20190427-2+deb11u2ubuntu0.22.04.1_amd64.deb ...\n",
      "Unpacking libsox3:amd64 (14.4.2+git20190427-2+deb11u2ubuntu0.22.04.1) ...\n",
      "Selecting previously unselected package libsox-fmt-alsa:amd64.\n",
      "Preparing to unpack .../07-libsox-fmt-alsa_14.4.2+git20190427-2+deb11u2ubuntu0.22.04.1_amd64.deb ...\n",
      "Unpacking libsox-fmt-alsa:amd64 (14.4.2+git20190427-2+deb11u2ubuntu0.22.04.1) ...\n",
      "Selecting previously unselected package libsox-fmt-ao:amd64.\n",
      "Preparing to unpack .../08-libsox-fmt-ao_14.4.2+git20190427-2+deb11u2ubuntu0.22.04.1_amd64.deb ...\n",
      "Unpacking libsox-fmt-ao:amd64 (14.4.2+git20190427-2+deb11u2ubuntu0.22.04.1) ...\n",
      "Selecting previously unselected package libwavpack1:amd64.\n",
      "Preparing to unpack .../09-libwavpack1_5.4.0-1build2_amd64.deb ...\n",
      "Unpacking libwavpack1:amd64 (5.4.0-1build2) ...\n",
      "Selecting previously unselected package libsox-fmt-base:amd64.\n",
      "Preparing to unpack .../10-libsox-fmt-base_14.4.2+git20190427-2+deb11u2ubuntu0.22.04.1_amd64.deb ...\n",
      "Unpacking libsox-fmt-base:amd64 (14.4.2+git20190427-2+deb11u2ubuntu0.22.04.1) ...\n",
      "Selecting previously unselected package libsox-fmt-mp3:amd64.\n",
      "Preparing to unpack .../11-libsox-fmt-mp3_14.4.2+git20190427-2+deb11u2ubuntu0.22.04.1_amd64.deb ...\n",
      "Unpacking libsox-fmt-mp3:amd64 (14.4.2+git20190427-2+deb11u2ubuntu0.22.04.1) ...\n",
      "Selecting previously unselected package libsox-fmt-oss:amd64.\n",
      "Preparing to unpack .../12-libsox-fmt-oss_14.4.2+git20190427-2+deb11u2ubuntu0.22.04.1_amd64.deb ...\n",
      "Unpacking libsox-fmt-oss:amd64 (14.4.2+git20190427-2+deb11u2ubuntu0.22.04.1) ...\n",
      "Selecting previously unselected package libsox-fmt-pulse:amd64.\n",
      "Preparing to unpack .../13-libsox-fmt-pulse_14.4.2+git20190427-2+deb11u2ubuntu0.22.04.1_amd64.deb ...\n",
      "Unpacking libsox-fmt-pulse:amd64 (14.4.2+git20190427-2+deb11u2ubuntu0.22.04.1) ...\n",
      "Selecting previously unselected package libsox-fmt-all:amd64.\n",
      "Preparing to unpack .../14-libsox-fmt-all_14.4.2+git20190427-2+deb11u2ubuntu0.22.04.1_amd64.deb ...\n",
      "Unpacking libsox-fmt-all:amd64 (14.4.2+git20190427-2+deb11u2ubuntu0.22.04.1) ...\n",
      "Selecting previously unselected package libsox-dev:amd64.\n",
      "Preparing to unpack .../15-libsox-dev_14.4.2+git20190427-2+deb11u2ubuntu0.22.04.1_amd64.deb ...\n",
      "Unpacking libsox-dev:amd64 (14.4.2+git20190427-2+deb11u2ubuntu0.22.04.1) ...\n",
      "Selecting previously unselected package sox.\n",
      "Preparing to unpack .../16-sox_14.4.2+git20190427-2+deb11u2ubuntu0.22.04.1_amd64.deb ...\n",
      "Unpacking sox (14.4.2+git20190427-2+deb11u2ubuntu0.22.04.1) ...\n",
      "Setting up libsox3:amd64 (14.4.2+git20190427-2+deb11u2ubuntu0.22.04.1) ...\n",
      "Setting up libsox-fmt-oss:amd64 (14.4.2+git20190427-2+deb11u2ubuntu0.22.04.1) ...\n",
      "Setting up libao-common (1.2.2+20180113-1.1ubuntu3) ...\n",
      "Setting up libid3tag0:amd64 (0.15.1b-14) ...\n",
      "Setting up libopencore-amrwb0:amd64 (0.1.5-1) ...\n",
      "Setting up libsox-fmt-alsa:amd64 (14.4.2+git20190427-2+deb11u2ubuntu0.22.04.1) ...\n",
      "Setting up libao4:amd64 (1.2.2+20180113-1.1ubuntu3) ...\n",
      "Setting up libmad0:amd64 (0.15.1b-10ubuntu1) ...\n",
      "Setting up libwavpack1:amd64 (5.4.0-1build2) ...\n",
      "Setting up libopencore-amrnb0:amd64 (0.1.5-1) ...\n",
      "Setting up libsox-fmt-base:amd64 (14.4.2+git20190427-2+deb11u2ubuntu0.22.04.1) ...\n",
      "Setting up libsox-fmt-ao:amd64 (14.4.2+git20190427-2+deb11u2ubuntu0.22.04.1) ...\n",
      "Setting up libsox-fmt-mp3:amd64 (14.4.2+git20190427-2+deb11u2ubuntu0.22.04.1) ...\n",
      "Setting up libsox-fmt-pulse:amd64 (14.4.2+git20190427-2+deb11u2ubuntu0.22.04.1) ...\n",
      "Setting up sox (14.4.2+git20190427-2+deb11u2ubuntu0.22.04.1) ...\n",
      "Setting up libsox-fmt-all:amd64 (14.4.2+git20190427-2+deb11u2ubuntu0.22.04.1) ...\n",
      "Setting up libsox-dev:amd64 (14.4.2+git20190427-2+deb11u2ubuntu0.22.04.1) ...\n",
      "Processing triggers for libc-bin (2.35-0ubuntu3.8) ...\n",
      "/sbin/ldconfig.real: /usr/local/lib/libtbbbind_2_5.so.3 is not a symbolic link\n",
      "\n",
      "/sbin/ldconfig.real: /usr/local/lib/libtbbmalloc_proxy.so.2 is not a symbolic link\n",
      "\n",
      "/sbin/ldconfig.real: /usr/local/lib/libur_adapter_opencl.so.0 is not a symbolic link\n",
      "\n",
      "/sbin/ldconfig.real: /usr/local/lib/libtbbbind.so.3 is not a symbolic link\n",
      "\n",
      "/sbin/ldconfig.real: /usr/local/lib/libtbb.so.12 is not a symbolic link\n",
      "\n",
      "/sbin/ldconfig.real: /usr/local/lib/libumf.so.0 is not a symbolic link\n",
      "\n",
      "/sbin/ldconfig.real: /usr/local/lib/libtbbbind_2_0.so.3 is not a symbolic link\n",
      "\n",
      "/sbin/ldconfig.real: /usr/local/lib/libtcm.so.1 is not a symbolic link\n",
      "\n",
      "/sbin/ldconfig.real: /usr/local/lib/libur_adapter_level_zero_v2.so.0 is not a symbolic link\n",
      "\n",
      "/sbin/ldconfig.real: /usr/local/lib/libtbbmalloc.so.2 is not a symbolic link\n",
      "\n",
      "/sbin/ldconfig.real: /usr/local/lib/libhwloc.so.15 is not a symbolic link\n",
      "\n",
      "/sbin/ldconfig.real: /usr/local/lib/libtcm_debug.so.1 is not a symbolic link\n",
      "\n",
      "/sbin/ldconfig.real: /usr/local/lib/libur_adapter_level_zero.so.0 is not a symbolic link\n",
      "\n",
      "/sbin/ldconfig.real: /usr/local/lib/libur_loader.so.0 is not a symbolic link\n",
      "\n",
      "Processing triggers for man-db (2.10.2-1) ...\n",
      "Processing triggers for mailcap (3.70+nmu1ubuntu1) ...\n"
     ]
    }
   ],
   "source": [
    "!apt-get -y install sox libsox-dev libsox-fmt-all"
   ]
  },
  {
   "cell_type": "code",
   "execution_count": 8,
   "metadata": {
    "colab": {
     "base_uri": "https://localhost:8080/",
     "height": 449,
     "referenced_widgets": [
      "a556d27e9d924630b517f2c945c89666",
      "f583b9c0479e49b89f13daaaf7aa3b5d",
      "2b9718e3e4e14eaeb1beda051ee36c6f",
      "ab7b2c6d9b1e449e952124584885bacd",
      "1fdec68a3378446e999d7452c2548a3b",
      "53fa07c4f2c84e78bd6b5ff02496afaf",
      "d92ea29bf4044bb3b7d60a11391b1bb8",
      "e406cd82e351464ca5e1461495f6da59",
      "a9fe76f4be424da0892516ab50816347",
      "7d24e05d52ed4a9cba71aa7c3927a075",
      "28dfe13c8949416abefa72872b4195af",
      "7fd7008f806b43cb9b9a38cda486c2ab",
      "d1d32925e8de4b96ad5d9a92da74d53e",
      "08b2b62b5bab4330aa20a71bf186abf4",
      "9fab98fc9af3442390031047db2a2e2c",
      "d9a2f52efe7b47eea7e7ec83a9fd4ddb",
      "090a0e89f71d4b3480ce4ce4d1e0575c",
      "08a07368bc34476d88b0f56568602c60",
      "611037ee3dc64dc3931f33ba81cc1f34",
      "a21c763e5bbb4c73a4f6c3d6914a4dff",
      "9cb21b696be74fb1bafab0cf8e45c09d",
      "82e8cea7d9c044258f01f695e30b4f40",
      "aa15d73906d647f79b563300d8aee180",
      "64aafe5b355343b89275d38f485155d0",
      "96eb91d7ca4e4cc4987c4b4ef6ab86ba",
      "ba9e33c926cc4580847d662b3e467b33",
      "6749d68c61d34775b1a4696ccb7355c1",
      "b5e051b16bbe45c68723f39ba846d5fd",
      "860cd8f151d54593bc7c53dea7984daf",
      "00fd1a1cb8ac4ec8bc2980cd6cd6581c",
      "1461e6d2e2e548158a0d4606c165e952",
      "e04a32d864974994945b45658da81037",
      "8fef538ea47e468288d7bb32e11f04b8",
      "ccf9cf16b94943f8a5b0a942446e4b5c",
      "2da7b9bd23c5405ca83dee452aa5b421",
      "b31cd86c4edd423191f5d0bd36861894",
      "0b3d3d46780c496db36c2b05c9e312f5",
      "87c546b677ae41b082f3c8a8879540ea",
      "57be6355c6874111a8137ec1c041a59e",
      "39a237bbc3474948a1635553c03e41bc",
      "9a91ff3c6cce42b2ac116109a09568f1",
      "de7d336e1a1845f6bb79669284e4d622",
      "00ea9e12046e4f7d8b2daced43975fee",
      "cc96e218dc684c97a83edbf816bd56d1",
      "ad722962f41748aca456d6a607c9b53c",
      "6241299fe6fa4a668c6d84a749ddaf41",
      "1a78b0c987304b0488e2e32841cc3e54",
      "810776b708a3475d9ef48cba5c997715",
      "41e1ac7375b84c73b6d4ccd41a1b5ee4",
      "3567bb9553ae4865bf6a1d4622d22963",
      "677faa42095549d997a8681a9be35207",
      "ab74771b67a74fc7830fef6c4c0eb517",
      "cccc72b404de477aa98f685b7db6b809",
      "4818abae34e84c2998964540bdb70099",
      "3949bc3de46c4b4e83e23403b63e4d28",
      "b7a09e0e940a49cd99d53573c36ee88c",
      "31c26347ee3b4d66813f978e74039b6f",
      "467a2c8323b64b2f9d38a39a769ec72b",
      "d65677f67e67442096304a3b57475797",
      "60135f05aa6c48429a003f03b7299804",
      "dd203a7f6b724ab1829b3d53ef6c8044",
      "6048f26dbecd48a3b8af5e823e806759",
      "904b8609fc344913baa38d65eba6b078",
      "1f01d3502d164c8eb89ba58f9ba6c0e5",
      "a4f654077dd144e185ab94bd647f92c0",
      "106373268a89403aa0c883aeaece3d41",
      "88adad51ebf2431492b4f2fcf6500629",
      "e5aca4e1d4a44b479a63eaa08a0540e6",
      "57f0796a8aea4b738c3e193dbc4ec02d",
      "b094851fcd904cdc8bf53856d9609d83",
      "929f3eb02265412f9d1cdb7436fe13c3",
      "f2a66113f75e40718dd9d49bb3d30467",
      "b9c03f959f2243cb9a362b0f0102ff32",
      "719a3ff75c144c99836e6796ad233108",
      "b7ba067681d547d4996bcb71c20f7aa7",
      "66582ccd438349fe986110e20efc72f5",
      "c78c2257ca844382bf1daf28244a4d78",
      "7ecf71163a794dfe8965d9edc05781f2",
      "08bbfbe396e84722996f28d2e89bd1f5",
      "04cf6d7f0715479e8ff64c7799ff6681",
      "25a99a7ea7ca4b50b80198b9f60e9c07",
      "e36197ee611e4b67976b451b81c5fd89",
      "8cee913c4a6941bfaa6d6c3a8cc4f45f",
      "1e60fd72cfac4753954cb8482232c109",
      "54341c51ccc24786872ed99f856b132b",
      "6aecace1e8f94e669c083f9fcdcc1096",
      "fdd271e5183844e3908872acaea9ccc2",
      "67428565f56742768e0921efc2698495"
     ]
    },
    "id": "JcrI15Hr2Iat",
    "outputId": "20529c99-011e-4308-e203-98189aad62b2"
   },
   "outputs": [
    {
     "data": {
      "application/vnd.jupyter.widget-view+json": {
       "model_id": "a556d27e9d924630b517f2c945c89666",
       "version_major": 2,
       "version_minor": 0
      },
      "text/plain": [
       "Map:   0%|          | 0/800 [00:00<?, ? examples/s]"
      ]
     },
     "metadata": {},
     "output_type": "display_data"
    },
    {
     "name": "stderr",
     "output_type": "stream",
     "text": [
      "/tmp/ipython-input-3380328824.py:15: UserWarning: torchaudio.sox_effects.sox_effects.apply_effects_tensor has been deprecated. This deprecation is part of a large refactoring effort to transition TorchAudio into a maintenance phase. Please see https://github.com/pytorch/audio/issues/3902 for more information. It will be removed from the 2.9 release. \n",
      "  aug, sr_out = torchaudio.sox_effects.apply_effects_tensor(wav, sr, effects)\n"
     ]
    },
    {
     "data": {
      "application/vnd.jupyter.widget-view+json": {
       "model_id": "7fd7008f806b43cb9b9a38cda486c2ab",
       "version_major": 2,
       "version_minor": 0
      },
      "text/plain": [
       "Map:   0%|          | 0/800 [00:00<?, ? examples/s]"
      ]
     },
     "metadata": {},
     "output_type": "display_data"
    },
    {
     "data": {
      "application/vnd.jupyter.widget-view+json": {
       "model_id": "aa15d73906d647f79b563300d8aee180",
       "version_major": 2,
       "version_minor": 0
      },
      "text/plain": [
       "Map:   0%|          | 0/800 [00:00<?, ? examples/s]"
      ]
     },
     "metadata": {},
     "output_type": "display_data"
    },
    {
     "data": {
      "application/vnd.jupyter.widget-view+json": {
       "model_id": "ccf9cf16b94943f8a5b0a942446e4b5c",
       "version_major": 2,
       "version_minor": 0
      },
      "text/plain": [
       "Map:   0%|          | 0/800 [00:00<?, ? examples/s]"
      ]
     },
     "metadata": {},
     "output_type": "display_data"
    },
    {
     "data": {
      "application/vnd.jupyter.widget-view+json": {
       "model_id": "ad722962f41748aca456d6a607c9b53c",
       "version_major": 2,
       "version_minor": 0
      },
      "text/plain": [
       "Map:   0%|          | 0/800 [00:00<?, ? examples/s]"
      ]
     },
     "metadata": {},
     "output_type": "display_data"
    },
    {
     "data": {
      "application/vnd.jupyter.widget-view+json": {
       "model_id": "b7a09e0e940a49cd99d53573c36ee88c",
       "version_major": 2,
       "version_minor": 0
      },
      "text/plain": [
       "Map:   0%|          | 0/800 [00:00<?, ? examples/s]"
      ]
     },
     "metadata": {},
     "output_type": "display_data"
    },
    {
     "data": {
      "application/vnd.jupyter.widget-view+json": {
       "model_id": "88adad51ebf2431492b4f2fcf6500629",
       "version_major": 2,
       "version_minor": 0
      },
      "text/plain": [
       "Map:   0%|          | 0/800 [00:00<?, ? examples/s]"
      ]
     },
     "metadata": {},
     "output_type": "display_data"
    },
    {
     "data": {
      "application/vnd.jupyter.widget-view+json": {
       "model_id": "7ecf71163a794dfe8965d9edc05781f2",
       "version_major": 2,
       "version_minor": 0
      },
      "text/plain": [
       "Map:   0%|          | 0/800 [00:00<?, ? examples/s]"
      ]
     },
     "metadata": {},
     "output_type": "display_data"
    },
    {
     "name": "stdout",
     "output_type": "stream",
     "text": [
      "=== Mix summary ===\n",
      "Train(orig): 800\n",
      "Train(0.7 sel): 800\n",
      "Train(0.9 sel): 800\n",
      "Train(1.1 sel): 800\n",
      "Train(1.3 sel): 800\n",
      "→ Mixed: 4000\n"
     ]
    }
   ],
   "source": [
    "import numpy as np, torchaudio\n",
    "\n",
    "def _to_tensor_1ch(x_np):\n",
    "    x = torch.tensor(np.asarray(x_np, dtype=np.float32))\n",
    "    if x.dim() == 1:\n",
    "        x = x.unsqueeze(0)\n",
    "    return x\n",
    "\n",
    "def speed_perturb_np(wav_np, sr, rate: float):\n",
    "    if rate == 1.0:\n",
    "        return wav_np, sr\n",
    "    try:\n",
    "        wav = _to_tensor_1ch(wav_np)\n",
    "        effects = [[\"tempo\", str(rate)]]  # 피치 보존\n",
    "        aug, sr_out = torchaudio.sox_effects.apply_effects_tensor(wav, sr, effects)\n",
    "        return aug.squeeze(0).numpy(), sr_out\n",
    "    except Exception as e:\n",
    "        print(\"[WARN][sox] tempo failed -> fallback(no-aug):\", e)\n",
    "        return wav_np, sr\n",
    "\n",
    "train_raw_16k = train_dataset.cast_column(\"audio\", Audio(sampling_rate=TARGET_SR))\n",
    "\n",
    "def augment_copy(ds_raw, rate: float):\n",
    "    def _aug(b):\n",
    "        a = b[\"audio\"]\n",
    "        aug_np, sr_out = speed_perturb_np(a[\"array\"], a[\"sampling_rate\"], rate)\n",
    "        b = dict(b)\n",
    "        b[\"audio\"] = {\"array\": aug_np, \"path\": None, \"sampling_rate\": sr_out}\n",
    "        return b\n",
    "    ds_aug = ds_raw.map(_aug)\n",
    "    ds_proc = ds_aug.map(\n",
    "        prepare_dataset,\n",
    "        remove_columns=[c for c in ds_aug.column_names if c not in {\"input_features\",\"labels\",\"locale\"}]\n",
    "    )\n",
    "    ds_proc.set_format(columns=[\"input_features\",\"labels\",\"locale\"])\n",
    "    return ds_proc\n",
    "\n",
    "# === 원본 + 4가지 배속(0.7, 0.9, 1.1, 1.3) 증강을 1:1로 섞기 ===\n",
    "AUG_RATES = [0.7, 0.9, 1.1, 1.3]\n",
    "\n",
    "mix_parts = [proc_train_orig]\n",
    "size_per_rate = {}\n",
    "\n",
    "k = len(proc_train_orig)\n",
    "for r in AUG_RATES:\n",
    "    ds_aug = augment_copy(train_raw_16k, r)            # 배속 r로 증강\n",
    "    m = min(len(ds_aug), k)                            # 원본과 1:1\n",
    "    ds_sel = ds_aug.shuffle(seed=SEED).select(range(m))\n",
    "    mix_parts.append(ds_sel)\n",
    "    size_per_rate[r] = len(ds_sel)\n",
    "\n",
    "proc_train_mix = concatenate_datasets(mix_parts).shuffle(seed=SEED)\n",
    "\n",
    "print(\"=== Mix summary ===\")\n",
    "print(\"Train(orig):\", k)\n",
    "for r in AUG_RATES:\n",
    "    print(f\"Train({r} sel):\", size_per_rate[r])\n",
    "print(\"→ Mixed:\", len(proc_train_mix))"
   ]
  },
  {
   "cell_type": "code",
   "execution_count": 9,
   "metadata": {
    "colab": {
     "base_uri": "https://localhost:8080/",
     "height": 446
    },
    "id": "4Yz2-8zt2MpR",
    "outputId": "e3db249a-d5f8-4f57-998f-bae54eee0b38"
   },
   "outputs": [
    {
     "name": "stderr",
     "output_type": "stream",
     "text": [
      "/usr/local/lib/python3.12/dist-packages/transformers/training_args.py:1525: FutureWarning: `evaluation_strategy` is deprecated and will be removed in version 4.46 of 🤗 Transformers. Use `eval_strategy` instead\n",
      "  warnings.warn(\n"
     ]
    },
    {
     "name": "stdout",
     "output_type": "stream",
     "text": [
      "[sanity] before train: 0\n"
     ]
    },
    {
     "data": {
      "text/html": [
       "\n",
       "    <div>\n",
       "      \n",
       "      <progress value='2000' max='4000' style='width:300px; height:20px; vertical-align: middle;'></progress>\n",
       "      [2000/4000 1:04:03 < 1:04:07, 0.52 it/s, Epoch 4/8]\n",
       "    </div>\n",
       "    <table border=\"1\" class=\"dataframe\">\n",
       "  <thead>\n",
       " <tr style=\"text-align: left;\">\n",
       "      <th>Epoch</th>\n",
       "      <th>Training Loss</th>\n",
       "      <th>Validation Loss</th>\n",
       "    </tr>\n",
       "  </thead>\n",
       "  <tbody>\n",
       "    <tr>\n",
       "      <td>1</td>\n",
       "      <td>3.131300</td>\n",
       "      <td>6.093287</td>\n",
       "    </tr>\n",
       "    <tr>\n",
       "      <td>2</td>\n",
       "      <td>1.625000</td>\n",
       "      <td>2.301530</td>\n",
       "    </tr>\n",
       "    <tr>\n",
       "      <td>3</td>\n",
       "      <td>1.486500</td>\n",
       "      <td>2.513490</td>\n",
       "    </tr>\n",
       "    <tr>\n",
       "      <td>4</td>\n",
       "      <td>1.459900</td>\n",
       "      <td>2.721513</td>\n",
       "    </tr>\n",
       "  </tbody>\n",
       "</table><p>"
      ],
      "text/plain": [
       "<IPython.core.display.HTML object>"
      ]
     },
     "metadata": {},
     "output_type": "display_data"
    },
    {
     "name": "stderr",
     "output_type": "stream",
     "text": [
      "Some non-default generation parameters are set in the model config. These should go into a GenerationConfig file (https://huggingface.co/docs/transformers/generation_strategies#save-a-custom-decoding-strategy-with-your-model) instead. This warning will be raised to an exception in v4.41.\n",
      "Non-default generation parameters: {'max_length': 448, 'suppress_tokens': [], 'begin_suppress_tokens': [220, 50257]}\n",
      "Some non-default generation parameters are set in the model config. These should go into a GenerationConfig file (https://huggingface.co/docs/transformers/generation_strategies#save-a-custom-decoding-strategy-with-your-model) instead. This warning will be raised to an exception in v4.41.\n",
      "Non-default generation parameters: {'max_length': 448, 'suppress_tokens': [], 'begin_suppress_tokens': [220, 50257]}\n",
      "Some non-default generation parameters are set in the model config. These should go into a GenerationConfig file (https://huggingface.co/docs/transformers/generation_strategies#save-a-custom-decoding-strategy-with-your-model) instead. This warning will be raised to an exception in v4.41.\n",
      "Non-default generation parameters: {'max_length': 448, 'suppress_tokens': [], 'begin_suppress_tokens': [220, 50257]}\n",
      "Some non-default generation parameters are set in the model config. These should go into a GenerationConfig file (https://huggingface.co/docs/transformers/generation_strategies#save-a-custom-decoding-strategy-with-your-model) instead. This warning will be raised to an exception in v4.41.\n",
      "Non-default generation parameters: {'max_length': 448, 'suppress_tokens': [], 'begin_suppress_tokens': [220, 50257]}\n",
      "There were missing keys in the checkpoint model loaded: ['proj_out.weight'].\n"
     ]
    },
    {
     "name": "stdout",
     "output_type": "stream",
     "text": [
      "[sanity] after  train: 2000\n"
     ]
    }
   ],
   "source": [
    "# 7) Trainer 설정\n",
    "args = Seq2SeqTrainingArguments(\n",
    "    output_dir=\"./whisper-small-mix_all\",\n",
    "    per_device_train_batch_size=4,\n",
    "    gradient_accumulation_steps=2,\n",
    "    learning_rate=2e-5,\n",
    "    num_train_epochs=8,\n",
    "    weight_decay=0.01,\n",
    "    label_smoothing_factor=0.1,\n",
    "    warmup_ratio=0.1,\n",
    "    lr_scheduler_type=\"linear\",\n",
    "    max_grad_norm=1.0,\n",
    "    fp16=torch.cuda.is_available(),\n",
    "    report_to=\"none\",\n",
    "\n",
    "    predict_with_generate=True,      # eval/predict 시 generate 사용\n",
    "    generation_max_length=225,\n",
    "\n",
    "    evaluation_strategy=\"epoch\",\n",
    "    save_strategy=\"epoch\",\n",
    "    load_best_model_at_end=True,\n",
    "    metric_for_best_model=\"eval_loss\",\n",
    "    greater_is_better=False,\n",
    "\n",
    "    remove_unused_columns=False,\n",
    ")\n",
    "\n",
    "trainer_mixall = Seq2SeqTrainer(\n",
    "    model=model,\n",
    "    args=args,\n",
    "    train_dataset=proc_train_mix,\n",
    "    eval_dataset=proc_val_orig,\n",
    "    tokenizer=processor.tokenizer,   # 중요!\n",
    "    data_collator=data_collator,\n",
    "    callbacks=[EarlyStoppingCallback(early_stopping_patience=2)],\n",
    ")\n",
    "\n",
    "print(\"[sanity] before train:\", trainer_mixall.state.global_step)\n",
    "trainer_mixall.train()\n",
    "print(\"[sanity] after  train:\", trainer_mixall.state.global_step)"
   ]
  },
  {
   "cell_type": "code",
   "execution_count": 10,
   "metadata": {
    "colab": {
     "base_uri": "https://localhost:8080/",
     "height": 1000,
     "referenced_widgets": [
      "7387b9404b5c4377be88f3c0d6b1a14f",
      "5259829c83de406bad4ea5f710c4359b",
      "3dfb6152ae9648cbadfa79585984c617",
      "6556f4277e5244aa840168ffe5b68998",
      "d1a337d53cf144899b959309ae9e7c5f",
      "35bb2482f8fb4541b65067f882a99bbe",
      "6bf632d427ce4064adc7af3a2bc5936b",
      "d7eef21947b54e6d9b3d51c18cadd48a",
      "f467bab704eb4b35af89cf2a8758aadf",
      "a71c61af8cd44d34aed1bf2319a94473",
      "0f09043dbfea4b1b8c72bd58d38d1669",
      "7725067c60ad44a49a84ed84339e80e3",
      "7d29d079ceb848feb9b0ed49475ffd65",
      "9f04be886592415c935f319290bbbe8c",
      "5d298c902ceb44d1a75cf1dded553cd6",
      "277cd8ae8d8544d690d8c777bf145005",
      "8ffac60693e340f5a10e9d8d1e289ab9",
      "a10b0f5795c8411b8f89e5ec9c1ada3f",
      "9b6b0d562e364306a98ef5e763cb3da5",
      "6cfd5b64c0394d08807b73eb4aeb6f5b",
      "a10af580487642b3a55aa0706a0bb327",
      "1720ab6ae4e64998859011bc035d4931",
      "f5f65c899dca4adaaaac2ce8b70518ad",
      "a103a8ec769d4ce2a0ae1285480958a2",
      "9b12f3d543c04b9aab29f8ca95a740df",
      "2903fab7bc134e678d2a2314587ccbe2",
      "475bc2174afe4683aac092261e48b9e6",
      "7f1a9cc545584dc4beb79d7d199c2e0a",
      "f6124a8be9f949ec9ff58fdd1e143422",
      "d430dfc4213141aa944288f474d0b886",
      "e6f7dc8ecb4d4a3ca94087c6382fd6fa",
      "a88e5cc7677b4bcc9b43850652697e7b",
      "15fb45faa2e84e0eb02615f4ab76909c",
      "85f3ba97ad8246f59d2177217e1341a4",
      "c10a01d64c534f6babf1a9585c16aa90",
      "7cdcb2708503482d92e219eaca7ce388",
      "9262964a957242b2b76099676e9d2535",
      "3c3c8f8648764880bd8610bbbb66fb9d",
      "d0accf8cb71d4ae891e197917efd87e4",
      "8e88c7f3e07b449e964ffe89858986ad",
      "4fe9f508c137470c9fe7ced345cd73c4",
      "cff6e258801f4a92b0a57cb1c9077676",
      "90a97c7b33ff4234a1e941d5acc75226",
      "985c494f44294fef923431a82125ec60",
      "a2f0782e029b48bdbfd03cd1cf38b98e",
      "c6eab2f00280428590e39ad1f1e01003",
      "49063f53e1e74d0484d844f39ea770ba",
      "73e90f1b88f54d4495a5d4767c87dff0",
      "3d31a7d366614afc9f97535a784064b1",
      "7a0e62aae36649da95cd792fab23c808",
      "5c6c9ce9cc7c4bf9984c633d4a77e9aa",
      "bc8a64b2c72c4fe38e52e4e3c95c487d",
      "d5f8e0516b7848e3af91486df1c83d8b",
      "602d085caaf04bf092a7602a19e66615",
      "790f77eca4ff4f8bb563c37e3b5e6f63",
      "7ef098fc06ab4d8a8a11570f8d682730",
      "558a5e48b9d14145bc07ad2cf251b95b",
      "d87e925007c6486e8081e7948e591960",
      "5486c59f7342421996e97a2b57c8fa0c",
      "99545aeb94694543b190e115ef3daf9a",
      "ec6eefc5493948698fe11de64b1b701e",
      "ab226945bc8e4d99bc0adc1c9e53fea0",
      "30df79b918374e53a0e94a788b745706",
      "d82b027e205440a79f5a426594278043",
      "cbc5ce8d785241f58383424ee178245a",
      "ee9301843a0f47c19023edd9e0c409c9"
     ]
    },
    "id": "cabUFUzJ2d-s",
    "outputId": "16a175b3-45f9-401c-84d6-939e13968dd2"
   },
   "outputs": [
    {
     "data": {
      "application/vnd.jupyter.widget-view+json": {
       "model_id": "7387b9404b5c4377be88f3c0d6b1a14f",
       "version_major": 2,
       "version_minor": 0
      },
      "text/plain": [
       "Downloading builder script: 0.00B [00:00, ?B/s]"
      ]
     },
     "metadata": {},
     "output_type": "display_data"
    },
    {
     "data": {
      "application/vnd.jupyter.widget-view+json": {
       "model_id": "7725067c60ad44a49a84ed84339e80e3",
       "version_major": 2,
       "version_minor": 0
      },
      "text/plain": [
       "Downloading builder script: 0.00B [00:00, ?B/s]"
      ]
     },
     "metadata": {},
     "output_type": "display_data"
    },
    {
     "name": "stdout",
     "output_type": "stream",
     "text": [
      "[CHECK] Evaluating on TEST set: size=400 (val=400)\n"
     ]
    },
    {
     "data": {
      "application/vnd.jupyter.widget-view+json": {
       "model_id": "f5f65c899dca4adaaaac2ce8b70518ad",
       "version_major": 2,
       "version_minor": 0
      },
      "text/plain": [
       "Filter:   0%|          | 0/400 [00:00<?, ? examples/s]"
      ]
     },
     "metadata": {},
     "output_type": "display_data"
    },
    {
     "name": "stderr",
     "output_type": "stream",
     "text": [
      "The attention mask is not set and cannot be inferred from input because pad token is same as eos token. As a consequence, you may observe unexpected behavior. Please pass your input's `attention_mask` to obtain reliable results.\n"
     ]
    },
    {
     "data": {
      "text/html": [],
      "text/plain": [
       "<IPython.core.display.HTML object>"
      ]
     },
     "metadata": {},
     "output_type": "display_data"
    },
    {
     "name": "stdout",
     "output_type": "stream",
     "text": [
      "\n",
      "[test_orig] KO samples (k=10)\n",
      "#00 PRED: 그러나 실제로 뽑은 숫자는 지난 주에 비치지 못한 것으로 나타났다.\n",
      "     REF : 그러나 실제로 뽑은 숫자는 지난 주에 미치지 못한 것으로 나타났다.\n",
      "---\n",
      "#01 PRED: 신압대는 이렇게 말하며 유서방을 견론질 해 보았다.\n",
      "     REF : 싱앗대는 이렇게 말하며 유서방을 곁눈질해 보았다.\n",
      "---\n",
      "#02 PRED: 신철이는 어차 보면 감정을 가진 사람같이 안아보었다.\n",
      "     REF : 신철이는 어찌 보면 감정을 가진 사람 같지 않아 보였다.\n",
      "---\n",
      "#03 PRED: 내다보니까 언덕어려웠던 집에 불이 붙으며 사람들이 왔다갔다 야단이었습니다.\n",
      "     REF : 내다보니까 언덕 아래 어떤 집에 불이 붙으며 사람들이 왔다갔다 야단이었습니다.\n",
      "---\n",
      "#04 PRED: 인력화가 안 무거워지네 그의 몸은 이상하게도 가벼워졌고\n",
      "     REF : 인력거가 무거워지매 그의 몸은 이상하게도 가벼워졌고\n",
      "---\n",
      "#05 PRED: 마스크 잘 쓰고 다리고 길쥐하면서 다녀와\n",
      "     REF : 마스크 잘 쓰고 다니고, 길 조심해서 다녀와.\n",
      "---\n",
      "#06 PRED: 나를 나와준 고향과 감소 더 잠이 들었 보였.\n",
      "     REF : 나를 낳어 준 고향버덤두 더 정이 들었고요.\n",
      "---\n",
      "#07 PRED: 선비는 생각지 않은 이 말에 앞이 아득해지며 방안이 팅팅 돌았다.\n",
      "     REF : 선비는 생각지 않은 이 말에 앞이 아뜩해지며 방 안이 핑핑 돌았다.\n",
      "---\n",
      "#08 PRED: 벽을 새로 감독과 그가 맞은 온 것이 직각되자 불쾌하였다.\n",
      "     REF : 벽을 새로 감독과 그가 마주 누운 것이 직각 되자 불쾌하였다.\n",
      "---\n",
      "#09 PRED: 내가 너는 옥점인 연과 조금도 달리 생각지 않는다.\n",
      "     REF : 내가 너는 옥점이년과 조금도 달리 생각지 않는다.\n",
      "---\n"
     ]
    },
    {
     "data": {
      "application/vnd.jupyter.widget-view+json": {
       "model_id": "85f3ba97ad8246f59d2177217e1341a4",
       "version_major": 2,
       "version_minor": 0
      },
      "text/plain": [
       "Filter:   0%|          | 0/400 [00:00<?, ? examples/s]"
      ]
     },
     "metadata": {},
     "output_type": "display_data"
    },
    {
     "data": {
      "text/html": [],
      "text/plain": [
       "<IPython.core.display.HTML object>"
      ]
     },
     "metadata": {},
     "output_type": "display_data"
    },
    {
     "name": "stdout",
     "output_type": "stream",
     "text": [
      "\n",
      "[test_orig] JA samples (k=10)\n",
      "#00 PRED: 福島県広野町\n",
      "     REF : 福島県広野町\n",
      "---\n",
      "#01 PRED: だがことわる\n",
      "     REF : だが断る\n",
      "---\n",
      "#02 PRED: そしていくら見舞いとしても、君が悪ければ悪いほど書いてその鍵をじっと見つめないではいられませんでした。\n",
      "     REF : そして、いくら見まいとしても、きみが悪ければ悪いほど、かえってその影を、じっと見つめないではいられませんでした。\n",
      "---\n",
      "#03 PRED: ニーナザク選手の周到はハノファーである\n",
      "     REF : ニーダーザクセン州の州都はハノーファーである\n",
      "---\n",
      "#04 PRED: そこで自分で出かけていって、調べ始めました。彼はさんざん探し回りました。\n",
      "     REF : そこで自分で出かけて行って、調べはじめました。かれはさんざんさがしまわりました。\n",
      "---\n",
      "#05 PRED: ok\n",
      "     REF : 「おやおや、汚いやつめまた出て来やがったな。」とイワンは言いました。\n",
      "---\n",
      "#06 PRED: そこから見ていると、その男はだんだんの上に立ち上がって、右階の旁のほうをふりむいて、何かを覚えで叫びました。\n",
      "     REF : そこから見ていると、その男は段々の上に立ち上って、右隣りの畑の方を振り向いて、何か大声で叫びました。\n",
      "---\n",
      "#07 PRED: 今日の天気は晴れ\n",
      "     REF : 今日の天気は晴れ\n",
      "---\n",
      "#08 PRED: さいこ\n",
      "     REF : さあ、行こう。\n",
      "---\n",
      "#09 PRED: 航定は否定によって売会されたものでなければならない。\n",
      "     REF : その肯定は否定によって媒介されたものでなければならぬ。\n",
      "---\n"
     ]
    },
    {
     "data": {
      "application/vnd.jupyter.widget-view+json": {
       "model_id": "a2f0782e029b48bdbfd03cd1cf38b98e",
       "version_major": 2,
       "version_minor": 0
      },
      "text/plain": [
       "Filter:   0%|          | 0/400 [00:00<?, ? examples/s]"
      ]
     },
     "metadata": {},
     "output_type": "display_data"
    },
    {
     "data": {
      "text/html": [],
      "text/plain": [
       "<IPython.core.display.HTML object>"
      ]
     },
     "metadata": {},
     "output_type": "display_data"
    },
    {
     "name": "stdout",
     "output_type": "stream",
     "text": [
      "\n",
      "[test_orig] EN samples (k=10)\n",
      "#00 PRED: Hello, this is one of the most popular debate events of the class of the class of the class of the class of the class of the class of the class of the class of the class of the class of the class of the class of the class of the class of the class of the class of the class of the class of the class of the class of the class of the class of the class of the class of the class of the class of the class of the class of the class of the class of the class of the class of the class of the class of the class of the class of the class of the class of the class of the class of the class of the class of the class of the class of the class of the class of the class of the class of the class of the class of the class of the class of the class of the class of the class of the class of the class of the class of the class of the class of the class of the class of the class of the class of the class of the class of the class of the class of the class of the class\n",
      "     REF : Enoxaparin belongs to the class of drugs known as low molecular weight heparins.\n",
      "---\n",
      "#01 PRED: eight\n",
      "     REF : eight\n",
      "---\n",
      "#02 PRED: Do you read it?\n",
      "     REF : Do you mean it?\n",
      "---\n",
      "#03 PRED: You shall see the other guide, specifically how good at fighting he is.\n",
      "     REF : You should see the other guy, specifically, how good at fighting he is.\n",
      "---\n",
      "#04 PRED: Karina Spirnoff of Dancing with the Stars was done the following month.\n",
      "     REF : Karina Smirnoff of \"Dancing With The Stars\" hosted the following month.\n",
      "---\n",
      "#05 PRED: The nearest railway station is at Rombford.\n",
      "     REF : The nearest railway station is at Romford.\n",
      "---\n",
      "#06 PRED: He ended up running to the bars, which fortified the windows of the first floor.\n",
      "     REF : He ended up running to the bars which fortified the windows of the first floor.\n",
      "---\n",
      "#07 PRED: The friends are then delivered to the costum.\n",
      "     REF : The prints are then delivered to the customer.\n",
      "---\n",
      "#08 PRED: Jails began playing Gasped on Pat, but eventually achieved to blues guitar.\n",
      "     REF : Geils began playing jazz trumpet but eventually switched to blues guitar.\n",
      "---\n",
      "#09 PRED: Doing a handstand needs a lot of practice to learn.\n",
      "     REF : Doing a handstand needs a lot of practice to learn.\n",
      "---\n"
     ]
    },
    {
     "data": {
      "application/vnd.jupyter.widget-view+json": {
       "model_id": "7ef098fc06ab4d8a8a11570f8d682730",
       "version_major": 2,
       "version_minor": 0
      },
      "text/plain": [
       "Filter:   0%|          | 0/400 [00:00<?, ? examples/s]"
      ]
     },
     "metadata": {},
     "output_type": "display_data"
    },
    {
     "data": {
      "text/html": [],
      "text/plain": [
       "<IPython.core.display.HTML object>"
      ]
     },
     "metadata": {},
     "output_type": "display_data"
    },
    {
     "name": "stdout",
     "output_type": "stream",
     "text": [
      "\n",
      "[test_orig] DE samples (k=10)\n",
      "#00 PRED: Wenn nicht, dann lässt man sie ja genau hinter dem Platz.\n",
      "     REF : Wenn nicht, dann legt man sie irgendwo hin, wo Platz ist.\n",
      "---\n",
      "#01 PRED: Wie ist die derzeitige Verkehrssituation?\n",
      "     REF : Wie ist die derzeitige Verkehrssituation?\n",
      "---\n",
      "#02 PRED: Aus dem Prozessamen der Hexe verfolgen wird ein kmaler Tentisch an den Tippen bekannt.\n",
      "     REF : Aus den Prozessakten der Hexenverfolgung sind keine authentischen Rezepte bekannt.\n",
      "---\n",
      "#03 PRED: Er errang den ersten Platz in seiner Hupraumklasse.\n",
      "     REF : Er errang den ersten Platz in seiner Hubraumklasse.\n",
      "---\n",
      "#04 PRED: Achtung schrekt.\n",
      "     REF : Ach du Schreck!\n",
      "---\n",
      "#05 PRED: Aubschließend möchte ich Ihnen gerne etwas sehr wichtiges mitteilen.\n",
      "     REF : Abschließend möchte ich Ihnen gerne etwas sehr Wichtiges mitteilen.\n",
      "---\n",
      "#06 PRED: Die sofortestrechen erschienen mit Modemagazinen wie der Waukart das Basar und die Klär.\n",
      "     REF : Ihre Fotostrecken erschienen in Modemagazinen wie der Vogue, Harper’s Bazaar und Marie Claire.\n",
      "---\n",
      "#07 PRED: Sie wurden im Towerflottengefangen gesetzt.\n",
      "     REF : Sowohl Thomas Howard als auch Margaret Douglas wurden im Tower of London gefangen gesetzt.\n",
      "---\n",
      "#08 PRED: Eislöcher sind viel leckerer als Eistöten.\n",
      "     REF : Eislutscher sind viel leckerer als Eistüten.\n",
      "---\n",
      "#09 PRED: Sie gewannen das Match mit sechs Löchern Vorschprung.\n",
      "     REF : Sie gewannen das Match mit sechs Löchern Vorsprung.\n",
      "---\n"
     ]
    },
    {
     "data": {
      "application/vnd.google.colaboratory.intrinsic+json": {
       "summary": "{\n  \"name\": \"df_orig\",\n  \"rows\": 4,\n  \"fields\": [\n    {\n      \"column\": \"set\",\n      \"properties\": {\n        \"dtype\": \"category\",\n        \"num_unique_values\": 1,\n        \"samples\": [\n          \"test_orig\"\n        ],\n        \"semantic_type\": \"\",\n        \"description\": \"\"\n      }\n    },\n    {\n      \"column\": \"lang\",\n      \"properties\": {\n        \"dtype\": \"string\",\n        \"num_unique_values\": 4,\n        \"samples\": [\n          \"en\"\n        ],\n        \"semantic_type\": \"\",\n        \"description\": \"\"\n      }\n    },\n    {\n      \"column\": \"WER\",\n      \"properties\": {\n        \"dtype\": \"number\",\n        \"std\": 0.20610784291736964,\n        \"min\": 0.4064362336114422,\n        \"max\": 0.8558558558558559,\n        \"num_unique_values\": 4,\n        \"samples\": [\n          0.506145251396648\n        ],\n        \"semantic_type\": \"\",\n        \"description\": \"\"\n      }\n    },\n    {\n      \"column\": \"CER\",\n      \"properties\": {\n        \"dtype\": \"number\",\n        \"std\": 0.12845709546268652,\n        \"min\": 0.15529247910863508,\n        \"max\": 0.43398058252427185,\n        \"num_unique_values\": 4,\n        \"samples\": [\n          0.30783096334868815\n        ],\n        \"semantic_type\": \"\",\n        \"description\": \"\"\n      }\n    },\n    {\n      \"column\": \"N\",\n      \"properties\": {\n        \"dtype\": \"number\",\n        \"std\": 0,\n        \"min\": 100,\n        \"max\": 100,\n        \"num_unique_values\": 1,\n        \"samples\": [\n          100\n        ],\n        \"semantic_type\": \"\",\n        \"description\": \"\"\n      }\n    }\n  ]\n}",
       "type": "dataframe",
       "variable_name": "df_orig"
      },
      "text/html": [
       "\n",
       "  <div id=\"df-0555eb7a-cb8a-496b-afc9-acda77e5bcae\" class=\"colab-df-container\">\n",
       "    <div>\n",
       "<style scoped>\n",
       "    .dataframe tbody tr th:only-of-type {\n",
       "        vertical-align: middle;\n",
       "    }\n",
       "\n",
       "    .dataframe tbody tr th {\n",
       "        vertical-align: top;\n",
       "    }\n",
       "\n",
       "    .dataframe thead th {\n",
       "        text-align: right;\n",
       "    }\n",
       "</style>\n",
       "<table border=\"1\" class=\"dataframe\">\n",
       "  <thead>\n",
       "    <tr style=\"text-align: right;\">\n",
       "      <th></th>\n",
       "      <th>set</th>\n",
       "      <th>lang</th>\n",
       "      <th>WER</th>\n",
       "      <th>CER</th>\n",
       "      <th>N</th>\n",
       "    </tr>\n",
       "  </thead>\n",
       "  <tbody>\n",
       "    <tr>\n",
       "      <th>3</th>\n",
       "      <td>test_orig</td>\n",
       "      <td>de</td>\n",
       "      <td>0.406436</td>\n",
       "      <td>0.155292</td>\n",
       "      <td>100</td>\n",
       "    </tr>\n",
       "    <tr>\n",
       "      <th>2</th>\n",
       "      <td>test_orig</td>\n",
       "      <td>en</td>\n",
       "      <td>0.506145</td>\n",
       "      <td>0.307831</td>\n",
       "      <td>100</td>\n",
       "    </tr>\n",
       "    <tr>\n",
       "      <th>1</th>\n",
       "      <td>test_orig</td>\n",
       "      <td>ja</td>\n",
       "      <td>0.855856</td>\n",
       "      <td>0.433981</td>\n",
       "      <td>100</td>\n",
       "    </tr>\n",
       "    <tr>\n",
       "      <th>0</th>\n",
       "      <td>test_orig</td>\n",
       "      <td>ko</td>\n",
       "      <td>0.443258</td>\n",
       "      <td>0.180409</td>\n",
       "      <td>100</td>\n",
       "    </tr>\n",
       "  </tbody>\n",
       "</table>\n",
       "</div>\n",
       "    <div class=\"colab-df-buttons\">\n",
       "\n",
       "  <div class=\"colab-df-container\">\n",
       "    <button class=\"colab-df-convert\" onclick=\"convertToInteractive('df-0555eb7a-cb8a-496b-afc9-acda77e5bcae')\"\n",
       "            title=\"Convert this dataframe to an interactive table.\"\n",
       "            style=\"display:none;\">\n",
       "\n",
       "  <svg xmlns=\"http://www.w3.org/2000/svg\" height=\"24px\" viewBox=\"0 -960 960 960\">\n",
       "    <path d=\"M120-120v-720h720v720H120Zm60-500h600v-160H180v160Zm220 220h160v-160H400v160Zm0 220h160v-160H400v160ZM180-400h160v-160H180v160Zm440 0h160v-160H620v160ZM180-180h160v-160H180v160Zm440 0h160v-160H620v160Z\"/>\n",
       "  </svg>\n",
       "    </button>\n",
       "\n",
       "  <style>\n",
       "    .colab-df-container {\n",
       "      display:flex;\n",
       "      gap: 12px;\n",
       "    }\n",
       "\n",
       "    .colab-df-convert {\n",
       "      background-color: #E8F0FE;\n",
       "      border: none;\n",
       "      border-radius: 50%;\n",
       "      cursor: pointer;\n",
       "      display: none;\n",
       "      fill: #1967D2;\n",
       "      height: 32px;\n",
       "      padding: 0 0 0 0;\n",
       "      width: 32px;\n",
       "    }\n",
       "\n",
       "    .colab-df-convert:hover {\n",
       "      background-color: #E2EBFA;\n",
       "      box-shadow: 0px 1px 2px rgba(60, 64, 67, 0.3), 0px 1px 3px 1px rgba(60, 64, 67, 0.15);\n",
       "      fill: #174EA6;\n",
       "    }\n",
       "\n",
       "    .colab-df-buttons div {\n",
       "      margin-bottom: 4px;\n",
       "    }\n",
       "\n",
       "    [theme=dark] .colab-df-convert {\n",
       "      background-color: #3B4455;\n",
       "      fill: #D2E3FC;\n",
       "    }\n",
       "\n",
       "    [theme=dark] .colab-df-convert:hover {\n",
       "      background-color: #434B5C;\n",
       "      box-shadow: 0px 1px 3px 1px rgba(0, 0, 0, 0.15);\n",
       "      filter: drop-shadow(0px 1px 2px rgba(0, 0, 0, 0.3));\n",
       "      fill: #FFFFFF;\n",
       "    }\n",
       "  </style>\n",
       "\n",
       "    <script>\n",
       "      const buttonEl =\n",
       "        document.querySelector('#df-0555eb7a-cb8a-496b-afc9-acda77e5bcae button.colab-df-convert');\n",
       "      buttonEl.style.display =\n",
       "        google.colab.kernel.accessAllowed ? 'block' : 'none';\n",
       "\n",
       "      async function convertToInteractive(key) {\n",
       "        const element = document.querySelector('#df-0555eb7a-cb8a-496b-afc9-acda77e5bcae');\n",
       "        const dataTable =\n",
       "          await google.colab.kernel.invokeFunction('convertToInteractive',\n",
       "                                                    [key], {});\n",
       "        if (!dataTable) return;\n",
       "\n",
       "        const docLinkHtml = 'Like what you see? Visit the ' +\n",
       "          '<a target=\"_blank\" href=https://colab.research.google.com/notebooks/data_table.ipynb>data table notebook</a>'\n",
       "          + ' to learn more about interactive tables.';\n",
       "        element.innerHTML = '';\n",
       "        dataTable['output_type'] = 'display_data';\n",
       "        await google.colab.output.renderOutput(dataTable, element);\n",
       "        const docLink = document.createElement('div');\n",
       "        docLink.innerHTML = docLinkHtml;\n",
       "        element.appendChild(docLink);\n",
       "      }\n",
       "    </script>\n",
       "  </div>\n",
       "\n",
       "\n",
       "    <div id=\"df-9c0d1abe-e6b6-4bc7-b56c-ae355de29658\">\n",
       "      <button class=\"colab-df-quickchart\" onclick=\"quickchart('df-9c0d1abe-e6b6-4bc7-b56c-ae355de29658')\"\n",
       "                title=\"Suggest charts\"\n",
       "                style=\"display:none;\">\n",
       "\n",
       "<svg xmlns=\"http://www.w3.org/2000/svg\" height=\"24px\"viewBox=\"0 0 24 24\"\n",
       "     width=\"24px\">\n",
       "    <g>\n",
       "        <path d=\"M19 3H5c-1.1 0-2 .9-2 2v14c0 1.1.9 2 2 2h14c1.1 0 2-.9 2-2V5c0-1.1-.9-2-2-2zM9 17H7v-7h2v7zm4 0h-2V7h2v10zm4 0h-2v-4h2v4z\"/>\n",
       "    </g>\n",
       "</svg>\n",
       "      </button>\n",
       "\n",
       "<style>\n",
       "  .colab-df-quickchart {\n",
       "      --bg-color: #E8F0FE;\n",
       "      --fill-color: #1967D2;\n",
       "      --hover-bg-color: #E2EBFA;\n",
       "      --hover-fill-color: #174EA6;\n",
       "      --disabled-fill-color: #AAA;\n",
       "      --disabled-bg-color: #DDD;\n",
       "  }\n",
       "\n",
       "  [theme=dark] .colab-df-quickchart {\n",
       "      --bg-color: #3B4455;\n",
       "      --fill-color: #D2E3FC;\n",
       "      --hover-bg-color: #434B5C;\n",
       "      --hover-fill-color: #FFFFFF;\n",
       "      --disabled-bg-color: #3B4455;\n",
       "      --disabled-fill-color: #666;\n",
       "  }\n",
       "\n",
       "  .colab-df-quickchart {\n",
       "    background-color: var(--bg-color);\n",
       "    border: none;\n",
       "    border-radius: 50%;\n",
       "    cursor: pointer;\n",
       "    display: none;\n",
       "    fill: var(--fill-color);\n",
       "    height: 32px;\n",
       "    padding: 0;\n",
       "    width: 32px;\n",
       "  }\n",
       "\n",
       "  .colab-df-quickchart:hover {\n",
       "    background-color: var(--hover-bg-color);\n",
       "    box-shadow: 0 1px 2px rgba(60, 64, 67, 0.3), 0 1px 3px 1px rgba(60, 64, 67, 0.15);\n",
       "    fill: var(--button-hover-fill-color);\n",
       "  }\n",
       "\n",
       "  .colab-df-quickchart-complete:disabled,\n",
       "  .colab-df-quickchart-complete:disabled:hover {\n",
       "    background-color: var(--disabled-bg-color);\n",
       "    fill: var(--disabled-fill-color);\n",
       "    box-shadow: none;\n",
       "  }\n",
       "\n",
       "  .colab-df-spinner {\n",
       "    border: 2px solid var(--fill-color);\n",
       "    border-color: transparent;\n",
       "    border-bottom-color: var(--fill-color);\n",
       "    animation:\n",
       "      spin 1s steps(1) infinite;\n",
       "  }\n",
       "\n",
       "  @keyframes spin {\n",
       "    0% {\n",
       "      border-color: transparent;\n",
       "      border-bottom-color: var(--fill-color);\n",
       "      border-left-color: var(--fill-color);\n",
       "    }\n",
       "    20% {\n",
       "      border-color: transparent;\n",
       "      border-left-color: var(--fill-color);\n",
       "      border-top-color: var(--fill-color);\n",
       "    }\n",
       "    30% {\n",
       "      border-color: transparent;\n",
       "      border-left-color: var(--fill-color);\n",
       "      border-top-color: var(--fill-color);\n",
       "      border-right-color: var(--fill-color);\n",
       "    }\n",
       "    40% {\n",
       "      border-color: transparent;\n",
       "      border-right-color: var(--fill-color);\n",
       "      border-top-color: var(--fill-color);\n",
       "    }\n",
       "    60% {\n",
       "      border-color: transparent;\n",
       "      border-right-color: var(--fill-color);\n",
       "    }\n",
       "    80% {\n",
       "      border-color: transparent;\n",
       "      border-right-color: var(--fill-color);\n",
       "      border-bottom-color: var(--fill-color);\n",
       "    }\n",
       "    90% {\n",
       "      border-color: transparent;\n",
       "      border-bottom-color: var(--fill-color);\n",
       "    }\n",
       "  }\n",
       "</style>\n",
       "\n",
       "      <script>\n",
       "        async function quickchart(key) {\n",
       "          const quickchartButtonEl =\n",
       "            document.querySelector('#' + key + ' button');\n",
       "          quickchartButtonEl.disabled = true;  // To prevent multiple clicks.\n",
       "          quickchartButtonEl.classList.add('colab-df-spinner');\n",
       "          try {\n",
       "            const charts = await google.colab.kernel.invokeFunction(\n",
       "                'suggestCharts', [key], {});\n",
       "          } catch (error) {\n",
       "            console.error('Error during call to suggestCharts:', error);\n",
       "          }\n",
       "          quickchartButtonEl.classList.remove('colab-df-spinner');\n",
       "          quickchartButtonEl.classList.add('colab-df-quickchart-complete');\n",
       "        }\n",
       "        (() => {\n",
       "          let quickchartButtonEl =\n",
       "            document.querySelector('#df-9c0d1abe-e6b6-4bc7-b56c-ae355de29658 button');\n",
       "          quickchartButtonEl.style.display =\n",
       "            google.colab.kernel.accessAllowed ? 'block' : 'none';\n",
       "        })();\n",
       "      </script>\n",
       "    </div>\n",
       "\n",
       "  <div id=\"id_75b23b3d-c6f7-4fc0-80ad-1d6842f35370\">\n",
       "    <style>\n",
       "      .colab-df-generate {\n",
       "        background-color: #E8F0FE;\n",
       "        border: none;\n",
       "        border-radius: 50%;\n",
       "        cursor: pointer;\n",
       "        display: none;\n",
       "        fill: #1967D2;\n",
       "        height: 32px;\n",
       "        padding: 0 0 0 0;\n",
       "        width: 32px;\n",
       "      }\n",
       "\n",
       "      .colab-df-generate:hover {\n",
       "        background-color: #E2EBFA;\n",
       "        box-shadow: 0px 1px 2px rgba(60, 64, 67, 0.3), 0px 1px 3px 1px rgba(60, 64, 67, 0.15);\n",
       "        fill: #174EA6;\n",
       "      }\n",
       "\n",
       "      [theme=dark] .colab-df-generate {\n",
       "        background-color: #3B4455;\n",
       "        fill: #D2E3FC;\n",
       "      }\n",
       "\n",
       "      [theme=dark] .colab-df-generate:hover {\n",
       "        background-color: #434B5C;\n",
       "        box-shadow: 0px 1px 3px 1px rgba(0, 0, 0, 0.15);\n",
       "        filter: drop-shadow(0px 1px 2px rgba(0, 0, 0, 0.3));\n",
       "        fill: #FFFFFF;\n",
       "      }\n",
       "    </style>\n",
       "    <button class=\"colab-df-generate\" onclick=\"generateWithVariable('df_orig')\"\n",
       "            title=\"Generate code using this dataframe.\"\n",
       "            style=\"display:none;\">\n",
       "\n",
       "  <svg xmlns=\"http://www.w3.org/2000/svg\" height=\"24px\"viewBox=\"0 0 24 24\"\n",
       "       width=\"24px\">\n",
       "    <path d=\"M7,19H8.4L18.45,9,17,7.55,7,17.6ZM5,21V16.75L18.45,3.32a2,2,0,0,1,2.83,0l1.4,1.43a1.91,1.91,0,0,1,.58,1.4,1.91,1.91,0,0,1-.58,1.4L9.25,21ZM18.45,9,17,7.55Zm-12,3A5.31,5.31,0,0,0,4.9,8.1,5.31,5.31,0,0,0,1,6.5,5.31,5.31,0,0,0,4.9,4.9,5.31,5.31,0,0,0,6.5,1,5.31,5.31,0,0,0,8.1,4.9,5.31,5.31,0,0,0,12,6.5,5.46,5.46,0,0,0,6.5,12Z\"/>\n",
       "  </svg>\n",
       "    </button>\n",
       "    <script>\n",
       "      (() => {\n",
       "      const buttonEl =\n",
       "        document.querySelector('#id_75b23b3d-c6f7-4fc0-80ad-1d6842f35370 button.colab-df-generate');\n",
       "      buttonEl.style.display =\n",
       "        google.colab.kernel.accessAllowed ? 'block' : 'none';\n",
       "\n",
       "      buttonEl.onclick = () => {\n",
       "        google.colab.notebook.generateWithVariable('df_orig');\n",
       "      }\n",
       "      })();\n",
       "    </script>\n",
       "  </div>\n",
       "\n",
       "    </div>\n",
       "  </div>\n"
      ],
      "text/plain": [
       "         set lang       WER       CER    N\n",
       "3  test_orig   de  0.406436  0.155292  100\n",
       "2  test_orig   en  0.506145  0.307831  100\n",
       "1  test_orig   ja  0.855856  0.433981  100\n",
       "0  test_orig   ko  0.443258  0.180409  100"
      ]
     },
     "metadata": {},
     "output_type": "display_data"
    },
    {
     "name": "stdout",
     "output_type": "stream",
     "text": [
      "Saved -> /content/results_mixall_test_orig_ONLY.csv\n"
     ]
    }
   ],
   "source": [
    "# 8) 평가\n",
    "LANG_NAME = {\"ko\":\"korean\", \"ja\":\"japanese\", \"en\":\"english\", \"de\":\"german\"}\n",
    "wer_metric = load_metric(\"wer\")\n",
    "cer_metric = load_metric(\"cer\")\n",
    "\n",
    "def eval_on(ds_proc, trainer_obj, label, sample_k=10, show_samples=True):\n",
    "    rows = []\n",
    "    for lang in [\"ko\",\"ja\",\"en\",\"de\"]:\n",
    "        subset = ds_proc.filter(lambda x: x[\"locale\"] == lang)\n",
    "        if len(subset) == 0:\n",
    "            print(f\"[WARN] No samples for {lang} in {label}\")\n",
    "            rows.append({\"set\": label, \"lang\": lang, \"WER\": float(\"nan\"), \"CER\": float(\"nan\"), \"N\": 0})\n",
    "            continue\n",
    "\n",
    "        # 언어별 프롬프트 강제 (generate 시 사용)\n",
    "        forced_ids = processor.get_decoder_prompt_ids(language=LANG_NAME[lang], task=\"transcribe\")\n",
    "        trainer_obj.model.generation_config.forced_decoder_ids = forced_ids\n",
    "        trainer_obj.model.generation_config.max_length = 225\n",
    "\n",
    "        out = trainer_obj.predict(subset)  # predict_with_generate=True → 토큰 시퀀스 반환\n",
    "\n",
    "        # 예측/정답 디코딩\n",
    "        preds = tokenizer.batch_decode(out.predictions, skip_special_tokens=True)\n",
    "        label_ids = np.where(out.label_ids != -100, out.label_ids, tokenizer.pad_token_id)\n",
    "        refs  = tokenizer.batch_decode(label_ids, skip_special_tokens=True)\n",
    "\n",
    "        wer = wer_metric.compute(predictions=preds, references=refs)\n",
    "        cer = cer_metric.compute(predictions=preds, references=refs)\n",
    "        rows.append({\"set\": label, \"lang\": lang, \"WER\": wer, \"CER\": cer, \"N\": len(refs)})\n",
    "\n",
    "        if show_samples and sample_k > 0:\n",
    "            print(f\"\\n[{label}] {lang.upper()} samples (k={min(sample_k, len(refs))})\")\n",
    "            for i, (p, r) in enumerate(zip(preds, refs)):\n",
    "                if i >= sample_k: break\n",
    "                print(f\"#{i:02d} PRED: {p}\")\n",
    "                print(f\"     REF : {r}\")\n",
    "                print(\"---\")\n",
    "\n",
    "    return pd.DataFrame(rows).sort_values(\"lang\")\n",
    "\n",
    "print(f\"[CHECK] Evaluating on TEST set: size={len(proc_test_orig)} (val={len(proc_val_orig)})\")\n",
    "df_orig = eval_on(proc_test_orig, trainer_mixall, \"test_orig\", sample_k=10, show_samples=True)\n",
    "display(df_orig)\n",
    "df_orig.to_csv(\"/content/results_mixall_test_orig_ONLY.csv\", index=False)\n",
    "print(\"Saved -> /content/results_mixall_test_orig_ONLY.csv\")"
   ]
  },
  {
   "cell_type": "code",
   "execution_count": 11,
   "metadata": {
    "colab": {
     "base_uri": "https://localhost:8080/",
     "height": 507
    },
    "id": "2grSHr_n2pv2",
    "outputId": "c33ed4e0-c267-4cc7-8ec6-10b60fa676fd"
   },
   "outputs": [
    {
     "data": {
      "image/png": "[encoded data removed]",
      "text/plain": [
       "<Figure size 700x500 with 1 Axes>"
      ]
     },
     "metadata": {},
     "output_type": "display_data"
    }
   ],
   "source": [
    "import matplotlib.pyplot as plt\n",
    "\n",
    "# 9) 시각화\n",
    "def bar_lang(df, label):\n",
    "    plt.figure(figsize=(7,5))\n",
    "    langs = [\"ko\",\"ja\",\"en\",\"de\"]\n",
    "    vals = []\n",
    "    for l in langs:\n",
    "        row = df[df[\"lang\"]==l]\n",
    "        vals.append(float(row[\"WER\"].values[0]) if len(row) else float(\"nan\"))\n",
    "    plt.bar([l.upper() for l in langs], vals)\n",
    "    plt.title(f\"WER - {label}\")\n",
    "    plt.ylabel(\"WER\")\n",
    "    plt.tight_layout()\n",
    "    plt.show()\n",
    "\n",
    "bar_lang(df_orig, \"Original Test (mix all)\")"
   ]
  }
 ],
 "metadata": {
  "accelerator": "GPU",
  "colab": {
   "gpuType": "T4",
   "machine_shape": "hm",
   "provenance": []
  },
  "kernelspec": {
   "display_name": "Python 3",
   "name": "python3"
  },
  "language_info": {
   "name": "python"
  }
 },
 "nbformat": 4,
 "nbformat_minor": 0
}
