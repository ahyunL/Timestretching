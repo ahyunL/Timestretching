{
 "cells": [
  {
   "cell_type": "code",
   "execution_count": null,
   "metadata": {
    "colab": {
     "base_uri": "https://localhost:8080/"
    },
    "id": "gfR9Mwr7d6a9",
    "outputId": "900fbd8e-478e-4141-dd15-b7b6c5330c68"
   },
   "outputs": [
    {
     "name": "stdout",
     "output_type": "stream",
     "text": [
      "\u001b[2K     \u001b[90m━━━━━━━━━━━━━━━━━━━━━━━━━━━━━━━━━━━━━━━━\u001b[0m \u001b[32m43.7/43.7 kB\u001b[0m \u001b[31m3.3 MB/s\u001b[0m eta \u001b[36m0:00:00\u001b[0m\n",
      "\u001b[2K   \u001b[90m━━━━━━━━━━━━━━━━━━━━━━━━━━━━━━━━━━━━━━━━\u001b[0m \u001b[32m527.3/527.3 kB\u001b[0m \u001b[31m22.6 MB/s\u001b[0m eta \u001b[36m0:00:00\u001b[0m\n",
      "\u001b[2K   \u001b[90m━━━━━━━━━━━━━━━━━━━━━━━━━━━━━━━━━━━━━━━━\u001b[0m \u001b[32m84.1/84.1 kB\u001b[0m \u001b[31m7.2 MB/s\u001b[0m eta \u001b[36m0:00:00\u001b[0m\n",
      "\u001b[2K   \u001b[90m━━━━━━━━━━━━━━━━━━━━━━━━━━━━━━━━━━━━━━━━\u001b[0m \u001b[32m9.5/9.5 MB\u001b[0m \u001b[31m111.6 MB/s\u001b[0m eta \u001b[36m0:00:00\u001b[0m\n",
      "\u001b[2K   \u001b[90m━━━━━━━━━━━━━━━━━━━━━━━━━━━━━━━━━━━━━━━━\u001b[0m \u001b[32m177.6/177.6 kB\u001b[0m \u001b[31m16.1 MB/s\u001b[0m eta \u001b[36m0:00:00\u001b[0m\n",
      "\u001b[2K   \u001b[90m━━━━━━━━━━━━━━━━━━━━━━━━━━━━━━━━━━━━━━━━\u001b[0m \u001b[32m3.1/3.1 MB\u001b[0m \u001b[31m104.4 MB/s\u001b[0m eta \u001b[36m0:00:00\u001b[0m\n",
      "\u001b[2K   \u001b[90m━━━━━━━━━━━━━━━━━━━━━━━━━━━━━━━━━━━━━━━━\u001b[0m \u001b[32m3.6/3.6 MB\u001b[0m \u001b[31m101.4 MB/s\u001b[0m eta \u001b[36m0:00:00\u001b[0m\n",
      "\u001b[?25h\u001b[31mERROR: pip's dependency resolver does not currently take into account all the packages that are installed. This behaviour is the source of the following dependency conflicts.\n",
      "gcsfs 2025.3.0 requires fsspec==2025.3.0, but you have fsspec 2024.6.1 which is incompatible.\u001b[0m\u001b[31m\n",
      "\u001b[2K   \u001b[90m━━━━━━━━━━━━━━━━━━━━━━━━━━━━━━━━━━━━━━━━\u001b[0m \u001b[32m193.6/193.6 kB\u001b[0m \u001b[31m9.4 MB/s\u001b[0m eta \u001b[36m0:00:00\u001b[0m\n",
      "\u001b[?25h\u001b[31mERROR: pip's dependency resolver does not currently take into account all the packages that are installed. This behaviour is the source of the following dependency conflicts.\n",
      "datasets 2.21.0 requires fsspec[http]<=2024.6.1,>=2023.1.0, but you have fsspec 2025.3.0 which is incompatible.\u001b[0m\u001b[31m\n",
      "Reading package lists... Done\n",
      "Building dependency tree... Done\n",
      "Reading state information... Done\n",
      "The following additional packages will be installed:\n",
      "  libao-common libao4 libid3tag0 libmad0 libopencore-amrnb0 libopencore-amrwb0\n",
      "  libsox-fmt-alsa libsox-fmt-ao libsox-fmt-base libsox-fmt-mp3 libsox-fmt-oss\n",
      "  libsox-fmt-pulse libsox3 libwavpack1\n",
      "Suggested packages:\n",
      "  libaudio2 libsndio6.1\n",
      "The following NEW packages will be installed:\n",
      "  libao-common libao4 libid3tag0 libmad0 libopencore-amrnb0 libopencore-amrwb0\n",
      "  libsox-dev libsox-fmt-all libsox-fmt-alsa libsox-fmt-ao libsox-fmt-base\n",
      "  libsox-fmt-mp3 libsox-fmt-oss libsox-fmt-pulse libsox3 libwavpack1 sox\n",
      "0 upgraded, 17 newly installed, 0 to remove and 35 not upgraded.\n",
      "Need to get 1,157 kB of archives.\n",
      "After this operation, 4,262 kB of additional disk space will be used.\n",
      "Get:1 http://archive.ubuntu.com/ubuntu jammy/main amd64 libao-common all 1.2.2+20180113-1.1ubuntu3 [6,568 B]\n",
      "Get:2 http://archive.ubuntu.com/ubuntu jammy/main amd64 libao4 amd64 1.2.2+20180113-1.1ubuntu3 [35.2 kB]\n",
      "Get:3 http://archive.ubuntu.com/ubuntu jammy/universe amd64 libid3tag0 amd64 0.15.1b-14 [31.3 kB]\n",
      "Get:4 http://archive.ubuntu.com/ubuntu jammy/universe amd64 libmad0 amd64 0.15.1b-10ubuntu1 [63.1 kB]\n",
      "Get:5 http://archive.ubuntu.com/ubuntu jammy/universe amd64 libopencore-amrnb0 amd64 0.1.5-1 [94.8 kB]\n",
      "Get:6 http://archive.ubuntu.com/ubuntu jammy/universe amd64 libopencore-amrwb0 amd64 0.1.5-1 [49.1 kB]\n",
      "Get:7 http://archive.ubuntu.com/ubuntu jammy-updates/universe amd64 libsox3 amd64 14.4.2+git20190427-2+deb11u2ubuntu0.22.04.1 [240 kB]\n",
      "Get:8 http://archive.ubuntu.com/ubuntu jammy-updates/universe amd64 libsox-fmt-alsa amd64 14.4.2+git20190427-2+deb11u2ubuntu0.22.04.1 [11.2 kB]\n",
      "Get:9 http://archive.ubuntu.com/ubuntu jammy-updates/universe amd64 libsox-fmt-ao amd64 14.4.2+git20190427-2+deb11u2ubuntu0.22.04.1 [7,740 B]\n",
      "Get:10 http://archive.ubuntu.com/ubuntu jammy/main amd64 libwavpack1 amd64 5.4.0-1build2 [83.7 kB]\n",
      "Get:11 http://archive.ubuntu.com/ubuntu jammy-updates/universe amd64 libsox-fmt-base amd64 14.4.2+git20190427-2+deb11u2ubuntu0.22.04.1 [33.7 kB]\n",
      "Get:12 http://archive.ubuntu.com/ubuntu jammy-updates/universe amd64 libsox-fmt-mp3 amd64 14.4.2+git20190427-2+deb11u2ubuntu0.22.04.1 [17.3 kB]\n",
      "Get:13 http://archive.ubuntu.com/ubuntu jammy-updates/universe amd64 libsox-fmt-oss amd64 14.4.2+git20190427-2+deb11u2ubuntu0.22.04.1 [9,424 B]\n",
      "Get:14 http://archive.ubuntu.com/ubuntu jammy-updates/universe amd64 libsox-fmt-pulse amd64 14.4.2+git20190427-2+deb11u2ubuntu0.22.04.1 [7,732 B]\n",
      "Get:15 http://archive.ubuntu.com/ubuntu jammy-updates/universe amd64 libsox-fmt-all amd64 14.4.2+git20190427-2+deb11u2ubuntu0.22.04.1 [5,016 B]\n",
      "Get:16 http://archive.ubuntu.com/ubuntu jammy-updates/universe amd64 libsox-dev amd64 14.4.2+git20190427-2+deb11u2ubuntu0.22.04.1 [356 kB]\n",
      "Get:17 http://archive.ubuntu.com/ubuntu jammy-updates/universe amd64 sox amd64 14.4.2+git20190427-2+deb11u2ubuntu0.22.04.1 [104 kB]\n",
      "Fetched 1,157 kB in 0s (8,722 kB/s)\n",
      "Selecting previously unselected package libao-common.\n",
      "(Reading database ... 126371 files and directories currently installed.)\n",
      "Preparing to unpack .../00-libao-common_1.2.2+20180113-1.1ubuntu3_all.deb ...\n",
      "Unpacking libao-common (1.2.2+20180113-1.1ubuntu3) ...\n",
      "Selecting previously unselected package libao4:amd64.\n",
      "Preparing to unpack .../01-libao4_1.2.2+20180113-1.1ubuntu3_amd64.deb ...\n",
      "Unpacking libao4:amd64 (1.2.2+20180113-1.1ubuntu3) ...\n",
      "Selecting previously unselected package libid3tag0:amd64.\n",
      "Preparing to unpack .../02-libid3tag0_0.15.1b-14_amd64.deb ...\n",
      "Unpacking libid3tag0:amd64 (0.15.1b-14) ...\n",
      "Selecting previously unselected package libmad0:amd64.\n",
      "Preparing to unpack .../03-libmad0_0.15.1b-10ubuntu1_amd64.deb ...\n",
      "Unpacking libmad0:amd64 (0.15.1b-10ubuntu1) ...\n",
      "Selecting previously unselected package libopencore-amrnb0:amd64.\n",
      "Preparing to unpack .../04-libopencore-amrnb0_0.1.5-1_amd64.deb ...\n",
      "Unpacking libopencore-amrnb0:amd64 (0.1.5-1) ...\n",
      "Selecting previously unselected package libopencore-amrwb0:amd64.\n",
      "Preparing to unpack .../05-libopencore-amrwb0_0.1.5-1_amd64.deb ...\n",
      "Unpacking libopencore-amrwb0:amd64 (0.1.5-1) ...\n",
      "Selecting previously unselected package libsox3:amd64.\n",
      "Preparing to unpack .../06-libsox3_14.4.2+git20190427-2+deb11u2ubuntu0.22.04.1_amd64.deb ...\n",
      "Unpacking libsox3:amd64 (14.4.2+git20190427-2+deb11u2ubuntu0.22.04.1) ...\n",
      "Selecting previously unselected package libsox-fmt-alsa:amd64.\n",
      "Preparing to unpack .../07-libsox-fmt-alsa_14.4.2+git20190427-2+deb11u2ubuntu0.22.04.1_amd64.deb ...\n",
      "Unpacking libsox-fmt-alsa:amd64 (14.4.2+git20190427-2+deb11u2ubuntu0.22.04.1) ...\n",
      "Selecting previously unselected package libsox-fmt-ao:amd64.\n",
      "Preparing to unpack .../08-libsox-fmt-ao_14.4.2+git20190427-2+deb11u2ubuntu0.22.04.1_amd64.deb ...\n",
      "Unpacking libsox-fmt-ao:amd64 (14.4.2+git20190427-2+deb11u2ubuntu0.22.04.1) ...\n",
      "Selecting previously unselected package libwavpack1:amd64.\n",
      "Preparing to unpack .../09-libwavpack1_5.4.0-1build2_amd64.deb ...\n",
      "Unpacking libwavpack1:amd64 (5.4.0-1build2) ...\n",
      "Selecting previously unselected package libsox-fmt-base:amd64.\n",
      "Preparing to unpack .../10-libsox-fmt-base_14.4.2+git20190427-2+deb11u2ubuntu0.22.04.1_amd64.deb ...\n",
      "Unpacking libsox-fmt-base:amd64 (14.4.2+git20190427-2+deb11u2ubuntu0.22.04.1) ...\n",
      "Selecting previously unselected package libsox-fmt-mp3:amd64.\n",
      "Preparing to unpack .../11-libsox-fmt-mp3_14.4.2+git20190427-2+deb11u2ubuntu0.22.04.1_amd64.deb ...\n",
      "Unpacking libsox-fmt-mp3:amd64 (14.4.2+git20190427-2+deb11u2ubuntu0.22.04.1) ...\n",
      "Selecting previously unselected package libsox-fmt-oss:amd64.\n",
      "Preparing to unpack .../12-libsox-fmt-oss_14.4.2+git20190427-2+deb11u2ubuntu0.22.04.1_amd64.deb ...\n",
      "Unpacking libsox-fmt-oss:amd64 (14.4.2+git20190427-2+deb11u2ubuntu0.22.04.1) ...\n",
      "Selecting previously unselected package libsox-fmt-pulse:amd64.\n",
      "Preparing to unpack .../13-libsox-fmt-pulse_14.4.2+git20190427-2+deb11u2ubuntu0.22.04.1_amd64.deb ...\n",
      "Unpacking libsox-fmt-pulse:amd64 (14.4.2+git20190427-2+deb11u2ubuntu0.22.04.1) ...\n",
      "Selecting previously unselected package libsox-fmt-all:amd64.\n",
      "Preparing to unpack .../14-libsox-fmt-all_14.4.2+git20190427-2+deb11u2ubuntu0.22.04.1_amd64.deb ...\n",
      "Unpacking libsox-fmt-all:amd64 (14.4.2+git20190427-2+deb11u2ubuntu0.22.04.1) ...\n",
      "Selecting previously unselected package libsox-dev:amd64.\n",
      "Preparing to unpack .../15-libsox-dev_14.4.2+git20190427-2+deb11u2ubuntu0.22.04.1_amd64.deb ...\n",
      "Unpacking libsox-dev:amd64 (14.4.2+git20190427-2+deb11u2ubuntu0.22.04.1) ...\n",
      "Selecting previously unselected package sox.\n",
      "Preparing to unpack .../16-sox_14.4.2+git20190427-2+deb11u2ubuntu0.22.04.1_amd64.deb ...\n",
      "Unpacking sox (14.4.2+git20190427-2+deb11u2ubuntu0.22.04.1) ...\n",
      "Setting up libsox3:amd64 (14.4.2+git20190427-2+deb11u2ubuntu0.22.04.1) ...\n",
      "Setting up libsox-fmt-oss:amd64 (14.4.2+git20190427-2+deb11u2ubuntu0.22.04.1) ...\n",
      "Setting up libao-common (1.2.2+20180113-1.1ubuntu3) ...\n",
      "Setting up libid3tag0:amd64 (0.15.1b-14) ...\n",
      "Setting up libopencore-amrwb0:amd64 (0.1.5-1) ...\n",
      "Setting up libsox-fmt-alsa:amd64 (14.4.2+git20190427-2+deb11u2ubuntu0.22.04.1) ...\n",
      "Setting up libao4:amd64 (1.2.2+20180113-1.1ubuntu3) ...\n",
      "Setting up libmad0:amd64 (0.15.1b-10ubuntu1) ...\n",
      "Setting up libwavpack1:amd64 (5.4.0-1build2) ...\n",
      "Setting up libopencore-amrnb0:amd64 (0.1.5-1) ...\n",
      "Setting up libsox-fmt-base:amd64 (14.4.2+git20190427-2+deb11u2ubuntu0.22.04.1) ...\n",
      "Setting up libsox-fmt-ao:amd64 (14.4.2+git20190427-2+deb11u2ubuntu0.22.04.1) ...\n",
      "Setting up libsox-fmt-mp3:amd64 (14.4.2+git20190427-2+deb11u2ubuntu0.22.04.1) ...\n",
      "Setting up libsox-fmt-pulse:amd64 (14.4.2+git20190427-2+deb11u2ubuntu0.22.04.1) ...\n",
      "Setting up sox (14.4.2+git20190427-2+deb11u2ubuntu0.22.04.1) ...\n",
      "Setting up libsox-fmt-all:amd64 (14.4.2+git20190427-2+deb11u2ubuntu0.22.04.1) ...\n",
      "Setting up libsox-dev:amd64 (14.4.2+git20190427-2+deb11u2ubuntu0.22.04.1) ...\n",
      "Processing triggers for libc-bin (2.35-0ubuntu3.8) ...\n",
      "/sbin/ldconfig.real: /usr/local/lib/libtbbbind_2_5.so.3 is not a symbolic link\n",
      "\n",
      "/sbin/ldconfig.real: /usr/local/lib/libtbbmalloc_proxy.so.2 is not a symbolic link\n",
      "\n",
      "/sbin/ldconfig.real: /usr/local/lib/libur_adapter_opencl.so.0 is not a symbolic link\n",
      "\n",
      "/sbin/ldconfig.real: /usr/local/lib/libtbbbind.so.3 is not a symbolic link\n",
      "\n",
      "/sbin/ldconfig.real: /usr/local/lib/libtbb.so.12 is not a symbolic link\n",
      "\n",
      "/sbin/ldconfig.real: /usr/local/lib/libumf.so.0 is not a symbolic link\n",
      "\n",
      "/sbin/ldconfig.real: /usr/local/lib/libtbbbind_2_0.so.3 is not a symbolic link\n",
      "\n",
      "/sbin/ldconfig.real: /usr/local/lib/libtcm.so.1 is not a symbolic link\n",
      "\n",
      "/sbin/ldconfig.real: /usr/local/lib/libur_adapter_level_zero_v2.so.0 is not a symbolic link\n",
      "\n",
      "/sbin/ldconfig.real: /usr/local/lib/libtbbmalloc.so.2 is not a symbolic link\n",
      "\n",
      "/sbin/ldconfig.real: /usr/local/lib/libhwloc.so.15 is not a symbolic link\n",
      "\n",
      "/sbin/ldconfig.real: /usr/local/lib/libtcm_debug.so.1 is not a symbolic link\n",
      "\n",
      "/sbin/ldconfig.real: /usr/local/lib/libur_adapter_level_zero.so.0 is not a symbolic link\n",
      "\n",
      "/sbin/ldconfig.real: /usr/local/lib/libur_loader.so.0 is not a symbolic link\n",
      "\n",
      "Processing triggers for man-db (2.10.2-1) ...\n",
      "Processing triggers for mailcap (3.70+nmu1ubuntu1) ...\n"
     ]
    }
   ],
   "source": [
    "!pip -q install \"datasets<3.0.0\" \"evaluate<0.5.0\" \"transformers>=4.38,<4.45\" \\\n",
    "                huggingface_hub torchaudio jiwer soundfile\n",
    "!pip -q install -U fsspec==2025.3.0 gcsfs\n",
    "!apt-get -y install sox libsox-dev libsox-fmt-all"
   ]
  },
  {
   "cell_type": "code",
   "execution_count": null,
   "metadata": {
    "colab": {
     "base_uri": "https://localhost:8080/"
    },
    "id": "J040YtHqefy_",
    "outputId": "acaa3be0-b0bd-459e-ae5d-2efe34d2b423"
   },
   "outputs": [
    {
     "name": "stdout",
     "output_type": "stream",
     "text": [
      "datasets: 2.21.0\n",
      "evaluate: 0.4.5\n",
      "transformers: 4.44.2\n",
      "python: 3.12.11 (main, Jun  4 2025, 08:56:18) [GCC 11.4.0]\n"
     ]
    }
   ],
   "source": [
    "import os, sys, random, numpy as np, torch, datasets, evaluate, transformers, fsspec, gcsfs\n",
    "print(\"datasets:\", datasets.__version__)\n",
    "print(\"evaluate:\", evaluate.__version__)\n",
    "print(\"transformers:\", transformers.__version__)\n",
    "print(\"python:\", sys.version)"
   ]
  },
  {
   "cell_type": "code",
   "execution_count": null,
   "metadata": {
    "colab": {
     "base_uri": "https://localhost:8080/",
     "height": 17,
     "referenced_widgets": [
      "d13cfdc4f378414289ba609f6e3dee4c",
      "d55d6bf95b5d42e6969d4449173d042d",
      "b03df7e40edf4bbd9b5909598e2456b7",
      "47f224b937164265bcb256603dd3334b",
      "ebbba4dea5b04cae8a0fd9dc84970735",
      "a6708dd921034f989e9586dc6ffe691a",
      "d05538d8d01e4891a8a8fc83313d392d",
      "7393bc1a43d84e66b4b92c311020ecb6",
      "2156914254a74c26a45c3e6b35e86788",
      "fc032794282245489e8ec3ee632c80c2",
      "146fe908650a49baaef826999076e86a",
      "d371613d1b1c4fcc8b861fd3b65b0ddc",
      "caed60f0552a4b29835366f323aec5ed",
      "a734800230574447b9506bf59a71405b",
      "d3887dfc75b64783b6dd6855720e68fc",
      "939a86352ea049d6a64f05e4ade74a0c",
      "48c7da4cf603400a983fc0018e35760e",
      "fd34a3ccb95f45019668cd2228c34e40",
      "837a9d4007bd4356937dba6df5ebd63f",
      "d996134d60a24f44842c021081dbeb27"
     ]
    },
    "id": "w4bPkNB4ehOG",
    "outputId": "700489ca-b85a-426a-c4a0-13c02c51a6ea"
   },
   "outputs": [
    {
     "data": {
      "application/vnd.jupyter.widget-view+json": {
       "model_id": "d13cfdc4f378414289ba609f6e3dee4c",
       "version_major": 2,
       "version_minor": 0
      },
      "text/plain": [
       "VBox(children=(HTML(value='<center> <img\\nsrc=https://huggingface.co/front/assets/huggingface_logo-noborder.sv…"
      ]
     },
     "metadata": {},
     "output_type": "display_data"
    }
   ],
   "source": [
    "from huggingface_hub import notebook_login\n",
    "notebook_login()"
   ]
  },
  {
   "cell_type": "code",
   "execution_count": null,
   "metadata": {
    "colab": {
     "base_uri": "https://localhost:8080/"
    },
    "id": "mWcCmAkgeiqm",
    "outputId": "d9ff30c8-5d70-46c6-8ae3-dfe95130ac98"
   },
   "outputs": [
    {
     "name": "stdout",
     "output_type": "stream",
     "text": [
      "Seed fixed: 42\n"
     ]
    }
   ],
   "source": [
    "from datasets import load_dataset, Audio, Dataset, concatenate_datasets, load_from_disk\n",
    "from transformers import (\n",
    "    WhisperProcessor, WhisperForConditionalGeneration,\n",
    "    Seq2SeqTrainingArguments, Seq2SeqTrainer, EarlyStoppingCallback\n",
    ")\n",
    "from dataclasses import dataclass\n",
    "from typing import Any, Dict, List, Union\n",
    "from evaluate import load as load_metric\n",
    "import pandas as pd\n",
    "import matplotlib.pyplot as plt\n",
    "\n",
    "# ===== 1) 재현성 고정 =====\n",
    "SEED = 42\n",
    "random.seed(SEED); np.random.seed(SEED); torch.manual_seed(SEED)\n",
    "if torch.cuda.is_available(): torch.cuda.manual_seed_all(SEED)\n",
    "os.environ[\"PYTHONHASHSEED\"] = str(SEED)\n",
    "torch.backends.cudnn.deterministic = True\n",
    "torch.backends.cudnn.benchmark = False\n",
    "print(\"Seed fixed:\", SEED)"
   ]
  },
  {
   "cell_type": "code",
   "execution_count": null,
   "metadata": {
    "colab": {
     "base_uri": "https://localhost:8080/",
     "height": 834,
     "referenced_widgets": [
      "dd9c1e0676b4475eb268649d0ef30a33",
      "b1e4b37b1a5f48e297bef6f266b9cfd0",
      "908fcc8681a24c92b64ac7189a4c3043",
      "0d29ee672ce040529f414aeb56f79274",
      "bdccc9eb239d4530a52ea9a3b793c6ea",
      "47a558d3f18845318de48dfdb6f9447a",
      "420c4d87514a405fafecade45421ad8c",
      "4fa292de057c4b068cb8e7fa8b00736c",
      "6970b34b7a414924b9f59508d05ac921",
      "17d00067891b4a15be049fdb8555919f",
      "eed39060b3b44a28b4a1888cb95e070c",
      "4df2fa032c054cafaf2fd203bfe706de",
      "6de6ebad8c404e958f5ebc127462d448",
      "eba7c345a6a0444298d4da75c0733ee0",
      "015773e021d849ceb2673cf17ede2d76",
      "92dbb1db14f8440c98c75434bdc37b0a",
      "e928942db3e04375a9a2bf47f3e83c49",
      "dcc67f32e68443159667ae10e917248d",
      "e833ad485772477a96fcd38e55a063e4",
      "ac6acc906e384bc79c98ab154f65f446",
      "c386d4cc697c44069f13c5ea3e4a4b92",
      "224e815e8d914f4f92eae1b467a79ea0",
      "405edd6fb76540ad8fd6298c47c974cb",
      "53a9d14dd8e34d8abf79cb8a62821159",
      "ae8178ea10c9478b905f445b49e90fef",
      "ddce73e23c33443797be17b628a0e26b",
      "fb03961eee8f4dbfb46ba91d579348cb",
      "62a758c71acb48469d623ef5903956f2",
      "65f51272b53f46268b4b1f7a9484e43c",
      "86ccbfdc4bb84375b86a6f3895f3ba3f",
      "7285d851d7904f049a784a76778cf41b",
      "366df55adf30417aaf85d1135496008b",
      "2d0e5196329e4faf891640b46594c87d",
      "16c2e57b65c14d9cbc7482bfe70adc83",
      "968a53208aaf4aeeb4f8cc5169e3112b",
      "d0f2c228a406407a8256b9fd9cba46d8",
      "ae39d00347894e42821249dc70502b38",
      "6d0d1a8ee559491ebc83e2e478efb5f7",
      "54ab9b4a921d4ad3ad3e7699cf789342",
      "2e94b340550a4609b40ef62c0647bfe2",
      "b6d23d6f027345ef897c8760052e3bee",
      "4f9dbb2d89c84b19ae84fae1e9851c87",
      "59a2c06930db49529bcc4898f53b1828",
      "418141177e8f4475b855d8f448667147",
      "5188ed1e186943bfbf3b8cec319bab4d",
      "cdccc63be5154498928de4a39a4719b3",
      "ff676488662e42e6b327921d1ee79ce3",
      "01241a5e49884c4fa0686159b3f67dba",
      "48975c809dd04d8a9c28b900077f794e",
      "230af0b6677d49da9c74a853e46ab20b",
      "c6d4592b429a41b4b676f9b59c6c0f34",
      "961c6e0e3cf448229edf7c00c54d5289",
      "8f2969b29cb44955b6cf93aa73747de5",
      "4754f17c148b47e99f219a447c356e8f",
      "11849eeefc2f499283562b27563d342e",
      "df1f78eb18764075b444d72b912a285a",
      "279f47c3110d4ff7bd646e3142112838",
      "69bced7cf24642e197a45e2932e08558",
      "68d63efdd1f14f5ca39165c5568580bb",
      "0c66af0ea65d4af6a03228bf8ffbcbf1",
      "ae1a03b9703144c29ef3d88c316926a7",
      "28c6920d48aa466b833d6f28a5cf1c5b",
      "65304e1d978f49feb061718c1a0650b3",
      "3b584ae88ddf488890045cad8a9b7c0f",
      "3df9bd7710a34b9598a4fddc3f869cf6",
      "f794dc516bba4e1c86c3424adec768b8",
      "c716a2c8edb548469daed79fd9d373e5",
      "93dbd51f61374139bce1c62e6ecad5d1",
      "f0f336f92f234e4e95833f78791b8d5e",
      "85fa6838a0014a3ca5729d8cecba882d",
      "f3505e035a8144e4939d49dc52103f58",
      "94ad3e13227f4ec8bacff43d51b7e126",
      "df4884920bab45d09d3034f3fb3e50e9",
      "9ce8ffec940c4e0e929cbd806a95086c",
      "86069e17fbc9495993f7715f22de7179",
      "3278c33508e142b6b4d33c86eaea4a90",
      "5c1a194b38034b80bb18d961e346faac"
     ]
    },
    "id": "kYGrzTGrelIR",
    "outputId": "c8f54127-2e86-41a5-de52-80b0063b06fd"
   },
   "outputs": [
    {
     "name": "stdout",
     "output_type": "stream",
     "text": [
      "⚙️ Creating splits from streaming and saving to: /content/cv16_splits_small\n",
      "Loading ko...\n"
     ]
    },
    {
     "name": "stderr",
     "output_type": "stream",
     "text": [
      "/usr/local/lib/python3.12/dist-packages/huggingface_hub/utils/_auth.py:94: UserWarning: \n",
      "The secret `HF_TOKEN` does not exist in your Colab secrets.\n",
      "To authenticate with the Hugging Face Hub, create a token in your settings tab (https://huggingface.co/settings/tokens), set it as secret in your Google Colab and restart your session.\n",
      "You will be able to reuse this secret in all of your notebooks.\n",
      "Please note that authentication is recommended but still optional to access public models or datasets.\n",
      "  warnings.warn(\n"
     ]
    },
    {
     "data": {
      "application/vnd.jupyter.widget-view+json": {
       "model_id": "dd9c1e0676b4475eb268649d0ef30a33",
       "version_major": 2,
       "version_minor": 0
      },
      "text/plain": [
       "Downloading builder script:   0%|          | 0.00/8.17k [00:00<?, ?B/s]"
      ]
     },
     "metadata": {},
     "output_type": "display_data"
    },
    {
     "data": {
      "application/vnd.jupyter.widget-view+json": {
       "model_id": "4df2fa032c054cafaf2fd203bfe706de",
       "version_major": 2,
       "version_minor": 0
      },
      "text/plain": [
       "Downloading readme:   0%|          | 0.00/12.3k [00:00<?, ?B/s]"
      ]
     },
     "metadata": {},
     "output_type": "display_data"
    },
    {
     "data": {
      "application/vnd.jupyter.widget-view+json": {
       "model_id": "405edd6fb76540ad8fd6298c47c974cb",
       "version_major": 2,
       "version_minor": 0
      },
      "text/plain": [
       "Downloading extra modules:   0%|          | 0.00/3.74k [00:00<?, ?B/s]"
      ]
     },
     "metadata": {},
     "output_type": "display_data"
    },
    {
     "data": {
      "application/vnd.jupyter.widget-view+json": {
       "model_id": "16c2e57b65c14d9cbc7482bfe70adc83",
       "version_major": 2,
       "version_minor": 0
      },
      "text/plain": [
       "Downloading extra modules:   0%|          | 0.00/77.3k [00:00<?, ?B/s]"
      ]
     },
     "metadata": {},
     "output_type": "display_data"
    },
    {
     "name": "stdout",
     "output_type": "stream",
     "text": [
      "The repository for mozilla-foundation/common_voice_16_1 contains custom code which must be executed to correctly load the dataset. You can inspect the repository content at https://hf.co/datasets/mozilla-foundation/common_voice_16_1.\n",
      "You can avoid this prompt in future by passing the argument `trust_remote_code=True`.\n",
      "\n",
      "Do you wish to run the custom code? [y/N] ㅛ\n",
      "The repository for mozilla-foundation/common_voice_16_1 contains custom code which must be executed to correctly load the dataset. You can inspect the repository content at https://hf.co/datasets/mozilla-foundation/common_voice_16_1.\n",
      "You can avoid this prompt in future by passing the argument `trust_remote_code=True`.\n",
      "\n",
      "Do you wish to run the custom code? [y/N] y\n"
     ]
    },
    {
     "name": "stderr",
     "output_type": "stream",
     "text": [
      "Reading metadata...: 401it [00:00, 1597.93it/s]\n",
      "Reading metadata...: 235it [00:00, 1113.34it/s]\n",
      "Reading metadata...: 282it [00:00, 904.09it/s]\n"
     ]
    },
    {
     "name": "stdout",
     "output_type": "stream",
     "text": [
      "Loading ja...\n"
     ]
    },
    {
     "name": "stderr",
     "output_type": "stream",
     "text": [
      "Reading metadata...: 9616it [00:00, 13355.00it/s]\n",
      "Reading metadata...: 6094it [00:00, 9900.55it/s]\n",
      "Reading metadata...: 6094it [00:00, 10271.55it/s]\n"
     ]
    },
    {
     "name": "stdout",
     "output_type": "stream",
     "text": [
      "Loading en...\n"
     ]
    },
    {
     "name": "stderr",
     "output_type": "stream",
     "text": [
      "Reading metadata...: 1090061it [00:23, 46842.17it/s]\n",
      "Reading metadata...: 16390it [00:00, 26965.25it/s]\n",
      "Reading metadata...: 16390it [00:00, 24772.00it/s]\n"
     ]
    },
    {
     "name": "stdout",
     "output_type": "stream",
     "text": [
      "Loading de...\n"
     ]
    },
    {
     "name": "stderr",
     "output_type": "stream",
     "text": [
      "Reading metadata...: 576207it [00:18, 30494.31it/s]\n",
      "Reading metadata...: 16173it [00:00, 21590.34it/s]\n",
      "Reading metadata...: 16173it [00:00, 20858.03it/s]\n"
     ]
    },
    {
     "data": {
      "application/vnd.jupyter.widget-view+json": {
       "model_id": "5188ed1e186943bfbf3b8cec319bab4d",
       "version_major": 2,
       "version_minor": 0
      },
      "text/plain": [
       "Saving the dataset (0/4 shards):   0%|          | 0/800 [00:00<?, ? examples/s]"
      ]
     },
     "metadata": {},
     "output_type": "display_data"
    },
    {
     "data": {
      "application/vnd.jupyter.widget-view+json": {
       "model_id": "df1f78eb18764075b444d72b912a285a",
       "version_major": 2,
       "version_minor": 0
      },
      "text/plain": [
       "Saving the dataset (0/2 shards):   0%|          | 0/400 [00:00<?, ? examples/s]"
      ]
     },
     "metadata": {},
     "output_type": "display_data"
    },
    {
     "data": {
      "application/vnd.jupyter.widget-view+json": {
       "model_id": "c716a2c8edb548469daed79fd9d373e5",
       "version_major": 2,
       "version_minor": 0
      },
      "text/plain": [
       "Saving the dataset (0/2 shards):   0%|          | 0/400 [00:00<?, ? examples/s]"
      ]
     },
     "metadata": {},
     "output_type": "display_data"
    },
    {
     "name": "stdout",
     "output_type": "stream",
     "text": [
      "✅ Saved fixed splits at /content/cv16_splits_small\n",
      "{'train': 800, 'val': 400, 'test': 400}\n"
     ]
    }
   ],
   "source": [
    "SPLIT_DIR = \"/content/cv16_splits_small\"\n",
    "n_train, n_val, n_test = 200, 100, 100\n",
    "langs = [\"ko\", \"ja\", \"en\", \"de\"]\n",
    "\n",
    "if os.path.isdir(SPLIT_DIR) and all(os.path.isdir(os.path.join(SPLIT_DIR, d)) for d in [\"train\",\"val\",\"test\"]):\n",
    "    print(\"✅ Loading fixed splits from disk:\", SPLIT_DIR)\n",
    "    train_dataset = load_from_disk(os.path.join(SPLIT_DIR, \"train\"))\n",
    "    val_dataset   = load_from_disk(os.path.join(SPLIT_DIR, \"val\"))\n",
    "    test_dataset  = load_from_disk(os.path.join(SPLIT_DIR, \"test\"))\n",
    "else:\n",
    "    print(\"⚙️ Creating splits from streaming and saving to:\", SPLIT_DIR)\n",
    "    def take_valid(gen, n):\n",
    "        out = []\n",
    "        for ex in gen:\n",
    "            if ex.get(\"audio\") is not None and ex.get(\"sentence\"):\n",
    "                out.append(ex)\n",
    "                if len(out) >= n: break\n",
    "        return out\n",
    "\n",
    "    train_data, val_data, test_data = [], [], []\n",
    "    for lang in langs:\n",
    "        print(f\"Loading {lang}...\")\n",
    "        ds_tr = load_dataset(\"mozilla-foundation/common_voice_16_1\", lang, split=\"train\",      streaming=True)\n",
    "        ds_va = load_dataset(\"mozilla-foundation/common_voice_16_1\", lang, split=\"validation\", streaming=True)\n",
    "        ds_te = load_dataset(\"mozilla-foundation/common_voice_16_1\", lang, split=\"test\",       streaming=True)\n",
    "        train_data += take_valid(ds_tr, n_train)\n",
    "        val_data   += take_valid(ds_va, n_val)\n",
    "        test_data  += take_valid(ds_te, n_test)\n",
    "\n",
    "    random.shuffle(train_data); random.shuffle(val_data); random.shuffle(test_data)\n",
    "    train_dataset = Dataset.from_list(train_data)\n",
    "    val_dataset   = Dataset.from_list(val_data)\n",
    "    test_dataset  = Dataset.from_list(test_data)\n",
    "    os.makedirs(SPLIT_DIR, exist_ok=True)\n",
    "    train_dataset.save_to_disk(os.path.join(SPLIT_DIR,\"train\"))\n",
    "    val_dataset.save_to_disk(os.path.join(SPLIT_DIR,\"val\"))\n",
    "    test_dataset.save_to_disk(os.path.join(SPLIT_DIR,\"test\"))\n",
    "    print(\"✅ Saved fixed splits at\", SPLIT_DIR)\n",
    "\n",
    "print({ \"train\": len(train_dataset), \"val\": len(val_dataset), \"test\": len(test_dataset) })"
   ]
  },
  {
   "cell_type": "code",
   "execution_count": null,
   "metadata": {
    "colab": {
     "base_uri": "https://localhost:8080/",
     "height": 369,
     "referenced_widgets": [
      "b0ad3d79a06d48498aaa8a4ed922223d",
      "571242b05d064dea8f1633d0af128437",
      "3964f96852c84a6393bd85550d23ce8e",
      "6917ef39cfe74ac9a28f3286c5f60085",
      "99d616635de746ee8900d57194ac5f0f",
      "1330475865444ee594ea264f19d147ac",
      "c9bebbf5dbe04543b6db89fcc68ce875",
      "18c5b4ce7ca14499a32ca278ca678f67",
      "f9d4a96244d340f48c89d126bd816c76",
      "975b99add1fd4ebe9b93d8f7bae7f687",
      "e49ee5316cf44c48b764b71a969c55ee",
      "ad808c32c70b40e298be41beeaf2db85",
      "fc354f006af54065b0d50744bc356462",
      "c291658514914a53be62d44c42e0fb23",
      "6a610615e0784ee5aef0462c8b7ac3b7",
      "2ffb4422999c497ebb4b5933284ab993",
      "801dc101b6cf48a18d9f4e5725e312a0",
      "8c14b5a4b9224995bcf325f76295d5f7",
      "f6a98ffc0249448f90ce992541d01f23",
      "8deab07ccd2e4867adbcc53e899f2880",
      "d8cea40120af42148bbd7200aef214cf",
      "b89c35087bc546588e61945e0d5c1d63",
      "74c7af4a042c46878eb3bf6978430077",
      "91498a419a8143ff9abc5ccb4a41e144",
      "c9f57d3fba1c4da792f19d1bbec6b3d0",
      "7bcbcae010ce4d83a949b61d8992b783",
      "ba3af7e40deb497b82cc06414160e509",
      "b24bfe1771bf47a1b481c734e0de1565",
      "344327603e5a416ea317cf16b4a2ae62",
      "11250509a976445fac1e26dc79617827",
      "9a826c738e564c97bcd5ec3846870d7c",
      "e523429e0dd84cabba991fc8e7c15588",
      "fee4ebf3643f4514afa75310596263d0",
      "c017e9ae40664c5a89506bfb364db926",
      "b2d07643042d48a2926009ee52ca15c6",
      "7188c2f7d2b34ac7b1cbf447796e7fb9",
      "6abf3e769f7346d1afbb8ab480bba50d",
      "271794e5861c42ab974c9101eed05cd2",
      "66cf89a0b4e84ef4a69f87206671f4d4",
      "ed265d49f4ae48808dccac6f634dbd93",
      "ea62ccbdb0af4a5b80630f075bf96be4",
      "09af7d1355c341c98937208ca095fa3b",
      "c005002d367043a390581500b1866893",
      "d331a54121b2417e8b3e27be56ba5ca4",
      "4e5b512ec30f4d76bfcb0b056ff813a1",
      "166993b3eb514e2395130749026fe934",
      "ddafa0c248d34e369c7866ab9e05d3c5",
      "87ffe89b3e7c4606a50080250f9b6cae",
      "0e61aa30dc5f4d609c782ae5a9d6cfb0",
      "4f3b3a0550c940f0892f9ddce18f40ca",
      "c202a0888db94e0b9a167cc21826feba",
      "e2cedcbf101243e885d870f4c56485ab",
      "4848aa3397e94002ab311ce3e5a75c17",
      "5d29e7ab5218437193233cc52effc997",
      "b6e5eb753622495a8490a87dba2a19e9",
      "e082891f9e43409787c147e26e5053d9",
      "cbad698c39c54c65812758c26a2ec77a",
      "cf83596e4bc64c67857bd35eb887f733",
      "2d5b34aaeaad41958eca7bde6b8c4cd8",
      "1892c71ab1e74618b66ba1e719f28539",
      "b752baa6257e43ea85eb6b1a6c13352d",
      "c8fdb4b7769a474ea923492802e15104",
      "04459ee94b0a4ff28eff89c92f72ca18",
      "f56d812dff864f7bbeb0b3c969d8a6c4",
      "429f0cf214d242fe8469ab75974127b4",
      "4101be732ed04d44a328634fa7e6a064",
      "5c845a2ce38644e4b6a1ab610b8a254f",
      "92c35658ac4f4174b0efdd6553368d2f",
      "0cff35ebdeb24238bfed73b2a8cefc9a",
      "c3c6475f492e468fa88ddb5bcc010cb4",
      "6417f58fda8c4f3d8c8d42426b8f4221",
      "c68721ea77fa4e8796b92d767ae7796f",
      "efc756e6f74648aeaa68f9a96370d076",
      "9a786ed50f4446acbf9707aa6d1037ef",
      "98986ef048a147bdb72a9c8d122c9091",
      "6e204f7b6f504d688562d52362b91c53",
      "14c0e6d447eb460c9e0d14974d3b66ee",
      "c8bc6e06621142b89cfde335fb1a994b",
      "f79e5a9708b34520bb837390a6cfca38",
      "9f987d1af1c64a4d8ff3fe747a240ea6",
      "42b61c7695af41fc90451394cec71abb",
      "bc5d860a46944903a0dcbcfb00f052b3",
      "beaf411dd5c04e78a34af6e435ada043",
      "23d22e9f0b5d485c9e5c4981c76a226c",
      "6a120fe6fba644e0976e2d8a4246b36f",
      "931e071e8695435899e68166182f183d",
      "e272aff535ba47b98345ab8de608f7fb",
      "66fd2423353a42e4a4590f150508233f",
      "a1c70cbf899d42e8b633a8e30fc8ec58",
      "4cf635a4c8e64b10b35be85c42cd95dc",
      "07a131a41201432fbe8afec34cd2d099",
      "dee690d86bb44b8ab8cf3369a3064dc8",
      "705f11ef1b624c18b2b6f1b6e0a25d7b",
      "7eea96607c1e41e4a5cad7ffaa037641",
      "c727721db01045df86973d45f6a706f6",
      "6751042ad4ba474dabc0d6309f5c26c0",
      "4434cabb8b5c4ea0a05bb67f9906fbfc",
      "b96f65a9ebb34292976eb25355ca60cc",
      "eb04d55691094cb4bf13bf40e0581d34",
      "6b28c7ae66f049a5ac172d98d4e348a1",
      "d055a1b15b424cfe87354c7dce9d5e77",
      "4a9d2f9154db4a5888660d3404016934",
      "c662b03cd5b24f309f8dcd3dc364d42b",
      "1676a69a907844ca9af8f12657f35ba0",
      "61591fcfc95c4d9d8ab4f56232077c4b",
      "f4fb99c26efa4b9cbd1c6bb2fa7c0509",
      "cc82ae9d513f4c1b8e4474f63da27a73",
      "f6f5cf44682847199769f79ac08c9d7a",
      "3b81b2bf7b894ac294c86e627597c5a6",
      "0d24d4a04d5544b59414fe4463ed0140",
      "70928db1e12d4b0fb7b18155ce7d65c4",
      "ff6661eb98c64d3bab3f2c4d7b1a2a01",
      "263d2e4900a045569dec63d967c2c0be",
      "a471fa2f3c834f03afb272788a483e73",
      "cd73d6f94ef842bba63cea34064e92ed",
      "66e3c15578cd4122b7a57ae283060204",
      "23cabdbd765044c6800b3b45bd35baa5",
      "b75b64064fda46d3b1f0aa7244e3c827",
      "2a1e2ef7cd3e4560a294baaf2740845d",
      "0898913fb15e47cc876a82f57d26d22e",
      "b03b6e2595e54748bc99a0af9555f676"
     ]
    },
    "id": "UPGOQg-jepQq",
    "outputId": "67e6ca98-631a-48b0-d583-fdfb6513b4db"
   },
   "outputs": [
    {
     "data": {
      "application/vnd.jupyter.widget-view+json": {
       "model_id": "b0ad3d79a06d48498aaa8a4ed922223d",
       "version_major": 2,
       "version_minor": 0
      },
      "text/plain": [
       "preprocessor_config.json: 0.00B [00:00, ?B/s]"
      ]
     },
     "metadata": {},
     "output_type": "display_data"
    },
    {
     "data": {
      "application/vnd.jupyter.widget-view+json": {
       "model_id": "ad808c32c70b40e298be41beeaf2db85",
       "version_major": 2,
       "version_minor": 0
      },
      "text/plain": [
       "tokenizer_config.json: 0.00B [00:00, ?B/s]"
      ]
     },
     "metadata": {},
     "output_type": "display_data"
    },
    {
     "data": {
      "application/vnd.jupyter.widget-view+json": {
       "model_id": "74c7af4a042c46878eb3bf6978430077",
       "version_major": 2,
       "version_minor": 0
      },
      "text/plain": [
       "vocab.json: 0.00B [00:00, ?B/s]"
      ]
     },
     "metadata": {},
     "output_type": "display_data"
    },
    {
     "data": {
      "application/vnd.jupyter.widget-view+json": {
       "model_id": "c017e9ae40664c5a89506bfb364db926",
       "version_major": 2,
       "version_minor": 0
      },
      "text/plain": [
       "tokenizer.json: 0.00B [00:00, ?B/s]"
      ]
     },
     "metadata": {},
     "output_type": "display_data"
    },
    {
     "data": {
      "application/vnd.jupyter.widget-view+json": {
       "model_id": "4e5b512ec30f4d76bfcb0b056ff813a1",
       "version_major": 2,
       "version_minor": 0
      },
      "text/plain": [
       "merges.txt: 0.00B [00:00, ?B/s]"
      ]
     },
     "metadata": {},
     "output_type": "display_data"
    },
    {
     "data": {
      "application/vnd.jupyter.widget-view+json": {
       "model_id": "e082891f9e43409787c147e26e5053d9",
       "version_major": 2,
       "version_minor": 0
      },
      "text/plain": [
       "normalizer.json: 0.00B [00:00, ?B/s]"
      ]
     },
     "metadata": {},
     "output_type": "display_data"
    },
    {
     "data": {
      "application/vnd.jupyter.widget-view+json": {
       "model_id": "5c845a2ce38644e4b6a1ab610b8a254f",
       "version_major": 2,
       "version_minor": 0
      },
      "text/plain": [
       "added_tokens.json: 0.00B [00:00, ?B/s]"
      ]
     },
     "metadata": {},
     "output_type": "display_data"
    },
    {
     "data": {
      "application/vnd.jupyter.widget-view+json": {
       "model_id": "c8bc6e06621142b89cfde335fb1a994b",
       "version_major": 2,
       "version_minor": 0
      },
      "text/plain": [
       "special_tokens_map.json: 0.00B [00:00, ?B/s]"
      ]
     },
     "metadata": {},
     "output_type": "display_data"
    },
    {
     "data": {
      "application/vnd.jupyter.widget-view+json": {
       "model_id": "a1c70cbf899d42e8b633a8e30fc8ec58",
       "version_major": 2,
       "version_minor": 0
      },
      "text/plain": [
       "Map:   0%|          | 0/800 [00:00<?, ? examples/s]"
      ]
     },
     "metadata": {},
     "output_type": "display_data"
    },
    {
     "data": {
      "application/vnd.jupyter.widget-view+json": {
       "model_id": "6b28c7ae66f049a5ac172d98d4e348a1",
       "version_major": 2,
       "version_minor": 0
      },
      "text/plain": [
       "Map:   0%|          | 0/400 [00:00<?, ? examples/s]"
      ]
     },
     "metadata": {},
     "output_type": "display_data"
    },
    {
     "data": {
      "application/vnd.jupyter.widget-view+json": {
       "model_id": "70928db1e12d4b0fb7b18155ce7d65c4",
       "version_major": 2,
       "version_minor": 0
      },
      "text/plain": [
       "Map:   0%|          | 0/400 [00:00<?, ? examples/s]"
      ]
     },
     "metadata": {},
     "output_type": "display_data"
    }
   ],
   "source": [
    "TARGET_SR = 16000\n",
    "model_checkpoint = \"openai/whisper-small\"\n",
    "processor = WhisperProcessor.from_pretrained(model_checkpoint)\n",
    "feature_extractor = processor.feature_extractor\n",
    "tokenizer = processor.tokenizer\n",
    "\n",
    "# 16kHz 캐스팅\n",
    "train_dataset = train_dataset.cast_column(\"audio\", Audio(sampling_rate=TARGET_SR))\n",
    "val_dataset   = val_dataset.cast_column(\"audio\",   Audio(sampling_rate=TARGET_SR))\n",
    "test_dataset  = test_dataset.cast_column(\"audio\",  Audio(sampling_rate=TARGET_SR))\n",
    "\n",
    "def prepare_dataset(example):\n",
    "    audio = example[\"audio\"]\n",
    "    example[\"input_features\"] = processor.feature_extractor(audio[\"array\"], sampling_rate=TARGET_SR).input_features[0]\n",
    "    example[\"labels\"] = processor.tokenizer(example[\"sentence\"]).input_ids\n",
    "    return example\n",
    "\n",
    "# 훈련은 가볍게, 검증/테스트는 sentence 보존(디버깅 용)\n",
    "keep_train = {\"input_features\",\"labels\",\"locale\"}\n",
    "keep_eval  = {\"input_features\",\"labels\",\"locale\",\"sentence\"}\n",
    "\n",
    "processed_dataset_train = train_dataset.map(\n",
    "    prepare_dataset,\n",
    "    remove_columns=[c for c in train_dataset.column_names if c not in keep_train]\n",
    ")\n",
    "processed_dataset_val = val_dataset.map(\n",
    "    prepare_dataset,\n",
    "    remove_columns=[c for c in val_dataset.column_names if c not in keep_eval]\n",
    ")\n",
    "processed_dataset_test = test_dataset.map(\n",
    "    prepare_dataset,\n",
    "    remove_columns=[c for c in test_dataset.column_names if c not in keep_eval]\n",
    ")\n",
    "\n",
    "processed_dataset_train.set_format(columns=list(keep_train))\n",
    "processed_dataset_val.set_format(columns=list(keep_eval))\n",
    "processed_dataset_test.set_format(columns=list(keep_eval))"
   ]
  },
  {
   "cell_type": "code",
   "execution_count": null,
   "metadata": {
    "id": "0sfhrsJAesCb"
   },
   "outputs": [],
   "source": [
    "import torchaudio\n",
    "\n",
    "def _to_tensor_1ch(x_np):\n",
    "    x = torch.tensor(np.asarray(x_np, dtype=np.float32))\n",
    "    if x.dim() == 1: x = x.unsqueeze(0)\n",
    "    return x\n",
    "\n",
    "def tempo_perturb_np(wav_np, sr, rate: float):\n",
    "    if rate == 1.0:\n",
    "        return wav_np, sr\n",
    "    wav = _to_tensor_1ch(wav_np)\n",
    "    effects = [[\"tempo\", str(rate)]]  # 피치 보존\n",
    "    aug, sr_out = torchaudio.sox_effects.apply_effects_tensor(wav, sr, effects)\n",
    "    return aug.squeeze(0).numpy(), sr_out\n",
    "\n",
    "def augment_copy(ds_raw, rate: float):\n",
    "    def _aug(b):\n",
    "        a = b[\"audio\"]\n",
    "        aug_np, sr_out = tempo_perturb_np(a[\"array\"], a[\"sampling_rate\"], rate)\n",
    "        b[\"audio\"] = {\"array\": aug_np, \"path\": None, \"sampling_rate\": sr_out}\n",
    "        return b\n",
    "    ds_aug = ds_raw.map(_aug)\n",
    "    ds_proc = ds_aug.map(\n",
    "        prepare_dataset,\n",
    "        remove_columns=[c for c in ds_aug.column_names if c not in {\"input_features\",\"labels\",\"locale\"}]\n",
    "    )\n",
    "    ds_proc.set_format(columns=[\"input_features\",\"labels\",\"locale\"])\n",
    "    return ds_proc\n",
    "\n",
    "# ----- 여기만 바꿔서 다양한 실험 -----\n",
    "AUG_RATES = [0.7]                  # 예) [0.7] / [0.9] / [1.1] / [1.3] / [0.7,0.9,1.1,1.3]\n",
    "AUG_RATIO_PER_RATE = 1.0           # 1.0이면 각 rate당 원본과 1:1 → all4면 (1+4)배\n",
    "OUTPUT_DIR_SUFFIX = \"r07\"          # 폴더 구분용(예: r07, r11, all4 등)"
   ]
  },
  {
   "cell_type": "code",
   "execution_count": null,
   "metadata": {
    "colab": {
     "base_uri": "https://localhost:8080/",
     "height": 170,
     "referenced_widgets": [
      "5e1fe9c97c104b91b20619a639820cef",
      "7f1116079ea54fd58679438247a65439",
      "9ad051142baa4322aa7778aa30bf040b",
      "917612bf3bc9479c9ab23c2ac9642f96",
      "4b370058786544febf768f9a682233c2",
      "78523b0583b34d58a8f54f8ed318bd03",
      "ea37cd61ab1b4ffa86a5fde9a7d9e774",
      "943d70a1f0bc4e8fa566c20cacbbd210",
      "2887280d8f284c59b04bddda59f4e397",
      "220819a3a2534b9797fe5f7b8abc02b5",
      "521bde8c19c74e5f872aa210ca0d0aa5",
      "8ffeb938d02542c4871fad5b560b13e4",
      "f8fc377c8ea944ee9d52f1158b69f482",
      "43117dfcd67f4bb0bd651214795b7adb",
      "5a6a5b655ac244069a52132873c66d1f",
      "ee20745019f74d24a56ce7694e99c8ca",
      "ae3785342cd5499595b62108a303dada",
      "13c0e9b78bef4487905c0e11db54cbad",
      "5f774891f9b94a26be612c79f0157ba0",
      "39e7834e4126411785f1037213971d0f",
      "4f2835e074e04872b19f93b790a4d0a3",
      "cbd6bb0259ec4b699ddf33ff93ba6c20"
     ]
    },
    "id": "JUMGnl0levG8",
    "outputId": "ca0d3cfc-5956-410f-bb3f-65f16022e26b"
   },
   "outputs": [
    {
     "data": {
      "application/vnd.jupyter.widget-view+json": {
       "model_id": "5e1fe9c97c104b91b20619a639820cef",
       "version_major": 2,
       "version_minor": 0
      },
      "text/plain": [
       "Map:   0%|          | 0/800 [00:00<?, ? examples/s]"
      ]
     },
     "metadata": {},
     "output_type": "display_data"
    },
    {
     "name": "stderr",
     "output_type": "stream",
     "text": [
      "/tmp/ipython-input-3590644533.py:13: UserWarning: torchaudio.sox_effects.sox_effects.apply_effects_tensor has been deprecated. This deprecation is part of a large refactoring effort to transition TorchAudio into a maintenance phase. Please see https://github.com/pytorch/audio/issues/3902 for more information. It will be removed from the 2.9 release. \n",
      "  aug, sr_out = torchaudio.sox_effects.apply_effects_tensor(wav, sr, effects)\n"
     ]
    },
    {
     "data": {
      "application/vnd.jupyter.widget-view+json": {
       "model_id": "8ffeb938d02542c4871fad5b560b13e4",
       "version_major": 2,
       "version_minor": 0
      },
      "text/plain": [
       "Map:   0%|          | 0/800 [00:00<?, ? examples/s]"
      ]
     },
     "metadata": {},
     "output_type": "display_data"
    },
    {
     "name": "stdout",
     "output_type": "stream",
     "text": [
      "Aug rate 0.7: using 800 / 800\n",
      "Train(orig): 800 → Mixed: 1600\n"
     ]
    }
   ],
   "source": [
    "train_raw_16k = train_dataset.cast_column(\"audio\", Audio(sampling_rate=TARGET_SR))\n",
    "aug_list = []\n",
    "k = len(processed_dataset_train)\n",
    "m_each = int(k * AUG_RATIO_PER_RATE)\n",
    "\n",
    "for r in AUG_RATES:\n",
    "    ds_aug = augment_copy(train_raw_16k, r)\n",
    "    m = min(len(ds_aug), m_each)\n",
    "    aug_list.append(ds_aug.shuffle(seed=SEED).select(range(m)))\n",
    "    print(f\"Aug rate {r}: using {m} / {len(ds_aug)}\")\n",
    "\n",
    "# 원본 + 모든 증강 합치기\n",
    "proc_train_mix = concatenate_datasets([processed_dataset_train] + aug_list).shuffle(seed=SEED)\n",
    "print(\"Train(orig):\", len(processed_dataset_train), \"→ Mixed:\", len(proc_train_mix))"
   ]
  },
  {
   "cell_type": "code",
   "execution_count": null,
   "metadata": {
    "colab": {
     "base_uri": "https://localhost:8080/",
     "height": 113,
     "referenced_widgets": [
      "08f53d62fbae4d54a7addbf525e4c0e5",
      "06d07c980ce84b19bed8e30ea6bbd4b9",
      "4dd84899d3674f5a994bcbee8d846a97",
      "5b0091ca20474fbea6db319d1f0fb819",
      "7b9be30f9c634f71bf9886dbe06a2313",
      "64bb1d5c1cb345d7ae2ce4cd94b4e128",
      "3534f6bd8dd64bd1bf4311cce1576d72",
      "55de1a435dca4cedb49a379c7afc8f8c",
      "9573f7d65bec4d6d9d7282d8e7211b97",
      "d3085291ff6f49e5ab1a8db7bdba7ce7",
      "ab97bd1f816c4ca4a87889b96f97d4ba",
      "3c16ff45af7c496289351f8f8f92cb1f",
      "064d0ac5986f4d008c6ce1bf58c2d9ec",
      "959fa8a70f154f4baa134a0705445ecd",
      "269cfc8ab9b247f3bdbe0489262a2776",
      "fa4a49b32c894c47a75e86ede0293430",
      "c19b3dfaaa0540cdaf7576b06e4dafa3",
      "38470f31000a4842950b46e8b8a5c8f8",
      "f16ea695963f4e61bdd80f674447d179",
      "ceeb32a2ad2d491f8e3a0736957eb9f7",
      "c266ffe0c4c0461c9953d2e9d1e24f33",
      "f53fc12028c24cd8b6b03b4dad197f1b",
      "1c98f3d265a24af2bf0c5b045aaf63ab",
      "de12b8e0e0b84e6c93b76be370762c95",
      "2e0ad50bcee24a00aa8ea118ff1b7936",
      "ee4a6531ad3a43d9be0544a8eda1cdfe",
      "548f6888b0a44e278f97a87851a2c6d2",
      "79b18f8908d4436e8c40968bb01ea4ce",
      "1ad232a09ab84fa684631172b5399c42",
      "3ff0cb19da0e4468b24434c1abd8e1ef",
      "32358abdf1814bd0b4604538d4b74665",
      "9741c93e481144ce94c7a49448877be9",
      "1e8e16ad21e44f0992b99ef1f7b39c34"
     ]
    },
    "id": "vWQ2gUroeyE9",
    "outputId": "2f398174-8c67-4614-999e-80f6876a6ce9"
   },
   "outputs": [
    {
     "data": {
      "application/vnd.jupyter.widget-view+json": {
       "model_id": "08f53d62fbae4d54a7addbf525e4c0e5",
       "version_major": 2,
       "version_minor": 0
      },
      "text/plain": [
       "config.json: 0.00B [00:00, ?B/s]"
      ]
     },
     "metadata": {},
     "output_type": "display_data"
    },
    {
     "data": {
      "application/vnd.jupyter.widget-view+json": {
       "model_id": "3c16ff45af7c496289351f8f8f92cb1f",
       "version_major": 2,
       "version_minor": 0
      },
      "text/plain": [
       "model.safetensors:   0%|          | 0.00/967M [00:00<?, ?B/s]"
      ]
     },
     "metadata": {},
     "output_type": "display_data"
    },
    {
     "data": {
      "application/vnd.jupyter.widget-view+json": {
       "model_id": "1c98f3d265a24af2bf0c5b045aaf63ab",
       "version_major": 2,
       "version_minor": 0
      },
      "text/plain": [
       "generation_config.json: 0.00B [00:00, ?B/s]"
      ]
     },
     "metadata": {},
     "output_type": "display_data"
    }
   ],
   "source": [
    "# ===== 5) 모델/콜레이터/학습 =====\n",
    "model = WhisperForConditionalGeneration.from_pretrained(model_checkpoint)\n",
    "model.config.use_cache = False\n",
    "# 학습 중 언어 강제 OFF (평가 시만 ON)\n",
    "model.config.forced_decoder_ids = None\n",
    "model.config.suppress_tokens = []\n",
    "# (안전) 디코더 시작/패드 토큰\n",
    "start_id = processor.tokenizer.convert_tokens_to_ids(\"<|startoftranscript|>\")\n",
    "model.config.decoder_start_token_id = start_id\n",
    "model.generation_config.decoder_start_token_id = start_id\n",
    "model.config.pad_token_id = processor.tokenizer.pad_token_id\n",
    "\n",
    "@dataclass\n",
    "class DataCollatorSpeechSeq2SeqWithPadding:\n",
    "    processor: Any\n",
    "    padding: Union[bool, str] = True\n",
    "    def __call__(self, features: List[Dict[str, Union[List[int], torch.Tensor]]]) -> Dict[str, torch.Tensor]:\n",
    "        input_features = [{\"input_features\": f[\"input_features\"]} for f in features]\n",
    "        label_features = [{\"input_ids\": f[\"labels\"]} for f in features]\n",
    "        batch = self.processor.feature_extractor.pad(input_features, return_tensors=\"pt\")\n",
    "        labels_batch = self.processor.tokenizer.pad(label_features, return_tensors=\"pt\")\n",
    "        labels = labels_batch[\"input_ids\"].masked_fill(labels_batch.attention_mask.ne(1), -100)\n",
    "        batch[\"labels\"] = labels\n",
    "        return batch\n",
    "\n",
    "data_collator = DataCollatorSpeechSeq2SeqWithPadding(processor=processor)"
   ]
  },
  {
   "cell_type": "code",
   "execution_count": null,
   "metadata": {
    "colab": {
     "base_uri": "https://localhost:8080/",
     "height": 432
    },
    "id": "8b2A4Zi3e059",
    "outputId": "e0675a76-46a2-42ae-b88b-d60b05324602"
   },
   "outputs": [
    {
     "name": "stderr",
     "output_type": "stream",
     "text": [
      "/usr/local/lib/python3.12/dist-packages/transformers/training_args.py:1525: FutureWarning: `evaluation_strategy` is deprecated and will be removed in version 4.46 of 🤗 Transformers. Use `eval_strategy` instead\n",
      "  warnings.warn(\n"
     ]
    },
    {
     "data": {
      "text/html": [
       "\n",
       "    <div>\n",
       "      \n",
       "      <progress value='600' max='600' style='width:300px; height:20px; vertical-align: middle;'></progress>\n",
       "      [600/600 21:00, Epoch 3/3]\n",
       "    </div>\n",
       "    <table border=\"1\" class=\"dataframe\">\n",
       "  <thead>\n",
       " <tr style=\"text-align: left;\">\n",
       "      <th>Epoch</th>\n",
       "      <th>Training Loss</th>\n",
       "      <th>Validation Loss</th>\n",
       "    </tr>\n",
       "  </thead>\n",
       "  <tbody>\n",
       "    <tr>\n",
       "      <td>1</td>\n",
       "      <td>0.166200</td>\n",
       "      <td>0.719698</td>\n",
       "    </tr>\n",
       "    <tr>\n",
       "      <td>2</td>\n",
       "      <td>0.018600</td>\n",
       "      <td>0.744427</td>\n",
       "    </tr>\n",
       "    <tr>\n",
       "      <td>3</td>\n",
       "      <td>0.001900</td>\n",
       "      <td>0.730484</td>\n",
       "    </tr>\n",
       "  </tbody>\n",
       "</table><p>"
      ],
      "text/plain": [
       "<IPython.core.display.HTML object>"
      ]
     },
     "metadata": {},
     "output_type": "display_data"
    },
    {
     "name": "stderr",
     "output_type": "stream",
     "text": [
      "Some non-default generation parameters are set in the model config. These should go into a GenerationConfig file (https://huggingface.co/docs/transformers/generation_strategies#save-a-custom-decoding-strategy-with-your-model) instead. This warning will be raised to an exception in v4.41.\n",
      "Non-default generation parameters: {'max_length': 448, 'suppress_tokens': [], 'begin_suppress_tokens': [220, 50257]}\n",
      "Some non-default generation parameters are set in the model config. These should go into a GenerationConfig file (https://huggingface.co/docs/transformers/generation_strategies#save-a-custom-decoding-strategy-with-your-model) instead. This warning will be raised to an exception in v4.41.\n",
      "Non-default generation parameters: {'max_length': 448, 'suppress_tokens': [], 'begin_suppress_tokens': [220, 50257]}\n",
      "Some non-default generation parameters are set in the model config. These should go into a GenerationConfig file (https://huggingface.co/docs/transformers/generation_strategies#save-a-custom-decoding-strategy-with-your-model) instead. This warning will be raised to an exception in v4.41.\n",
      "Non-default generation parameters: {'max_length': 448, 'suppress_tokens': [], 'begin_suppress_tokens': [220, 50257]}\n",
      "Some non-default generation parameters are set in the model config. These should go into a GenerationConfig file (https://huggingface.co/docs/transformers/generation_strategies#save-a-custom-decoding-strategy-with-your-model) instead. This warning will be raised to an exception in v4.41.\n",
      "Non-default generation parameters: {'max_length': 448, 'suppress_tokens': [], 'begin_suppress_tokens': [220, 50257]}\n",
      "There were missing keys in the checkpoint model loaded: ['proj_out.weight'].\n"
     ]
    },
    {
     "data": {
      "text/plain": [
       "TrainOutput(global_step=600, training_loss=0.24489091387329, metrics={'train_runtime': 1264.964, 'train_samples_per_second': 3.795, 'train_steps_per_second': 0.474, 'total_flos': 1.385209921536e+18, 'train_loss': 0.24489091387329, 'epoch': 3.0})"
      ]
     },
     "execution_count": 10,
     "metadata": {},
     "output_type": "execute_result"
    }
   ],
   "source": [
    "training_args = Seq2SeqTrainingArguments(\n",
    "    output_dir=f\"./whisper-small-aug_{OUTPUT_DIR_SUFFIX}\",\n",
    "    per_device_train_batch_size=4,\n",
    "    gradient_accumulation_steps=2,\n",
    "    learning_rate=5e-5,             # baseline과 동일(공정 비교)\n",
    "    num_train_epochs=3,              # baseline과 동일\n",
    "    logging_steps=10,\n",
    "    save_strategy=\"epoch\",\n",
    "    evaluation_strategy=\"epoch\",\n",
    "    load_best_model_at_end=True,\n",
    "    fp16=torch.cuda.is_available(),\n",
    "    report_to=\"none\",\n",
    "\n",
    "    predict_with_generate=True,\n",
    "    generation_max_length=225,\n",
    "\n",
    "    remove_unused_columns=False,\n",
    ")\n",
    "\n",
    "trainer = Seq2SeqTrainer(\n",
    "    model=model,\n",
    "    args=training_args,\n",
    "    train_dataset=proc_train_mix,\n",
    "    eval_dataset=processed_dataset_val,   # 검증은 원본만\n",
    "    tokenizer=processor,\n",
    "    data_collator=data_collator,\n",
    "    callbacks=[EarlyStoppingCallback(early_stopping_patience=2)],\n",
    ")\n",
    "\n",
    "trainer.train()"
   ]
  },
  {
   "cell_type": "code",
   "execution_count": null,
   "metadata": {
    "colab": {
     "base_uri": "https://localhost:8080/",
     "height": 1000,
     "referenced_widgets": [
      "054fb437d8b04751863f66487b66367a",
      "69bb18b88eb24b6a921898723e52b929",
      "b432010675de4c149e0e2521c9f3f013",
      "0c0cb992d8b34fc7a53a1dafe11c9d44",
      "fbd41177ed164442983597a841374943",
      "3ee1134cc5d8415d9bce6e1076517b88",
      "76224dac2b2c4110a6e7fe7424f21e4a",
      "df1e4abd95304f599a5d2ed1e60b69ec",
      "fad9635dc5834437b659290093df1d03",
      "721c34faed364080a8cfcab7f0886572",
      "bf13fe6c4df446adb00cc732fc4e0c70",
      "5d87db8d3c7a4602828a0dd2622c828b",
      "72ad2c2a4552426f8116bee5ff44c440",
      "b59727e0a99849c3adb280b4a7b6cae0",
      "9dc9d9d7296d47e5bf9613da023739b6",
      "41cb4ea96fcf47dbabac75501c2004f0",
      "c698db02a9b741ba8df85971b06b754d",
      "7906d1e08021454781130d56bfa891fa",
      "00b6b79bfdf24a23a86dc2ac1d5916fc",
      "1650cd452b5841d1af26fe0b0546ebc3",
      "432c8dad71644c38a97c93ededc3f889",
      "8fc8dd0dc7ca4842b651f4ba8db70b36",
      "2635f78124604de39ddbf9a672dd64aa",
      "709360e11fb84d6d9309a85b5dc2b25b",
      "53e15609302c49bdbf6510279d3121ab",
      "c92f09baa47845d0a192e205c8474716",
      "9aa017f1adc14c03a89e0f4db7d1e2da",
      "d8fc814864d9460cbdee13b82d681960",
      "8477c4db35b8406a9869500b992a339f",
      "d585a0e6525a42daa348e15567c52414",
      "b10f993270114a48920492863498d64c",
      "704bb3d61f5146469ff0957326228bfc",
      "3e5a1c0dc0ce49d19bccc24f294826fe",
      "32c80fb3395d463a90a5741abb0895ba",
      "e03dc2db65904452abd8a314b71e9e7a",
      "56b57184b3f7460ca0653e80e8375fce",
      "3993f59b731c4054a47a9b400268e78b",
      "c728cac76b704c598dee3d41377ea546",
      "267301072cfa4a80ab415e85b2b86662",
      "ec27b89d09b0405781a0e9c51f83373e",
      "f21b80dd3e184a9fa8e783de0231a476",
      "d1e7d63588304ad2b35497a2314f20b0",
      "5b5d648a3d0e4ed2857e2ef906bbf2a6",
      "d81b5579acaf4e6c80f7762f950be059",
      "6ea01e7b03964eeaa7d5edcdead4fd89",
      "fd2e7071978e4926ad4a7ef2a8d51a85",
      "6cbc8e6802d241038a76b969996e187c",
      "fc5b870bea2a43b09680480acc01fe40",
      "c13cb14558d04c358f050bf5c470fd0b",
      "f3ba2053d546457989132bb593698bcb",
      "5a38a3dd395544a1b756004e43321509",
      "a4a6315a24ad45b19a5f603a4ee7a234",
      "d6b6e09b3edb4451ae9fedd287f1c7fd",
      "15250347982141fc8ed130ab478e45c9",
      "b0af01a6b8794d84ab453df61d6eef29",
      "37e76a8e2d354ef88341eecc892c791f",
      "e447ae0580ba4e61952f2ff35a8c3c14",
      "7d7c41865b4046cba4aef8f52503c29f",
      "75f20b29c2e34bb2a056d52372b978a8",
      "b382833e35884c89906d638dfd0b0697",
      "8b5cb563163a480bbf9950e0d22e2208",
      "fb1d2b668d6049788db621388544a93b",
      "765d8e7b74c04ee09b3328bb676e59bc",
      "c5760528d26f4fdea7e12de0693a79b4",
      "0cd5e9b8adb34ca6a3ed142235f52bc1",
      "e9f500568f9942889ad4aee5557f5446",
      "fe2502d419c84ba7acc98955333297d9",
      "3d7816cdb5094bf1b85523e2344fcf55",
      "0436fc98061744308a2754ea21f49b89",
      "c7b4b6a2116846d8ab7e9bfb774df3f7",
      "6db910e05ceb4b03bdcf7cb713209d04",
      "9caf5cd8717546dfa37b7f76b7744591",
      "d359bd63824f40f79ca9bfb27ddbbec0",
      "c10c229aabf54f9198d49ad0f80a5140",
      "e0fe90d1f2304eb292eabaaeaba7812f",
      "d62946d52c0b4f4db8490473693b2572",
      "79f73ae8c113445c9d1367cc79977894",
      "4cd34394150845c0baa019f63e3eb53b",
      "09d67d154d0a4fe7ad8c3d4873221272",
      "bfc5fb39d25b4d6594b92047ad938866",
      "1986e2372ea34423a3d713ff4aaaa63d",
      "f2e8c15591de40ab92f3a1ebcf65c272",
      "a446da85da3c4a1e89c5b9af36890e7d",
      "3b67b4cb144b41319ed72ffea8929d34",
      "cdb2f35ad8a24e22807477a571eea3f2",
      "149e9a26b0064c60975d37082423fc3d",
      "65849ca214ae4103a85dd46e87e5c1f4",
      "da22afc0c9674b0092edeef8cdb64b1e",
      "725c2329f1a4471180a5f016864cf853",
      "fb3ffc0f156d442ba0575fbe570d3e6d",
      "3b85d664e0ce46ee89a4770122049622",
      "df1d461c94fc4d46b251a3779b6541ac",
      "3f6e33eb6e664ac1a57ddacc40fe40f7",
      "571a6483e6234f138dd9c9459c5df0ac",
      "bbf093cd64c440348c30da73ef07fd88",
      "e2fcc41224d34a6c9858792cdd8b8fef",
      "07b3e86fc4f44608931379d41db3b0a5",
      "d9d9b62b0f144450afa3b35e9ddbf111",
      "72c863dd253c462bbadddff4625e6343",
      "944d1c943a424d2b95d1d1105e467546",
      "0f0fb6e7a8dd4937a21a605042891963",
      "972327e3cc084c48b0ca4bc57b36b93f",
      "c03943f3cd9b43d2b275781b1fe1d8e9",
      "1d8663be89d841d2a75bb0cebd8ed7ad",
      "578f284d9985414abce4aba1b1b560f9",
      "1f486d9ab2e9402793df43776b98c2cf",
      "88ee090190e2464ebe99d3b5ed8d1832",
      "ec918291e31a459882c8db0a56b03faf",
      "0b6272c9ee1f4cabb412f66aa16df602",
      "d7bee6c74d2b4ba7ae795c032b1f6997"
     ]
    },
    "id": "Bbd3oacAe3mW",
    "outputId": "cae9f334-23ec-44c0-9f5d-98fa987cbe83"
   },
   "outputs": [
    {
     "data": {
      "application/vnd.jupyter.widget-view+json": {
       "model_id": "054fb437d8b04751863f66487b66367a",
       "version_major": 2,
       "version_minor": 0
      },
      "text/plain": [
       "Downloading builder script: 0.00B [00:00, ?B/s]"
      ]
     },
     "metadata": {},
     "output_type": "display_data"
    },
    {
     "data": {
      "application/vnd.jupyter.widget-view+json": {
       "model_id": "5d87db8d3c7a4602828a0dd2622c828b",
       "version_major": 2,
       "version_minor": 0
      },
      "text/plain": [
       "Downloading builder script: 0.00B [00:00, ?B/s]"
      ]
     },
     "metadata": {},
     "output_type": "display_data"
    },
    {
     "data": {
      "application/vnd.jupyter.widget-view+json": {
       "model_id": "2635f78124604de39ddbf9a672dd64aa",
       "version_major": 2,
       "version_minor": 0
      },
      "text/plain": [
       "Filter:   0%|          | 0/400 [00:00<?, ? examples/s]"
      ]
     },
     "metadata": {},
     "output_type": "display_data"
    },
    {
     "data": {
      "application/vnd.jupyter.widget-view+json": {
       "model_id": "32c80fb3395d463a90a5741abb0895ba",
       "version_major": 2,
       "version_minor": 0
      },
      "text/plain": [
       "Filter:   0%|          | 0/400 [00:00<?, ? examples/s]"
      ]
     },
     "metadata": {},
     "output_type": "display_data"
    },
    {
     "name": "stderr",
     "output_type": "stream",
     "text": [
      "The attention mask is not set and cannot be inferred from input because pad token is same as eos token. As a consequence, you may observe unexpected behavior. Please pass your input's `attention_mask` to obtain reliable results.\n"
     ]
    },
    {
     "data": {
      "text/html": [],
      "text/plain": [
       "<IPython.core.display.HTML object>"
      ]
     },
     "metadata": {},
     "output_type": "display_data"
    },
    {
     "name": "stdout",
     "output_type": "stream",
     "text": [
      "\n",
      "[test_orig_r07] KO samples (k=5)\n",
      "#00 PRED: 그러나 실제로 뽑은 숫자는 지난주에 빚지 못한 것으로 나타났다.\n",
      "     REF(dec): 그러나 실제로 뽑은 숫자는 지난 주에 미치지 못한 것으로 나타났다.\n",
      "     REF(raw): 그러나 실제로 뽑은 숫자는 지난 주에 미치지 못한 것으로 나타났다.\n",
      "---\n",
      "#01 PRED: 신압대는 이렇게 말하며 유서방을 검눈질 해보았다.\n",
      "     REF(dec): 싱앗대는 이렇게 말하며 유서방을 곁눈질해 보았다.\n",
      "     REF(raw): 싱앗대는 이렇게 말하며 유서방을 곁눈질해 보았다.\n",
      "---\n",
      "#02 PRED: 신철이는 어찌보면 감정을 가진 사람같이 안아보았다.\n",
      "     REF(dec): 신철이는 어찌 보면 감정을 가진 사람 같지 않아 보였다.\n",
      "     REF(raw): 신철이는 어찌 보면 감정을 가진 사람 같지 않아 보였다.\n",
      "---\n",
      "#03 PRED: 내다보니까 온다 어려웠던 집에 불이 붙으며 사람들이 왔다갔다 야단이었습니다.\n",
      "     REF(dec): 내다보니까 언덕 아래 어떤 집에 불이 붙으며 사람들이 왔다갔다 야단이었습니다.\n",
      "     REF(raw): 내다보니까 언덕 아래 어떤 집에 불이 붙으며 사람들이 왔다갔다 야단이었습니다.\n",
      "---\n",
      "#04 PRED:  일력화가 무거워 지네 그의 몸은 이상은 가벼졌고\n",
      "     REF(dec): 인력거가 무거워지매 그의 몸은 이상하게도 가벼워졌고\n",
      "     REF(raw): 인력거가 무거워지매 그의 몸은 이상하게도 가벼워졌고\n",
      "---\n"
     ]
    },
    {
     "data": {
      "application/vnd.jupyter.widget-view+json": {
       "model_id": "6ea01e7b03964eeaa7d5edcdead4fd89",
       "version_major": 2,
       "version_minor": 0
      },
      "text/plain": [
       "Filter:   0%|          | 0/400 [00:00<?, ? examples/s]"
      ]
     },
     "metadata": {},
     "output_type": "display_data"
    },
    {
     "data": {
      "application/vnd.jupyter.widget-view+json": {
       "model_id": "37e76a8e2d354ef88341eecc892c791f",
       "version_major": 2,
       "version_minor": 0
      },
      "text/plain": [
       "Filter:   0%|          | 0/400 [00:00<?, ? examples/s]"
      ]
     },
     "metadata": {},
     "output_type": "display_data"
    },
    {
     "data": {
      "text/html": [],
      "text/plain": [
       "<IPython.core.display.HTML object>"
      ]
     },
     "metadata": {},
     "output_type": "display_data"
    },
    {
     "name": "stdout",
     "output_type": "stream",
     "text": [
      "\n",
      "[test_orig_r07] JA samples (k=5)\n",
      "#00 PRED: 福島県広野町\n",
      "     REF(dec): 福島県広野町\n",
      "     REF(raw): 福島県広野町\n",
      "---\n",
      "#01 PRED: だが言葉の\n",
      "     REF(dec): だが断る\n",
      "     REF(raw): だが断る\n",
      "---\n",
      "#02 PRED: そして、いくら未来としても、君が悪ければ、我は書いて、その紙を、じっと見つめないではいられませんでした。\n",
      "     REF(dec): そして、いくら見まいとしても、きみが悪ければ悪いほど、かえってその影を、じっと見つめないではいられませんでした。\n",
      "     REF(raw): そして、いくら見まいとしても、きみが悪ければ悪いほど、かえってその影を、じっと見つめないではいられませんでした。\n",
      "---\n",
      "#03 PRED: ニーナザク選手のシュートは、ハノファである。\n",
      "     REF(dec): ニーダーザクセン州の州都はハノーファーである\n",
      "     REF(raw): ニーダーザクセン州の州都はハノーファーである\n",
      "---\n",
      "#04 PRED: そこで自分で出がけて行って、調べ始めました。彼はさんざん探し回りました。\n",
      "     REF(dec): そこで自分で出かけて行って、調べはじめました。かれはさんざんさがしまわりました。\n",
      "     REF(raw): そこで自分で出かけて行って、調べはじめました。かれはさんざんさがしまわりました。\n",
      "---\n"
     ]
    },
    {
     "data": {
      "application/vnd.jupyter.widget-view+json": {
       "model_id": "fe2502d419c84ba7acc98955333297d9",
       "version_major": 2,
       "version_minor": 0
      },
      "text/plain": [
       "Filter:   0%|          | 0/400 [00:00<?, ? examples/s]"
      ]
     },
     "metadata": {},
     "output_type": "display_data"
    },
    {
     "data": {
      "application/vnd.jupyter.widget-view+json": {
       "model_id": "4cd34394150845c0baa019f63e3eb53b",
       "version_major": 2,
       "version_minor": 0
      },
      "text/plain": [
       "Filter:   0%|          | 0/400 [00:00<?, ? examples/s]"
      ]
     },
     "metadata": {},
     "output_type": "display_data"
    },
    {
     "data": {
      "text/html": [],
      "text/plain": [
       "<IPython.core.display.HTML object>"
      ]
     },
     "metadata": {},
     "output_type": "display_data"
    },
    {
     "name": "stdout",
     "output_type": "stream",
     "text": [
      "\n",
      "[test_orig_r07] EN samples (k=5)\n",
      "#00 PRED: A long period belongs to the class of notes, although not a lot of good coverage.\n",
      "     REF(dec): Enoxaparin belongs to the class of drugs known as low molecular weight heparins.\n",
      "     REF(raw): Enoxaparin belongs to the class of drugs known as low molecular weight heparins.\n",
      "---\n",
      "#01 PRED: Eight.\n",
      "     REF(dec): eight\n",
      "     REF(raw): eight\n",
      "---\n",
      "#02 PRED: Do you mean it?\n",
      "     REF(dec): Do you mean it?\n",
      "     REF(raw): Do you mean it?\n",
      "---\n",
      "#03 PRED: You shall see the other guy, especially how good at fighting him.\n",
      "     REF(dec): You should see the other guy, specifically, how good at fighting he is.\n",
      "     REF(raw): You should see the other guy, specifically, how good at fighting he is.\n",
      "---\n",
      "#04 PRED: Karina's would enough of dancing with the stars, most of the following month.\n",
      "     REF(dec): Karina Smirnoff of \"Dancing With The Stars\" hosted the following month.\n",
      "     REF(raw): Karina Smirnoff of \"Dancing With The Stars\" hosted the following month.\n",
      "---\n"
     ]
    },
    {
     "data": {
      "application/vnd.jupyter.widget-view+json": {
       "model_id": "725c2329f1a4471180a5f016864cf853",
       "version_major": 2,
       "version_minor": 0
      },
      "text/plain": [
       "Filter:   0%|          | 0/400 [00:00<?, ? examples/s]"
      ]
     },
     "metadata": {},
     "output_type": "display_data"
    },
    {
     "data": {
      "application/vnd.jupyter.widget-view+json": {
       "model_id": "944d1c943a424d2b95d1d1105e467546",
       "version_major": 2,
       "version_minor": 0
      },
      "text/plain": [
       "Filter:   0%|          | 0/400 [00:00<?, ? examples/s]"
      ]
     },
     "metadata": {},
     "output_type": "display_data"
    },
    {
     "data": {
      "text/html": [],
      "text/plain": [
       "<IPython.core.display.HTML object>"
      ]
     },
     "metadata": {},
     "output_type": "display_data"
    },
    {
     "name": "stdout",
     "output_type": "stream",
     "text": [
      "\n",
      "[test_orig_r07] DE samples (k=5)\n",
      "#00 PRED: Wenn nicht, dann läck man sie ja in Durchchirmen in der Platsche.\n",
      "     REF(dec): Wenn nicht, dann legt man sie irgendwo hin, wo Platz ist.\n",
      "     REF(raw): Wenn nicht, dann legt man sie irgendwo hin, wo Platz ist.\n",
      "---\n",
      "#01 PRED: Wie ist die derzeitige Verkehrssituation?\n",
      "     REF(dec): Wie ist die derzeitige Verkehrssituation?\n",
      "     REF(raw): Wie ist die derzeitige Verkehrssituation?\n",
      "---\n",
      "#02 PRED: Aus dem Prozess hat er den Bezirk in Bevorgen den Kanalten Kischern zu bekommen.\n",
      "     REF(dec): Aus den Prozessakten der Hexenverfolgung sind keine authentischen Rezepte bekannt.\n",
      "     REF(raw): Aus den Prozessakten der Hexenverfolgung sind keine authentischen Rezepte bekannt.\n",
      "---\n",
      "#03 PRED: Er er rang den ersten Platz in seiner Hupraumklasse.\n",
      "     REF(dec): Er errang den ersten Platz in seiner Hubraumklasse.\n",
      "     REF(raw): Er errang den ersten Platz in seiner Hubraumklasse.\n",
      "---\n",
      "#04 PRED: Auch du schränkt!\n",
      "     REF(dec): Ach du Schreck!\n",
      "     REF(raw): Ach du Schreck!\n",
      "---\n"
     ]
    },
    {
     "data": {
      "application/vnd.google.colaboratory.intrinsic+json": {
       "summary": "{\n  \"name\": \"df_test\",\n  \"rows\": 4,\n  \"fields\": [\n    {\n      \"column\": \"set\",\n      \"properties\": {\n        \"dtype\": \"category\",\n        \"num_unique_values\": 1,\n        \"samples\": [\n          \"test_orig_r07\"\n        ],\n        \"semantic_type\": \"\",\n        \"description\": \"\"\n      }\n    },\n    {\n      \"column\": \"lang\",\n      \"properties\": {\n        \"dtype\": \"string\",\n        \"num_unique_values\": 4,\n        \"samples\": [\n          \"en\"\n        ],\n        \"semantic_type\": \"\",\n        \"description\": \"\"\n      }\n    },\n    {\n      \"column\": \"WER\",\n      \"properties\": {\n        \"dtype\": \"number\",\n        \"std\": 0.2300872547876117,\n        \"min\": 0.3217877094972067,\n        \"max\": 0.8558558558558559,\n        \"num_unique_values\": 4,\n        \"samples\": [\n          0.3217877094972067\n        ],\n        \"semantic_type\": \"\",\n        \"description\": \"\"\n      }\n    },\n    {\n      \"column\": \"CER\",\n      \"properties\": {\n        \"dtype\": \"number\",\n        \"std\": 0.1522093328549848,\n        \"min\": 0.16402964149809734,\n        \"max\": 0.48592233009708735,\n        \"num_unique_values\": 4,\n        \"samples\": [\n          0.16402964149809734\n        ],\n        \"semantic_type\": \"\",\n        \"description\": \"\"\n      }\n    },\n    {\n      \"column\": \"N\",\n      \"properties\": {\n        \"dtype\": \"number\",\n        \"std\": 0,\n        \"min\": 100,\n        \"max\": 100,\n        \"num_unique_values\": 1,\n        \"samples\": [\n          100\n        ],\n        \"semantic_type\": \"\",\n        \"description\": \"\"\n      }\n    }\n  ]\n}",
       "type": "dataframe",
       "variable_name": "df_test"
      },
      "text/html": [
       "\n",
       "  <div id=\"df-abc7342c-4d43-4701-922a-17d1d648eacd\" class=\"colab-df-container\">\n",
       "    <div>\n",
       "<style scoped>\n",
       "    .dataframe tbody tr th:only-of-type {\n",
       "        vertical-align: middle;\n",
       "    }\n",
       "\n",
       "    .dataframe tbody tr th {\n",
       "        vertical-align: top;\n",
       "    }\n",
       "\n",
       "    .dataframe thead th {\n",
       "        text-align: right;\n",
       "    }\n",
       "</style>\n",
       "<table border=\"1\" class=\"dataframe\">\n",
       "  <thead>\n",
       "    <tr style=\"text-align: right;\">\n",
       "      <th></th>\n",
       "      <th>set</th>\n",
       "      <th>lang</th>\n",
       "      <th>WER</th>\n",
       "      <th>CER</th>\n",
       "      <th>N</th>\n",
       "    </tr>\n",
       "  </thead>\n",
       "  <tbody>\n",
       "    <tr>\n",
       "      <th>3</th>\n",
       "      <td>test_orig_r07</td>\n",
       "      <td>de</td>\n",
       "      <td>0.449344</td>\n",
       "      <td>0.181755</td>\n",
       "      <td>100</td>\n",
       "    </tr>\n",
       "    <tr>\n",
       "      <th>2</th>\n",
       "      <td>test_orig_r07</td>\n",
       "      <td>en</td>\n",
       "      <td>0.321788</td>\n",
       "      <td>0.164030</td>\n",
       "      <td>100</td>\n",
       "    </tr>\n",
       "    <tr>\n",
       "      <th>1</th>\n",
       "      <td>test_orig_r07</td>\n",
       "      <td>ja</td>\n",
       "      <td>0.855856</td>\n",
       "      <td>0.485922</td>\n",
       "      <td>100</td>\n",
       "    </tr>\n",
       "    <tr>\n",
       "      <th>0</th>\n",
       "      <td>test_orig_r07</td>\n",
       "      <td>ko</td>\n",
       "      <td>0.476636</td>\n",
       "      <td>0.204017</td>\n",
       "      <td>100</td>\n",
       "    </tr>\n",
       "  </tbody>\n",
       "</table>\n",
       "</div>\n",
       "    <div class=\"colab-df-buttons\">\n",
       "\n",
       "  <div class=\"colab-df-container\">\n",
       "    <button class=\"colab-df-convert\" onclick=\"convertToInteractive('df-abc7342c-4d43-4701-922a-17d1d648eacd')\"\n",
       "            title=\"Convert this dataframe to an interactive table.\"\n",
       "            style=\"display:none;\">\n",
       "\n",
       "  <svg xmlns=\"http://www.w3.org/2000/svg\" height=\"24px\" viewBox=\"0 -960 960 960\">\n",
       "    <path d=\"M120-120v-720h720v720H120Zm60-500h600v-160H180v160Zm220 220h160v-160H400v160Zm0 220h160v-160H400v160ZM180-400h160v-160H180v160Zm440 0h160v-160H620v160ZM180-180h160v-160H180v160Zm440 0h160v-160H620v160Z\"/>\n",
       "  </svg>\n",
       "    </button>\n",
       "\n",
       "  <style>\n",
       "    .colab-df-container {\n",
       "      display:flex;\n",
       "      gap: 12px;\n",
       "    }\n",
       "\n",
       "    .colab-df-convert {\n",
       "      background-color: #E8F0FE;\n",
       "      border: none;\n",
       "      border-radius: 50%;\n",
       "      cursor: pointer;\n",
       "      display: none;\n",
       "      fill: #1967D2;\n",
       "      height: 32px;\n",
       "      padding: 0 0 0 0;\n",
       "      width: 32px;\n",
       "    }\n",
       "\n",
       "    .colab-df-convert:hover {\n",
       "      background-color: #E2EBFA;\n",
       "      box-shadow: 0px 1px 2px rgba(60, 64, 67, 0.3), 0px 1px 3px 1px rgba(60, 64, 67, 0.15);\n",
       "      fill: #174EA6;\n",
       "    }\n",
       "\n",
       "    .colab-df-buttons div {\n",
       "      margin-bottom: 4px;\n",
       "    }\n",
       "\n",
       "    [theme=dark] .colab-df-convert {\n",
       "      background-color: #3B4455;\n",
       "      fill: #D2E3FC;\n",
       "    }\n",
       "\n",
       "    [theme=dark] .colab-df-convert:hover {\n",
       "      background-color: #434B5C;\n",
       "      box-shadow: 0px 1px 3px 1px rgba(0, 0, 0, 0.15);\n",
       "      filter: drop-shadow(0px 1px 2px rgba(0, 0, 0, 0.3));\n",
       "      fill: #FFFFFF;\n",
       "    }\n",
       "  </style>\n",
       "\n",
       "    <script>\n",
       "      const buttonEl =\n",
       "        document.querySelector('#df-abc7342c-4d43-4701-922a-17d1d648eacd button.colab-df-convert');\n",
       "      buttonEl.style.display =\n",
       "        google.colab.kernel.accessAllowed ? 'block' : 'none';\n",
       "\n",
       "      async function convertToInteractive(key) {\n",
       "        const element = document.querySelector('#df-abc7342c-4d43-4701-922a-17d1d648eacd');\n",
       "        const dataTable =\n",
       "          await google.colab.kernel.invokeFunction('convertToInteractive',\n",
       "                                                    [key], {});\n",
       "        if (!dataTable) return;\n",
       "\n",
       "        const docLinkHtml = 'Like what you see? Visit the ' +\n",
       "          '<a target=\"_blank\" href=https://colab.research.google.com/notebooks/data_table.ipynb>data table notebook</a>'\n",
       "          + ' to learn more about interactive tables.';\n",
       "        element.innerHTML = '';\n",
       "        dataTable['output_type'] = 'display_data';\n",
       "        await google.colab.output.renderOutput(dataTable, element);\n",
       "        const docLink = document.createElement('div');\n",
       "        docLink.innerHTML = docLinkHtml;\n",
       "        element.appendChild(docLink);\n",
       "      }\n",
       "    </script>\n",
       "  </div>\n",
       "\n",
       "\n",
       "    <div id=\"df-34a41f96-57a1-4340-8b12-8a88b0895796\">\n",
       "      <button class=\"colab-df-quickchart\" onclick=\"quickchart('df-34a41f96-57a1-4340-8b12-8a88b0895796')\"\n",
       "                title=\"Suggest charts\"\n",
       "                style=\"display:none;\">\n",
       "\n",
       "<svg xmlns=\"http://www.w3.org/2000/svg\" height=\"24px\"viewBox=\"0 0 24 24\"\n",
       "     width=\"24px\">\n",
       "    <g>\n",
       "        <path d=\"M19 3H5c-1.1 0-2 .9-2 2v14c0 1.1.9 2 2 2h14c1.1 0 2-.9 2-2V5c0-1.1-.9-2-2-2zM9 17H7v-7h2v7zm4 0h-2V7h2v10zm4 0h-2v-4h2v4z\"/>\n",
       "    </g>\n",
       "</svg>\n",
       "      </button>\n",
       "\n",
       "<style>\n",
       "  .colab-df-quickchart {\n",
       "      --bg-color: #E8F0FE;\n",
       "      --fill-color: #1967D2;\n",
       "      --hover-bg-color: #E2EBFA;\n",
       "      --hover-fill-color: #174EA6;\n",
       "      --disabled-fill-color: #AAA;\n",
       "      --disabled-bg-color: #DDD;\n",
       "  }\n",
       "\n",
       "  [theme=dark] .colab-df-quickchart {\n",
       "      --bg-color: #3B4455;\n",
       "      --fill-color: #D2E3FC;\n",
       "      --hover-bg-color: #434B5C;\n",
       "      --hover-fill-color: #FFFFFF;\n",
       "      --disabled-bg-color: #3B4455;\n",
       "      --disabled-fill-color: #666;\n",
       "  }\n",
       "\n",
       "  .colab-df-quickchart {\n",
       "    background-color: var(--bg-color);\n",
       "    border: none;\n",
       "    border-radius: 50%;\n",
       "    cursor: pointer;\n",
       "    display: none;\n",
       "    fill: var(--fill-color);\n",
       "    height: 32px;\n",
       "    padding: 0;\n",
       "    width: 32px;\n",
       "  }\n",
       "\n",
       "  .colab-df-quickchart:hover {\n",
       "    background-color: var(--hover-bg-color);\n",
       "    box-shadow: 0 1px 2px rgba(60, 64, 67, 0.3), 0 1px 3px 1px rgba(60, 64, 67, 0.15);\n",
       "    fill: var(--button-hover-fill-color);\n",
       "  }\n",
       "\n",
       "  .colab-df-quickchart-complete:disabled,\n",
       "  .colab-df-quickchart-complete:disabled:hover {\n",
       "    background-color: var(--disabled-bg-color);\n",
       "    fill: var(--disabled-fill-color);\n",
       "    box-shadow: none;\n",
       "  }\n",
       "\n",
       "  .colab-df-spinner {\n",
       "    border: 2px solid var(--fill-color);\n",
       "    border-color: transparent;\n",
       "    border-bottom-color: var(--fill-color);\n",
       "    animation:\n",
       "      spin 1s steps(1) infinite;\n",
       "  }\n",
       "\n",
       "  @keyframes spin {\n",
       "    0% {\n",
       "      border-color: transparent;\n",
       "      border-bottom-color: var(--fill-color);\n",
       "      border-left-color: var(--fill-color);\n",
       "    }\n",
       "    20% {\n",
       "      border-color: transparent;\n",
       "      border-left-color: var(--fill-color);\n",
       "      border-top-color: var(--fill-color);\n",
       "    }\n",
       "    30% {\n",
       "      border-color: transparent;\n",
       "      border-left-color: var(--fill-color);\n",
       "      border-top-color: var(--fill-color);\n",
       "      border-right-color: var(--fill-color);\n",
       "    }\n",
       "    40% {\n",
       "      border-color: transparent;\n",
       "      border-right-color: var(--fill-color);\n",
       "      border-top-color: var(--fill-color);\n",
       "    }\n",
       "    60% {\n",
       "      border-color: transparent;\n",
       "      border-right-color: var(--fill-color);\n",
       "    }\n",
       "    80% {\n",
       "      border-color: transparent;\n",
       "      border-right-color: var(--fill-color);\n",
       "      border-bottom-color: var(--fill-color);\n",
       "    }\n",
       "    90% {\n",
       "      border-color: transparent;\n",
       "      border-bottom-color: var(--fill-color);\n",
       "    }\n",
       "  }\n",
       "</style>\n",
       "\n",
       "      <script>\n",
       "        async function quickchart(key) {\n",
       "          const quickchartButtonEl =\n",
       "            document.querySelector('#' + key + ' button');\n",
       "          quickchartButtonEl.disabled = true;  // To prevent multiple clicks.\n",
       "          quickchartButtonEl.classList.add('colab-df-spinner');\n",
       "          try {\n",
       "            const charts = await google.colab.kernel.invokeFunction(\n",
       "                'suggestCharts', [key], {});\n",
       "          } catch (error) {\n",
       "            console.error('Error during call to suggestCharts:', error);\n",
       "          }\n",
       "          quickchartButtonEl.classList.remove('colab-df-spinner');\n",
       "          quickchartButtonEl.classList.add('colab-df-quickchart-complete');\n",
       "        }\n",
       "        (() => {\n",
       "          let quickchartButtonEl =\n",
       "            document.querySelector('#df-34a41f96-57a1-4340-8b12-8a88b0895796 button');\n",
       "          quickchartButtonEl.style.display =\n",
       "            google.colab.kernel.accessAllowed ? 'block' : 'none';\n",
       "        })();\n",
       "      </script>\n",
       "    </div>\n",
       "\n",
       "  <div id=\"id_bc17f0a4-b3fb-43dc-a13b-a7f427835e52\">\n",
       "    <style>\n",
       "      .colab-df-generate {\n",
       "        background-color: #E8F0FE;\n",
       "        border: none;\n",
       "        border-radius: 50%;\n",
       "        cursor: pointer;\n",
       "        display: none;\n",
       "        fill: #1967D2;\n",
       "        height: 32px;\n",
       "        padding: 0 0 0 0;\n",
       "        width: 32px;\n",
       "      }\n",
       "\n",
       "      .colab-df-generate:hover {\n",
       "        background-color: #E2EBFA;\n",
       "        box-shadow: 0px 1px 2px rgba(60, 64, 67, 0.3), 0px 1px 3px 1px rgba(60, 64, 67, 0.15);\n",
       "        fill: #174EA6;\n",
       "      }\n",
       "\n",
       "      [theme=dark] .colab-df-generate {\n",
       "        background-color: #3B4455;\n",
       "        fill: #D2E3FC;\n",
       "      }\n",
       "\n",
       "      [theme=dark] .colab-df-generate:hover {\n",
       "        background-color: #434B5C;\n",
       "        box-shadow: 0px 1px 3px 1px rgba(0, 0, 0, 0.15);\n",
       "        filter: drop-shadow(0px 1px 2px rgba(0, 0, 0, 0.3));\n",
       "        fill: #FFFFFF;\n",
       "      }\n",
       "    </style>\n",
       "    <button class=\"colab-df-generate\" onclick=\"generateWithVariable('df_test')\"\n",
       "            title=\"Generate code using this dataframe.\"\n",
       "            style=\"display:none;\">\n",
       "\n",
       "  <svg xmlns=\"http://www.w3.org/2000/svg\" height=\"24px\"viewBox=\"0 0 24 24\"\n",
       "       width=\"24px\">\n",
       "    <path d=\"M7,19H8.4L18.45,9,17,7.55,7,17.6ZM5,21V16.75L18.45,3.32a2,2,0,0,1,2.83,0l1.4,1.43a1.91,1.91,0,0,1,.58,1.4,1.91,1.91,0,0,1-.58,1.4L9.25,21ZM18.45,9,17,7.55Zm-12,3A5.31,5.31,0,0,0,4.9,8.1,5.31,5.31,0,0,0,1,6.5,5.31,5.31,0,0,0,4.9,4.9,5.31,5.31,0,0,0,6.5,1,5.31,5.31,0,0,0,8.1,4.9,5.31,5.31,0,0,0,12,6.5,5.46,5.46,0,0,0,6.5,12Z\"/>\n",
       "  </svg>\n",
       "    </button>\n",
       "    <script>\n",
       "      (() => {\n",
       "      const buttonEl =\n",
       "        document.querySelector('#id_bc17f0a4-b3fb-43dc-a13b-a7f427835e52 button.colab-df-generate');\n",
       "      buttonEl.style.display =\n",
       "        google.colab.kernel.accessAllowed ? 'block' : 'none';\n",
       "\n",
       "      buttonEl.onclick = () => {\n",
       "        google.colab.notebook.generateWithVariable('df_test');\n",
       "      }\n",
       "      })();\n",
       "    </script>\n",
       "  </div>\n",
       "\n",
       "    </div>\n",
       "  </div>\n"
      ],
      "text/plain": [
       "             set lang       WER       CER    N\n",
       "3  test_orig_r07   de  0.449344  0.181755  100\n",
       "2  test_orig_r07   en  0.321788  0.164030  100\n",
       "1  test_orig_r07   ja  0.855856  0.485922  100\n",
       "0  test_orig_r07   ko  0.476636  0.204017  100"
      ]
     },
     "metadata": {},
     "output_type": "display_data"
    },
    {
     "name": "stdout",
     "output_type": "stream",
     "text": [
      "Saved -> /content/results_small_aug_r07_test_orig.csv\n"
     ]
    }
   ],
   "source": [
    "LANG_NAME = {\"ko\":\"korean\", \"ja\":\"japanese\", \"en\":\"english\", \"de\":\"german\"}\n",
    "wer_metric = load_metric(\"wer\")\n",
    "cer_metric = load_metric(\"cer\")\n",
    "\n",
    "def eval_on_with_samples(ds_proc, ds_raw, trainer_obj, label, sample_k=5, show_samples=True):\n",
    "    rows = []\n",
    "    for lang in [\"ko\",\"ja\",\"en\",\"de\"]:\n",
    "        subset_proc = ds_proc.filter(lambda x: x[\"locale\"] == lang)\n",
    "        subset_raw  = ds_raw.filter(lambda x: x[\"locale\"] == lang)\n",
    "\n",
    "        forced_ids = processor.get_decoder_prompt_ids(language=LANG_NAME[lang], task=\"transcribe\")\n",
    "        trainer_obj.model.generation_config.forced_decoder_ids = forced_ids\n",
    "        trainer_obj.model.generation_config.max_length = 225\n",
    "\n",
    "        out = trainer_obj.predict(subset_proc)\n",
    "        preds = processor.tokenizer.batch_decode(out.predictions, skip_special_tokens=True)\n",
    "        # -100 마스크를 패드로 치환 후 디코딩\n",
    "        label_ids = np.where(out.label_ids != -100, out.label_ids, processor.tokenizer.pad_token_id)\n",
    "        refs  = processor.tokenizer.batch_decode(label_ids, skip_special_tokens=True)\n",
    "\n",
    "        wer = wer_metric.compute(predictions=preds, references=refs)\n",
    "        cer = cer_metric.compute(predictions=preds, references=refs)\n",
    "        rows.append({\"set\": label, \"lang\": lang, \"WER\": wer, \"CER\": cer, \"N\": len(refs)})\n",
    "\n",
    "        if show_samples and sample_k > 0:\n",
    "            raw_texts = subset_raw[\"sentence\"] if \"sentence\" in subset_raw.column_names else None\n",
    "            print(f\"\\n[{label}] {lang.upper()} samples (k={sample_k})\")\n",
    "            for i,(p,r) in enumerate(zip(preds, refs)):\n",
    "                if i >= sample_k: break\n",
    "                print(f\"#{i:02d} PRED: {p}\")\n",
    "                print(f\"     REF(dec): {r}\")\n",
    "                if raw_texts is not None:\n",
    "                    print(f\"     REF(raw): {raw_texts[i]}\")\n",
    "                print(\"---\")\n",
    "\n",
    "    return pd.DataFrame(rows).sort_values(\"lang\")\n",
    "\n",
    "df_test = eval_on_with_samples(\n",
    "    processed_dataset_test, test_dataset,\n",
    "    trainer, label=f\"test_orig_{OUTPUT_DIR_SUFFIX}\",\n",
    "    sample_k=5, show_samples=True\n",
    ")\n",
    "\n",
    "display(df_test)\n",
    "out_csv = f\"/content/results_small_aug_{OUTPUT_DIR_SUFFIX}_test_orig.csv\"\n",
    "df_test.to_csv(out_csv, index=False)\n",
    "print(\"Saved ->\", out_csv)"
   ]
  },
  {
   "cell_type": "code",
   "execution_count": null,
   "metadata": {
    "colab": {
     "base_uri": "https://localhost:8080/",
     "height": 507
    },
    "id": "pZXGgT6Ue5oz",
    "outputId": "4598a071-f9c0-443e-b7eb-04aadac892f6"
   },
   "outputs": [
    {
     "data": {
      "image/png": "[encoded data removed]",
      "text/plain": [
       "<Figure size 700x500 with 1 Axes>"
      ]
     },
     "metadata": {},
     "output_type": "display_data"
    }
   ],
   "source": [
    "plt.figure(figsize=(7,5))\n",
    "langs_plot = [\"ko\",\"ja\",\"en\",\"de\"]\n",
    "vals = [df_test[df_test[\"lang\"]==l][\"WER\"].values[0] for l in langs_plot]\n",
    "plt.bar([l.upper() for l in langs_plot], vals)\n",
    "plt.title(f\"WER - Original Test ({OUTPUT_DIR_SUFFIX})\")\n",
    "plt.ylabel(\"WER\"); plt.tight_layout(); plt.show()"
   ]
  },
  {
   "cell_type": "code",
   "execution_count": null,
   "metadata": {
    "colab": {
     "base_uri": "https://localhost:8080/"
    },
    "id": "U01M9wqItofe",
    "outputId": "a4afa1ba-be9d-462b-99cc-ee8781e4d88c"
   },
   "outputs": [
    {
     "name": "stdout",
     "output_type": "stream",
     "text": [
      "Mounted at /content/drive\n",
      "✅ Copied splits to Drive: /content/drive/MyDrive/data/asr_splits/cv16_v1\n"
     ]
    }
   ],
   "source": [
    "from google.colab import drive\n",
    "drive.mount(\"/content/drive\", force_remount=True)\n",
    "\n",
    "LOCAL_DIR   = \"/content/cv16_splits_small\"                     # 지금 있는 폴더\n",
    "PERSIST_DIR = \"/content/drive/MyDrive/data/asr_splits/cv16_v1\"      # 드라이브에 저장할 곳\n",
    "\n",
    "import os, shutil\n",
    "os.makedirs(PERSIST_DIR, exist_ok=True)\n",
    "\n",
    "# 이미 복사돼 있지 않다면 복사\n",
    "if not os.path.isdir(f\"{PERSIST_DIR}/train\"):\n",
    "    shutil.copytree(f\"{LOCAL_DIR}/train\", f\"{PERSIST_DIR}/train\")\n",
    "    shutil.copytree(f\"{LOCAL_DIR}/val\",   f\"{PERSIST_DIR}/val\")\n",
    "    shutil.copytree(f\"{LOCAL_DIR}/test\",  f\"{PERSIST_DIR}/test\")\n",
    "    print(\"✅ Copied splits to Drive:\", PERSIST_DIR)\n",
    "else:\n",
    "    print(\"✅ Splits already exist on Drive:\", PERSIST_DIR)"
   ]
  }
 ],
 "metadata": {
  "accelerator": "GPU",
  "colab": {
   "gpuType": "T4",
   "machine_shape": "hm",
   "provenance": []
  },
  "kernelspec": {
   "display_name": "Python 3",
   "name": "python3"
  },
  "language_info": {
   "name": "python"
  }
 },
 "nbformat": 4,
 "nbformat_minor": 0
}
