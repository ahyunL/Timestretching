{
 "cells": [
  {
   "cell_type": "code",
   "execution_count": null,
   "metadata": {
    "colab": {
     "base_uri": "https://localhost:8080/"
    },
    "collapsed": true,
    "id": "trDKdeAbaIGI",
    "outputId": "58903ced-b359-40b5-e597-1850fa00b0c3"
   },
   "outputs": [
    {
     "name": "stdout",
     "output_type": "stream",
     "text": [
      "\u001b[2K     \u001b[90m━━━━━━━━━━━━━━━━━━━━━━━━━━━━━━━━━━━━━━━━\u001b[0m \u001b[32m43.7/43.7 kB\u001b[0m \u001b[31m1.7 MB/s\u001b[0m eta \u001b[36m0:00:00\u001b[0m\n",
      "\u001b[2K   \u001b[90m━━━━━━━━━━━━━━━━━━━━━━━━━━━━━━━━━━━━━━━━\u001b[0m \u001b[32m527.3/527.3 kB\u001b[0m \u001b[31m11.2 MB/s\u001b[0m eta \u001b[36m0:00:00\u001b[0m\n",
      "\u001b[2K   \u001b[90m━━━━━━━━━━━━━━━━━━━━━━━━━━━━━━━━━━━━━━━━\u001b[0m \u001b[32m84.1/84.1 kB\u001b[0m \u001b[31m8.0 MB/s\u001b[0m eta \u001b[36m0:00:00\u001b[0m\n",
      "\u001b[2K   \u001b[90m━━━━━━━━━━━━━━━━━━━━━━━━━━━━━━━━━━━━━━━━\u001b[0m \u001b[32m9.5/9.5 MB\u001b[0m \u001b[31m109.7 MB/s\u001b[0m eta \u001b[36m0:00:00\u001b[0m\n",
      "\u001b[2K   \u001b[90m━━━━━━━━━━━━━━━━━━━━━━━━━━━━━━━━━━━━━━━━\u001b[0m \u001b[32m177.6/177.6 kB\u001b[0m \u001b[31m15.7 MB/s\u001b[0m eta \u001b[36m0:00:00\u001b[0m\n",
      "\u001b[2K   \u001b[90m━━━━━━━━━━━━━━━━━━━━━━━━━━━━━━━━━━━━━━━━\u001b[0m \u001b[32m3.1/3.1 MB\u001b[0m \u001b[31m78.8 MB/s\u001b[0m eta \u001b[36m0:00:00\u001b[0m\n",
      "\u001b[2K   \u001b[90m━━━━━━━━━━━━━━━━━━━━━━━━━━━━━━━━━━━━━━━━\u001b[0m \u001b[32m3.6/3.6 MB\u001b[0m \u001b[31m114.0 MB/s\u001b[0m eta \u001b[36m0:00:00\u001b[0m\n",
      "\u001b[?25h\u001b[31mERROR: pip's dependency resolver does not currently take into account all the packages that are installed. This behaviour is the source of the following dependency conflicts.\n",
      "gcsfs 2025.3.0 requires fsspec==2025.3.0, but you have fsspec 2024.6.1 which is incompatible.\u001b[0m\u001b[31m\n",
      "\u001b[2K   \u001b[90m━━━━━━━━━━━━━━━━━━━━━━━━━━━━━━━━━━━━━━━━\u001b[0m \u001b[32m193.6/193.6 kB\u001b[0m \u001b[31m4.0 MB/s\u001b[0m eta \u001b[36m0:00:00\u001b[0m\n",
      "\u001b[?25h\u001b[31mERROR: pip's dependency resolver does not currently take into account all the packages that are installed. This behaviour is the source of the following dependency conflicts.\n",
      "datasets 2.21.0 requires fsspec[http]<=2024.6.1,>=2023.1.0, but you have fsspec 2025.3.0 which is incompatible.\u001b[0m\u001b[31m\n",
      "\u001b[0m"
     ]
    }
   ],
   "source": [
    "# 핵심 패키지(스트리밍 호환 버전)\n",
    "!pip -q install \"datasets<3.0.0\" \"evaluate<0.5.0\" \"transformers>=4.38,<4.45\" \\\n",
    "                huggingface_hub torchaudio jiwer soundfile\n",
    "\n",
    "# fsspec/gcsfs 충돌 정리\n",
    "!pip -q install -U fsspec==2025.3.0 gcsfs"
   ]
  },
  {
   "cell_type": "code",
   "execution_count": null,
   "metadata": {
    "colab": {
     "base_uri": "https://localhost:8080/"
    },
    "id": "6V5n2Jn1bK18",
    "outputId": "215c6653-44e9-4bb7-ff04-f59e96f8bb22"
   },
   "outputs": [
    {
     "name": "stdout",
     "output_type": "stream",
     "text": [
      "datasets: 2.21.0\n",
      "evaluate: 0.4.5\n",
      "transformers: 4.44.2\n",
      "fsspec: 2025.3.0\n",
      "gcsfs: 2025.3.0\n",
      "python: 3.12.11 (main, Jun  4 2025, 08:56:18) [GCC 11.4.0]\n"
     ]
    }
   ],
   "source": [
    "import datasets, evaluate, transformers, fsspec, gcsfs, sys\n",
    "print(\"datasets:\", datasets.__version__)    # ← 2.x 여야 OK\n",
    "print(\"evaluate:\", evaluate.__version__)    # ← 0.4.x 권장\n",
    "print(\"transformers:\", transformers.__version__)\n",
    "print(\"fsspec:\", fsspec.__version__)\n",
    "print(\"gcsfs:\", gcsfs.__version__)\n",
    "print(\"python:\", sys.version)"
   ]
  },
  {
   "cell_type": "code",
   "execution_count": null,
   "metadata": {
    "colab": {
     "base_uri": "https://localhost:8080/",
     "height": 17,
     "referenced_widgets": [
      "134bc90f1ed44582ae59db20868f2801",
      "60dc8737541747c198c9b651358df731",
      "b9d5de156abd4a4385db8fa32142dff1",
      "d0c142f4a6eb4e0bb4e050d1df124764",
      "97f7641f6d604b61a6c57adb11bb0d04",
      "e632b8841ed44af29c6a5465722af200",
      "55470746fe074db0a38576bab13777f1",
      "dedb807817db4dc18de9f003349ff65e",
      "4744a3459fa74e5497532f3a28bf9ddc",
      "8e8c1ebd093542169f873ffcbd2bd823",
      "caf53451121a419396678a083563e684",
      "da56544d2e454aeb9ba935124bfe4041",
      "cda18f31214f477ab5d5dae01c283569",
      "13c9747503f94ac1953aba3251f7fdca",
      "c168d956ff4b4ed2ba65f492122667fa",
      "06cbaa4d05ae4b18a3dbf9af06671a91",
      "8985071c20934b24836e42856642335e",
      "edcaad630bf442da817d277d4d9862f8",
      "0e034efcbeb5426fa81fc4e8110b3b2c",
      "ced19760790643138d9e7989a82ec566"
     ]
    },
    "id": "OFRkdPZmSL1g",
    "outputId": "5f40884a-3cc9-47d2-8465-dd569aeda6ca"
   },
   "outputs": [
    {
     "data": {
      "application/vnd.jupyter.widget-view+json": {
       "model_id": "134bc90f1ed44582ae59db20868f2801",
       "version_major": 2,
       "version_minor": 0
      },
      "text/plain": [
       "VBox(children=(HTML(value='<center> <img\\nsrc=https://huggingface.co/front/assets/huggingface_logo-noborder.sv…"
      ]
     },
     "metadata": {},
     "output_type": "display_data"
    }
   ],
   "source": [
    "from huggingface_hub import notebook_login\n",
    "notebook_login()"
   ]
  },
  {
   "cell_type": "code",
   "execution_count": null,
   "metadata": {
    "colab": {
     "base_uri": "https://localhost:8080/"
    },
    "id": "MEYx5rA_SoNe",
    "outputId": "a1983c9e-e563-4e30-c0ea-0bb2178fa5ac"
   },
   "outputs": [
    {
     "name": "stdout",
     "output_type": "stream",
     "text": [
      "Seed fixed to 42.\n"
     ]
    }
   ],
   "source": [
    "from datasets import load_dataset, Audio, Dataset, concatenate_datasets\n",
    "from transformers import (\n",
    "    WhisperProcessor, WhisperForConditionalGeneration,\n",
    "    Seq2SeqTrainingArguments, Seq2SeqTrainer, EarlyStoppingCallback\n",
    ")\n",
    "from dataclasses import dataclass\n",
    "from typing import Any, Dict, List, Union\n",
    "from evaluate import load as load_metric\n",
    "from IPython.display import display\n",
    "import pandas as pd\n",
    "import matplotlib.pyplot as plt\n",
    "\n",
    "import os, random, numpy as np, torch\n",
    "\n",
    "SEED = 42\n",
    "random.seed(SEED); np.random.seed(SEED); torch.manual_seed(SEED)\n",
    "if torch.cuda.is_available():\n",
    "    torch.cuda.manual_seed_all(SEED)\n",
    "os.environ[\"PYTHONHASHSEED\"] = str(SEED)\n",
    "torch.backends.cudnn.deterministic = True\n",
    "torch.backends.cudnn.benchmark = False\n",
    "print(\"Seed fixed to {}.\".format(SEED))"
   ]
  },
  {
   "cell_type": "code",
   "execution_count": null,
   "metadata": {
    "colab": {
     "base_uri": "https://localhost:8080/",
     "height": 634,
     "referenced_widgets": [
      "083cb9cf857442dd80534bebe60b6e91",
      "1d447a9d334744bcb28addc631b05546",
      "0bff93eaf9d3475e97c5b34e0f1ae0b3",
      "b68671df5b3447cfa32cc198b678c7f2",
      "467d067a624f4e7886e069096ba5b45d",
      "1e6d41d402dc4e44b8edfe81548fb0dd",
      "3f4118bee64c4a3d91c377b610a9f396",
      "b67f93c102af4585991281ea09987130",
      "cf517e7402e645e199d63733b349b277",
      "8d77d56df9f8441abf0c860ce0db4417",
      "8a0604e20f6e4573831616925da2305e",
      "4b0a4fb6f9d146c2823a12492e9a240a",
      "b742aec0c2ac4f72b50ad7f6ecef4b57",
      "4b53c7c39eae422d876589083373eccd",
      "8cc25505a38443d6930a17aeba2f7220",
      "0bb1ce5c241e49b996558ec44c73420a",
      "61003c00d760434486d6111681717241",
      "bb5f5324d4d048489c4326cdd19d8b44",
      "1e7f2ec217724889b4d8d126082e566e",
      "08687a3bc7fb4eb2b9b7f76835d927e4",
      "49b4e5253a2c443e88774d44be0524a9",
      "8e790375b8dd4e7cb7c10b96e187ed51",
      "7d09c98ad4c54e329f694fbe0cd66c9d",
      "db4c12f665c049ceae5c4396e5cb7071",
      "1ce8756bb31646adb1fc56a013315ff2",
      "60fa87fb7d4649c780ac755e047d7918",
      "385d7058f9c8476a9162df0932004c67",
      "8f926ce198914d5695c87a28c8836c42",
      "6b01d545d6a84ab08dade1bc92e692f1",
      "c11ebca7595748b5bc7ac8e4fb8629b6",
      "5d8857e78e894902931df8732afdb648",
      "bc1919be40fc4b10b6660f3ba8392d28",
      "1c02aa0fcc654bfdbe4998c65be87fc8",
      "59c2e83748a14d7eb4cee9464046187a",
      "00b063b69fac45a393abf4681f99e8bf",
      "9892174fec1b495c8f3d2a5cfa85e678",
      "aa403e7e5f20410aaa5765910c7ae437",
      "b3170bb11187497b9e327d14da046e4e",
      "32be7ae92bdc4989b699d6336592ad3f",
      "1049cd5a95bf49a28da935770bdb7b66",
      "519448bad9c84d3499548c3cf64ef22e",
      "d1774581aacf4232ab93cdc483a56206",
      "cc306bc4009d4d2f8d1202ab9205fd13",
      "705fc681b48247a19cf6c517362f08da"
     ]
    },
    "id": "rBnEN1UpS9kQ",
    "outputId": "f318d9c0-6b11-4c62-a8c0-b31d42093ede"
   },
   "outputs": [
    {
     "name": "stdout",
     "output_type": "stream",
     "text": [
      "✅ Loading ko...\n"
     ]
    },
    {
     "name": "stderr",
     "output_type": "stream",
     "text": [
      "/usr/local/lib/python3.12/dist-packages/huggingface_hub/utils/_auth.py:94: UserWarning: \n",
      "The secret `HF_TOKEN` does not exist in your Colab secrets.\n",
      "To authenticate with the Hugging Face Hub, create a token in your settings tab (https://huggingface.co/settings/tokens), set it as secret in your Google Colab and restart your session.\n",
      "You will be able to reuse this secret in all of your notebooks.\n",
      "Please note that authentication is recommended but still optional to access public models or datasets.\n",
      "  warnings.warn(\n"
     ]
    },
    {
     "data": {
      "application/vnd.jupyter.widget-view+json": {
       "model_id": "083cb9cf857442dd80534bebe60b6e91",
       "version_major": 2,
       "version_minor": 0
      },
      "text/plain": [
       "Downloading builder script:   0%|          | 0.00/8.17k [00:00<?, ?B/s]"
      ]
     },
     "metadata": {},
     "output_type": "display_data"
    },
    {
     "data": {
      "application/vnd.jupyter.widget-view+json": {
       "model_id": "4b0a4fb6f9d146c2823a12492e9a240a",
       "version_major": 2,
       "version_minor": 0
      },
      "text/plain": [
       "Downloading readme:   0%|          | 0.00/12.3k [00:00<?, ?B/s]"
      ]
     },
     "metadata": {},
     "output_type": "display_data"
    },
    {
     "data": {
      "application/vnd.jupyter.widget-view+json": {
       "model_id": "7d09c98ad4c54e329f694fbe0cd66c9d",
       "version_major": 2,
       "version_minor": 0
      },
      "text/plain": [
       "Downloading extra modules:   0%|          | 0.00/3.74k [00:00<?, ?B/s]"
      ]
     },
     "metadata": {},
     "output_type": "display_data"
    },
    {
     "data": {
      "application/vnd.jupyter.widget-view+json": {
       "model_id": "59c2e83748a14d7eb4cee9464046187a",
       "version_major": 2,
       "version_minor": 0
      },
      "text/plain": [
       "Downloading extra modules:   0%|          | 0.00/77.3k [00:00<?, ?B/s]"
      ]
     },
     "metadata": {},
     "output_type": "display_data"
    },
    {
     "name": "stdout",
     "output_type": "stream",
     "text": [
      "The repository for mozilla-foundation/common_voice_16_1 contains custom code which must be executed to correctly load the dataset. You can inspect the repository content at https://hf.co/datasets/mozilla-foundation/common_voice_16_1.\n",
      "You can avoid this prompt in future by passing the argument `trust_remote_code=True`.\n",
      "\n",
      "Do you wish to run the custom code? [y/N] y\n"
     ]
    },
    {
     "name": "stderr",
     "output_type": "stream",
     "text": [
      "Reading metadata...: 401it [00:00, 3047.05it/s]\n",
      "Reading metadata...: 235it [00:00, 525.98it/s]\n",
      "Reading metadata...: 282it [00:00, 2584.90it/s]\n"
     ]
    },
    {
     "name": "stdout",
     "output_type": "stream",
     "text": [
      "✅ Loading ja...\n"
     ]
    },
    {
     "name": "stderr",
     "output_type": "stream",
     "text": [
      "Reading metadata...: 9616it [00:00, 26349.89it/s]\n",
      "Reading metadata...: 6094it [00:00, 14624.87it/s]\n",
      "Reading metadata...: 6094it [00:00, 33876.41it/s]\n"
     ]
    },
    {
     "name": "stdout",
     "output_type": "stream",
     "text": [
      "✅ Loading en...\n"
     ]
    },
    {
     "name": "stderr",
     "output_type": "stream",
     "text": [
      "Reading metadata...: 1090061it [00:15, 71111.33it/s]\n",
      "Reading metadata...: 16390it [00:00, 37477.58it/s]\n",
      "Reading metadata...: 16390it [00:00, 40485.08it/s]\n"
     ]
    },
    {
     "name": "stdout",
     "output_type": "stream",
     "text": [
      "✅ Loading de...\n"
     ]
    },
    {
     "name": "stderr",
     "output_type": "stream",
     "text": [
      "Reading metadata...: 576207it [00:08, 67900.44it/s]\n",
      "Reading metadata...: 16173it [00:00, 32898.26it/s]\n",
      "Reading metadata...: 16173it [00:00, 34644.44it/s]\n"
     ]
    },
    {
     "name": "stdout",
     "output_type": "stream",
     "text": [
      "{'train': 800, 'val': 400, 'test': 400}\n"
     ]
    }
   ],
   "source": [
    "# 2) 데이터 로드(Streaming -> in-memory)\n",
    "n_train, n_val, n_test = 200, 100, 100\n",
    "langs = [\"ko\",\"ja\",\"en\",\"de\"]\n",
    "\n",
    "def take_valid(gen, n, lang_code):\n",
    "    out = []\n",
    "    for ex in gen:\n",
    "        if ex.get(\"audio\") is not None and ex.get(\"sentence\"):\n",
    "            ex = dict(ex)\n",
    "            ex[\"locale\"] = lang_code\n",
    "            out.append(ex)\n",
    "            if len(out) >= n:\n",
    "                break\n",
    "    return out\n",
    "\n",
    "train_data, val_data, test_data = [], [], []\n",
    "for lang in langs:\n",
    "    print(f\"✅ Loading {lang}...\")\n",
    "    ds_tr = load_dataset(\"mozilla-foundation/common_voice_16_1\", lang, split=\"train\",      streaming=True)\n",
    "    ds_va = load_dataset(\"mozilla-foundation/common_voice_16_1\", lang, split=\"validation\", streaming=True)\n",
    "    ds_te = load_dataset(\"mozilla-foundation/common_voice_16_1\", lang, split=\"test\",       streaming=True)\n",
    "    train_data += take_valid(ds_tr, n_train, lang)\n",
    "    val_data   += take_valid(ds_va, n_val,   lang)\n",
    "    test_data  += take_valid(ds_te, n_test,  lang)\n",
    "\n",
    "random.shuffle(train_data); random.shuffle(val_data); random.shuffle(test_data)\n",
    "train_dataset = Dataset.from_list(train_data)\n",
    "val_dataset   = Dataset.from_list(val_data)\n",
    "test_dataset  = Dataset.from_list(test_data)\n",
    "print({\"train\": len(train_dataset), \"val\": len(val_dataset), \"test\": len(test_dataset)})"
   ]
  },
  {
   "cell_type": "code",
   "execution_count": null,
   "metadata": {
    "colab": {
     "base_uri": "https://localhost:8080/",
     "height": 386,
     "referenced_widgets": [
      "36cb61c45b494bd4ab0406d171207b84",
      "453098f645004dc285e782d52ccb5295",
      "d9bfd5c9ba854143badfc651fc809c76",
      "864cc6d29c054929b424e3a744c086fa",
      "ab0f95a07e9e4ff0bf840c4bef24a5d7",
      "ad973dcb8fe44d758f900d78ffcb788b",
      "0633c6b4683d429693df3d8b3fe75abc",
      "9624ea40762e44e2ba6defc9a145d0a0",
      "57b9da3538964f919e3e20def9f6a6cd",
      "2ee24b6ba9c0462ebd160c5ec04b1103",
      "49cb6783a3ec4b2a81b9502131ca87b6",
      "3085e19163dd49a0a752597180d428ce",
      "334e934ecee64bb48cf77d6558d62b42",
      "21327502cf1f41638219cb5f8777b6d1",
      "8a61cf3f7d0641cc90ef2054c5f645b8",
      "84386a8965d44bde8f376e37818e3a2b",
      "7730b14b1db24c66aedf576be66fb92b",
      "cb6eaa3c40844f389ccec4be34f1a9af",
      "38dd02818617499b8523761995d0bbbb",
      "c05befc850604869bd3092575fc7a38b",
      "a6ef5976523f4bb3bc64524c7de7beda",
      "97220242ad5b4cacb951104e5780f776",
      "52d3fad9c6464beb80c29d38beb9f73c",
      "8a510fc1454a44dca827b466b6d3a653",
      "5f9fa45f60ec494fa919b82424bd8b74",
      "90102d139b0c49e781658c43a06529a2",
      "39d5f0a376294079963f772bc4ff9f5e",
      "2820048874364eed96eba66988686e30",
      "97da9bf8ea1d4061b96adb25ab744eb5",
      "57c5b4615a5e4ec68e686c1968f73423",
      "309ad27a4bf44aa48ceab7afdca23558",
      "d5240561f1494b229d7e88e2114d88f3",
      "b35bb7c3fbf947298a584d88ec48f58f",
      "210b9ac0483547a890eb0c8f4436d94c",
      "e55e776a1a34429e9bcb3b99e0d92379",
      "8a7e09524e184e3c97bfc3983e7175d7",
      "422e5d1927a1496da44dbe3c9896a700",
      "058f097d0f1742cfb6db8f2079452ebd",
      "1bfe7abdc8114dd1b8467c5aa9ca9a0c",
      "e37cf58c981548f39aa8ebfc3aeea813",
      "daf70d3311dc4834857c2d6fb30fc294",
      "869e431698fa42abb0af9ef9332948ae",
      "3bf81eed6ba6461295334b9df56a664f",
      "1c6648a867bc4b1d8904a8853b1efb2c",
      "62f9beeca3854d869b3cb7401b990ae2",
      "ca0500029ecc430689176eeafcb3442e",
      "0457f1ccb81b4658926b3c14353db909",
      "a2009da533384d02bc93ce740ac3ace6",
      "f782deefdb684a7eaf6feae13147b15c",
      "892b9d00095c41fbb38368166107887a",
      "131463cd2e6447af9d43543cef3bb5d5",
      "5634a056dab74d5ebb84c663d71e84db",
      "4a5e093219f346b9a340d71da748fbbd",
      "f19ed2183a864689bd1589219d32056a",
      "7bdaa371135f4ceda573fa2b5c46dfa0",
      "d629f9970af54294aaa06bc6854a5165",
      "d319119a534c41d286d8af96799614be",
      "c44f2759ab3e44e6a3c370b8f70aed3d",
      "71b9b9fcc1e5449bb1c7541ef7d623a8",
      "397802e4bbf7484bb78177794aee1810",
      "08bd0cf8495d4bf8b9ac7b74aed25c79",
      "6eb7ab61ee3d4e9b83bed0d257df0e43",
      "8a66814e0fa2407394cce497cc7b43e2",
      "f2846edaca3341f58965b315fb645f29",
      "507cfe8cad2642e9ae23c691ceb12853",
      "d64714fa634c4a1a835546646afa3a9f",
      "295d279afa064a179f81a8f257b0f0be",
      "5642e74758c84486bcb5ae1a15427e55",
      "51e06eb6c86c4a48955abd6b2f5ee858",
      "95ca0778aa8b421e8e43afc757628726",
      "e8f81f38805e47aaa5f0c75a5b6594b9",
      "bd340c5193f4427a89adb889a0cfd00f",
      "0a4de41bde754fc9a39270651f0dc483",
      "3835da286b81402f97099fe7181ab4ea",
      "31e5604c365f46458ce00ed3b06817f0",
      "724aec7f819c4217974ef04b38fd2e9d",
      "8356eb027c114975aea4e3c406707967",
      "adc14be0e3e240248841bb1299f4125d",
      "e2c1d85d0e144903ac6c7553e1a36880",
      "a24ae970ca834d839ca84ab23a52d6f7",
      "2f2364ff83a240d4a90bed5ad9195a37",
      "cea12a8b30fe4fe3b8f90b5a8a02ef65",
      "2a9e530eee19489493975c59937d0164",
      "58a3555e8f0443168afd2f95e1ed8a5a",
      "b4e123293fb54d149af60d61c84778af",
      "2e29bd5fc5434aff94750a872da07b72",
      "3c0c03213ace42a4bb46a9afade2aada",
      "9967277983684ada81e38bdd439163a9",
      "a56b57d399a94142abad23d5d8af36dd",
      "fb1b589ad5994fffb9f2c320c7c39cbf",
      "d2a4911d66934d94a19c88a42ae0c88d",
      "55ec9dbcd04d44db9782be1fc0d43e35",
      "bd531fa139f24f21ab7015e63eaf9867",
      "65b46068d25f48a9a2a5531846fb2f21",
      "81cb296099744986aaa45fe18db61133",
      "ea6137cbf4414a2c9ee9d0f34baf79ed",
      "a3d68964f30847b8beb4add93e204d4b",
      "a4135aa985ad44ce967e49d481872a21",
      "1551bd837d5f427d9e0e387edb18bea8",
      "287b297185af455e9e0a62445df435d9",
      "e54cacef870c47ccb1f0678fb51ee286",
      "a73d5ae81e8c4dffa54177cbcb979493",
      "f76e6affd81d43e0afbe15bfd3872eb7",
      "54ebe0217bc04c3081d2fd1fc814ae1c",
      "23bc2092bacf4b8d9fece9dfdafd598f",
      "16b3896ddb1d47088b9a24492ec0716a",
      "6859f91e45154f83a98f77bcebc9652b",
      "f59fec8c1dd54ec590a34ea303c80918",
      "b0b79e2ddfca4ef0bf5997a7c49f62cc",
      "ac7c8ba119c14cef9981f4fc9365bbdf",
      "352a6ac9873c40f6a616f3d50c518216",
      "55d81a35f8ef400bbf33824d386d558a",
      "b378c2a4cec14415a6918bd5e6c74f65",
      "2dccd0f8eb4640d7a51e9f0cf1bcd5ff",
      "0c55281629cf408e91b6285707ffe42d",
      "db63ac08b4c841faa332a82b4cb2394f",
      "bf26c2dbe05a4b93b33df27fe18cc0ae",
      "a07b730a95474b10b1eb208fab9fb244",
      "2f2ea693dada4519b1160db1362692e3",
      "87c9396304c349579acb70441011c64c",
      "880cd32036a44e9a95b6645e25f5131d"
     ]
    },
    "id": "cjHSZGXdVVrJ",
    "outputId": "f21c33a7-aa3d-4374-b3fc-64fc1421f053"
   },
   "outputs": [
    {
     "data": {
      "application/vnd.jupyter.widget-view+json": {
       "model_id": "36cb61c45b494bd4ab0406d171207b84",
       "version_major": 2,
       "version_minor": 0
      },
      "text/plain": [
       "preprocessor_config.json: 0.00B [00:00, ?B/s]"
      ]
     },
     "metadata": {},
     "output_type": "display_data"
    },
    {
     "data": {
      "application/vnd.jupyter.widget-view+json": {
       "model_id": "3085e19163dd49a0a752597180d428ce",
       "version_major": 2,
       "version_minor": 0
      },
      "text/plain": [
       "tokenizer_config.json: 0.00B [00:00, ?B/s]"
      ]
     },
     "metadata": {},
     "output_type": "display_data"
    },
    {
     "data": {
      "application/vnd.jupyter.widget-view+json": {
       "model_id": "52d3fad9c6464beb80c29d38beb9f73c",
       "version_major": 2,
       "version_minor": 0
      },
      "text/plain": [
       "vocab.json: 0.00B [00:00, ?B/s]"
      ]
     },
     "metadata": {},
     "output_type": "display_data"
    },
    {
     "data": {
      "application/vnd.jupyter.widget-view+json": {
       "model_id": "210b9ac0483547a890eb0c8f4436d94c",
       "version_major": 2,
       "version_minor": 0
      },
      "text/plain": [
       "tokenizer.json: 0.00B [00:00, ?B/s]"
      ]
     },
     "metadata": {},
     "output_type": "display_data"
    },
    {
     "data": {
      "application/vnd.jupyter.widget-view+json": {
       "model_id": "62f9beeca3854d869b3cb7401b990ae2",
       "version_major": 2,
       "version_minor": 0
      },
      "text/plain": [
       "merges.txt: 0.00B [00:00, ?B/s]"
      ]
     },
     "metadata": {},
     "output_type": "display_data"
    },
    {
     "data": {
      "application/vnd.jupyter.widget-view+json": {
       "model_id": "d629f9970af54294aaa06bc6854a5165",
       "version_major": 2,
       "version_minor": 0
      },
      "text/plain": [
       "normalizer.json: 0.00B [00:00, ?B/s]"
      ]
     },
     "metadata": {},
     "output_type": "display_data"
    },
    {
     "data": {
      "application/vnd.jupyter.widget-view+json": {
       "model_id": "295d279afa064a179f81a8f257b0f0be",
       "version_major": 2,
       "version_minor": 0
      },
      "text/plain": [
       "added_tokens.json: 0.00B [00:00, ?B/s]"
      ]
     },
     "metadata": {},
     "output_type": "display_data"
    },
    {
     "data": {
      "application/vnd.jupyter.widget-view+json": {
       "model_id": "adc14be0e3e240248841bb1299f4125d",
       "version_major": 2,
       "version_minor": 0
      },
      "text/plain": [
       "special_tokens_map.json: 0.00B [00:00, ?B/s]"
      ]
     },
     "metadata": {},
     "output_type": "display_data"
    },
    {
     "data": {
      "application/vnd.jupyter.widget-view+json": {
       "model_id": "a56b57d399a94142abad23d5d8af36dd",
       "version_major": 2,
       "version_minor": 0
      },
      "text/plain": [
       "Map:   0%|          | 0/800 [00:00<?, ? examples/s]"
      ]
     },
     "metadata": {},
     "output_type": "display_data"
    },
    {
     "data": {
      "application/vnd.jupyter.widget-view+json": {
       "model_id": "287b297185af455e9e0a62445df435d9",
       "version_major": 2,
       "version_minor": 0
      },
      "text/plain": [
       "Map:   0%|          | 0/400 [00:00<?, ? examples/s]"
      ]
     },
     "metadata": {},
     "output_type": "display_data"
    },
    {
     "data": {
      "application/vnd.jupyter.widget-view+json": {
       "model_id": "352a6ac9873c40f6a616f3d50c518216",
       "version_major": 2,
       "version_minor": 0
      },
      "text/plain": [
       "Map:   0%|          | 0/400 [00:00<?, ? examples/s]"
      ]
     },
     "metadata": {},
     "output_type": "display_data"
    },
    {
     "name": "stdout",
     "output_type": "stream",
     "text": [
      "Device: cuda | Seed: 42\n"
     ]
    }
   ],
   "source": [
    "# 3) 전처리\n",
    "TARGET_SR = 16000\n",
    "model_checkpoint = \"openai/whisper-small\"\n",
    "\n",
    "processor = WhisperProcessor.from_pretrained(model_checkpoint)\n",
    "feature_extractor = processor.feature_extractor\n",
    "tokenizer = processor.tokenizer\n",
    "\n",
    "train_dataset = train_dataset.cast_column(\"audio\", Audio(sampling_rate=TARGET_SR))\n",
    "val_dataset   = val_dataset.cast_column(\"audio\",   Audio(sampling_rate=TARGET_SR))\n",
    "test_dataset  = test_dataset.cast_column(\"audio\",  Audio(sampling_rate=TARGET_SR))\n",
    "\n",
    "def prepare_dataset(example):\n",
    "    a = example[\"audio\"]\n",
    "    example[\"input_features\"] = feature_extractor(a[\"array\"], sampling_rate=TARGET_SR).input_features[0]\n",
    "    example[\"labels\"] = tokenizer(example[\"sentence\"]).input_ids\n",
    "    return example\n",
    "\n",
    "keep_cols = {\"input_features\",\"labels\",\"locale\"}\n",
    "proc_train_orig = train_dataset.map(prepare_dataset, remove_columns=[c for c in train_dataset.column_names if c not in keep_cols])\n",
    "proc_val_orig   = val_dataset.map(  prepare_dataset, remove_columns=[c for c in val_dataset.column_names   if c not in keep_cols])\n",
    "proc_test_orig  = test_dataset.map( prepare_dataset, remove_columns=[c for c in test_dataset.column_names  if c not in keep_cols])\n",
    "\n",
    "for ds_ in (proc_train_orig, proc_val_orig, proc_test_orig):\n",
    "    ds_.set_format(columns=list(keep_cols))\n",
    "\n",
    "device = \"cuda\" if torch.cuda.is_available() else \"cpu\"\n",
    "print(\"Device:\", device, \"| Seed:\", SEED)"
   ]
  },
  {
   "cell_type": "code",
   "execution_count": null,
   "metadata": {
    "colab": {
     "base_uri": "https://localhost:8080/",
     "height": 113,
     "referenced_widgets": [
      "a81a01cf161d4ed2b0b6b8f9729ed2cc",
      "2320831cbb6b4891bff4aa6418c679be",
      "63a134ad1075499d974767f6fa8e3bcd",
      "6084deb8a28c4246bbb46b6392b7bb89",
      "518f7371583b43ce9888d7f15b238131",
      "551fb4ade62144a5b57edf85491d704e",
      "df979d91686346038c24bb5312cd5e11",
      "aef1f1149b2149b3a0d47e85da89654d",
      "4f7b69e9106849ef95fdb44cc1335de5",
      "4fbca4dce0ac40eb8043ccfa7623c855",
      "674b63de0f86482b8ba68f2a12a35326",
      "c01b981291be459e843392ded8236cc2",
      "71a68d8bb8c14da9a62f67f4eaa9960e",
      "3250144ea3b54119935d1ec35bc1ff3e",
      "4bf239a80941480ba8eadf974466294c",
      "6f64621980d440a3b9581af95cb33525",
      "bc0542bbe0e74ac4a3c55baa07a9d852",
      "c4814a599d054319840022988ad1001e",
      "921d2d2d3bb64089819e2a115b7aba7b",
      "5245197c998144aeb937537f20e38a7a",
      "4f08118fdaf9400ba3ace530f201694c",
      "60866cb379f04fd69b0e5aa1128095ca",
      "878e310f8a59485e8e35f83d4b968107",
      "bfd3e0f8346748b9814ca55ad7e4d73e",
      "9b6bb561a8a242e880d1f18cbc6d45fc",
      "eae0f8feb9934acdb91e81e55716396f",
      "8a0e799b85d54b6da7bca2f81f77bab4",
      "7f9af6f3eec94965bb0ff068e21c6a2f",
      "96ffc5bcc8704f9faf8b6264827e89e1",
      "134b115a9abe4eeba1cc5a7bc9e520b6",
      "29cc26f8dd7246958ec6320e7cecd5d4",
      "a178d05a06d344c383faed52a058d8f8",
      "bf4ffdafae664331a16861a966d8114b"
     ]
    },
    "id": "J0_PJW6LVXwA",
    "outputId": "f554982b-e606-4aaa-8664-c513a98f3c99"
   },
   "outputs": [
    {
     "data": {
      "application/vnd.jupyter.widget-view+json": {
       "model_id": "a81a01cf161d4ed2b0b6b8f9729ed2cc",
       "version_major": 2,
       "version_minor": 0
      },
      "text/plain": [
       "config.json: 0.00B [00:00, ?B/s]"
      ]
     },
     "metadata": {},
     "output_type": "display_data"
    },
    {
     "data": {
      "application/vnd.jupyter.widget-view+json": {
       "model_id": "c01b981291be459e843392ded8236cc2",
       "version_major": 2,
       "version_minor": 0
      },
      "text/plain": [
       "model.safetensors:   0%|          | 0.00/967M [00:00<?, ?B/s]"
      ]
     },
     "metadata": {},
     "output_type": "display_data"
    },
    {
     "data": {
      "application/vnd.jupyter.widget-view+json": {
       "model_id": "878e310f8a59485e8e35f83d4b968107",
       "version_major": 2,
       "version_minor": 0
      },
      "text/plain": [
       "generation_config.json: 0.00B [00:00, ?B/s]"
      ]
     },
     "metadata": {},
     "output_type": "display_data"
    }
   ],
   "source": [
    "# 4) 모델 로딩 & Whisper generate() 안전 세팅\n",
    "model = WhisperForConditionalGeneration.from_pretrained(model_checkpoint).to(device)\n",
    "\n",
    "# pad/eos/start/forced 프롬프트 확정\n",
    "tok = processor.tokenizer\n",
    "if tok.pad_token_id is None:\n",
    "    tok.pad_token = tok.eos_token\n",
    "\n",
    "start_id = tok.convert_tokens_to_ids(\"<|startoftranscript|>\")\n",
    "if start_id is None:\n",
    "    start_id = processor.get_decoder_prompt_ids(language=\"english\", task=\"transcribe\")[0][1]\n",
    "\n",
    "forced_ids_en = processor.get_decoder_prompt_ids(language=\"english\", task=\"transcribe\")\n",
    "\n",
    "for cfg in (model.config, model.generation_config):\n",
    "    cfg.pad_token_id = tok.pad_token_id\n",
    "    cfg.eos_token_id = tok.eos_token_id\n",
    "    cfg.decoder_start_token_id = start_id\n",
    "    cfg.forced_decoder_ids = forced_ids_en\n",
    "\n",
    "model.config.use_cache = False\n",
    "model.config.suppress_tokens = []\n",
    "\n",
    "# 5) Collator: 라벨 패딩 & decoder_input_ids 생성(우리가 명시 제공)\n",
    "@dataclass\n",
    "class DataCollatorSpeechSeq2SeqWithPadding:\n",
    "    processor: Any\n",
    "    padding: Union[bool, str] = True\n",
    "    def __call__(self, features: List[Dict[str, Union[List[int], torch.Tensor]]]) -> Dict[str, torch.Tensor]:\n",
    "        # 입력 피처\n",
    "        input_features = [{\"input_features\": f[\"input_features\"]} for f in features]\n",
    "        batch = self.processor.feature_extractor.pad(input_features, return_tensors=\"pt\")\n",
    "\n",
    "        # 라벨 패딩 + -100 마스킹\n",
    "        label_features = [{\"input_ids\": f[\"labels\"]} for f in features]\n",
    "        labels_batch = self.processor.tokenizer.pad(label_features, return_tensors=\"pt\")\n",
    "        labels = labels_batch[\"input_ids\"].masked_fill(labels_batch.attention_mask.ne(1), -100)\n",
    "        batch[\"labels\"] = labels.contiguous()\n",
    "\n",
    "        # decoder_input_ids (right-shift with <|startoftranscript|>)\n",
    "        tok = self.processor.tokenizer\n",
    "        start_id = tok.convert_tokens_to_ids(\"<|startoftranscript|>\")\n",
    "        if start_id is None:\n",
    "            start_id = self.processor.get_decoder_prompt_ids(language=\"english\", task=\"transcribe\")[0][1]\n",
    "        pad_id = tok.pad_token_id\n",
    "\n",
    "        labels_clean = labels.clone()\n",
    "        labels_clean[labels_clean == -100] = pad_id\n",
    "\n",
    "        dec_inp = torch.full_like(labels_clean, fill_value=pad_id)\n",
    "        dec_inp[:, 0] = start_id\n",
    "        dec_inp[:, 1:] = labels_clean[:, :-1]\n",
    "\n",
    "        batch[\"decoder_input_ids\"] = dec_inp.contiguous()\n",
    "        batch[\"decoder_attention_mask\"] = (dec_inp != pad_id).long()\n",
    "        batch[\"input_features\"] = batch[\"input_features\"].contiguous()\n",
    "        return batch\n",
    "\n",
    "data_collator = DataCollatorSpeechSeq2SeqWithPadding(processor=processor)"
   ]
  },
  {
   "cell_type": "code",
   "execution_count": null,
   "metadata": {
    "colab": {
     "base_uri": "https://localhost:8080/"
    },
    "id": "zRRJ4C0CCC6o",
    "outputId": "f7eed074-f05c-43e1-9015-c07c736e6da8"
   },
   "outputs": [
    {
     "name": "stdout",
     "output_type": "stream",
     "text": [
      "Reading package lists... Done\n",
      "Building dependency tree... Done\n",
      "Reading state information... Done\n",
      "The following additional packages will be installed:\n",
      "  libao-common libao4 libid3tag0 libmad0 libopencore-amrnb0 libopencore-amrwb0\n",
      "  libsox-fmt-alsa libsox-fmt-ao libsox-fmt-base libsox-fmt-mp3 libsox-fmt-oss\n",
      "  libsox-fmt-pulse libsox3 libwavpack1\n",
      "Suggested packages:\n",
      "  libaudio2 libsndio6.1\n",
      "The following NEW packages will be installed:\n",
      "  libao-common libao4 libid3tag0 libmad0 libopencore-amrnb0 libopencore-amrwb0\n",
      "  libsox-dev libsox-fmt-all libsox-fmt-alsa libsox-fmt-ao libsox-fmt-base\n",
      "  libsox-fmt-mp3 libsox-fmt-oss libsox-fmt-pulse libsox3 libwavpack1 sox\n",
      "0 upgraded, 17 newly installed, 0 to remove and 35 not upgraded.\n",
      "Need to get 1,157 kB of archives.\n",
      "After this operation, 4,262 kB of additional disk space will be used.\n",
      "Get:1 http://archive.ubuntu.com/ubuntu jammy/main amd64 libao-common all 1.2.2+20180113-1.1ubuntu3 [6,568 B]\n",
      "Get:2 http://archive.ubuntu.com/ubuntu jammy/main amd64 libao4 amd64 1.2.2+20180113-1.1ubuntu3 [35.2 kB]\n",
      "Get:3 http://archive.ubuntu.com/ubuntu jammy/universe amd64 libid3tag0 amd64 0.15.1b-14 [31.3 kB]\n",
      "Get:4 http://archive.ubuntu.com/ubuntu jammy/universe amd64 libmad0 amd64 0.15.1b-10ubuntu1 [63.1 kB]\n",
      "Get:5 http://archive.ubuntu.com/ubuntu jammy/universe amd64 libopencore-amrnb0 amd64 0.1.5-1 [94.8 kB]\n",
      "Get:6 http://archive.ubuntu.com/ubuntu jammy/universe amd64 libopencore-amrwb0 amd64 0.1.5-1 [49.1 kB]\n",
      "Get:7 http://archive.ubuntu.com/ubuntu jammy-updates/universe amd64 libsox3 amd64 14.4.2+git20190427-2+deb11u2ubuntu0.22.04.1 [240 kB]\n",
      "Get:8 http://archive.ubuntu.com/ubuntu jammy-updates/universe amd64 libsox-fmt-alsa amd64 14.4.2+git20190427-2+deb11u2ubuntu0.22.04.1 [11.2 kB]\n",
      "Get:9 http://archive.ubuntu.com/ubuntu jammy-updates/universe amd64 libsox-fmt-ao amd64 14.4.2+git20190427-2+deb11u2ubuntu0.22.04.1 [7,740 B]\n",
      "Get:10 http://archive.ubuntu.com/ubuntu jammy/main amd64 libwavpack1 amd64 5.4.0-1build2 [83.7 kB]\n",
      "Get:11 http://archive.ubuntu.com/ubuntu jammy-updates/universe amd64 libsox-fmt-base amd64 14.4.2+git20190427-2+deb11u2ubuntu0.22.04.1 [33.7 kB]\n",
      "Get:12 http://archive.ubuntu.com/ubuntu jammy-updates/universe amd64 libsox-fmt-mp3 amd64 14.4.2+git20190427-2+deb11u2ubuntu0.22.04.1 [17.3 kB]\n",
      "Get:13 http://archive.ubuntu.com/ubuntu jammy-updates/universe amd64 libsox-fmt-oss amd64 14.4.2+git20190427-2+deb11u2ubuntu0.22.04.1 [9,424 B]\n",
      "Get:14 http://archive.ubuntu.com/ubuntu jammy-updates/universe amd64 libsox-fmt-pulse amd64 14.4.2+git20190427-2+deb11u2ubuntu0.22.04.1 [7,732 B]\n",
      "Get:15 http://archive.ubuntu.com/ubuntu jammy-updates/universe amd64 libsox-fmt-all amd64 14.4.2+git20190427-2+deb11u2ubuntu0.22.04.1 [5,016 B]\n",
      "Get:16 http://archive.ubuntu.com/ubuntu jammy-updates/universe amd64 libsox-dev amd64 14.4.2+git20190427-2+deb11u2ubuntu0.22.04.1 [356 kB]\n",
      "Get:17 http://archive.ubuntu.com/ubuntu jammy-updates/universe amd64 sox amd64 14.4.2+git20190427-2+deb11u2ubuntu0.22.04.1 [104 kB]\n",
      "Fetched 1,157 kB in 1s (1,303 kB/s)\n",
      "Selecting previously unselected package libao-common.\n",
      "(Reading database ... 126371 files and directories currently installed.)\n",
      "Preparing to unpack .../00-libao-common_1.2.2+20180113-1.1ubuntu3_all.deb ...\n",
      "Unpacking libao-common (1.2.2+20180113-1.1ubuntu3) ...\n",
      "Selecting previously unselected package libao4:amd64.\n",
      "Preparing to unpack .../01-libao4_1.2.2+20180113-1.1ubuntu3_amd64.deb ...\n",
      "Unpacking libao4:amd64 (1.2.2+20180113-1.1ubuntu3) ...\n",
      "Selecting previously unselected package libid3tag0:amd64.\n",
      "Preparing to unpack .../02-libid3tag0_0.15.1b-14_amd64.deb ...\n",
      "Unpacking libid3tag0:amd64 (0.15.1b-14) ...\n",
      "Selecting previously unselected package libmad0:amd64.\n",
      "Preparing to unpack .../03-libmad0_0.15.1b-10ubuntu1_amd64.deb ...\n",
      "Unpacking libmad0:amd64 (0.15.1b-10ubuntu1) ...\n",
      "Selecting previously unselected package libopencore-amrnb0:amd64.\n",
      "Preparing to unpack .../04-libopencore-amrnb0_0.1.5-1_amd64.deb ...\n",
      "Unpacking libopencore-amrnb0:amd64 (0.1.5-1) ...\n",
      "Selecting previously unselected package libopencore-amrwb0:amd64.\n",
      "Preparing to unpack .../05-libopencore-amrwb0_0.1.5-1_amd64.deb ...\n",
      "Unpacking libopencore-amrwb0:amd64 (0.1.5-1) ...\n",
      "Selecting previously unselected package libsox3:amd64.\n",
      "Preparing to unpack .../06-libsox3_14.4.2+git20190427-2+deb11u2ubuntu0.22.04.1_amd64.deb ...\n",
      "Unpacking libsox3:amd64 (14.4.2+git20190427-2+deb11u2ubuntu0.22.04.1) ...\n",
      "Selecting previously unselected package libsox-fmt-alsa:amd64.\n",
      "Preparing to unpack .../07-libsox-fmt-alsa_14.4.2+git20190427-2+deb11u2ubuntu0.22.04.1_amd64.deb ...\n",
      "Unpacking libsox-fmt-alsa:amd64 (14.4.2+git20190427-2+deb11u2ubuntu0.22.04.1) ...\n",
      "Selecting previously unselected package libsox-fmt-ao:amd64.\n",
      "Preparing to unpack .../08-libsox-fmt-ao_14.4.2+git20190427-2+deb11u2ubuntu0.22.04.1_amd64.deb ...\n",
      "Unpacking libsox-fmt-ao:amd64 (14.4.2+git20190427-2+deb11u2ubuntu0.22.04.1) ...\n",
      "Selecting previously unselected package libwavpack1:amd64.\n",
      "Preparing to unpack .../09-libwavpack1_5.4.0-1build2_amd64.deb ...\n",
      "Unpacking libwavpack1:amd64 (5.4.0-1build2) ...\n",
      "Selecting previously unselected package libsox-fmt-base:amd64.\n",
      "Preparing to unpack .../10-libsox-fmt-base_14.4.2+git20190427-2+deb11u2ubuntu0.22.04.1_amd64.deb ...\n",
      "Unpacking libsox-fmt-base:amd64 (14.4.2+git20190427-2+deb11u2ubuntu0.22.04.1) ...\n",
      "Selecting previously unselected package libsox-fmt-mp3:amd64.\n",
      "Preparing to unpack .../11-libsox-fmt-mp3_14.4.2+git20190427-2+deb11u2ubuntu0.22.04.1_amd64.deb ...\n",
      "Unpacking libsox-fmt-mp3:amd64 (14.4.2+git20190427-2+deb11u2ubuntu0.22.04.1) ...\n",
      "Selecting previously unselected package libsox-fmt-oss:amd64.\n",
      "Preparing to unpack .../12-libsox-fmt-oss_14.4.2+git20190427-2+deb11u2ubuntu0.22.04.1_amd64.deb ...\n",
      "Unpacking libsox-fmt-oss:amd64 (14.4.2+git20190427-2+deb11u2ubuntu0.22.04.1) ...\n",
      "Selecting previously unselected package libsox-fmt-pulse:amd64.\n",
      "Preparing to unpack .../13-libsox-fmt-pulse_14.4.2+git20190427-2+deb11u2ubuntu0.22.04.1_amd64.deb ...\n",
      "Unpacking libsox-fmt-pulse:amd64 (14.4.2+git20190427-2+deb11u2ubuntu0.22.04.1) ...\n",
      "Selecting previously unselected package libsox-fmt-all:amd64.\n",
      "Preparing to unpack .../14-libsox-fmt-all_14.4.2+git20190427-2+deb11u2ubuntu0.22.04.1_amd64.deb ...\n",
      "Unpacking libsox-fmt-all:amd64 (14.4.2+git20190427-2+deb11u2ubuntu0.22.04.1) ...\n",
      "Selecting previously unselected package libsox-dev:amd64.\n",
      "Preparing to unpack .../15-libsox-dev_14.4.2+git20190427-2+deb11u2ubuntu0.22.04.1_amd64.deb ...\n",
      "Unpacking libsox-dev:amd64 (14.4.2+git20190427-2+deb11u2ubuntu0.22.04.1) ...\n",
      "Selecting previously unselected package sox.\n",
      "Preparing to unpack .../16-sox_14.4.2+git20190427-2+deb11u2ubuntu0.22.04.1_amd64.deb ...\n",
      "Unpacking sox (14.4.2+git20190427-2+deb11u2ubuntu0.22.04.1) ...\n",
      "Setting up libsox3:amd64 (14.4.2+git20190427-2+deb11u2ubuntu0.22.04.1) ...\n",
      "Setting up libsox-fmt-oss:amd64 (14.4.2+git20190427-2+deb11u2ubuntu0.22.04.1) ...\n",
      "Setting up libao-common (1.2.2+20180113-1.1ubuntu3) ...\n",
      "Setting up libid3tag0:amd64 (0.15.1b-14) ...\n",
      "Setting up libopencore-amrwb0:amd64 (0.1.5-1) ...\n",
      "Setting up libsox-fmt-alsa:amd64 (14.4.2+git20190427-2+deb11u2ubuntu0.22.04.1) ...\n",
      "Setting up libao4:amd64 (1.2.2+20180113-1.1ubuntu3) ...\n",
      "Setting up libmad0:amd64 (0.15.1b-10ubuntu1) ...\n",
      "Setting up libwavpack1:amd64 (5.4.0-1build2) ...\n",
      "Setting up libopencore-amrnb0:amd64 (0.1.5-1) ...\n",
      "Setting up libsox-fmt-base:amd64 (14.4.2+git20190427-2+deb11u2ubuntu0.22.04.1) ...\n",
      "Setting up libsox-fmt-ao:amd64 (14.4.2+git20190427-2+deb11u2ubuntu0.22.04.1) ...\n",
      "Setting up libsox-fmt-mp3:amd64 (14.4.2+git20190427-2+deb11u2ubuntu0.22.04.1) ...\n",
      "Setting up libsox-fmt-pulse:amd64 (14.4.2+git20190427-2+deb11u2ubuntu0.22.04.1) ...\n",
      "Setting up sox (14.4.2+git20190427-2+deb11u2ubuntu0.22.04.1) ...\n",
      "Setting up libsox-fmt-all:amd64 (14.4.2+git20190427-2+deb11u2ubuntu0.22.04.1) ...\n",
      "Setting up libsox-dev:amd64 (14.4.2+git20190427-2+deb11u2ubuntu0.22.04.1) ...\n",
      "Processing triggers for libc-bin (2.35-0ubuntu3.8) ...\n",
      "/sbin/ldconfig.real: /usr/local/lib/libtbbbind_2_5.so.3 is not a symbolic link\n",
      "\n",
      "/sbin/ldconfig.real: /usr/local/lib/libtbbmalloc_proxy.so.2 is not a symbolic link\n",
      "\n",
      "/sbin/ldconfig.real: /usr/local/lib/libur_adapter_opencl.so.0 is not a symbolic link\n",
      "\n",
      "/sbin/ldconfig.real: /usr/local/lib/libtbbbind.so.3 is not a symbolic link\n",
      "\n",
      "/sbin/ldconfig.real: /usr/local/lib/libtbb.so.12 is not a symbolic link\n",
      "\n",
      "/sbin/ldconfig.real: /usr/local/lib/libumf.so.0 is not a symbolic link\n",
      "\n",
      "/sbin/ldconfig.real: /usr/local/lib/libtbbbind_2_0.so.3 is not a symbolic link\n",
      "\n",
      "/sbin/ldconfig.real: /usr/local/lib/libtcm.so.1 is not a symbolic link\n",
      "\n",
      "/sbin/ldconfig.real: /usr/local/lib/libur_adapter_level_zero_v2.so.0 is not a symbolic link\n",
      "\n",
      "/sbin/ldconfig.real: /usr/local/lib/libtbbmalloc.so.2 is not a symbolic link\n",
      "\n",
      "/sbin/ldconfig.real: /usr/local/lib/libhwloc.so.15 is not a symbolic link\n",
      "\n",
      "/sbin/ldconfig.real: /usr/local/lib/libtcm_debug.so.1 is not a symbolic link\n",
      "\n",
      "/sbin/ldconfig.real: /usr/local/lib/libur_adapter_level_zero.so.0 is not a symbolic link\n",
      "\n",
      "/sbin/ldconfig.real: /usr/local/lib/libur_loader.so.0 is not a symbolic link\n",
      "\n",
      "Processing triggers for man-db (2.10.2-1) ...\n",
      "Processing triggers for mailcap (3.70+nmu1ubuntu1) ...\n"
     ]
    }
   ],
   "source": [
    "!apt-get -y install sox libsox-dev libsox-fmt-all"
   ]
  },
  {
   "cell_type": "code",
   "execution_count": null,
   "metadata": {
    "colab": {
     "base_uri": "https://localhost:8080/",
     "height": 153,
     "referenced_widgets": [
      "378ee989d9a4496f855b8cecaee441a0",
      "a4a71c0e13c94fe1ab78af7b3f8a825b",
      "17083b92c501439db899de3725e5460a",
      "7f315cc19f6a40e8b22366171714f4b3",
      "2ff17750195442a99219af72bd5f7871",
      "3440067808c847bcad355c8fc122e003",
      "ae54483eb6ea417d8e916e9bbc8677a0",
      "bc39df2056864070b9768171024bff24",
      "cd3c98589e374487a20e3029c92314ec",
      "0b79603968114ed5b9d1eef1526e507f",
      "7a6263b323604023a26b727607a09144",
      "d7fd0fc8b16845f696a7d1fd80a91dc8",
      "15a9912bb9e04c3687493890b482e94a",
      "12a3a53f459c45278a9353697343b63e",
      "acb6f6409d4248aa9234deeabadb32e4",
      "0f98764cc0ce48ca9014cc6a70987584",
      "3b73ca86560040f89950b4303181126c",
      "ac0c7536e8674f9790518b24e9cefab9",
      "6d718f735450406ca70b8fe88046739e",
      "7be28c2e1da54fc18e2a5eb4d88c176e",
      "e4d394990b884fa789ddc9865e833606",
      "61de437cf3fb4405b4076028483cd5ed"
     ]
    },
    "id": "2BzwyZnLVZhX",
    "outputId": "998770f6-419f-4703-cf60-e9aff1eb618a"
   },
   "outputs": [
    {
     "data": {
      "application/vnd.jupyter.widget-view+json": {
       "model_id": "378ee989d9a4496f855b8cecaee441a0",
       "version_major": 2,
       "version_minor": 0
      },
      "text/plain": [
       "Map:   0%|          | 0/800 [00:00<?, ? examples/s]"
      ]
     },
     "metadata": {},
     "output_type": "display_data"
    },
    {
     "name": "stderr",
     "output_type": "stream",
     "text": [
      "/tmp/ipython-input-2781302080.py:15: UserWarning: torchaudio.sox_effects.sox_effects.apply_effects_tensor has been deprecated. This deprecation is part of a large refactoring effort to transition TorchAudio into a maintenance phase. Please see https://github.com/pytorch/audio/issues/3902 for more information. It will be removed from the 2.9 release. \n",
      "  aug, sr_out = torchaudio.sox_effects.apply_effects_tensor(wav, sr, effects)\n"
     ]
    },
    {
     "data": {
      "application/vnd.jupyter.widget-view+json": {
       "model_id": "d7fd0fc8b16845f696a7d1fd80a91dc8",
       "version_major": 2,
       "version_minor": 0
      },
      "text/plain": [
       "Map:   0%|          | 0/800 [00:00<?, ? examples/s]"
      ]
     },
     "metadata": {},
     "output_type": "display_data"
    },
    {
     "name": "stdout",
     "output_type": "stream",
     "text": [
      "Train(orig): 800 Train(0.9 sel): 800 → Mixed: 1600\n"
     ]
    }
   ],
   "source": [
    "import numpy as np, torchaudio\n",
    "\n",
    "def _to_tensor_1ch(x_np):\n",
    "    x = torch.tensor(np.asarray(x_np, dtype=np.float32))\n",
    "    if x.dim() == 1:\n",
    "        x = x.unsqueeze(0)\n",
    "    return x\n",
    "\n",
    "def speed_perturb_np(wav_np, sr, rate: float):\n",
    "    if rate == 1.0:\n",
    "        return wav_np, sr\n",
    "    try:\n",
    "        wav = _to_tensor_1ch(wav_np)\n",
    "        effects = [[\"tempo\", str(rate)]]  # 피치 보존\n",
    "        aug, sr_out = torchaudio.sox_effects.apply_effects_tensor(wav, sr, effects)\n",
    "        return aug.squeeze(0).numpy(), sr_out\n",
    "    except Exception as e:\n",
    "        print(\"[WARN][sox] tempo failed -> fallback(no-aug):\", e)\n",
    "        return wav_np, sr\n",
    "\n",
    "train_raw_16k = train_dataset.cast_column(\"audio\", Audio(sampling_rate=TARGET_SR))\n",
    "\n",
    "def augment_copy(ds_raw, rate: float):\n",
    "    def _aug(b):\n",
    "        a = b[\"audio\"]\n",
    "        aug_np, sr_out = speed_perturb_np(a[\"array\"], a[\"sampling_rate\"], rate)\n",
    "        b = dict(b)\n",
    "        b[\"audio\"] = {\"array\": aug_np, \"path\": None, \"sampling_rate\": sr_out}\n",
    "        return b\n",
    "    ds_aug = ds_raw.map(_aug)\n",
    "    ds_proc = ds_aug.map(\n",
    "        prepare_dataset,\n",
    "        remove_columns=[c for c in ds_aug.column_names if c not in {\"input_features\",\"labels\",\"locale\"}]\n",
    "    )\n",
    "    ds_proc.set_format(columns=[\"input_features\",\"labels\",\"locale\"])\n",
    "    return ds_proc\n",
    "\n",
    "# 원본 + 0.9배 속도 증강 샘플 1:1\n",
    "proc_train_sp09 = augment_copy(train_raw_16k, 0.9)\n",
    "k = len(proc_train_orig)\n",
    "m = min(len(proc_train_sp09), k)\n",
    "proc_train_sp09_sel = proc_train_sp09.shuffle(seed=SEED).select(range(m))\n",
    "proc_train_mix = concatenate_datasets([proc_train_orig, proc_train_sp09_sel]).shuffle(seed=SEED)\n",
    "print(\"Train(orig):\", len(proc_train_orig), \"Train(0.9 sel):\", len(proc_train_sp09_sel), \"→ Mixed:\", len(proc_train_mix))"
   ]
  },
  {
   "cell_type": "code",
   "execution_count": null,
   "metadata": {
    "colab": {
     "base_uri": "https://localhost:8080/",
     "height": 446
    },
    "id": "3Ltj8iPjVbm9",
    "outputId": "b02904b3-a839-4d83-c57b-83213b18484f"
   },
   "outputs": [
    {
     "name": "stdout",
     "output_type": "stream",
     "text": [
      "[sanity] before train: 0\n"
     ]
    },
    {
     "name": "stderr",
     "output_type": "stream",
     "text": [
      "/usr/local/lib/python3.12/dist-packages/transformers/training_args.py:1525: FutureWarning: `evaluation_strategy` is deprecated and will be removed in version 4.46 of 🤗 Transformers. Use `eval_strategy` instead\n",
      "  warnings.warn(\n"
     ]
    },
    {
     "data": {
      "text/html": [
       "\n",
       "    <div>\n",
       "      \n",
       "      <progress value='800' max='1600' style='width:300px; height:20px; vertical-align: middle;'></progress>\n",
       "      [ 800/1600 29:08 < 29:13, 0.46 it/s, Epoch 4/8]\n",
       "    </div>\n",
       "    <table border=\"1\" class=\"dataframe\">\n",
       "  <thead>\n",
       " <tr style=\"text-align: left;\">\n",
       "      <th>Epoch</th>\n",
       "      <th>Training Loss</th>\n",
       "      <th>Validation Loss</th>\n",
       "    </tr>\n",
       "  </thead>\n",
       "  <tbody>\n",
       "    <tr>\n",
       "      <td>1</td>\n",
       "      <td>No log</td>\n",
       "      <td>8.411654</td>\n",
       "    </tr>\n",
       "    <tr>\n",
       "      <td>2</td>\n",
       "      <td>No log</td>\n",
       "      <td>2.090122</td>\n",
       "    </tr>\n",
       "    <tr>\n",
       "      <td>3</td>\n",
       "      <td>3.806400</td>\n",
       "      <td>2.130299</td>\n",
       "    </tr>\n",
       "    <tr>\n",
       "      <td>4</td>\n",
       "      <td>3.806400</td>\n",
       "      <td>2.199219</td>\n",
       "    </tr>\n",
       "  </tbody>\n",
       "</table><p>"
      ],
      "text/plain": [
       "<IPython.core.display.HTML object>"
      ]
     },
     "metadata": {},
     "output_type": "display_data"
    },
    {
     "name": "stderr",
     "output_type": "stream",
     "text": [
      "Some non-default generation parameters are set in the model config. These should go into a GenerationConfig file (https://huggingface.co/docs/transformers/generation_strategies#save-a-custom-decoding-strategy-with-your-model) instead. This warning will be raised to an exception in v4.41.\n",
      "Non-default generation parameters: {'max_length': 448, 'suppress_tokens': [], 'begin_suppress_tokens': [220, 50257]}\n",
      "Some non-default generation parameters are set in the model config. These should go into a GenerationConfig file (https://huggingface.co/docs/transformers/generation_strategies#save-a-custom-decoding-strategy-with-your-model) instead. This warning will be raised to an exception in v4.41.\n",
      "Non-default generation parameters: {'max_length': 448, 'suppress_tokens': [], 'begin_suppress_tokens': [220, 50257]}\n",
      "Some non-default generation parameters are set in the model config. These should go into a GenerationConfig file (https://huggingface.co/docs/transformers/generation_strategies#save-a-custom-decoding-strategy-with-your-model) instead. This warning will be raised to an exception in v4.41.\n",
      "Non-default generation parameters: {'max_length': 448, 'suppress_tokens': [], 'begin_suppress_tokens': [220, 50257]}\n",
      "Some non-default generation parameters are set in the model config. These should go into a GenerationConfig file (https://huggingface.co/docs/transformers/generation_strategies#save-a-custom-decoding-strategy-with-your-model) instead. This warning will be raised to an exception in v4.41.\n",
      "Non-default generation parameters: {'max_length': 448, 'suppress_tokens': [], 'begin_suppress_tokens': [220, 50257]}\n",
      "There were missing keys in the checkpoint model loaded: ['proj_out.weight'].\n"
     ]
    },
    {
     "name": "stdout",
     "output_type": "stream",
     "text": [
      "[sanity] after  train: 800\n"
     ]
    }
   ],
   "source": [
    "# 7) Trainer 설정\n",
    "args = Seq2SeqTrainingArguments(\n",
    "    output_dir=\"./whisper-small-mix_0p9\",\n",
    "    per_device_train_batch_size=4,\n",
    "    gradient_accumulation_steps=2,\n",
    "    learning_rate=2e-5,\n",
    "    num_train_epochs=8,\n",
    "    weight_decay=0.01,\n",
    "    label_smoothing_factor=0.1,\n",
    "    warmup_ratio=0.1,\n",
    "    lr_scheduler_type=\"linear\",\n",
    "    max_grad_norm=1.0,\n",
    "    fp16=torch.cuda.is_available(),\n",
    "    report_to=\"none\",\n",
    "\n",
    "    predict_with_generate=True,      # eval/predict 시 generate 사용\n",
    "    generation_max_length=225,\n",
    "\n",
    "    evaluation_strategy=\"epoch\",\n",
    "    save_strategy=\"epoch\",\n",
    "    load_best_model_at_end=True,\n",
    "    metric_for_best_model=\"eval_loss\",\n",
    "    greater_is_better=False,\n",
    "\n",
    "    remove_unused_columns=False,\n",
    ")\n",
    "\n",
    "trainer_mix09 = Seq2SeqTrainer(\n",
    "    model=model,\n",
    "    args=args,\n",
    "    train_dataset=proc_train_mix,\n",
    "    eval_dataset=proc_val_orig,\n",
    "    tokenizer=processor.tokenizer,   # 중요!\n",
    "    data_collator=data_collator,\n",
    "    callbacks=[EarlyStoppingCallback(early_stopping_patience=2)],\n",
    ")\n",
    "\n",
    "print(\"[sanity] before train:\", trainer_mix09.state.global_step)\n",
    "trainer_mix09.train()\n",
    "print(\"[sanity] after  train:\", trainer_mix09.state.global_step)"
   ]
  },
  {
   "cell_type": "code",
   "execution_count": null,
   "metadata": {
    "colab": {
     "base_uri": "https://localhost:8080/",
     "height": 1000,
     "referenced_widgets": [
      "adbf606be26b44a29c3be8863c99fdeb",
      "8967717cb2504eeeb3bdfcb862c0469f",
      "2438384aeeb94ef79f723516d49f755f",
      "9d39b7a2c2004f2fa9906e9720e5043c",
      "e9e8a7c9415241548346a395d578b2b4",
      "f993c32621fe4453a83739566408f9cc",
      "765fe927001e4d6088b7367f371bfc26",
      "707e0026ecd4456895b6c8a67edcb339",
      "b57ca480e3b046e9b21db05b4b369eaa",
      "2876c2e7e26142d1ba6fb52a8f619fc5",
      "831a559ae6e945f78006d61ba521b98a",
      "2c0978ca60d045faac87361b298d1c20",
      "e08bd41512874dedaddf7201e7468ecf",
      "5f757f39de354164bbf763f301cca689",
      "43d7a0a8fa9e4218abfdea2abc246081",
      "344c59a55f5648b1be262cf80a6a8be5",
      "0900e2afa5b14134825b628550c2db3e",
      "e4e574c846dc4b7c9678907e69d68200",
      "977e9ca445344407aa7435173c27f6e0",
      "d94ff5e2dc4944cba34ab29ccbfaf1b3",
      "4be35726f0924367b04bd19cd6de8fc1",
      "cd6a6c113d9f4b1180fc6f911bb36943",
      "0a2c34daec42437e87b5e58f205e08eb",
      "3129dc2315ec44b3b37341c468309154",
      "8fea7317f1604f94a16af9c650cdcd39",
      "a69dff3e5ce7416cb21cea6c5d7cb3e3",
      "0ce79ec0588f47938e3fd57732a475ad",
      "3f521b20aabd401691b140bbb706de34",
      "ae9e9dbc572d4bea8973401bd93849e4",
      "1d89bc243f7d469884c123a17872c906",
      "5e6d0d560e944312883caa9c7ebcd3bf",
      "9b526285dff646ef99556a3cbe626f03",
      "c4287610903b45bb991c6dbf021c1aff",
      "9312739fbe6f410583508a794b800945",
      "8ac22c74aa864a12bf54429ede639f0a",
      "0d30556d7886468b9ea5959005f6dc68",
      "cb0db0ffec77454692ed24df0adb4db1",
      "264a9107f3df479ba1b1936d794b9344",
      "061c4df856f5447c8bfc483a8a354bd3",
      "5ad2f91f1e3a40beb9c649fb03a8d879",
      "e7b814cd7f394cbcb367fd24eebf7745",
      "21691763e73c4bdda4de3a39851f9590",
      "f305c53c40994873a17c803804af60dd",
      "970ee7e4f9344d21bf708795fb15413f",
      "50a814c5cfc644f2b66a6e80264182c5",
      "65769d7f508640e08318a30adb729989",
      "0d768d304a0240a984dc0daad3ba589f",
      "1017741281a04deda05a1d67fdcf429a",
      "60751759c3664bd4b00568f843a67250",
      "c9103770a97143dbbcd83ce7c924ec8b",
      "64fd68ab2fd44fdabdc5b75668205dcb",
      "9a630458dc9b441b845855400e2080dd",
      "ab0b8e0ead0a40ba9589c2c3f2d88946",
      "63979d16541249b9b44190474c449bdf",
      "12ec7a33410c4c64a33d4df9d1e88d9f",
      "09e69547589f4fd8b7fd8b28f57d4c47",
      "ae8e80dbf11045eca251ae19d7670004",
      "401944ebacc446e1b691e8f1ddc2beac",
      "c717197c918d44f3868bae7347203c71",
      "1afc09455ae84f02ac833b612f9c5852",
      "6191b3b4086149848b57a634d4285cdd",
      "305d45b4f2634f158acd300621bdeb09",
      "53ce5601e85540ac9f080d915c5de251",
      "bd06129bb7aa413ea13a933d1b971045",
      "c01fdb0116874eaabcefeebfa3b16826",
      "513dc22596c441ae9be75c1b89691f1f"
     ]
    },
    "id": "-ViCMo23VcNa",
    "outputId": "ab2df3c3-3694-4fbe-f178-46245d16ded7"
   },
   "outputs": [
    {
     "data": {
      "application/vnd.jupyter.widget-view+json": {
       "model_id": "adbf606be26b44a29c3be8863c99fdeb",
       "version_major": 2,
       "version_minor": 0
      },
      "text/plain": [
       "Downloading builder script: 0.00B [00:00, ?B/s]"
      ]
     },
     "metadata": {},
     "output_type": "display_data"
    },
    {
     "data": {
      "application/vnd.jupyter.widget-view+json": {
       "model_id": "2c0978ca60d045faac87361b298d1c20",
       "version_major": 2,
       "version_minor": 0
      },
      "text/plain": [
       "Downloading builder script: 0.00B [00:00, ?B/s]"
      ]
     },
     "metadata": {},
     "output_type": "display_data"
    },
    {
     "name": "stdout",
     "output_type": "stream",
     "text": [
      "[CHECK] Evaluating on TEST set: size=400 (val=400)\n"
     ]
    },
    {
     "data": {
      "application/vnd.jupyter.widget-view+json": {
       "model_id": "0a2c34daec42437e87b5e58f205e08eb",
       "version_major": 2,
       "version_minor": 0
      },
      "text/plain": [
       "Filter:   0%|          | 0/400 [00:00<?, ? examples/s]"
      ]
     },
     "metadata": {},
     "output_type": "display_data"
    },
    {
     "name": "stderr",
     "output_type": "stream",
     "text": [
      "The attention mask is not set and cannot be inferred from input because pad token is same as eos token. As a consequence, you may observe unexpected behavior. Please pass your input's `attention_mask` to obtain reliable results.\n"
     ]
    },
    {
     "data": {
      "text/html": [],
      "text/plain": [
       "<IPython.core.display.HTML object>"
      ]
     },
     "metadata": {},
     "output_type": "display_data"
    },
    {
     "name": "stdout",
     "output_type": "stream",
     "text": [
      "\n",
      "[test_orig] KO samples (k=10)\n",
      "#00 PRED: 그러나 실제로 뽑은 숫자는 지난주에 미치지 못한 것으로 나타났다.\n",
      "     REF : 그러나 실제로 뽑은 숫자는 지난 주에 미치지 못한 것으로 나타났다.\n",
      "---\n",
      "#01 PRED: 신앗대는 이렇게 말하며 유서방을 견눈질 해 보았다.\n",
      "     REF : 싱앗대는 이렇게 말하며 유서방을 곁눈질해 보았다.\n",
      "---\n",
      "#02 PRED: 신철이는 어찌 보면 감정을 가진 사람 같지 않아 보였다.\n",
      "     REF : 신철이는 어찌 보면 감정을 가진 사람 같지 않아 보였다.\n",
      "---\n",
      "#03 PRED: 내다보니까 언더 어려웠던 집에 불이 붙으며 사람들이 왔다갔다야다니었습니다.\n",
      "     REF : 내다보니까 언덕 아래 어떤 집에 불이 붙으며 사람들이 왔다갔다 야단이었습니다.\n",
      "---\n",
      "#04 PRED:  인력화가 무거워지면 그의 몸은 이상으로 가벼졌고\n",
      "     REF : 인력거가 무거워지매 그의 몸은 이상하게도 가벼워졌고\n",
      "---\n",
      "#05 PRED:  마스크 잘 쓰고 다니고 조심히서 다녀와\n",
      "     REF : 마스크 잘 쓰고 다니고, 길 조심해서 다녀와.\n",
      "---\n",
      "#06 PRED: 나를 나아준 고향 바람도 더 정이 되었고요.\n",
      "     REF : 나를 낳어 준 고향버덤두 더 정이 들었고요.\n",
      "---\n",
      "#07 PRED: 선비는 생각지 않은 이 말에 앞이 아득해지며 방안이 팅팅 놀았다.\n",
      "     REF : 선비는 생각지 않은 이 말에 앞이 아뜩해지며 방 안이 핑핑 돌았다.\n",
      "---\n",
      "#08 PRED: 벼글 새로 감독과 그가 마주 놓은 것이 직각되자 불쾌하였다.\n",
      "     REF : 벽을 새로 감독과 그가 마주 누운 것이 직각 되자 불쾌하였다.\n",
      "---\n",
      "#09 PRED: 내가 너는 옥점인 연과 조금도 달리 생각지 않는다.\n",
      "     REF : 내가 너는 옥점이년과 조금도 달리 생각지 않는다.\n",
      "---\n"
     ]
    },
    {
     "data": {
      "application/vnd.jupyter.widget-view+json": {
       "model_id": "9312739fbe6f410583508a794b800945",
       "version_major": 2,
       "version_minor": 0
      },
      "text/plain": [
       "Filter:   0%|          | 0/400 [00:00<?, ? examples/s]"
      ]
     },
     "metadata": {},
     "output_type": "display_data"
    },
    {
     "data": {
      "text/html": [],
      "text/plain": [
       "<IPython.core.display.HTML object>"
      ]
     },
     "metadata": {},
     "output_type": "display_data"
    },
    {
     "name": "stdout",
     "output_type": "stream",
     "text": [
      "\n",
      "[test_orig] JA samples (k=10)\n",
      "#00 PRED: 福島県広野町\n",
      "     REF : 福島県広野町\n",
      "---\n",
      "#01 PRED: だがことわる\n",
      "     REF : だが断る\n",
      "---\n",
      "#02 PRED: そして、いくら見舞いとしても、君が悪ければ悪いほど書いて、そのカミをじっと見つめないではいられませんでした。\n",
      "     REF : そして、いくら見まいとしても、きみが悪ければ悪いほど、かえってその影を、じっと見つめないではいられませんでした。\n",
      "---\n",
      "#03 PRED: ニーナザク選手のシュートはハノ・ファーである\n",
      "     REF : ニーダーザクセン州の州都はハノーファーである\n",
      "---\n",
      "#04 PRED: そこで自分で出かけて行って、調べ始めました。彼はさんざん探し回りました。\n",
      "     REF : そこで自分で出かけて行って、調べはじめました。かれはさんざんさがしまわりました。\n",
      "---\n",
      "#05 PRED: ok\n",
      "     REF : 「おやおや、汚いやつめまた出て来やがったな。」とイワンは言いました。\n",
      "---\n",
      "#06 PRED: そこから見ていると、その徳はだんだんの上に立ち上がって、右隣の旅の方を振り向いて、何かを覚えて叫びました。\n",
      "     REF : そこから見ていると、その男は段々の上に立ち上って、右隣りの畑の方を振り向いて、何か大声で叫びました。\n",
      "---\n",
      "#07 PRED: 今日の天気は晴れ\n",
      "     REF : 今日の天気は晴れ\n",
      "---\n",
      "#08 PRED: さいこ\n",
      "     REF : さあ、行こう。\n",
      "---\n",
      "#09 PRED: 行程は否によって売買されたものでなければなある。\n",
      "     REF : その肯定は否定によって媒介されたものでなければならぬ。\n",
      "---\n"
     ]
    },
    {
     "data": {
      "application/vnd.jupyter.widget-view+json": {
       "model_id": "50a814c5cfc644f2b66a6e80264182c5",
       "version_major": 2,
       "version_minor": 0
      },
      "text/plain": [
       "Filter:   0%|          | 0/400 [00:00<?, ? examples/s]"
      ]
     },
     "metadata": {},
     "output_type": "display_data"
    },
    {
     "data": {
      "text/html": [],
      "text/plain": [
       "<IPython.core.display.HTML object>"
      ]
     },
     "metadata": {},
     "output_type": "display_data"
    },
    {
     "name": "stdout",
     "output_type": "stream",
     "text": [
      "\n",
      "[test_orig] EN samples (k=10)\n",
      "#00 PRED: Hello, one of the most famous belongs to the class of books known as the Romantic World Hepperns' town.\n",
      "     REF : Enoxaparin belongs to the class of drugs known as low molecular weight heparins.\n",
      "---\n",
      "#01 PRED: Eight\n",
      "     REF : eight\n",
      "---\n",
      "#02 PRED: Do you mean it?\n",
      "     REF : Do you mean it?\n",
      "---\n",
      "#03 PRED: You shall see the other guy, specifically, how good at fighting him.\n",
      "     REF : You should see the other guy, specifically, how good at fighting he is.\n",
      "---\n",
      "#04 PRED: Karina's runoff of dancing with the stars was the following month.\n",
      "     REF : Karina Smirnoff of \"Dancing With The Stars\" hosted the following month.\n",
      "---\n",
      "#05 PRED: Denier's railway station is at Romford.\n",
      "     REF : The nearest railway station is at Romford.\n",
      "---\n",
      "#06 PRED: He ended up running to the bars, which fortified the windows of the first floor.\n",
      "     REF : He ended up running to the bars which fortified the windows of the first floor.\n",
      "---\n",
      "#07 PRED: The frames are then delivered to the costumers.\n",
      "     REF : The prints are then delivered to the customer.\n",
      "---\n",
      "#08 PRED: Jails began playing jazz dompet, but eventually they should chat to blues, guitar,\n",
      "     REF : Geils began playing jazz trumpet but eventually switched to blues guitar.\n",
      "---\n",
      "#09 PRED: Doing the handstand needs a lot of practice to learn.\n",
      "     REF : Doing a handstand needs a lot of practice to learn.\n",
      "---\n"
     ]
    },
    {
     "data": {
      "application/vnd.jupyter.widget-view+json": {
       "model_id": "09e69547589f4fd8b7fd8b28f57d4c47",
       "version_major": 2,
       "version_minor": 0
      },
      "text/plain": [
       "Filter:   0%|          | 0/400 [00:00<?, ? examples/s]"
      ]
     },
     "metadata": {},
     "output_type": "display_data"
    },
    {
     "data": {
      "text/html": [],
      "text/plain": [
       "<IPython.core.display.HTML object>"
      ]
     },
     "metadata": {},
     "output_type": "display_data"
    },
    {
     "name": "stdout",
     "output_type": "stream",
     "text": [
      "\n",
      "[test_orig] DE samples (k=10)\n",
      "#00 PRED: Wenn nicht, dann leckt man sie irgendwo hin, wo Platz ist.\n",
      "     REF : Wenn nicht, dann legt man sie irgendwo hin, wo Platz ist.\n",
      "---\n",
      "#01 PRED: Wie ist die derzeitige Verkehrssituation?\n",
      "     REF : Wie ist die derzeitige Verkehrssituation?\n",
      "---\n",
      "#02 PRED: Auf dem Prozesssacken der Hexe in Verfolgung sind keine authentische Rezette bekannt.\n",
      "     REF : Aus den Prozessakten der Hexenverfolgung sind keine authentischen Rezepte bekannt.\n",
      "---\n",
      "#03 PRED: Er er rang den ersten Platz in seiner Hubraumklasse.\n",
      "     REF : Er errang den ersten Platz in seiner Hubraumklasse.\n",
      "---\n",
      "#04 PRED: Achtung schreck!\n",
      "     REF : Ach du Schreck!\n",
      "---\n",
      "#05 PRED: Abschließend möchte ich Ihnen gerne etwas sehr wichtiges Mitteilen.\n",
      "     REF : Abschließend möchte ich Ihnen gerne etwas sehr Wichtiges mitteilen.\n",
      "---\n",
      "#06 PRED: Ihr sofortesträngen erschienen den Mohnnemagazin wieder Wok hat das Basal Mäuig leer.\n",
      "     REF : Ihre Fotostrecken erschienen in Modemagazinen wie der Vogue, Harper’s Bazaar und Marie Claire.\n",
      "---\n",
      "#07 PRED: Sowohl Thomas Hauer als auch Margaret Douglas wurden im Tower auf London gefangen gesetzt.\n",
      "     REF : Sowohl Thomas Howard als auch Margaret Douglas wurden im Tower of London gefangen gesetzt.\n",
      "---\n",
      "#08 PRED: Eislutschers sind viel leckerer als Eistöten.\n",
      "     REF : Eislutscher sind viel leckerer als Eistüten.\n",
      "---\n",
      "#09 PRED: Sie gewannen das Match mit sechs Löchern vorschprungen.\n",
      "     REF : Sie gewannen das Match mit sechs Löchern Vorsprung.\n",
      "---\n"
     ]
    },
    {
     "data": {
      "application/vnd.google.colaboratory.intrinsic+json": {
       "summary": "{\n  \"name\": \"df_orig\",\n  \"rows\": 4,\n  \"fields\": [\n    {\n      \"column\": \"set\",\n      \"properties\": {\n        \"dtype\": \"category\",\n        \"num_unique_values\": 1,\n        \"samples\": [\n          \"test_orig\"\n        ],\n        \"semantic_type\": \"\",\n        \"description\": \"\"\n      }\n    },\n    {\n      \"column\": \"lang\",\n      \"properties\": {\n        \"dtype\": \"string\",\n        \"num_unique_values\": 4,\n        \"samples\": [\n          \"en\"\n        ],\n        \"semantic_type\": \"\",\n        \"description\": \"\"\n      }\n    },\n    {\n      \"column\": \"WER\",\n      \"properties\": {\n        \"dtype\": \"number\",\n        \"std\": 0.2678668622761888,\n        \"min\": 0.2435754189944134,\n        \"max\": 0.8648648648648649,\n        \"num_unique_values\": 4,\n        \"samples\": [\n          0.2435754189944134\n        ],\n        \"semantic_type\": \"\",\n        \"description\": \"\"\n      }\n    },\n    {\n      \"column\": \"CER\",\n      \"properties\": {\n        \"dtype\": \"number\",\n        \"std\": 0.14383585486142952,\n        \"min\": 0.11856599238934508,\n        \"max\": 0.43155339805825244,\n        \"num_unique_values\": 4,\n        \"samples\": [\n          0.11856599238934508\n        ],\n        \"semantic_type\": \"\",\n        \"description\": \"\"\n      }\n    },\n    {\n      \"column\": \"N\",\n      \"properties\": {\n        \"dtype\": \"number\",\n        \"std\": 0,\n        \"min\": 100,\n        \"max\": 100,\n        \"num_unique_values\": 1,\n        \"samples\": [\n          100\n        ],\n        \"semantic_type\": \"\",\n        \"description\": \"\"\n      }\n    }\n  ]\n}",
       "type": "dataframe",
       "variable_name": "df_orig"
      },
      "text/html": [
       "\n",
       "  <div id=\"df-1a56dd33-ade2-453e-b9f4-8aac83424ff6\" class=\"colab-df-container\">\n",
       "    <div>\n",
       "<style scoped>\n",
       "    .dataframe tbody tr th:only-of-type {\n",
       "        vertical-align: middle;\n",
       "    }\n",
       "\n",
       "    .dataframe tbody tr th {\n",
       "        vertical-align: top;\n",
       "    }\n",
       "\n",
       "    .dataframe thead th {\n",
       "        text-align: right;\n",
       "    }\n",
       "</style>\n",
       "<table border=\"1\" class=\"dataframe\">\n",
       "  <thead>\n",
       "    <tr style=\"text-align: right;\">\n",
       "      <th></th>\n",
       "      <th>set</th>\n",
       "      <th>lang</th>\n",
       "      <th>WER</th>\n",
       "      <th>CER</th>\n",
       "      <th>N</th>\n",
       "    </tr>\n",
       "  </thead>\n",
       "  <tbody>\n",
       "    <tr>\n",
       "      <th>3</th>\n",
       "      <td>test_orig</td>\n",
       "      <td>de</td>\n",
       "      <td>0.400477</td>\n",
       "      <td>0.161734</td>\n",
       "      <td>100</td>\n",
       "    </tr>\n",
       "    <tr>\n",
       "      <th>2</th>\n",
       "      <td>test_orig</td>\n",
       "      <td>en</td>\n",
       "      <td>0.243575</td>\n",
       "      <td>0.118566</td>\n",
       "      <td>100</td>\n",
       "    </tr>\n",
       "    <tr>\n",
       "      <th>1</th>\n",
       "      <td>test_orig</td>\n",
       "      <td>ja</td>\n",
       "      <td>0.864865</td>\n",
       "      <td>0.431553</td>\n",
       "      <td>100</td>\n",
       "    </tr>\n",
       "    <tr>\n",
       "      <th>0</th>\n",
       "      <td>test_orig</td>\n",
       "      <td>ko</td>\n",
       "      <td>0.409880</td>\n",
       "      <td>0.159619</td>\n",
       "      <td>100</td>\n",
       "    </tr>\n",
       "  </tbody>\n",
       "</table>\n",
       "</div>\n",
       "    <div class=\"colab-df-buttons\">\n",
       "\n",
       "  <div class=\"colab-df-container\">\n",
       "    <button class=\"colab-df-convert\" onclick=\"convertToInteractive('df-1a56dd33-ade2-453e-b9f4-8aac83424ff6')\"\n",
       "            title=\"Convert this dataframe to an interactive table.\"\n",
       "            style=\"display:none;\">\n",
       "\n",
       "  <svg xmlns=\"http://www.w3.org/2000/svg\" height=\"24px\" viewBox=\"0 -960 960 960\">\n",
       "    <path d=\"M120-120v-720h720v720H120Zm60-500h600v-160H180v160Zm220 220h160v-160H400v160Zm0 220h160v-160H400v160ZM180-400h160v-160H180v160Zm440 0h160v-160H620v160ZM180-180h160v-160H180v160Zm440 0h160v-160H620v160Z\"/>\n",
       "  </svg>\n",
       "    </button>\n",
       "\n",
       "  <style>\n",
       "    .colab-df-container {\n",
       "      display:flex;\n",
       "      gap: 12px;\n",
       "    }\n",
       "\n",
       "    .colab-df-convert {\n",
       "      background-color: #E8F0FE;\n",
       "      border: none;\n",
       "      border-radius: 50%;\n",
       "      cursor: pointer;\n",
       "      display: none;\n",
       "      fill: #1967D2;\n",
       "      height: 32px;\n",
       "      padding: 0 0 0 0;\n",
       "      width: 32px;\n",
       "    }\n",
       "\n",
       "    .colab-df-convert:hover {\n",
       "      background-color: #E2EBFA;\n",
       "      box-shadow: 0px 1px 2px rgba(60, 64, 67, 0.3), 0px 1px 3px 1px rgba(60, 64, 67, 0.15);\n",
       "      fill: #174EA6;\n",
       "    }\n",
       "\n",
       "    .colab-df-buttons div {\n",
       "      margin-bottom: 4px;\n",
       "    }\n",
       "\n",
       "    [theme=dark] .colab-df-convert {\n",
       "      background-color: #3B4455;\n",
       "      fill: #D2E3FC;\n",
       "    }\n",
       "\n",
       "    [theme=dark] .colab-df-convert:hover {\n",
       "      background-color: #434B5C;\n",
       "      box-shadow: 0px 1px 3px 1px rgba(0, 0, 0, 0.15);\n",
       "      filter: drop-shadow(0px 1px 2px rgba(0, 0, 0, 0.3));\n",
       "      fill: #FFFFFF;\n",
       "    }\n",
       "  </style>\n",
       "\n",
       "    <script>\n",
       "      const buttonEl =\n",
       "        document.querySelector('#df-1a56dd33-ade2-453e-b9f4-8aac83424ff6 button.colab-df-convert');\n",
       "      buttonEl.style.display =\n",
       "        google.colab.kernel.accessAllowed ? 'block' : 'none';\n",
       "\n",
       "      async function convertToInteractive(key) {\n",
       "        const element = document.querySelector('#df-1a56dd33-ade2-453e-b9f4-8aac83424ff6');\n",
       "        const dataTable =\n",
       "          await google.colab.kernel.invokeFunction('convertToInteractive',\n",
       "                                                    [key], {});\n",
       "        if (!dataTable) return;\n",
       "\n",
       "        const docLinkHtml = 'Like what you see? Visit the ' +\n",
       "          '<a target=\"_blank\" href=https://colab.research.google.com/notebooks/data_table.ipynb>data table notebook</a>'\n",
       "          + ' to learn more about interactive tables.';\n",
       "        element.innerHTML = '';\n",
       "        dataTable['output_type'] = 'display_data';\n",
       "        await google.colab.output.renderOutput(dataTable, element);\n",
       "        const docLink = document.createElement('div');\n",
       "        docLink.innerHTML = docLinkHtml;\n",
       "        element.appendChild(docLink);\n",
       "      }\n",
       "    </script>\n",
       "  </div>\n",
       "\n",
       "\n",
       "    <div id=\"df-a134941a-311e-4279-b5f5-47fd2c522bf7\">\n",
       "      <button class=\"colab-df-quickchart\" onclick=\"quickchart('df-a134941a-311e-4279-b5f5-47fd2c522bf7')\"\n",
       "                title=\"Suggest charts\"\n",
       "                style=\"display:none;\">\n",
       "\n",
       "<svg xmlns=\"http://www.w3.org/2000/svg\" height=\"24px\"viewBox=\"0 0 24 24\"\n",
       "     width=\"24px\">\n",
       "    <g>\n",
       "        <path d=\"M19 3H5c-1.1 0-2 .9-2 2v14c0 1.1.9 2 2 2h14c1.1 0 2-.9 2-2V5c0-1.1-.9-2-2-2zM9 17H7v-7h2v7zm4 0h-2V7h2v10zm4 0h-2v-4h2v4z\"/>\n",
       "    </g>\n",
       "</svg>\n",
       "      </button>\n",
       "\n",
       "<style>\n",
       "  .colab-df-quickchart {\n",
       "      --bg-color: #E8F0FE;\n",
       "      --fill-color: #1967D2;\n",
       "      --hover-bg-color: #E2EBFA;\n",
       "      --hover-fill-color: #174EA6;\n",
       "      --disabled-fill-color: #AAA;\n",
       "      --disabled-bg-color: #DDD;\n",
       "  }\n",
       "\n",
       "  [theme=dark] .colab-df-quickchart {\n",
       "      --bg-color: #3B4455;\n",
       "      --fill-color: #D2E3FC;\n",
       "      --hover-bg-color: #434B5C;\n",
       "      --hover-fill-color: #FFFFFF;\n",
       "      --disabled-bg-color: #3B4455;\n",
       "      --disabled-fill-color: #666;\n",
       "  }\n",
       "\n",
       "  .colab-df-quickchart {\n",
       "    background-color: var(--bg-color);\n",
       "    border: none;\n",
       "    border-radius: 50%;\n",
       "    cursor: pointer;\n",
       "    display: none;\n",
       "    fill: var(--fill-color);\n",
       "    height: 32px;\n",
       "    padding: 0;\n",
       "    width: 32px;\n",
       "  }\n",
       "\n",
       "  .colab-df-quickchart:hover {\n",
       "    background-color: var(--hover-bg-color);\n",
       "    box-shadow: 0 1px 2px rgba(60, 64, 67, 0.3), 0 1px 3px 1px rgba(60, 64, 67, 0.15);\n",
       "    fill: var(--button-hover-fill-color);\n",
       "  }\n",
       "\n",
       "  .colab-df-quickchart-complete:disabled,\n",
       "  .colab-df-quickchart-complete:disabled:hover {\n",
       "    background-color: var(--disabled-bg-color);\n",
       "    fill: var(--disabled-fill-color);\n",
       "    box-shadow: none;\n",
       "  }\n",
       "\n",
       "  .colab-df-spinner {\n",
       "    border: 2px solid var(--fill-color);\n",
       "    border-color: transparent;\n",
       "    border-bottom-color: var(--fill-color);\n",
       "    animation:\n",
       "      spin 1s steps(1) infinite;\n",
       "  }\n",
       "\n",
       "  @keyframes spin {\n",
       "    0% {\n",
       "      border-color: transparent;\n",
       "      border-bottom-color: var(--fill-color);\n",
       "      border-left-color: var(--fill-color);\n",
       "    }\n",
       "    20% {\n",
       "      border-color: transparent;\n",
       "      border-left-color: var(--fill-color);\n",
       "      border-top-color: var(--fill-color);\n",
       "    }\n",
       "    30% {\n",
       "      border-color: transparent;\n",
       "      border-left-color: var(--fill-color);\n",
       "      border-top-color: var(--fill-color);\n",
       "      border-right-color: var(--fill-color);\n",
       "    }\n",
       "    40% {\n",
       "      border-color: transparent;\n",
       "      border-right-color: var(--fill-color);\n",
       "      border-top-color: var(--fill-color);\n",
       "    }\n",
       "    60% {\n",
       "      border-color: transparent;\n",
       "      border-right-color: var(--fill-color);\n",
       "    }\n",
       "    80% {\n",
       "      border-color: transparent;\n",
       "      border-right-color: var(--fill-color);\n",
       "      border-bottom-color: var(--fill-color);\n",
       "    }\n",
       "    90% {\n",
       "      border-color: transparent;\n",
       "      border-bottom-color: var(--fill-color);\n",
       "    }\n",
       "  }\n",
       "</style>\n",
       "\n",
       "      <script>\n",
       "        async function quickchart(key) {\n",
       "          const quickchartButtonEl =\n",
       "            document.querySelector('#' + key + ' button');\n",
       "          quickchartButtonEl.disabled = true;  // To prevent multiple clicks.\n",
       "          quickchartButtonEl.classList.add('colab-df-spinner');\n",
       "          try {\n",
       "            const charts = await google.colab.kernel.invokeFunction(\n",
       "                'suggestCharts', [key], {});\n",
       "          } catch (error) {\n",
       "            console.error('Error during call to suggestCharts:', error);\n",
       "          }\n",
       "          quickchartButtonEl.classList.remove('colab-df-spinner');\n",
       "          quickchartButtonEl.classList.add('colab-df-quickchart-complete');\n",
       "        }\n",
       "        (() => {\n",
       "          let quickchartButtonEl =\n",
       "            document.querySelector('#df-a134941a-311e-4279-b5f5-47fd2c522bf7 button');\n",
       "          quickchartButtonEl.style.display =\n",
       "            google.colab.kernel.accessAllowed ? 'block' : 'none';\n",
       "        })();\n",
       "      </script>\n",
       "    </div>\n",
       "\n",
       "  <div id=\"id_64bdb3be-1349-488e-a45c-5413c2f78a15\">\n",
       "    <style>\n",
       "      .colab-df-generate {\n",
       "        background-color: #E8F0FE;\n",
       "        border: none;\n",
       "        border-radius: 50%;\n",
       "        cursor: pointer;\n",
       "        display: none;\n",
       "        fill: #1967D2;\n",
       "        height: 32px;\n",
       "        padding: 0 0 0 0;\n",
       "        width: 32px;\n",
       "      }\n",
       "\n",
       "      .colab-df-generate:hover {\n",
       "        background-color: #E2EBFA;\n",
       "        box-shadow: 0px 1px 2px rgba(60, 64, 67, 0.3), 0px 1px 3px 1px rgba(60, 64, 67, 0.15);\n",
       "        fill: #174EA6;\n",
       "      }\n",
       "\n",
       "      [theme=dark] .colab-df-generate {\n",
       "        background-color: #3B4455;\n",
       "        fill: #D2E3FC;\n",
       "      }\n",
       "\n",
       "      [theme=dark] .colab-df-generate:hover {\n",
       "        background-color: #434B5C;\n",
       "        box-shadow: 0px 1px 3px 1px rgba(0, 0, 0, 0.15);\n",
       "        filter: drop-shadow(0px 1px 2px rgba(0, 0, 0, 0.3));\n",
       "        fill: #FFFFFF;\n",
       "      }\n",
       "    </style>\n",
       "    <button class=\"colab-df-generate\" onclick=\"generateWithVariable('df_orig')\"\n",
       "            title=\"Generate code using this dataframe.\"\n",
       "            style=\"display:none;\">\n",
       "\n",
       "  <svg xmlns=\"http://www.w3.org/2000/svg\" height=\"24px\"viewBox=\"0 0 24 24\"\n",
       "       width=\"24px\">\n",
       "    <path d=\"M7,19H8.4L18.45,9,17,7.55,7,17.6ZM5,21V16.75L18.45,3.32a2,2,0,0,1,2.83,0l1.4,1.43a1.91,1.91,0,0,1,.58,1.4,1.91,1.91,0,0,1-.58,1.4L9.25,21ZM18.45,9,17,7.55Zm-12,3A5.31,5.31,0,0,0,4.9,8.1,5.31,5.31,0,0,0,1,6.5,5.31,5.31,0,0,0,4.9,4.9,5.31,5.31,0,0,0,6.5,1,5.31,5.31,0,0,0,8.1,4.9,5.31,5.31,0,0,0,12,6.5,5.46,5.46,0,0,0,6.5,12Z\"/>\n",
       "  </svg>\n",
       "    </button>\n",
       "    <script>\n",
       "      (() => {\n",
       "      const buttonEl =\n",
       "        document.querySelector('#id_64bdb3be-1349-488e-a45c-5413c2f78a15 button.colab-df-generate');\n",
       "      buttonEl.style.display =\n",
       "        google.colab.kernel.accessAllowed ? 'block' : 'none';\n",
       "\n",
       "      buttonEl.onclick = () => {\n",
       "        google.colab.notebook.generateWithVariable('df_orig');\n",
       "      }\n",
       "      })();\n",
       "    </script>\n",
       "  </div>\n",
       "\n",
       "    </div>\n",
       "  </div>\n"
      ],
      "text/plain": [
       "         set lang       WER       CER    N\n",
       "3  test_orig   de  0.400477  0.161734  100\n",
       "2  test_orig   en  0.243575  0.118566  100\n",
       "1  test_orig   ja  0.864865  0.431553  100\n",
       "0  test_orig   ko  0.409880  0.159619  100"
      ]
     },
     "metadata": {},
     "output_type": "display_data"
    },
    {
     "name": "stdout",
     "output_type": "stream",
     "text": [
      "Saved -> /content/results_mix0p9_test_orig_ONLY.csv\n"
     ]
    }
   ],
   "source": [
    "# 8) 평가\n",
    "LANG_NAME = {\"ko\":\"korean\", \"ja\":\"japanese\", \"en\":\"english\", \"de\":\"german\"}\n",
    "wer_metric = load_metric(\"wer\")\n",
    "cer_metric = load_metric(\"cer\")\n",
    "\n",
    "def eval_on(ds_proc, trainer_obj, label, sample_k=10, show_samples=True):\n",
    "    rows = []\n",
    "    for lang in [\"ko\",\"ja\",\"en\",\"de\"]:\n",
    "        subset = ds_proc.filter(lambda x: x[\"locale\"] == lang)\n",
    "        if len(subset) == 0:\n",
    "            print(f\"[WARN] No samples for {lang} in {label}\")\n",
    "            rows.append({\"set\": label, \"lang\": lang, \"WER\": float(\"nan\"), \"CER\": float(\"nan\"), \"N\": 0})\n",
    "            continue\n",
    "\n",
    "        # 언어별 프롬프트 강제 (generate 시 사용)\n",
    "        forced_ids = processor.get_decoder_prompt_ids(language=LANG_NAME[lang], task=\"transcribe\")\n",
    "        trainer_obj.model.generation_config.forced_decoder_ids = forced_ids\n",
    "        trainer_obj.model.generation_config.max_length = 225\n",
    "\n",
    "        out = trainer_obj.predict(subset)  # predict_with_generate=True → 토큰 시퀀스 반환\n",
    "\n",
    "        # 예측/정답 디코딩\n",
    "        preds = tokenizer.batch_decode(out.predictions, skip_special_tokens=True)\n",
    "        label_ids = np.where(out.label_ids != -100, out.label_ids, tokenizer.pad_token_id)\n",
    "        refs  = tokenizer.batch_decode(label_ids, skip_special_tokens=True)\n",
    "\n",
    "        wer = wer_metric.compute(predictions=preds, references=refs)\n",
    "        cer = cer_metric.compute(predictions=preds, references=refs)\n",
    "        rows.append({\"set\": label, \"lang\": lang, \"WER\": wer, \"CER\": cer, \"N\": len(refs)})\n",
    "\n",
    "        if show_samples and sample_k > 0:\n",
    "            print(f\"\\n[{label}] {lang.upper()} samples (k={min(sample_k, len(refs))})\")\n",
    "            for i, (p, r) in enumerate(zip(preds, refs)):\n",
    "                if i >= sample_k: break\n",
    "                print(f\"#{i:02d} PRED: {p}\")\n",
    "                print(f\"     REF : {r}\")\n",
    "                print(\"---\")\n",
    "\n",
    "    return pd.DataFrame(rows).sort_values(\"lang\")\n",
    "\n",
    "print(f\"[CHECK] Evaluating on TEST set: size={len(proc_test_orig)} (val={len(proc_val_orig)})\")\n",
    "df_orig = eval_on(proc_test_orig, trainer_mix09, \"test_orig\", sample_k=10, show_samples=True)\n",
    "display(df_orig)\n",
    "df_orig.to_csv(\"/content/results_mix0p9_test_orig_ONLY.csv\", index=False)\n",
    "print(\"Saved -> /content/results_mix0p9_test_orig_ONLY.csv\")"
   ]
  },
  {
   "cell_type": "code",
   "execution_count": null,
   "metadata": {
    "colab": {
     "base_uri": "https://localhost:8080/",
     "height": 507
    },
    "id": "WrH-EKRwVeHg",
    "outputId": "858058b7-337b-447f-feba-36aba7166017"
   },
   "outputs": [
    {
     "data": {
      "image/png": "[encoded data removed]",
      "text/plain": [
       "<Figure size 700x500 with 1 Axes>"
      ]
     },
     "metadata": {},
     "output_type": "display_data"
    }
   ],
   "source": [
    "import matplotlib.pyplot as plt\n",
    "\n",
    "# 9) 시각화\n",
    "def bar_lang(df, label):\n",
    "    plt.figure(figsize=(7,5))\n",
    "    langs = [\"ko\",\"ja\",\"en\",\"de\"]\n",
    "    vals = []\n",
    "    for l in langs:\n",
    "        row = df[df[\"lang\"]==l]\n",
    "        vals.append(float(row[\"WER\"].values[0]) if len(row) else float(\"nan\"))\n",
    "    plt.bar([l.upper() for l in langs], vals)\n",
    "    plt.title(f\"WER - {label}\")\n",
    "    plt.ylabel(\"WER\")\n",
    "    plt.tight_layout()\n",
    "    plt.show()\n",
    "\n",
    "bar_lang(df_orig, \"Original Test (mix 0.9)\")"
   ]
  }
 ],
 "metadata": {
  "accelerator": "GPU",
  "colab": {
   "gpuType": "T4",
   "machine_shape": "hm",
   "provenance": []
  },
  "kernelspec": {
   "display_name": "Python 3",
   "name": "python3"
  },
  "language_info": {
   "name": "python"
  }
 },
 "nbformat": 4,
 "nbformat_minor": 0
}
