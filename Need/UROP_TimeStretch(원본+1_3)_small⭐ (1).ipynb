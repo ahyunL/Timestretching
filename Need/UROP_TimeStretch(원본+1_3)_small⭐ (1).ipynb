{
 "cells": [
  {
   "cell_type": "code",
   "execution_count": 1,
   "metadata": {
    "colab": {
     "base_uri": "https://localhost:8080/"
    },
    "collapsed": true,
    "id": "trDKdeAbaIGI",
    "outputId": "46454b57-74d9-4264-f656-2480f5668672"
   },
   "outputs": [
    {
     "name": "stdout",
     "output_type": "stream",
     "text": [
      "\u001b[2K     \u001b[90m━━━━━━━━━━━━━━━━━━━━━━━━━━━━━━━━━━━━━━━━\u001b[0m \u001b[32m43.7/43.7 kB\u001b[0m \u001b[31m3.8 MB/s\u001b[0m eta \u001b[36m0:00:00\u001b[0m\n",
      "\u001b[2K   \u001b[90m━━━━━━━━━━━━━━━━━━━━━━━━━━━━━━━━━━━━━━━━\u001b[0m \u001b[32m527.3/527.3 kB\u001b[0m \u001b[31m21.8 MB/s\u001b[0m eta \u001b[36m0:00:00\u001b[0m\n",
      "\u001b[2K   \u001b[90m━━━━━━━━━━━━━━━━━━━━━━━━━━━━━━━━━━━━━━━━\u001b[0m \u001b[32m84.1/84.1 kB\u001b[0m \u001b[31m8.4 MB/s\u001b[0m eta \u001b[36m0:00:00\u001b[0m\n",
      "\u001b[2K   \u001b[90m━━━━━━━━━━━━━━━━━━━━━━━━━━━━━━━━━━━━━━━━\u001b[0m \u001b[32m9.5/9.5 MB\u001b[0m \u001b[31m136.3 MB/s\u001b[0m eta \u001b[36m0:00:00\u001b[0m\n",
      "\u001b[2K   \u001b[90m━━━━━━━━━━━━━━━━━━━━━━━━━━━━━━━━━━━━━━━━\u001b[0m \u001b[32m177.6/177.6 kB\u001b[0m \u001b[31m17.9 MB/s\u001b[0m eta \u001b[36m0:00:00\u001b[0m\n",
      "\u001b[2K   \u001b[90m━━━━━━━━━━━━━━━━━━━━━━━━━━━━━━━━━━━━━━━━\u001b[0m \u001b[32m3.1/3.1 MB\u001b[0m \u001b[31m108.2 MB/s\u001b[0m eta \u001b[36m0:00:00\u001b[0m\n",
      "\u001b[2K   \u001b[90m━━━━━━━━━━━━━━━━━━━━━━━━━━━━━━━━━━━━━━━━\u001b[0m \u001b[32m3.6/3.6 MB\u001b[0m \u001b[31m111.9 MB/s\u001b[0m eta \u001b[36m0:00:00\u001b[0m\n",
      "\u001b[?25h\u001b[31mERROR: pip's dependency resolver does not currently take into account all the packages that are installed. This behaviour is the source of the following dependency conflicts.\n",
      "gcsfs 2025.3.0 requires fsspec==2025.3.0, but you have fsspec 2024.6.1 which is incompatible.\u001b[0m\u001b[31m\n",
      "\u001b[2K   \u001b[90m━━━━━━━━━━━━━━━━━━━━━━━━━━━━━━━━━━━━━━━━\u001b[0m \u001b[32m193.6/193.6 kB\u001b[0m \u001b[31m8.0 MB/s\u001b[0m eta \u001b[36m0:00:00\u001b[0m\n",
      "\u001b[?25h\u001b[31mERROR: pip's dependency resolver does not currently take into account all the packages that are installed. This behaviour is the source of the following dependency conflicts.\n",
      "datasets 2.21.0 requires fsspec[http]<=2024.6.1,>=2023.1.0, but you have fsspec 2025.3.0 which is incompatible.\u001b[0m\u001b[31m\n",
      "\u001b[0m"
     ]
    }
   ],
   "source": [
    "# 핵심 패키지(스트리밍 호환 버전)\n",
    "!pip -q install \"datasets<3.0.0\" \"evaluate<0.5.0\" \"transformers>=4.38,<4.45\" \\\n",
    "                huggingface_hub torchaudio jiwer soundfile\n",
    "\n",
    "# fsspec/gcsfs 충돌 정리\n",
    "!pip -q install -U fsspec==2025.3.0 gcsfs"
   ]
  },
  {
   "cell_type": "code",
   "execution_count": 2,
   "metadata": {
    "colab": {
     "base_uri": "https://localhost:8080/"
    },
    "id": "6V5n2Jn1bK18",
    "outputId": "2a0ac502-4fc1-4f29-a01a-4a0894b54f6f"
   },
   "outputs": [
    {
     "name": "stdout",
     "output_type": "stream",
     "text": [
      "datasets: 2.21.0\n",
      "evaluate: 0.4.5\n",
      "transformers: 4.44.2\n",
      "fsspec: 2025.3.0\n",
      "gcsfs: 2025.3.0\n",
      "python: 3.12.11 (main, Jun  4 2025, 08:56:18) [GCC 11.4.0]\n"
     ]
    }
   ],
   "source": [
    "import datasets, evaluate, transformers, fsspec, gcsfs, sys\n",
    "print(\"datasets:\", datasets.__version__)    # ← 2.x 여야 OK\n",
    "print(\"evaluate:\", evaluate.__version__)    # ← 0.4.x 권장\n",
    "print(\"transformers:\", transformers.__version__)\n",
    "print(\"fsspec:\", fsspec.__version__)\n",
    "print(\"gcsfs:\", gcsfs.__version__)\n",
    "print(\"python:\", sys.version)"
   ]
  },
  {
   "cell_type": "code",
   "execution_count": 3,
   "metadata": {
    "colab": {
     "base_uri": "https://localhost:8080/",
     "height": 17,
     "referenced_widgets": [
      "e1e4b16d33a040fd8e5d4ee880770f7c",
      "b358206660f245b1b37506eb9cb7ff89",
      "c8d639b7b6394cfa8ad5782436131582",
      "d237c7520e334515a231f36e4523eb44",
      "2d4eb669e0f641ada5f8d91581d60469",
      "efdb21e0f8f64cfdb7b41d7f6c3701b3",
      "0a2e9e1a59f342e6bb4b267f79c7fe34",
      "3423274097fc4ca9b8f44bbeb3c18290",
      "428840d8c828410bb70a1b08f0ea8919",
      "ecd86e15f64a46918806091b0d45f16a",
      "c3357e55e1d044f190abdf8f678476b4",
      "d72eaa75eaf242be947c6ac518b0b27d",
      "be2dc56f82b34450bdb3339ee1a05f12",
      "e7f4f53f28a14a108aecbc9e1db01c36",
      "2a062146f0604465b0319240231bcec0",
      "878c74ff60b4424c8d83f5cf8cda2426",
      "e794469451a84467bbd6af6bc41c9344",
      "0ad39a397c6f490eaf5d786c54510103",
      "19cd7905e26548d0bbe1a5bdb4f292e7",
      "f1be8a46d6984fb680d9f858da076001"
     ]
    },
    "id": "OFRkdPZmSL1g",
    "outputId": "96c0af92-ac68-48d6-f869-1e59256fcebd"
   },
   "outputs": [
    {
     "data": {
      "application/vnd.jupyter.widget-view+json": {
       "model_id": "e1e4b16d33a040fd8e5d4ee880770f7c",
       "version_major": 2,
       "version_minor": 0
      },
      "text/plain": [
       "VBox(children=(HTML(value='<center> <img\\nsrc=https://huggingface.co/front/assets/huggingface_logo-noborder.sv…"
      ]
     },
     "metadata": {},
     "output_type": "display_data"
    }
   ],
   "source": [
    "from huggingface_hub import notebook_login\n",
    "notebook_login()"
   ]
  },
  {
   "cell_type": "code",
   "execution_count": 4,
   "metadata": {
    "colab": {
     "base_uri": "https://localhost:8080/"
    },
    "id": "MEYx5rA_SoNe",
    "outputId": "18af6926-2edb-4713-d72e-bfbb5d480c9c"
   },
   "outputs": [
    {
     "name": "stdout",
     "output_type": "stream",
     "text": [
      "Seed fixed to 42.\n"
     ]
    }
   ],
   "source": [
    "from datasets import load_dataset, Audio, Dataset, concatenate_datasets\n",
    "from transformers import (\n",
    "    WhisperProcessor, WhisperForConditionalGeneration,\n",
    "    Seq2SeqTrainingArguments, Seq2SeqTrainer, EarlyStoppingCallback\n",
    ")\n",
    "from dataclasses import dataclass\n",
    "from typing import Any, Dict, List, Union\n",
    "from evaluate import load as load_metric\n",
    "from IPython.display import display\n",
    "import pandas as pd\n",
    "import matplotlib.pyplot as plt\n",
    "\n",
    "import os, random, numpy as np, torch\n",
    "\n",
    "SEED = 42\n",
    "random.seed(SEED); np.random.seed(SEED); torch.manual_seed(SEED)\n",
    "if torch.cuda.is_available():\n",
    "    torch.cuda.manual_seed_all(SEED)\n",
    "os.environ[\"PYTHONHASHSEED\"] = str(SEED)\n",
    "torch.backends.cudnn.deterministic = True\n",
    "torch.backends.cudnn.benchmark = False\n",
    "print(\"Seed fixed to {}.\".format(SEED))"
   ]
  },
  {
   "cell_type": "code",
   "execution_count": 5,
   "metadata": {
    "colab": {
     "base_uri": "https://localhost:8080/",
     "height": 634,
     "referenced_widgets": [
      "b72c8f4d3f854de5a9e50e0579d16472",
      "7267eb88885a4276b76a72ff293b87c6",
      "88aec23203554dbabfa9cd44902d3d4a",
      "1e3af316fa2e493f9def6d4c50119ad1",
      "70cd063e39274817b7e72905be6f1841",
      "aff79e76c2244e8daa4498448e884b83",
      "d0f050dbd331420295c887128b8742a5",
      "ac8b6dc2b804485993c63dcb6487f110",
      "73409ca8930a4cacb6f8086f73f5585c",
      "66b5cb04e0e74e1d8d96153b99453c07",
      "27b162df8eca4e32a7173c09262d4901",
      "c2eedfb9613e423dace53f44e10e18e6",
      "1d43ff903bb047e3bcf3efc8fe68152f",
      "2f0dca0b804b4a3985f1fa5c80dd1b26",
      "c32f00b93fdf432e9a6ffbc9df6b4ecc",
      "c45df570b0d145eda466f937a688a91a",
      "579e999722324ed5a96fda2336ab9fdb",
      "afc604d99eaa49e5af0f9f45147caa3b",
      "1ce8a879c3a04c5385606b4049ef2f5e",
      "7a99f0f23055477eaf0e1adc35dc8d04",
      "a8ea4a7cd82b475b91d6eb99be037641",
      "77b3b49c2dc744469676b1f647bbcbe3",
      "9386723637004ff3bbc8f01200191626",
      "e3668831680f41aca4af51eb02acc5db",
      "69f6a25ea98a4f249a3e871c57d9edb5",
      "001565ba2669409296a844e9b43ef97f",
      "b30b12ed86a844a7b79fca6971594ca5",
      "2751265a320e4745a284b88beac06fd4",
      "1463d002456e406785324e67d332a549",
      "b44687aef8754b08bd5453d1258698ab",
      "888fe2dfeae4403a80d9be9cf6a55436",
      "e85cafc91fa14b388979a7e7d00a514d",
      "c12b1735a3a542babf518e54b32916e1",
      "4b4f6fa58df5444cbda531513c416a88",
      "343b9038eb3449bfad69ba2f2a9900f2",
      "5589ed63d3b640a39db2b4106bc389ba",
      "f944e2e0304a4fe082605a3f43e136b7",
      "1f473096d7fa4738a2133a84b591e870",
      "0f24468e0f2f4ca58cb68a3a01307b5c",
      "0bf0431077f748bf844113b40f7af2bc",
      "69ef0759040f49a28ab9b74282f6e17b",
      "7c7e3c3c9a9e43a6a9fb921a989ee12a",
      "824472c69e6e4ddeaeacc27b19af751b",
      "f6a65e7ddf1b438080f040b864f8611d"
     ]
    },
    "id": "rBnEN1UpS9kQ",
    "outputId": "66416038-e21c-4a98-f5d1-4b2dfb5ee1ec"
   },
   "outputs": [
    {
     "name": "stdout",
     "output_type": "stream",
     "text": [
      "✅ Loading ko...\n"
     ]
    },
    {
     "name": "stderr",
     "output_type": "stream",
     "text": [
      "/usr/local/lib/python3.12/dist-packages/huggingface_hub/utils/_auth.py:94: UserWarning: \n",
      "The secret `HF_TOKEN` does not exist in your Colab secrets.\n",
      "To authenticate with the Hugging Face Hub, create a token in your settings tab (https://huggingface.co/settings/tokens), set it as secret in your Google Colab and restart your session.\n",
      "You will be able to reuse this secret in all of your notebooks.\n",
      "Please note that authentication is recommended but still optional to access public models or datasets.\n",
      "  warnings.warn(\n"
     ]
    },
    {
     "data": {
      "application/vnd.jupyter.widget-view+json": {
       "model_id": "b72c8f4d3f854de5a9e50e0579d16472",
       "version_major": 2,
       "version_minor": 0
      },
      "text/plain": [
       "Downloading builder script:   0%|          | 0.00/8.17k [00:00<?, ?B/s]"
      ]
     },
     "metadata": {},
     "output_type": "display_data"
    },
    {
     "data": {
      "application/vnd.jupyter.widget-view+json": {
       "model_id": "c2eedfb9613e423dace53f44e10e18e6",
       "version_major": 2,
       "version_minor": 0
      },
      "text/plain": [
       "Downloading readme:   0%|          | 0.00/12.3k [00:00<?, ?B/s]"
      ]
     },
     "metadata": {},
     "output_type": "display_data"
    },
    {
     "data": {
      "application/vnd.jupyter.widget-view+json": {
       "model_id": "9386723637004ff3bbc8f01200191626",
       "version_major": 2,
       "version_minor": 0
      },
      "text/plain": [
       "Downloading extra modules:   0%|          | 0.00/3.74k [00:00<?, ?B/s]"
      ]
     },
     "metadata": {},
     "output_type": "display_data"
    },
    {
     "data": {
      "application/vnd.jupyter.widget-view+json": {
       "model_id": "4b4f6fa58df5444cbda531513c416a88",
       "version_major": 2,
       "version_minor": 0
      },
      "text/plain": [
       "Downloading extra modules:   0%|          | 0.00/77.3k [00:00<?, ?B/s]"
      ]
     },
     "metadata": {},
     "output_type": "display_data"
    },
    {
     "name": "stdout",
     "output_type": "stream",
     "text": [
      "The repository for mozilla-foundation/common_voice_16_1 contains custom code which must be executed to correctly load the dataset. You can inspect the repository content at https://hf.co/datasets/mozilla-foundation/common_voice_16_1.\n",
      "You can avoid this prompt in future by passing the argument `trust_remote_code=True`.\n",
      "\n",
      "Do you wish to run the custom code? [y/N] y\n"
     ]
    },
    {
     "name": "stderr",
     "output_type": "stream",
     "text": [
      "Reading metadata...: 401it [00:00, 2077.29it/s]\n",
      "Reading metadata...: 235it [00:00, 1174.37it/s]\n",
      "Reading metadata...: 282it [00:00, 1487.83it/s]\n"
     ]
    },
    {
     "name": "stdout",
     "output_type": "stream",
     "text": [
      "✅ Loading ja...\n"
     ]
    },
    {
     "name": "stderr",
     "output_type": "stream",
     "text": [
      "Reading metadata...: 9616it [00:00, 23958.47it/s]\n",
      "Reading metadata...: 6094it [00:00, 18655.83it/s]\n",
      "Reading metadata...: 6094it [00:00, 12454.96it/s]\n"
     ]
    },
    {
     "name": "stdout",
     "output_type": "stream",
     "text": [
      "✅ Loading en...\n"
     ]
    },
    {
     "name": "stderr",
     "output_type": "stream",
     "text": [
      "Reading metadata...: 1090061it [00:27, 40170.23it/s]\n",
      "Reading metadata...: 16390it [00:00, 25743.48it/s]\n",
      "Reading metadata...: 16390it [00:00, 28627.62it/s]\n"
     ]
    },
    {
     "name": "stdout",
     "output_type": "stream",
     "text": [
      "✅ Loading de...\n"
     ]
    },
    {
     "name": "stderr",
     "output_type": "stream",
     "text": [
      "Reading metadata...: 576207it [00:15, 38079.97it/s]\n",
      "Reading metadata...: 16173it [00:00, 26667.21it/s]\n",
      "Reading metadata...: 16173it [00:00, 32982.63it/s]\n"
     ]
    },
    {
     "name": "stdout",
     "output_type": "stream",
     "text": [
      "{'train': 800, 'val': 400, 'test': 400}\n"
     ]
    }
   ],
   "source": [
    "# 2) 데이터 로드(Streaming -> in-memory)\n",
    "n_train, n_val, n_test = 200, 100, 100\n",
    "langs = [\"ko\",\"ja\",\"en\",\"de\"]\n",
    "\n",
    "def take_valid(gen, n, lang_code):\n",
    "    out = []\n",
    "    for ex in gen:\n",
    "        if ex.get(\"audio\") is not None and ex.get(\"sentence\"):\n",
    "            ex = dict(ex)\n",
    "            ex[\"locale\"] = lang_code\n",
    "            out.append(ex)\n",
    "            if len(out) >= n:\n",
    "                break\n",
    "    return out\n",
    "\n",
    "train_data, val_data, test_data = [], [], []\n",
    "for lang in langs:\n",
    "    print(f\"✅ Loading {lang}...\")\n",
    "    ds_tr = load_dataset(\"mozilla-foundation/common_voice_16_1\", lang, split=\"train\",      streaming=True)\n",
    "    ds_va = load_dataset(\"mozilla-foundation/common_voice_16_1\", lang, split=\"validation\", streaming=True)\n",
    "    ds_te = load_dataset(\"mozilla-foundation/common_voice_16_1\", lang, split=\"test\",       streaming=True)\n",
    "    train_data += take_valid(ds_tr, n_train, lang)\n",
    "    val_data   += take_valid(ds_va, n_val,   lang)\n",
    "    test_data  += take_valid(ds_te, n_test,  lang)\n",
    "\n",
    "random.shuffle(train_data); random.shuffle(val_data); random.shuffle(test_data)\n",
    "train_dataset = Dataset.from_list(train_data)\n",
    "val_dataset   = Dataset.from_list(val_data)\n",
    "test_dataset  = Dataset.from_list(test_data)\n",
    "print({\"train\": len(train_dataset), \"val\": len(val_dataset), \"test\": len(test_dataset)})"
   ]
  },
  {
   "cell_type": "code",
   "execution_count": 6,
   "metadata": {
    "colab": {
     "base_uri": "https://localhost:8080/",
     "height": 386,
     "referenced_widgets": [
      "4a75aa9fbbf44bfcb97a80f506e7b400",
      "61454f46d0cc456ea9f3e23b3e5a38dc",
      "fa93818b320d437480e6f5076ecc306d",
      "c24b756748924d1e8716c4cc91555ae3",
      "0917f41464c14f4f896439889cf05595",
      "d18caeca3d194fa0b262946b5b36ef9c",
      "2b46ab1cdcc24254b242ff958e1a2615",
      "0a95ad34437d4eb8ab00c3871206b944",
      "8a5f3abf706648169a394c93731a12bb",
      "f41c927dc1e745f8a02ee391b1ae7804",
      "2c81c117c9954dcca74ceb24d362c54d",
      "f5dedd477b834eadabcbaef41f630128",
      "0ebdc01455fa4770a6fbc00489aeae9c",
      "f6f581c62fba46ebbf18d7b68890c52f",
      "fa1a1fd6f40f4658a65c7bf4a03bdc9a",
      "9f0019e290bd43be94da5675616708f9",
      "22a92489cc574ff6bf7b47f26df695c7",
      "bdbb28139a734297a598819f5d1bf4ed",
      "8585e31eb62d4155ae69a8dc30912609",
      "bddd502a9a704d65a290a39acc684932",
      "f6760d9fb99348fe9b94ad4810508529",
      "edf5f04880ee448886552d1a9f2ade53",
      "84f2b77709dc40a8beccd9d7e4f98f29",
      "7c11d265c85a4213afc04e1b4db620a3",
      "cb96448f168344c5b1407aa78e93820f",
      "6a674d9271e8452392e35a2a930eb21b",
      "bcdb3e57c9d64aa7b49b30107ca71452",
      "e438cbac23b744bba79fee07f86e2c35",
      "4cd4847c4a11451d8cf082fe21dab353",
      "fbb69b1103204c57b35bdefc11e61c8e",
      "e5da1f4168df40dda811fc57b70cdd81",
      "d4c80f4164a4467b88121f8104e72d3d",
      "47237735189048abb45bf79d7a74768d",
      "e412c5dd1bc449dbabf0280b8d23eab4",
      "dfd173ef47134f1da9c2a1cbea1b55e3",
      "628040e5a5f64c0aa1125e8d7aac77b5",
      "840c31ca812249d4aa380aaa23961ed5",
      "154c626b5a3640d7b23ca2b2e9aae364",
      "30538c529ea940e3898224981b313c07",
      "fc1625bba1ac4b90b840c8f760bac950",
      "ca47f3a4dca448108dae1b4001011360",
      "35637253bcc14be5a510c1bae948d3c9",
      "00dac1b140d346efb6db82564d8465f2",
      "128a7e4ace63458682f5832801bfc51d",
      "330fdfdde68248a5a52297ae890dab19",
      "f6fa3882030f4257899ba9841643d921",
      "0fc92c456ca34e3f854f7375936f99e9",
      "e234a7d02ff147dab766de7a43eb55a6",
      "b83ac03b6604456faaa1874980eccdea",
      "06b0761462304d45a3f6848b9731f21f",
      "f7de66fa869c43e182e3b1a8cf1d27a4",
      "6e27108803e74474b6d0196caf3d2321",
      "8b9ebbfedd544cf080445a4bcec77211",
      "22d13c98b2c34405a22502a2824fd7da",
      "60b56b5439e6414ca79f68049ccae634",
      "cef18524da5540598ff1563c5dd3b2b7",
      "bf3a5e15f2c64f43b42e3a4997336485",
      "75ea1e5a77cd41558aeee9991b9eb3b0",
      "b30ce120d6bf42548b9e3ba2591263d3",
      "1eab4db6474849c5ad8ed4b6dbf83bfe",
      "0e06d5f0b1904e91b9f55175e6cd0407",
      "b6020211b7f04982a24cde2e63133c3b",
      "4637a62c5dae4ba09814519e452dd55e",
      "1ea84f235d5045d69af83cd98a133574",
      "79a53f2e4d4c4eaea84cfe8332cb0eba",
      "fefe5f081cd34dc4ba7a1621d1b31fe1",
      "ef1b9a10f8c04cda92fd082d9212bea3",
      "137f7385357a4d55a639fc91841f141a",
      "b01ae56a850649939aa77d245e2179c9",
      "acd34cfd4575452691d2212295ce88bd",
      "b0885f8970914dd897b266b7d39df8e4",
      "eb1f6a286aec4e379d0bee2d1996a109",
      "ef33e269905842f0a6c4136f2c00363c",
      "c4f7bbedad4f46b2b1a2f4ef73858808",
      "a500c68bd26a46039f7d6cf620a7b05c",
      "cb6660950e214519ba13f52e68f1d27b",
      "706512dd6c034b5d8e13d4fbc79a01d2",
      "fe909a8e500240b2a64cd7147656a2f2",
      "7dcec71d290042f88ef2270d8bd928a5",
      "faac6c2a8cd6425180798b79fae02aa8",
      "13dc62860ae34a52ae90fce33f31d2d7",
      "759cf11d579542c284019d124a0ebed8",
      "229c0fca856b4c5186ca31ee27101b06",
      "bb316351e1c04907bfa85e2eb9a9467b",
      "0fe708a3cb154d8389d58e2a032bbc75",
      "0b3ef8cab2404b398c64918bbd7e969e",
      "85ad52cc63bd43578fe9535649f3faa1",
      "ad6c4eb65ae348f1bf2e91c94631cedc",
      "abe34b0d90914df0b2c165ce20547ace",
      "984dab6b60674731b0cccdee63252f5f",
      "e57a276d4120409596ef16eb7b9dfdc7",
      "f879f4cc3b0240909de2c4692a58764a",
      "739f609b19f442ea80747276a20261b8",
      "5dcbf3d847c84b1fbe804ae5e88b9ee6",
      "36ef11499b3a40afb6a40d8d2f682ce9",
      "d74300e2131e4a5ebba9914dff8b6d3f",
      "dd198b84f1aa4a288cfc403a71d8299a",
      "ef4b2d8024bd4aebb7f419cc8a5187e7",
      "5905ea1c380942509e7b2b9150721369",
      "90b0b2370c624d65b938b9abc2eab742",
      "7fff8a6885834583bffe1214dd7d0223",
      "1de779d539444eb4b0d2b2f471394fba",
      "0f28d71d4a0c4da4b877593fcaec508d",
      "d06b562925bc4555bf51aec11d54bd68",
      "a6017f96e41f4d06b1dcb174a053d35b",
      "78f69b745ed1447586940aa1b21b03ea",
      "d20ccc3b78214459b52450b0562662b8",
      "3a0a4941cc3b420c908a119afb7fd220",
      "58983a6105b846c6bc1f86508e5b53d1",
      "6c377eb0de834417a72c935984850a5f",
      "cbc031095b5940c689ed30215d35e9db",
      "3e36c462deb748819ab6561c4d260a43",
      "069ac17622a64b058ad6b5d1599ff931",
      "885d16750010469fab3a09d924465f3a",
      "1cb9a3782917460ca24bba4d04dfd9af",
      "4789d04bcc41452c84c2df4069761d06",
      "c2049ead941f4c0fa1bd3682d8eefc93",
      "c85b6d35509f461fa8bb5655b4bb5579",
      "ddcf155db4b04d7f882305ddef2ef2f9",
      "83e9c143533d42a3b55f6f7b9625ce43",
      "d10f5b4f6e524afc969fb7643867042f"
     ]
    },
    "id": "cjHSZGXdVVrJ",
    "outputId": "bb2d3b69-61aa-42fd-805e-1e0c0c9a7fc2"
   },
   "outputs": [
    {
     "data": {
      "application/vnd.jupyter.widget-view+json": {
       "model_id": "4a75aa9fbbf44bfcb97a80f506e7b400",
       "version_major": 2,
       "version_minor": 0
      },
      "text/plain": [
       "preprocessor_config.json: 0.00B [00:00, ?B/s]"
      ]
     },
     "metadata": {},
     "output_type": "display_data"
    },
    {
     "data": {
      "application/vnd.jupyter.widget-view+json": {
       "model_id": "f5dedd477b834eadabcbaef41f630128",
       "version_major": 2,
       "version_minor": 0
      },
      "text/plain": [
       "tokenizer_config.json: 0.00B [00:00, ?B/s]"
      ]
     },
     "metadata": {},
     "output_type": "display_data"
    },
    {
     "data": {
      "application/vnd.jupyter.widget-view+json": {
       "model_id": "84f2b77709dc40a8beccd9d7e4f98f29",
       "version_major": 2,
       "version_minor": 0
      },
      "text/plain": [
       "vocab.json: 0.00B [00:00, ?B/s]"
      ]
     },
     "metadata": {},
     "output_type": "display_data"
    },
    {
     "data": {
      "application/vnd.jupyter.widget-view+json": {
       "model_id": "e412c5dd1bc449dbabf0280b8d23eab4",
       "version_major": 2,
       "version_minor": 0
      },
      "text/plain": [
       "tokenizer.json: 0.00B [00:00, ?B/s]"
      ]
     },
     "metadata": {},
     "output_type": "display_data"
    },
    {
     "data": {
      "application/vnd.jupyter.widget-view+json": {
       "model_id": "330fdfdde68248a5a52297ae890dab19",
       "version_major": 2,
       "version_minor": 0
      },
      "text/plain": [
       "merges.txt: 0.00B [00:00, ?B/s]"
      ]
     },
     "metadata": {},
     "output_type": "display_data"
    },
    {
     "data": {
      "application/vnd.jupyter.widget-view+json": {
       "model_id": "cef18524da5540598ff1563c5dd3b2b7",
       "version_major": 2,
       "version_minor": 0
      },
      "text/plain": [
       "normalizer.json: 0.00B [00:00, ?B/s]"
      ]
     },
     "metadata": {},
     "output_type": "display_data"
    },
    {
     "data": {
      "application/vnd.jupyter.widget-view+json": {
       "model_id": "ef1b9a10f8c04cda92fd082d9212bea3",
       "version_major": 2,
       "version_minor": 0
      },
      "text/plain": [
       "added_tokens.json: 0.00B [00:00, ?B/s]"
      ]
     },
     "metadata": {},
     "output_type": "display_data"
    },
    {
     "data": {
      "application/vnd.jupyter.widget-view+json": {
       "model_id": "fe909a8e500240b2a64cd7147656a2f2",
       "version_major": 2,
       "version_minor": 0
      },
      "text/plain": [
       "special_tokens_map.json: 0.00B [00:00, ?B/s]"
      ]
     },
     "metadata": {},
     "output_type": "display_data"
    },
    {
     "data": {
      "application/vnd.jupyter.widget-view+json": {
       "model_id": "abe34b0d90914df0b2c165ce20547ace",
       "version_major": 2,
       "version_minor": 0
      },
      "text/plain": [
       "Map:   0%|          | 0/800 [00:00<?, ? examples/s]"
      ]
     },
     "metadata": {},
     "output_type": "display_data"
    },
    {
     "data": {
      "application/vnd.jupyter.widget-view+json": {
       "model_id": "90b0b2370c624d65b938b9abc2eab742",
       "version_major": 2,
       "version_minor": 0
      },
      "text/plain": [
       "Map:   0%|          | 0/400 [00:00<?, ? examples/s]"
      ]
     },
     "metadata": {},
     "output_type": "display_data"
    },
    {
     "data": {
      "application/vnd.jupyter.widget-view+json": {
       "model_id": "cbc031095b5940c689ed30215d35e9db",
       "version_major": 2,
       "version_minor": 0
      },
      "text/plain": [
       "Map:   0%|          | 0/400 [00:00<?, ? examples/s]"
      ]
     },
     "metadata": {},
     "output_type": "display_data"
    },
    {
     "name": "stdout",
     "output_type": "stream",
     "text": [
      "Device: cuda | Seed: 42\n"
     ]
    }
   ],
   "source": [
    "# 3) 전처리\n",
    "TARGET_SR = 16000\n",
    "model_checkpoint = \"openai/whisper-small\"\n",
    "\n",
    "processor = WhisperProcessor.from_pretrained(model_checkpoint)\n",
    "feature_extractor = processor.feature_extractor\n",
    "tokenizer = processor.tokenizer\n",
    "\n",
    "train_dataset = train_dataset.cast_column(\"audio\", Audio(sampling_rate=TARGET_SR))\n",
    "val_dataset   = val_dataset.cast_column(\"audio\",   Audio(sampling_rate=TARGET_SR))\n",
    "test_dataset  = test_dataset.cast_column(\"audio\",  Audio(sampling_rate=TARGET_SR))\n",
    "\n",
    "def prepare_dataset(example):\n",
    "    a = example[\"audio\"]\n",
    "    example[\"input_features\"] = feature_extractor(a[\"array\"], sampling_rate=TARGET_SR).input_features[0]\n",
    "    example[\"labels\"] = tokenizer(example[\"sentence\"]).input_ids\n",
    "    return example\n",
    "\n",
    "keep_cols = {\"input_features\",\"labels\",\"locale\"}\n",
    "proc_train_orig = train_dataset.map(prepare_dataset, remove_columns=[c for c in train_dataset.column_names if c not in keep_cols])\n",
    "proc_val_orig   = val_dataset.map(  prepare_dataset, remove_columns=[c for c in val_dataset.column_names   if c not in keep_cols])\n",
    "proc_test_orig  = test_dataset.map( prepare_dataset, remove_columns=[c for c in test_dataset.column_names  if c not in keep_cols])\n",
    "\n",
    "for ds_ in (proc_train_orig, proc_val_orig, proc_test_orig):\n",
    "    ds_.set_format(columns=list(keep_cols))\n",
    "\n",
    "device = \"cuda\" if torch.cuda.is_available() else \"cpu\"\n",
    "print(\"Device:\", device, \"| Seed:\", SEED)"
   ]
  },
  {
   "cell_type": "code",
   "execution_count": 7,
   "metadata": {
    "colab": {
     "base_uri": "https://localhost:8080/",
     "height": 113,
     "referenced_widgets": [
      "9fcffad3098a42188348fca7c007ac81",
      "6f4dd402f9cc4072b522eb1681ba58b1",
      "b776f676eb52441a8afac75229455c94",
      "0b8d531017b34803b21c1ae928ef224f",
      "884ee0b3530f435480d5945e11560d7d",
      "4d3a5319707a4734a47a01af8fb15829",
      "26cff29c7a974ee78868c98388d28574",
      "8a299c032b8e496db7d4dc3ed1f25326",
      "42c7a1bc46ed44fe9b9cb5cb6595d772",
      "0416dd3701db442c99edf3b15a2f4926",
      "07c1644bd518487caecf4fb99b746930",
      "ecdf0da9994546199de423e87f5f0815",
      "db86efeff0ab4375a1b1f745b80888ab",
      "00fd6c51aa074a1585bfba9f701cf403",
      "2458de19b07c49df913b49ac38d78e19",
      "806b0d82523d40aeba78fb1b771bb7b5",
      "0f8bfabebde5457781d1f322bc6b64df",
      "94be0327cb204f8785ed0ae2d97ee74e",
      "cfc3a404a32d4a9d9d423160fe48ccc0",
      "91bbf366058641659bfc4eeba51a9070",
      "9442302497f646fcbdaf391d24e2a8f4",
      "3ef3293069c243eaa6e9a8d233903f29",
      "f1b3977e3c8c4d7d825e1b9e1b15a029",
      "4aae224f6c32427981acb96ec3599db5",
      "26238b0906694a94a1fe3a3555cbe7f7",
      "f464d78ca6d6434ca54195ff537ff5e3",
      "f8df6d9722c34572ba9d25006a54f78d",
      "bdf55a3825c94b4fa069a532aaf26f99",
      "624e826882b344a89b0efe49b915c1ba",
      "846333eb17af4ed59c94c0f9c27e24bc",
      "b2fde2e794204becb9114e8b6404039a",
      "480b905fdcc24cab90696f58ec7120c6",
      "64c7b641e14f426586c219e8caa43cd7"
     ]
    },
    "id": "J0_PJW6LVXwA",
    "outputId": "82d5bfa6-a076-4af0-878c-847e0e39fe07"
   },
   "outputs": [
    {
     "data": {
      "application/vnd.jupyter.widget-view+json": {
       "model_id": "9fcffad3098a42188348fca7c007ac81",
       "version_major": 2,
       "version_minor": 0
      },
      "text/plain": [
       "config.json: 0.00B [00:00, ?B/s]"
      ]
     },
     "metadata": {},
     "output_type": "display_data"
    },
    {
     "data": {
      "application/vnd.jupyter.widget-view+json": {
       "model_id": "ecdf0da9994546199de423e87f5f0815",
       "version_major": 2,
       "version_minor": 0
      },
      "text/plain": [
       "model.safetensors:   0%|          | 0.00/967M [00:00<?, ?B/s]"
      ]
     },
     "metadata": {},
     "output_type": "display_data"
    },
    {
     "data": {
      "application/vnd.jupyter.widget-view+json": {
       "model_id": "f1b3977e3c8c4d7d825e1b9e1b15a029",
       "version_major": 2,
       "version_minor": 0
      },
      "text/plain": [
       "generation_config.json: 0.00B [00:00, ?B/s]"
      ]
     },
     "metadata": {},
     "output_type": "display_data"
    }
   ],
   "source": [
    "# 4) 모델 로딩 & Whisper generate() 안전 세팅\n",
    "model = WhisperForConditionalGeneration.from_pretrained(model_checkpoint).to(device)\n",
    "\n",
    "# pad/eos/start/forced 프롬프트 확정\n",
    "tok = processor.tokenizer\n",
    "if tok.pad_token_id is None:\n",
    "    tok.pad_token = tok.eos_token\n",
    "\n",
    "start_id = tok.convert_tokens_to_ids(\"<|startoftranscript|>\")\n",
    "if start_id is None:\n",
    "    start_id = processor.get_decoder_prompt_ids(language=\"english\", task=\"transcribe\")[0][1]\n",
    "\n",
    "forced_ids_en = processor.get_decoder_prompt_ids(language=\"english\", task=\"transcribe\")\n",
    "\n",
    "for cfg in (model.config, model.generation_config):\n",
    "    cfg.pad_token_id = tok.pad_token_id\n",
    "    cfg.eos_token_id = tok.eos_token_id\n",
    "    cfg.decoder_start_token_id = start_id\n",
    "    cfg.forced_decoder_ids = forced_ids_en\n",
    "\n",
    "model.config.use_cache = False\n",
    "model.config.suppress_tokens = []\n",
    "\n",
    "# 5) Collator: 라벨 패딩 & decoder_input_ids 생성(우리가 명시 제공)\n",
    "@dataclass\n",
    "class DataCollatorSpeechSeq2SeqWithPadding:\n",
    "    processor: Any\n",
    "    padding: Union[bool, str] = True\n",
    "    def __call__(self, features: List[Dict[str, Union[List[int], torch.Tensor]]]) -> Dict[str, torch.Tensor]:\n",
    "        # 입력 피처\n",
    "        input_features = [{\"input_features\": f[\"input_features\"]} for f in features]\n",
    "        batch = self.processor.feature_extractor.pad(input_features, return_tensors=\"pt\")\n",
    "\n",
    "        # 라벨 패딩 + -100 마스킹\n",
    "        label_features = [{\"input_ids\": f[\"labels\"]} for f in features]\n",
    "        labels_batch = self.processor.tokenizer.pad(label_features, return_tensors=\"pt\")\n",
    "        labels = labels_batch[\"input_ids\"].masked_fill(labels_batch.attention_mask.ne(1), -100)\n",
    "        batch[\"labels\"] = labels.contiguous()\n",
    "\n",
    "        # decoder_input_ids (right-shift with <|startoftranscript|>)\n",
    "        tok = self.processor.tokenizer\n",
    "        start_id = tok.convert_tokens_to_ids(\"<|startoftranscript|>\")\n",
    "        if start_id is None:\n",
    "            start_id = self.processor.get_decoder_prompt_ids(language=\"english\", task=\"transcribe\")[0][1]\n",
    "        pad_id = tok.pad_token_id\n",
    "\n",
    "        labels_clean = labels.clone()\n",
    "        labels_clean[labels_clean == -100] = pad_id\n",
    "\n",
    "        dec_inp = torch.full_like(labels_clean, fill_value=pad_id)\n",
    "        dec_inp[:, 0] = start_id\n",
    "        dec_inp[:, 1:] = labels_clean[:, :-1]\n",
    "\n",
    "        batch[\"decoder_input_ids\"] = dec_inp.contiguous()\n",
    "        batch[\"decoder_attention_mask\"] = (dec_inp != pad_id).long()\n",
    "        batch[\"input_features\"] = batch[\"input_features\"].contiguous()\n",
    "        return batch\n",
    "\n",
    "data_collator = DataCollatorSpeechSeq2SeqWithPadding(processor=processor)"
   ]
  },
  {
   "cell_type": "code",
   "execution_count": 8,
   "metadata": {
    "colab": {
     "base_uri": "https://localhost:8080/"
    },
    "id": "zRRJ4C0CCC6o",
    "outputId": "a87c788a-eef8-45b0-a3f8-65c9e2a01c11"
   },
   "outputs": [
    {
     "name": "stdout",
     "output_type": "stream",
     "text": [
      "Reading package lists... Done\n",
      "Building dependency tree... Done\n",
      "Reading state information... Done\n",
      "The following additional packages will be installed:\n",
      "  libao-common libao4 libid3tag0 libmad0 libopencore-amrnb0 libopencore-amrwb0\n",
      "  libsox-fmt-alsa libsox-fmt-ao libsox-fmt-base libsox-fmt-mp3 libsox-fmt-oss\n",
      "  libsox-fmt-pulse libsox3 libwavpack1\n",
      "Suggested packages:\n",
      "  libaudio2 libsndio6.1\n",
      "The following NEW packages will be installed:\n",
      "  libao-common libao4 libid3tag0 libmad0 libopencore-amrnb0 libopencore-amrwb0\n",
      "  libsox-dev libsox-fmt-all libsox-fmt-alsa libsox-fmt-ao libsox-fmt-base\n",
      "  libsox-fmt-mp3 libsox-fmt-oss libsox-fmt-pulse libsox3 libwavpack1 sox\n",
      "0 upgraded, 17 newly installed, 0 to remove and 35 not upgraded.\n",
      "Need to get 1,157 kB of archives.\n",
      "After this operation, 4,262 kB of additional disk space will be used.\n",
      "Get:1 http://archive.ubuntu.com/ubuntu jammy/main amd64 libao-common all 1.2.2+20180113-1.1ubuntu3 [6,568 B]\n",
      "Get:2 http://archive.ubuntu.com/ubuntu jammy/main amd64 libao4 amd64 1.2.2+20180113-1.1ubuntu3 [35.2 kB]\n",
      "Get:3 http://archive.ubuntu.com/ubuntu jammy/universe amd64 libid3tag0 amd64 0.15.1b-14 [31.3 kB]\n",
      "Get:4 http://archive.ubuntu.com/ubuntu jammy/universe amd64 libmad0 amd64 0.15.1b-10ubuntu1 [63.1 kB]\n",
      "Get:5 http://archive.ubuntu.com/ubuntu jammy/universe amd64 libopencore-amrnb0 amd64 0.1.5-1 [94.8 kB]\n",
      "Get:6 http://archive.ubuntu.com/ubuntu jammy/universe amd64 libopencore-amrwb0 amd64 0.1.5-1 [49.1 kB]\n",
      "Get:7 http://archive.ubuntu.com/ubuntu jammy-updates/universe amd64 libsox3 amd64 14.4.2+git20190427-2+deb11u2ubuntu0.22.04.1 [240 kB]\n",
      "Get:8 http://archive.ubuntu.com/ubuntu jammy-updates/universe amd64 libsox-fmt-alsa amd64 14.4.2+git20190427-2+deb11u2ubuntu0.22.04.1 [11.2 kB]\n",
      "Get:9 http://archive.ubuntu.com/ubuntu jammy-updates/universe amd64 libsox-fmt-ao amd64 14.4.2+git20190427-2+deb11u2ubuntu0.22.04.1 [7,740 B]\n",
      "Get:10 http://archive.ubuntu.com/ubuntu jammy/main amd64 libwavpack1 amd64 5.4.0-1build2 [83.7 kB]\n",
      "Get:11 http://archive.ubuntu.com/ubuntu jammy-updates/universe amd64 libsox-fmt-base amd64 14.4.2+git20190427-2+deb11u2ubuntu0.22.04.1 [33.7 kB]\n",
      "Get:12 http://archive.ubuntu.com/ubuntu jammy-updates/universe amd64 libsox-fmt-mp3 amd64 14.4.2+git20190427-2+deb11u2ubuntu0.22.04.1 [17.3 kB]\n",
      "Get:13 http://archive.ubuntu.com/ubuntu jammy-updates/universe amd64 libsox-fmt-oss amd64 14.4.2+git20190427-2+deb11u2ubuntu0.22.04.1 [9,424 B]\n",
      "Get:14 http://archive.ubuntu.com/ubuntu jammy-updates/universe amd64 libsox-fmt-pulse amd64 14.4.2+git20190427-2+deb11u2ubuntu0.22.04.1 [7,732 B]\n",
      "Get:15 http://archive.ubuntu.com/ubuntu jammy-updates/universe amd64 libsox-fmt-all amd64 14.4.2+git20190427-2+deb11u2ubuntu0.22.04.1 [5,016 B]\n",
      "Get:16 http://archive.ubuntu.com/ubuntu jammy-updates/universe amd64 libsox-dev amd64 14.4.2+git20190427-2+deb11u2ubuntu0.22.04.1 [356 kB]\n",
      "Get:17 http://archive.ubuntu.com/ubuntu jammy-updates/universe amd64 sox amd64 14.4.2+git20190427-2+deb11u2ubuntu0.22.04.1 [104 kB]\n",
      "Fetched 1,157 kB in 1s (897 kB/s)\n",
      "Selecting previously unselected package libao-common.\n",
      "(Reading database ... 126371 files and directories currently installed.)\n",
      "Preparing to unpack .../00-libao-common_1.2.2+20180113-1.1ubuntu3_all.deb ...\n",
      "Unpacking libao-common (1.2.2+20180113-1.1ubuntu3) ...\n",
      "Selecting previously unselected package libao4:amd64.\n",
      "Preparing to unpack .../01-libao4_1.2.2+20180113-1.1ubuntu3_amd64.deb ...\n",
      "Unpacking libao4:amd64 (1.2.2+20180113-1.1ubuntu3) ...\n",
      "Selecting previously unselected package libid3tag0:amd64.\n",
      "Preparing to unpack .../02-libid3tag0_0.15.1b-14_amd64.deb ...\n",
      "Unpacking libid3tag0:amd64 (0.15.1b-14) ...\n",
      "Selecting previously unselected package libmad0:amd64.\n",
      "Preparing to unpack .../03-libmad0_0.15.1b-10ubuntu1_amd64.deb ...\n",
      "Unpacking libmad0:amd64 (0.15.1b-10ubuntu1) ...\n",
      "Selecting previously unselected package libopencore-amrnb0:amd64.\n",
      "Preparing to unpack .../04-libopencore-amrnb0_0.1.5-1_amd64.deb ...\n",
      "Unpacking libopencore-amrnb0:amd64 (0.1.5-1) ...\n",
      "Selecting previously unselected package libopencore-amrwb0:amd64.\n",
      "Preparing to unpack .../05-libopencore-amrwb0_0.1.5-1_amd64.deb ...\n",
      "Unpacking libopencore-amrwb0:amd64 (0.1.5-1) ...\n",
      "Selecting previously unselected package libsox3:amd64.\n",
      "Preparing to unpack .../06-libsox3_14.4.2+git20190427-2+deb11u2ubuntu0.22.04.1_amd64.deb ...\n",
      "Unpacking libsox3:amd64 (14.4.2+git20190427-2+deb11u2ubuntu0.22.04.1) ...\n",
      "Selecting previously unselected package libsox-fmt-alsa:amd64.\n",
      "Preparing to unpack .../07-libsox-fmt-alsa_14.4.2+git20190427-2+deb11u2ubuntu0.22.04.1_amd64.deb ...\n",
      "Unpacking libsox-fmt-alsa:amd64 (14.4.2+git20190427-2+deb11u2ubuntu0.22.04.1) ...\n",
      "Selecting previously unselected package libsox-fmt-ao:amd64.\n",
      "Preparing to unpack .../08-libsox-fmt-ao_14.4.2+git20190427-2+deb11u2ubuntu0.22.04.1_amd64.deb ...\n",
      "Unpacking libsox-fmt-ao:amd64 (14.4.2+git20190427-2+deb11u2ubuntu0.22.04.1) ...\n",
      "Selecting previously unselected package libwavpack1:amd64.\n",
      "Preparing to unpack .../09-libwavpack1_5.4.0-1build2_amd64.deb ...\n",
      "Unpacking libwavpack1:amd64 (5.4.0-1build2) ...\n",
      "Selecting previously unselected package libsox-fmt-base:amd64.\n",
      "Preparing to unpack .../10-libsox-fmt-base_14.4.2+git20190427-2+deb11u2ubuntu0.22.04.1_amd64.deb ...\n",
      "Unpacking libsox-fmt-base:amd64 (14.4.2+git20190427-2+deb11u2ubuntu0.22.04.1) ...\n",
      "Selecting previously unselected package libsox-fmt-mp3:amd64.\n",
      "Preparing to unpack .../11-libsox-fmt-mp3_14.4.2+git20190427-2+deb11u2ubuntu0.22.04.1_amd64.deb ...\n",
      "Unpacking libsox-fmt-mp3:amd64 (14.4.2+git20190427-2+deb11u2ubuntu0.22.04.1) ...\n",
      "Selecting previously unselected package libsox-fmt-oss:amd64.\n",
      "Preparing to unpack .../12-libsox-fmt-oss_14.4.2+git20190427-2+deb11u2ubuntu0.22.04.1_amd64.deb ...\n",
      "Unpacking libsox-fmt-oss:amd64 (14.4.2+git20190427-2+deb11u2ubuntu0.22.04.1) ...\n",
      "Selecting previously unselected package libsox-fmt-pulse:amd64.\n",
      "Preparing to unpack .../13-libsox-fmt-pulse_14.4.2+git20190427-2+deb11u2ubuntu0.22.04.1_amd64.deb ...\n",
      "Unpacking libsox-fmt-pulse:amd64 (14.4.2+git20190427-2+deb11u2ubuntu0.22.04.1) ...\n",
      "Selecting previously unselected package libsox-fmt-all:amd64.\n",
      "Preparing to unpack .../14-libsox-fmt-all_14.4.2+git20190427-2+deb11u2ubuntu0.22.04.1_amd64.deb ...\n",
      "Unpacking libsox-fmt-all:amd64 (14.4.2+git20190427-2+deb11u2ubuntu0.22.04.1) ...\n",
      "Selecting previously unselected package libsox-dev:amd64.\n",
      "Preparing to unpack .../15-libsox-dev_14.4.2+git20190427-2+deb11u2ubuntu0.22.04.1_amd64.deb ...\n",
      "Unpacking libsox-dev:amd64 (14.4.2+git20190427-2+deb11u2ubuntu0.22.04.1) ...\n",
      "Selecting previously unselected package sox.\n",
      "Preparing to unpack .../16-sox_14.4.2+git20190427-2+deb11u2ubuntu0.22.04.1_amd64.deb ...\n",
      "Unpacking sox (14.4.2+git20190427-2+deb11u2ubuntu0.22.04.1) ...\n",
      "Setting up libsox3:amd64 (14.4.2+git20190427-2+deb11u2ubuntu0.22.04.1) ...\n",
      "Setting up libsox-fmt-oss:amd64 (14.4.2+git20190427-2+deb11u2ubuntu0.22.04.1) ...\n",
      "Setting up libao-common (1.2.2+20180113-1.1ubuntu3) ...\n",
      "Setting up libid3tag0:amd64 (0.15.1b-14) ...\n",
      "Setting up libopencore-amrwb0:amd64 (0.1.5-1) ...\n",
      "Setting up libsox-fmt-alsa:amd64 (14.4.2+git20190427-2+deb11u2ubuntu0.22.04.1) ...\n",
      "Setting up libao4:amd64 (1.2.2+20180113-1.1ubuntu3) ...\n",
      "Setting up libmad0:amd64 (0.15.1b-10ubuntu1) ...\n",
      "Setting up libwavpack1:amd64 (5.4.0-1build2) ...\n",
      "Setting up libopencore-amrnb0:amd64 (0.1.5-1) ...\n",
      "Setting up libsox-fmt-base:amd64 (14.4.2+git20190427-2+deb11u2ubuntu0.22.04.1) ...\n",
      "Setting up libsox-fmt-ao:amd64 (14.4.2+git20190427-2+deb11u2ubuntu0.22.04.1) ...\n",
      "Setting up libsox-fmt-mp3:amd64 (14.4.2+git20190427-2+deb11u2ubuntu0.22.04.1) ...\n",
      "Setting up libsox-fmt-pulse:amd64 (14.4.2+git20190427-2+deb11u2ubuntu0.22.04.1) ...\n",
      "Setting up sox (14.4.2+git20190427-2+deb11u2ubuntu0.22.04.1) ...\n",
      "Setting up libsox-fmt-all:amd64 (14.4.2+git20190427-2+deb11u2ubuntu0.22.04.1) ...\n",
      "Setting up libsox-dev:amd64 (14.4.2+git20190427-2+deb11u2ubuntu0.22.04.1) ...\n",
      "Processing triggers for libc-bin (2.35-0ubuntu3.8) ...\n",
      "/sbin/ldconfig.real: /usr/local/lib/libtbbbind_2_5.so.3 is not a symbolic link\n",
      "\n",
      "/sbin/ldconfig.real: /usr/local/lib/libtbbmalloc_proxy.so.2 is not a symbolic link\n",
      "\n",
      "/sbin/ldconfig.real: /usr/local/lib/libur_adapter_opencl.so.0 is not a symbolic link\n",
      "\n",
      "/sbin/ldconfig.real: /usr/local/lib/libtbbbind.so.3 is not a symbolic link\n",
      "\n",
      "/sbin/ldconfig.real: /usr/local/lib/libtbb.so.12 is not a symbolic link\n",
      "\n",
      "/sbin/ldconfig.real: /usr/local/lib/libumf.so.0 is not a symbolic link\n",
      "\n",
      "/sbin/ldconfig.real: /usr/local/lib/libtbbbind_2_0.so.3 is not a symbolic link\n",
      "\n",
      "/sbin/ldconfig.real: /usr/local/lib/libtcm.so.1 is not a symbolic link\n",
      "\n",
      "/sbin/ldconfig.real: /usr/local/lib/libur_adapter_level_zero_v2.so.0 is not a symbolic link\n",
      "\n",
      "/sbin/ldconfig.real: /usr/local/lib/libtbbmalloc.so.2 is not a symbolic link\n",
      "\n",
      "/sbin/ldconfig.real: /usr/local/lib/libhwloc.so.15 is not a symbolic link\n",
      "\n",
      "/sbin/ldconfig.real: /usr/local/lib/libtcm_debug.so.1 is not a symbolic link\n",
      "\n",
      "/sbin/ldconfig.real: /usr/local/lib/libur_adapter_level_zero.so.0 is not a symbolic link\n",
      "\n",
      "/sbin/ldconfig.real: /usr/local/lib/libur_loader.so.0 is not a symbolic link\n",
      "\n",
      "Processing triggers for man-db (2.10.2-1) ...\n",
      "Processing triggers for mailcap (3.70+nmu1ubuntu1) ...\n"
     ]
    }
   ],
   "source": [
    "!apt-get -y install sox libsox-dev libsox-fmt-all"
   ]
  },
  {
   "cell_type": "code",
   "execution_count": 9,
   "metadata": {
    "colab": {
     "base_uri": "https://localhost:8080/",
     "height": 153,
     "referenced_widgets": [
      "181df31fe4284f43bf78ceb43b4737f4",
      "690c4a4eb69c4dc59e994a6e1d19a98b",
      "3ac50c3423aa43e58bd3db0a342298b1",
      "cbd69fc5ad584546adf6bf3bfa6b07f9",
      "ec3d88d139354ebcbb6de61edf494bb7",
      "36e2bb257fe44952b18334fbc52565a8",
      "8e0ea06f774747129eb6a1ced26c71e5",
      "2ea5a52c146a41d49045e8f5ef3d1c08",
      "bdb7f3f895a942319c2d4c21f214c7dd",
      "51ad594173474194a6cc72900105b407",
      "60d5985a94f946c1a8a59733a5259967",
      "d5885ff301db4bb8a6df39acc4fc8536",
      "7b15b8f301394077bc2cd36ffd0c20f0",
      "5b796067597e4c0db9d42e9802b90432",
      "b099a25525724882be4a3a30d15e9aa0",
      "986a0f4ed45c4da2befb38cfaa388062",
      "426e0f24043947759aa3a5018a43a3c1",
      "4a171e2ee24d4d16948bff6bad2409dd",
      "06243beff1114d5a831051aac544c973",
      "38512e76fe894168a9bc19fc0c86895d",
      "e3c45cb672f8405eb175b79aa7237a5f",
      "e52bf0a0aed04a838473c0c479e90521"
     ]
    },
    "id": "2BzwyZnLVZhX",
    "outputId": "ab35c106-3387-478b-c620-22518d0efb9d"
   },
   "outputs": [
    {
     "data": {
      "application/vnd.jupyter.widget-view+json": {
       "model_id": "181df31fe4284f43bf78ceb43b4737f4",
       "version_major": 2,
       "version_minor": 0
      },
      "text/plain": [
       "Map:   0%|          | 0/800 [00:00<?, ? examples/s]"
      ]
     },
     "metadata": {},
     "output_type": "display_data"
    },
    {
     "name": "stderr",
     "output_type": "stream",
     "text": [
      "/tmp/ipython-input-2081999381.py:15: UserWarning: torchaudio.sox_effects.sox_effects.apply_effects_tensor has been deprecated. This deprecation is part of a large refactoring effort to transition TorchAudio into a maintenance phase. Please see https://github.com/pytorch/audio/issues/3902 for more information. It will be removed from the 2.9 release. \n",
      "  aug, sr_out = torchaudio.sox_effects.apply_effects_tensor(wav, sr, effects)\n"
     ]
    },
    {
     "data": {
      "application/vnd.jupyter.widget-view+json": {
       "model_id": "d5885ff301db4bb8a6df39acc4fc8536",
       "version_major": 2,
       "version_minor": 0
      },
      "text/plain": [
       "Map:   0%|          | 0/800 [00:00<?, ? examples/s]"
      ]
     },
     "metadata": {},
     "output_type": "display_data"
    },
    {
     "name": "stdout",
     "output_type": "stream",
     "text": [
      "Train(orig): 800 Train(0.9 sel): 800 → Mixed: 1600\n"
     ]
    }
   ],
   "source": [
    "import numpy as np, torchaudio\n",
    "\n",
    "def _to_tensor_1ch(x_np):\n",
    "    x = torch.tensor(np.asarray(x_np, dtype=np.float32))\n",
    "    if x.dim() == 1:\n",
    "        x = x.unsqueeze(0)\n",
    "    return x\n",
    "\n",
    "def speed_perturb_np(wav_np, sr, rate: float):\n",
    "    if rate == 1.0:\n",
    "        return wav_np, sr\n",
    "    try:\n",
    "        wav = _to_tensor_1ch(wav_np)\n",
    "        effects = [[\"tempo\", str(rate)]]  # 피치 보존\n",
    "        aug, sr_out = torchaudio.sox_effects.apply_effects_tensor(wav, sr, effects)\n",
    "        return aug.squeeze(0).numpy(), sr_out\n",
    "    except Exception as e:\n",
    "        print(\"[WARN][sox] tempo failed -> fallback(no-aug):\", e)\n",
    "        return wav_np, sr\n",
    "\n",
    "train_raw_16k = train_dataset.cast_column(\"audio\", Audio(sampling_rate=TARGET_SR))\n",
    "\n",
    "def augment_copy(ds_raw, rate: float):\n",
    "    def _aug(b):\n",
    "        a = b[\"audio\"]\n",
    "        aug_np, sr_out = speed_perturb_np(a[\"array\"], a[\"sampling_rate\"], rate)\n",
    "        b = dict(b)\n",
    "        b[\"audio\"] = {\"array\": aug_np, \"path\": None, \"sampling_rate\": sr_out}\n",
    "        return b\n",
    "    ds_aug = ds_raw.map(_aug)\n",
    "    ds_proc = ds_aug.map(\n",
    "        prepare_dataset,\n",
    "        remove_columns=[c for c in ds_aug.column_names if c not in {\"input_features\",\"labels\",\"locale\"}]\n",
    "    )\n",
    "    ds_proc.set_format(columns=[\"input_features\",\"labels\",\"locale\"])\n",
    "    return ds_proc\n",
    "\n",
    "# 원본 + 1.3배 속도 증강 샘플 1:1\n",
    "proc_train_sp13 = augment_copy(train_raw_16k, 1.3)\n",
    "k = len(proc_train_orig)\n",
    "m = min(len(proc_train_sp13), k)\n",
    "proc_train_sp13_sel = proc_train_sp13.shuffle(seed=SEED).select(range(m))\n",
    "proc_train_mix = concatenate_datasets([proc_train_orig, proc_train_sp13_sel]).shuffle(seed=SEED)\n",
    "print(\"Train(orig):\", len(proc_train_orig), \"Train(0.9 sel):\", len(proc_train_sp13_sel), \"→ Mixed:\", len(proc_train_mix))"
   ]
  },
  {
   "cell_type": "code",
   "execution_count": 10,
   "metadata": {
    "colab": {
     "base_uri": "https://localhost:8080/",
     "height": 380
    },
    "id": "3Ltj8iPjVbm9",
    "outputId": "a6019ba5-99e3-4f93-a8b6-39f60d64ef88"
   },
   "outputs": [
    {
     "name": "stdout",
     "output_type": "stream",
     "text": [
      "[sanity] before train: 0\n"
     ]
    },
    {
     "name": "stderr",
     "output_type": "stream",
     "text": [
      "/usr/local/lib/python3.12/dist-packages/transformers/training_args.py:1525: FutureWarning: `evaluation_strategy` is deprecated and will be removed in version 4.46 of 🤗 Transformers. Use `eval_strategy` instead\n",
      "  warnings.warn(\n"
     ]
    },
    {
     "data": {
      "text/html": [
       "\n",
       "    <div>\n",
       "      \n",
       "      <progress value='600' max='1600' style='width:300px; height:20px; vertical-align: middle;'></progress>\n",
       "      [ 600/1600 21:08 < 35:20, 0.47 it/s, Epoch 3/8]\n",
       "    </div>\n",
       "    <table border=\"1\" class=\"dataframe\">\n",
       "  <thead>\n",
       " <tr style=\"text-align: left;\">\n",
       "      <th>Epoch</th>\n",
       "      <th>Training Loss</th>\n",
       "      <th>Validation Loss</th>\n",
       "    </tr>\n",
       "  </thead>\n",
       "  <tbody>\n",
       "    <tr>\n",
       "      <td>1</td>\n",
       "      <td>No log</td>\n",
       "      <td>2.019471</td>\n",
       "    </tr>\n",
       "    <tr>\n",
       "      <td>2</td>\n",
       "      <td>No log</td>\n",
       "      <td>2.080414</td>\n",
       "    </tr>\n",
       "    <tr>\n",
       "      <td>3</td>\n",
       "      <td>2.042500</td>\n",
       "      <td>2.148415</td>\n",
       "    </tr>\n",
       "  </tbody>\n",
       "</table><p>"
      ],
      "text/plain": [
       "<IPython.core.display.HTML object>"
      ]
     },
     "metadata": {},
     "output_type": "display_data"
    },
    {
     "name": "stderr",
     "output_type": "stream",
     "text": [
      "Some non-default generation parameters are set in the model config. These should go into a GenerationConfig file (https://huggingface.co/docs/transformers/generation_strategies#save-a-custom-decoding-strategy-with-your-model) instead. This warning will be raised to an exception in v4.41.\n",
      "Non-default generation parameters: {'max_length': 448, 'suppress_tokens': [], 'begin_suppress_tokens': [220, 50257]}\n",
      "Some non-default generation parameters are set in the model config. These should go into a GenerationConfig file (https://huggingface.co/docs/transformers/generation_strategies#save-a-custom-decoding-strategy-with-your-model) instead. This warning will be raised to an exception in v4.41.\n",
      "Non-default generation parameters: {'max_length': 448, 'suppress_tokens': [], 'begin_suppress_tokens': [220, 50257]}\n",
      "Some non-default generation parameters are set in the model config. These should go into a GenerationConfig file (https://huggingface.co/docs/transformers/generation_strategies#save-a-custom-decoding-strategy-with-your-model) instead. This warning will be raised to an exception in v4.41.\n",
      "Non-default generation parameters: {'max_length': 448, 'suppress_tokens': [], 'begin_suppress_tokens': [220, 50257]}\n",
      "There were missing keys in the checkpoint model loaded: ['proj_out.weight'].\n"
     ]
    },
    {
     "name": "stdout",
     "output_type": "stream",
     "text": [
      "[sanity] after  train: 600\n"
     ]
    }
   ],
   "source": [
    "# 7) Trainer 설정\n",
    "args = Seq2SeqTrainingArguments(\n",
    "    output_dir=\"./whisper-small-mix_1p3\",\n",
    "    per_device_train_batch_size=4,\n",
    "    gradient_accumulation_steps=2,\n",
    "    learning_rate=2e-5,\n",
    "    num_train_epochs=8,\n",
    "    weight_decay=0.01,\n",
    "    label_smoothing_factor=0.1,\n",
    "    warmup_ratio=0.1,\n",
    "    lr_scheduler_type=\"linear\",\n",
    "    max_grad_norm=1.0,\n",
    "    fp16=torch.cuda.is_available(),\n",
    "    report_to=\"none\",\n",
    "\n",
    "    predict_with_generate=True,      # eval/predict 시 generate 사용\n",
    "    generation_max_length=225,\n",
    "\n",
    "    evaluation_strategy=\"epoch\",\n",
    "    save_strategy=\"epoch\",\n",
    "    load_best_model_at_end=True,\n",
    "    metric_for_best_model=\"eval_loss\",\n",
    "    greater_is_better=False,\n",
    "\n",
    "    remove_unused_columns=False,\n",
    ")\n",
    "\n",
    "trainer_mix13 = Seq2SeqTrainer(\n",
    "    model=model,\n",
    "    args=args,\n",
    "    train_dataset=proc_train_mix,\n",
    "    eval_dataset=proc_val_orig,\n",
    "    tokenizer=processor.tokenizer,   # 중요!\n",
    "    data_collator=data_collator,\n",
    "    callbacks=[EarlyStoppingCallback(early_stopping_patience=2)],\n",
    ")\n",
    "\n",
    "print(\"[sanity] before train:\", trainer_mix13.state.global_step)\n",
    "trainer_mix13.train()\n",
    "print(\"[sanity] after  train:\", trainer_mix13.state.global_step)"
   ]
  },
  {
   "cell_type": "code",
   "execution_count": 11,
   "metadata": {
    "colab": {
     "base_uri": "https://localhost:8080/",
     "height": 1000,
     "referenced_widgets": [
      "a9d458b981b64d9eb87811f1b875eb30",
      "5f70d2708a684d07b9f329b137e29a60",
      "c1a847eb908b4c37bf72e26b924f0f80",
      "8f638daf22de4d78b769b270d8a9c333",
      "18045918b84242979bc878ba426721a2",
      "170a6b4466254c24b014fe1146f1b468",
      "cdde78b58d2e4e80996128c6152653e4",
      "c5ae23dd13614072b34daec1835a10ae",
      "3b6b96fb567346709ebd86a37e1be9c7",
      "f00500fb732d46afa216fd4b459f2519",
      "22b1fc4a8a6b4cd7aed6418807092b50",
      "41f0486167364d549d76f85912fbe173",
      "cdd9e5310f2348008f6869f8b0601931",
      "7cf01f1d4a5b467697b8534bf5784485",
      "b3af6ef9146f44f4a7c5c6b7f1826f97",
      "4c6d91f7b7d4432c8a1352e9c59a7e9d",
      "95060d862f5e43a7b31fe82f7711d561",
      "5a05947884b544e98466cc9f44270a64",
      "1121f0f5e0e84a0fb5b28855d6f2c0ca",
      "4cbf9d7eaad94d86b0a49e7f5eb86a8d",
      "433c6c6b49d741e48a65ad1ce7079407",
      "9fbbe622a3e34387a759eb4993d2456c",
      "72ba4844b3d74226b5eaa6c1669021ad",
      "dbb83d13badb4a59a81a537c45a65fb2",
      "75c7aa8dafbf41d38eb8e828c62c5370",
      "45e2a1bdc6274393a13a65e64b886a66",
      "d1c197f21cf5446887942704c365c0cd",
      "d7e4a90b67a14d3ca40be45435a448a9",
      "bf1e3c856ef24851a552a2f37f46b7b5",
      "096dc9e0c14c452d9b726a9b2da22e8e",
      "7dbd3f4e948442d883f944909058922f",
      "709f1b31ca7f446d8441817864c1aeb1",
      "0cc560932694472ebca2675a4d0e4f1c",
      "3ddc5d6e7cc9411f94ae6a0ac8accf29",
      "a7ab4da843bf45dd97291c53ab6d91a4",
      "616abf5bb12a40a5b043a3c421aa38ca",
      "0e4dbac6109b448b9d42163204e29b4d",
      "0b25f63cfd544fbc92975685783967dc",
      "1590ded64f234a7680ca3f252e5b4266",
      "d914fe902e8f45ad93e2617f8531cff3",
      "f6c89c1690524995ac91fe6afa65571e",
      "afc9116702f94e04ba0a8f76e46c131e",
      "1ae773733c6a47879fc6f03ef6206ac2",
      "8678e041c61e49debb702ab90bd73f74",
      "1f908309324348afa8d0a6f075328677",
      "ffae2ff164eb42a2bec7a3c48a23c1b1",
      "0954c2afe5ca42e9994785d72a58e4ae",
      "cd3c7bfc2284410c8dd991f1518d144c",
      "e3226083e74649ff8bc52bebcf26321d",
      "111d2d6c649448b2b879f25d0b1f0dc9",
      "78a507a99b9b41ba95983a62ea763998",
      "10751982656a4b0c857b24a3fd03a9e9",
      "2184be6f871b4ed79189cce3e0bc7dcd",
      "8e0737b54e0b42a98fa069ab3b2183cf",
      "5c1b20f060d148cc945999e493d7831c",
      "406352ad5add432bb4b5497c9dfdbf33",
      "74bf3294730848dfb55ebb527b60c0bd",
      "075ac106e2fe4a75852e3744a4fcba7f",
      "31f1f188b5d547009d215881e0661a63",
      "569fe6a24ad846ae9efba1100fa20a72",
      "a58563803cc0420f907363c4138004d7",
      "e1199eac29ee4919a8ec0684fb55a170",
      "0ca7fc0e27f746889b5e6567bc5b6764",
      "49f5e91dfa5d4dc38b7bd15a6e3b24e4",
      "359a11e77d434388afc755ed7833d45c",
      "d8ec4844290b4722814e562a01595828"
     ]
    },
    "id": "-ViCMo23VcNa",
    "outputId": "6efddaa2-c5b7-47f4-c204-9fbc63e8af54"
   },
   "outputs": [
    {
     "data": {
      "application/vnd.jupyter.widget-view+json": {
       "model_id": "a9d458b981b64d9eb87811f1b875eb30",
       "version_major": 2,
       "version_minor": 0
      },
      "text/plain": [
       "Downloading builder script: 0.00B [00:00, ?B/s]"
      ]
     },
     "metadata": {},
     "output_type": "display_data"
    },
    {
     "data": {
      "application/vnd.jupyter.widget-view+json": {
       "model_id": "41f0486167364d549d76f85912fbe173",
       "version_major": 2,
       "version_minor": 0
      },
      "text/plain": [
       "Downloading builder script: 0.00B [00:00, ?B/s]"
      ]
     },
     "metadata": {},
     "output_type": "display_data"
    },
    {
     "name": "stdout",
     "output_type": "stream",
     "text": [
      "[CHECK] Evaluating on TEST set: size=400 (val=400)\n"
     ]
    },
    {
     "data": {
      "application/vnd.jupyter.widget-view+json": {
       "model_id": "72ba4844b3d74226b5eaa6c1669021ad",
       "version_major": 2,
       "version_minor": 0
      },
      "text/plain": [
       "Filter:   0%|          | 0/400 [00:00<?, ? examples/s]"
      ]
     },
     "metadata": {},
     "output_type": "display_data"
    },
    {
     "name": "stderr",
     "output_type": "stream",
     "text": [
      "The attention mask is not set and cannot be inferred from input because pad token is same as eos token. As a consequence, you may observe unexpected behavior. Please pass your input's `attention_mask` to obtain reliable results.\n"
     ]
    },
    {
     "data": {
      "text/html": [],
      "text/plain": [
       "<IPython.core.display.HTML object>"
      ]
     },
     "metadata": {},
     "output_type": "display_data"
    },
    {
     "name": "stdout",
     "output_type": "stream",
     "text": [
      "\n",
      "[test_orig] KO samples (k=10)\n",
      "#00 PRED: 그러나 실제로 뽑은 숫자는 지난주에 비치지 못한 것으로 나타났다.\n",
      "     REF : 그러나 실제로 뽑은 숫자는 지난 주에 미치지 못한 것으로 나타났다.\n",
      "---\n",
      "#01 PRED: 신압대는 이렇게 말하며 유서방을 견눈질 해 보았다.\n",
      "     REF : 싱앗대는 이렇게 말하며 유서방을 곁눈질해 보았다.\n",
      "---\n",
      "#02 PRED: 신철이는 어집 오면 감정을 가진 사람같이 안아보었다.\n",
      "     REF : 신철이는 어찌 보면 감정을 가진 사람 같지 않아 보였다.\n",
      "---\n",
      "#03 PRED: 내다보니까 언덕 어려웠던 집에 구리 붙으며 사람들이 왔다갔다 야자니였습니다.\n",
      "     REF : 내다보니까 언덕 아래 어떤 집에 불이 붙으며 사람들이 왔다갔다 야단이었습니다.\n",
      "---\n",
      "#04 PRED: 일력화가 무거워지면 그의 몸은 이상하게도 가벼워졌고\n",
      "     REF : 인력거가 무거워지매 그의 몸은 이상하게도 가벼워졌고\n",
      "---\n",
      "#05 PRED: 마스크 잘 쓰고 다니고 길쫄쫄히서 다녀와\n",
      "     REF : 마스크 잘 쓰고 다니고, 길 조심해서 다녀와.\n",
      "---\n",
      "#06 PRED: 나를 나아준 고양과정도 더 잠이 들었고요.\n",
      "     REF : 나를 낳어 준 고향버덤두 더 정이 들었고요.\n",
      "---\n",
      "#07 PRED: 선비는 생각지 않은 이 말에 앞이 아득해지며 방안이 핑핑 노랗다.\n",
      "     REF : 선비는 생각지 않은 이 말에 앞이 아뜩해지며 방 안이 핑핑 돌았다.\n",
      "---\n",
      "#08 PRED: 벽을 새로 감독과 그가 마주 놓은 것이 직각되자 불쾌하였다.\n",
      "     REF : 벽을 새로 감독과 그가 마주 누운 것이 직각 되자 불쾌하였다.\n",
      "---\n",
      "#09 PRED: 내가 너는 옥점인 연과 조금 더 달리 생각지 않는다.\n",
      "     REF : 내가 너는 옥점이년과 조금도 달리 생각지 않는다.\n",
      "---\n"
     ]
    },
    {
     "data": {
      "application/vnd.jupyter.widget-view+json": {
       "model_id": "3ddc5d6e7cc9411f94ae6a0ac8accf29",
       "version_major": 2,
       "version_minor": 0
      },
      "text/plain": [
       "Filter:   0%|          | 0/400 [00:00<?, ? examples/s]"
      ]
     },
     "metadata": {},
     "output_type": "display_data"
    },
    {
     "data": {
      "text/html": [],
      "text/plain": [
       "<IPython.core.display.HTML object>"
      ]
     },
     "metadata": {},
     "output_type": "display_data"
    },
    {
     "name": "stdout",
     "output_type": "stream",
     "text": [
      "\n",
      "[test_orig] JA samples (k=10)\n",
      "#00 PRED: 福島県広野町\n",
      "     REF : 福島県広野町\n",
      "---\n",
      "#01 PRED: だがことわる。\n",
      "     REF : だが断る\n",
      "---\n",
      "#02 PRED: そして、いくら未来としても、君が悪ければ悪いほど、書いてその紙をじっと見つめないではいられませんでした。\n",
      "     REF : そして、いくら見まいとしても、きみが悪ければ悪いほど、かえってその影を、じっと見つめないではいられませんでした。\n",
      "---\n",
      "#03 PRED: ニーナザク選手のシュートは、ハノファーである。\n",
      "     REF : ニーダーザクセン州の州都はハノーファーである\n",
      "---\n",
      "#04 PRED: そこで自分で出かけて行って、調べ始めました。彼はさんざん探し回りました。\n",
      "     REF : そこで自分で出かけて行って、調べはじめました。かれはさんざんさがしまわりました。\n",
      "---\n",
      "#05 PRED: おけ。\n",
      "     REF : 「おやおや、汚いやつめまた出て来やがったな。」とイワンは言いました。\n",
      "---\n",
      "#06 PRED: そこから見ていると、その男はだんだんの上に立ち上がって、右隣の旗のほうを振り向いて、何かを覚えで叫びました。\n",
      "     REF : そこから見ていると、その男は段々の上に立ち上って、右隣りの畑の方を振り向いて、何か大声で叫びました。\n",
      "---\n",
      "#07 PRED: 今日の天気は晴れ。\n",
      "     REF : 今日の天気は晴れ\n",
      "---\n",
      "#08 PRED: さあ行こう。\n",
      "     REF : さあ、行こう。\n",
      "---\n",
      "#09 PRED: 後提は否定によって売会されたものでなければならない。\n",
      "     REF : その肯定は否定によって媒介されたものでなければならぬ。\n",
      "---\n"
     ]
    },
    {
     "data": {
      "application/vnd.jupyter.widget-view+json": {
       "model_id": "1f908309324348afa8d0a6f075328677",
       "version_major": 2,
       "version_minor": 0
      },
      "text/plain": [
       "Filter:   0%|          | 0/400 [00:00<?, ? examples/s]"
      ]
     },
     "metadata": {},
     "output_type": "display_data"
    },
    {
     "data": {
      "text/html": [],
      "text/plain": [
       "<IPython.core.display.HTML object>"
      ]
     },
     "metadata": {},
     "output_type": "display_data"
    },
    {
     "name": "stdout",
     "output_type": "stream",
     "text": [
      "\n",
      "[test_orig] EN samples (k=10)\n",
      "#00 PRED: Hello, good morning.A long sparingly belongs to the class of books, known as the molecular book of the book.\n",
      "     REF : Enoxaparin belongs to the class of drugs known as low molecular weight heparins.\n",
      "---\n",
      "#01 PRED: Eight.\n",
      "     REF : eight\n",
      "---\n",
      "#02 PRED: Do you mean it?\n",
      "     REF : Do you mean it?\n",
      "---\n",
      "#03 PRED: You shall see the other guy, specifically, how good at fighting his.\n",
      "     REF : You should see the other guy, specifically, how good at fighting he is.\n",
      "---\n",
      "#04 PRED: Karina Spirnoff, of Dancing with the Stars, hosted the following month.\n",
      "     REF : Karina Smirnoff of \"Dancing With The Stars\" hosted the following month.\n",
      "---\n",
      "#05 PRED: The nearest railway station is at Rombford.\n",
      "     REF : The nearest railway station is at Romford.\n",
      "---\n",
      "#06 PRED: He ended up running to the bars, which fortified the windows of the first floor.\n",
      "     REF : He ended up running to the bars which fortified the windows of the first floor.\n",
      "---\n",
      "#07 PRED: The prints are then delivered to the costumer.\n",
      "     REF : The prints are then delivered to the customer.\n",
      "---\n",
      "#08 PRED: Zales began playing guitar strombad, but eventually switched to blues guitar.\n",
      "     REF : Geils began playing jazz trumpet but eventually switched to blues guitar.\n",
      "---\n",
      "#09 PRED: Doing a handstand needs a lot of practice to learn.\n",
      "     REF : Doing a handstand needs a lot of practice to learn.\n",
      "---\n"
     ]
    },
    {
     "data": {
      "application/vnd.jupyter.widget-view+json": {
       "model_id": "406352ad5add432bb4b5497c9dfdbf33",
       "version_major": 2,
       "version_minor": 0
      },
      "text/plain": [
       "Filter:   0%|          | 0/400 [00:00<?, ? examples/s]"
      ]
     },
     "metadata": {},
     "output_type": "display_data"
    },
    {
     "data": {
      "text/html": [],
      "text/plain": [
       "<IPython.core.display.HTML object>"
      ]
     },
     "metadata": {},
     "output_type": "display_data"
    },
    {
     "name": "stdout",
     "output_type": "stream",
     "text": [
      "\n",
      "[test_orig] DE samples (k=10)\n",
      "#00 PRED: Wenn nicht, dann leckt man sie irgendwo hin, wo Platz ist.\n",
      "     REF : Wenn nicht, dann legt man sie irgendwo hin, wo Platz ist.\n",
      "---\n",
      "#01 PRED: Wie ist die derzeitige Verkehrssituation?\n",
      "     REF : Wie ist die derzeitige Verkehrssituation?\n",
      "---\n",
      "#02 PRED: Aus dem Prozessagten der Hexenverfolgung sind keine Authentische an Erzippte beklagt.\n",
      "     REF : Aus den Prozessakten der Hexenverfolgung sind keine authentischen Rezepte bekannt.\n",
      "---\n",
      "#03 PRED: Er errang den ersten Platz in seiner Hubraumklasse.\n",
      "     REF : Er errang den ersten Platz in seiner Hubraumklasse.\n",
      "---\n",
      "#04 PRED: Bach du Schreck!\n",
      "     REF : Ach du Schreck!\n",
      "---\n",
      "#05 PRED: Abschließend möchte ich Ihnen gerne etwas sehr Wichtiges mitteilen.\n",
      "     REF : Abschließend möchte ich Ihnen gerne etwas sehr Wichtiges mitteilen.\n",
      "---\n",
      "#06 PRED: Die Foto-Strecken erschienen mit Morde-Bagazine, mit der Woke hat das Bazaar in Mare-Claire.\n",
      "     REF : Ihre Fotostrecken erschienen in Modemagazinen wie der Vogue, Harper’s Bazaar und Marie Claire.\n",
      "---\n",
      "#07 PRED: Sowohl Thomas Hauer als auch Margaret Douglas wurden im Kauerflunden gefangen und gesetzt.\n",
      "     REF : Sowohl Thomas Howard als auch Margaret Douglas wurden im Tower of London gefangen gesetzt.\n",
      "---\n",
      "#08 PRED: Eislutschler sind viel leckerer als Eistöten.\n",
      "     REF : Eislutscher sind viel leckerer als Eistüten.\n",
      "---\n",
      "#09 PRED: Sie gewannen das Match mit sechs Löchernvorsprung.\n",
      "     REF : Sie gewannen das Match mit sechs Löchern Vorsprung.\n",
      "---\n"
     ]
    },
    {
     "data": {
      "application/vnd.google.colaboratory.intrinsic+json": {
       "summary": "{\n  \"name\": \"df_orig\",\n  \"rows\": 4,\n  \"fields\": [\n    {\n      \"column\": \"set\",\n      \"properties\": {\n        \"dtype\": \"category\",\n        \"num_unique_values\": 1,\n        \"samples\": [\n          \"test_orig\"\n        ],\n        \"semantic_type\": \"\",\n        \"description\": \"\"\n      }\n    },\n    {\n      \"column\": \"lang\",\n      \"properties\": {\n        \"dtype\": \"string\",\n        \"num_unique_values\": 4,\n        \"samples\": [\n          \"en\"\n        ],\n        \"semantic_type\": \"\",\n        \"description\": \"\"\n      }\n    },\n    {\n      \"column\": \"WER\",\n      \"properties\": {\n        \"dtype\": \"number\",\n        \"std\": 0.2970792303986137,\n        \"min\": 0.2424581005586592,\n        \"max\": 0.8918918918918919,\n        \"num_unique_values\": 4,\n        \"samples\": [\n          0.2424581005586592\n        ],\n        \"semantic_type\": \"\",\n        \"description\": \"\"\n      }\n    },\n    {\n      \"column\": \"CER\",\n      \"properties\": {\n        \"dtype\": \"number\",\n        \"std\": 0.1632994203584043,\n        \"min\": 0.11281337047353761,\n        \"max\": 0.45485436893203884,\n        \"num_unique_values\": 4,\n        \"samples\": [\n          0.11876627278189465\n        ],\n        \"semantic_type\": \"\",\n        \"description\": \"\"\n      }\n    },\n    {\n      \"column\": \"N\",\n      \"properties\": {\n        \"dtype\": \"number\",\n        \"std\": 0,\n        \"min\": 100,\n        \"max\": 100,\n        \"num_unique_values\": 1,\n        \"samples\": [\n          100\n        ],\n        \"semantic_type\": \"\",\n        \"description\": \"\"\n      }\n    }\n  ]\n}",
       "type": "dataframe",
       "variable_name": "df_orig"
      },
      "text/html": [
       "\n",
       "  <div id=\"df-894adcd3-55a7-4764-b73b-acdf4d493b4d\" class=\"colab-df-container\">\n",
       "    <div>\n",
       "<style scoped>\n",
       "    .dataframe tbody tr th:only-of-type {\n",
       "        vertical-align: middle;\n",
       "    }\n",
       "\n",
       "    .dataframe tbody tr th {\n",
       "        vertical-align: top;\n",
       "    }\n",
       "\n",
       "    .dataframe thead th {\n",
       "        text-align: right;\n",
       "    }\n",
       "</style>\n",
       "<table border=\"1\" class=\"dataframe\">\n",
       "  <thead>\n",
       "    <tr style=\"text-align: right;\">\n",
       "      <th></th>\n",
       "      <th>set</th>\n",
       "      <th>lang</th>\n",
       "      <th>WER</th>\n",
       "      <th>CER</th>\n",
       "      <th>N</th>\n",
       "    </tr>\n",
       "  </thead>\n",
       "  <tbody>\n",
       "    <tr>\n",
       "      <th>3</th>\n",
       "      <td>test_orig</td>\n",
       "      <td>de</td>\n",
       "      <td>0.289631</td>\n",
       "      <td>0.112813</td>\n",
       "      <td>100</td>\n",
       "    </tr>\n",
       "    <tr>\n",
       "      <th>2</th>\n",
       "      <td>test_orig</td>\n",
       "      <td>en</td>\n",
       "      <td>0.242458</td>\n",
       "      <td>0.118766</td>\n",
       "      <td>100</td>\n",
       "    </tr>\n",
       "    <tr>\n",
       "      <th>1</th>\n",
       "      <td>test_orig</td>\n",
       "      <td>ja</td>\n",
       "      <td>0.891892</td>\n",
       "      <td>0.454854</td>\n",
       "      <td>100</td>\n",
       "    </tr>\n",
       "    <tr>\n",
       "      <th>0</th>\n",
       "      <td>test_orig</td>\n",
       "      <td>ko</td>\n",
       "      <td>0.416555</td>\n",
       "      <td>0.162086</td>\n",
       "      <td>100</td>\n",
       "    </tr>\n",
       "  </tbody>\n",
       "</table>\n",
       "</div>\n",
       "    <div class=\"colab-df-buttons\">\n",
       "\n",
       "  <div class=\"colab-df-container\">\n",
       "    <button class=\"colab-df-convert\" onclick=\"convertToInteractive('df-894adcd3-55a7-4764-b73b-acdf4d493b4d')\"\n",
       "            title=\"Convert this dataframe to an interactive table.\"\n",
       "            style=\"display:none;\">\n",
       "\n",
       "  <svg xmlns=\"http://www.w3.org/2000/svg\" height=\"24px\" viewBox=\"0 -960 960 960\">\n",
       "    <path d=\"M120-120v-720h720v720H120Zm60-500h600v-160H180v160Zm220 220h160v-160H400v160Zm0 220h160v-160H400v160ZM180-400h160v-160H180v160Zm440 0h160v-160H620v160ZM180-180h160v-160H180v160Zm440 0h160v-160H620v160Z\"/>\n",
       "  </svg>\n",
       "    </button>\n",
       "\n",
       "  <style>\n",
       "    .colab-df-container {\n",
       "      display:flex;\n",
       "      gap: 12px;\n",
       "    }\n",
       "\n",
       "    .colab-df-convert {\n",
       "      background-color: #E8F0FE;\n",
       "      border: none;\n",
       "      border-radius: 50%;\n",
       "      cursor: pointer;\n",
       "      display: none;\n",
       "      fill: #1967D2;\n",
       "      height: 32px;\n",
       "      padding: 0 0 0 0;\n",
       "      width: 32px;\n",
       "    }\n",
       "\n",
       "    .colab-df-convert:hover {\n",
       "      background-color: #E2EBFA;\n",
       "      box-shadow: 0px 1px 2px rgba(60, 64, 67, 0.3), 0px 1px 3px 1px rgba(60, 64, 67, 0.15);\n",
       "      fill: #174EA6;\n",
       "    }\n",
       "\n",
       "    .colab-df-buttons div {\n",
       "      margin-bottom: 4px;\n",
       "    }\n",
       "\n",
       "    [theme=dark] .colab-df-convert {\n",
       "      background-color: #3B4455;\n",
       "      fill: #D2E3FC;\n",
       "    }\n",
       "\n",
       "    [theme=dark] .colab-df-convert:hover {\n",
       "      background-color: #434B5C;\n",
       "      box-shadow: 0px 1px 3px 1px rgba(0, 0, 0, 0.15);\n",
       "      filter: drop-shadow(0px 1px 2px rgba(0, 0, 0, 0.3));\n",
       "      fill: #FFFFFF;\n",
       "    }\n",
       "  </style>\n",
       "\n",
       "    <script>\n",
       "      const buttonEl =\n",
       "        document.querySelector('#df-894adcd3-55a7-4764-b73b-acdf4d493b4d button.colab-df-convert');\n",
       "      buttonEl.style.display =\n",
       "        google.colab.kernel.accessAllowed ? 'block' : 'none';\n",
       "\n",
       "      async function convertToInteractive(key) {\n",
       "        const element = document.querySelector('#df-894adcd3-55a7-4764-b73b-acdf4d493b4d');\n",
       "        const dataTable =\n",
       "          await google.colab.kernel.invokeFunction('convertToInteractive',\n",
       "                                                    [key], {});\n",
       "        if (!dataTable) return;\n",
       "\n",
       "        const docLinkHtml = 'Like what you see? Visit the ' +\n",
       "          '<a target=\"_blank\" href=https://colab.research.google.com/notebooks/data_table.ipynb>data table notebook</a>'\n",
       "          + ' to learn more about interactive tables.';\n",
       "        element.innerHTML = '';\n",
       "        dataTable['output_type'] = 'display_data';\n",
       "        await google.colab.output.renderOutput(dataTable, element);\n",
       "        const docLink = document.createElement('div');\n",
       "        docLink.innerHTML = docLinkHtml;\n",
       "        element.appendChild(docLink);\n",
       "      }\n",
       "    </script>\n",
       "  </div>\n",
       "\n",
       "\n",
       "    <div id=\"df-9db0bd6e-018a-415b-b90e-4855f4f36b66\">\n",
       "      <button class=\"colab-df-quickchart\" onclick=\"quickchart('df-9db0bd6e-018a-415b-b90e-4855f4f36b66')\"\n",
       "                title=\"Suggest charts\"\n",
       "                style=\"display:none;\">\n",
       "\n",
       "<svg xmlns=\"http://www.w3.org/2000/svg\" height=\"24px\"viewBox=\"0 0 24 24\"\n",
       "     width=\"24px\">\n",
       "    <g>\n",
       "        <path d=\"M19 3H5c-1.1 0-2 .9-2 2v14c0 1.1.9 2 2 2h14c1.1 0 2-.9 2-2V5c0-1.1-.9-2-2-2zM9 17H7v-7h2v7zm4 0h-2V7h2v10zm4 0h-2v-4h2v4z\"/>\n",
       "    </g>\n",
       "</svg>\n",
       "      </button>\n",
       "\n",
       "<style>\n",
       "  .colab-df-quickchart {\n",
       "      --bg-color: #E8F0FE;\n",
       "      --fill-color: #1967D2;\n",
       "      --hover-bg-color: #E2EBFA;\n",
       "      --hover-fill-color: #174EA6;\n",
       "      --disabled-fill-color: #AAA;\n",
       "      --disabled-bg-color: #DDD;\n",
       "  }\n",
       "\n",
       "  [theme=dark] .colab-df-quickchart {\n",
       "      --bg-color: #3B4455;\n",
       "      --fill-color: #D2E3FC;\n",
       "      --hover-bg-color: #434B5C;\n",
       "      --hover-fill-color: #FFFFFF;\n",
       "      --disabled-bg-color: #3B4455;\n",
       "      --disabled-fill-color: #666;\n",
       "  }\n",
       "\n",
       "  .colab-df-quickchart {\n",
       "    background-color: var(--bg-color);\n",
       "    border: none;\n",
       "    border-radius: 50%;\n",
       "    cursor: pointer;\n",
       "    display: none;\n",
       "    fill: var(--fill-color);\n",
       "    height: 32px;\n",
       "    padding: 0;\n",
       "    width: 32px;\n",
       "  }\n",
       "\n",
       "  .colab-df-quickchart:hover {\n",
       "    background-color: var(--hover-bg-color);\n",
       "    box-shadow: 0 1px 2px rgba(60, 64, 67, 0.3), 0 1px 3px 1px rgba(60, 64, 67, 0.15);\n",
       "    fill: var(--button-hover-fill-color);\n",
       "  }\n",
       "\n",
       "  .colab-df-quickchart-complete:disabled,\n",
       "  .colab-df-quickchart-complete:disabled:hover {\n",
       "    background-color: var(--disabled-bg-color);\n",
       "    fill: var(--disabled-fill-color);\n",
       "    box-shadow: none;\n",
       "  }\n",
       "\n",
       "  .colab-df-spinner {\n",
       "    border: 2px solid var(--fill-color);\n",
       "    border-color: transparent;\n",
       "    border-bottom-color: var(--fill-color);\n",
       "    animation:\n",
       "      spin 1s steps(1) infinite;\n",
       "  }\n",
       "\n",
       "  @keyframes spin {\n",
       "    0% {\n",
       "      border-color: transparent;\n",
       "      border-bottom-color: var(--fill-color);\n",
       "      border-left-color: var(--fill-color);\n",
       "    }\n",
       "    20% {\n",
       "      border-color: transparent;\n",
       "      border-left-color: var(--fill-color);\n",
       "      border-top-color: var(--fill-color);\n",
       "    }\n",
       "    30% {\n",
       "      border-color: transparent;\n",
       "      border-left-color: var(--fill-color);\n",
       "      border-top-color: var(--fill-color);\n",
       "      border-right-color: var(--fill-color);\n",
       "    }\n",
       "    40% {\n",
       "      border-color: transparent;\n",
       "      border-right-color: var(--fill-color);\n",
       "      border-top-color: var(--fill-color);\n",
       "    }\n",
       "    60% {\n",
       "      border-color: transparent;\n",
       "      border-right-color: var(--fill-color);\n",
       "    }\n",
       "    80% {\n",
       "      border-color: transparent;\n",
       "      border-right-color: var(--fill-color);\n",
       "      border-bottom-color: var(--fill-color);\n",
       "    }\n",
       "    90% {\n",
       "      border-color: transparent;\n",
       "      border-bottom-color: var(--fill-color);\n",
       "    }\n",
       "  }\n",
       "</style>\n",
       "\n",
       "      <script>\n",
       "        async function quickchart(key) {\n",
       "          const quickchartButtonEl =\n",
       "            document.querySelector('#' + key + ' button');\n",
       "          quickchartButtonEl.disabled = true;  // To prevent multiple clicks.\n",
       "          quickchartButtonEl.classList.add('colab-df-spinner');\n",
       "          try {\n",
       "            const charts = await google.colab.kernel.invokeFunction(\n",
       "                'suggestCharts', [key], {});\n",
       "          } catch (error) {\n",
       "            console.error('Error during call to suggestCharts:', error);\n",
       "          }\n",
       "          quickchartButtonEl.classList.remove('colab-df-spinner');\n",
       "          quickchartButtonEl.classList.add('colab-df-quickchart-complete');\n",
       "        }\n",
       "        (() => {\n",
       "          let quickchartButtonEl =\n",
       "            document.querySelector('#df-9db0bd6e-018a-415b-b90e-4855f4f36b66 button');\n",
       "          quickchartButtonEl.style.display =\n",
       "            google.colab.kernel.accessAllowed ? 'block' : 'none';\n",
       "        })();\n",
       "      </script>\n",
       "    </div>\n",
       "\n",
       "  <div id=\"id_3d190b80-5acc-473a-9655-6a19b9976e83\">\n",
       "    <style>\n",
       "      .colab-df-generate {\n",
       "        background-color: #E8F0FE;\n",
       "        border: none;\n",
       "        border-radius: 50%;\n",
       "        cursor: pointer;\n",
       "        display: none;\n",
       "        fill: #1967D2;\n",
       "        height: 32px;\n",
       "        padding: 0 0 0 0;\n",
       "        width: 32px;\n",
       "      }\n",
       "\n",
       "      .colab-df-generate:hover {\n",
       "        background-color: #E2EBFA;\n",
       "        box-shadow: 0px 1px 2px rgba(60, 64, 67, 0.3), 0px 1px 3px 1px rgba(60, 64, 67, 0.15);\n",
       "        fill: #174EA6;\n",
       "      }\n",
       "\n",
       "      [theme=dark] .colab-df-generate {\n",
       "        background-color: #3B4455;\n",
       "        fill: #D2E3FC;\n",
       "      }\n",
       "\n",
       "      [theme=dark] .colab-df-generate:hover {\n",
       "        background-color: #434B5C;\n",
       "        box-shadow: 0px 1px 3px 1px rgba(0, 0, 0, 0.15);\n",
       "        filter: drop-shadow(0px 1px 2px rgba(0, 0, 0, 0.3));\n",
       "        fill: #FFFFFF;\n",
       "      }\n",
       "    </style>\n",
       "    <button class=\"colab-df-generate\" onclick=\"generateWithVariable('df_orig')\"\n",
       "            title=\"Generate code using this dataframe.\"\n",
       "            style=\"display:none;\">\n",
       "\n",
       "  <svg xmlns=\"http://www.w3.org/2000/svg\" height=\"24px\"viewBox=\"0 0 24 24\"\n",
       "       width=\"24px\">\n",
       "    <path d=\"M7,19H8.4L18.45,9,17,7.55,7,17.6ZM5,21V16.75L18.45,3.32a2,2,0,0,1,2.83,0l1.4,1.43a1.91,1.91,0,0,1,.58,1.4,1.91,1.91,0,0,1-.58,1.4L9.25,21ZM18.45,9,17,7.55Zm-12,3A5.31,5.31,0,0,0,4.9,8.1,5.31,5.31,0,0,0,1,6.5,5.31,5.31,0,0,0,4.9,4.9,5.31,5.31,0,0,0,6.5,1,5.31,5.31,0,0,0,8.1,4.9,5.31,5.31,0,0,0,12,6.5,5.46,5.46,0,0,0,6.5,12Z\"/>\n",
       "  </svg>\n",
       "    </button>\n",
       "    <script>\n",
       "      (() => {\n",
       "      const buttonEl =\n",
       "        document.querySelector('#id_3d190b80-5acc-473a-9655-6a19b9976e83 button.colab-df-generate');\n",
       "      buttonEl.style.display =\n",
       "        google.colab.kernel.accessAllowed ? 'block' : 'none';\n",
       "\n",
       "      buttonEl.onclick = () => {\n",
       "        google.colab.notebook.generateWithVariable('df_orig');\n",
       "      }\n",
       "      })();\n",
       "    </script>\n",
       "  </div>\n",
       "\n",
       "    </div>\n",
       "  </div>\n"
      ],
      "text/plain": [
       "         set lang       WER       CER    N\n",
       "3  test_orig   de  0.289631  0.112813  100\n",
       "2  test_orig   en  0.242458  0.118766  100\n",
       "1  test_orig   ja  0.891892  0.454854  100\n",
       "0  test_orig   ko  0.416555  0.162086  100"
      ]
     },
     "metadata": {},
     "output_type": "display_data"
    },
    {
     "name": "stdout",
     "output_type": "stream",
     "text": [
      "Saved -> /content/results_mix1p3_test_orig_ONLY.csv\n"
     ]
    }
   ],
   "source": [
    "# 8) 평가\n",
    "LANG_NAME = {\"ko\":\"korean\", \"ja\":\"japanese\", \"en\":\"english\", \"de\":\"german\"}\n",
    "wer_metric = load_metric(\"wer\")\n",
    "cer_metric = load_metric(\"cer\")\n",
    "\n",
    "def eval_on(ds_proc, trainer_obj, label, sample_k=10, show_samples=True):\n",
    "    rows = []\n",
    "    for lang in [\"ko\",\"ja\",\"en\",\"de\"]:\n",
    "        subset = ds_proc.filter(lambda x: x[\"locale\"] == lang)\n",
    "        if len(subset) == 0:\n",
    "            print(f\"[WARN] No samples for {lang} in {label}\")\n",
    "            rows.append({\"set\": label, \"lang\": lang, \"WER\": float(\"nan\"), \"CER\": float(\"nan\"), \"N\": 0})\n",
    "            continue\n",
    "\n",
    "        # 언어별 프롬프트 강제 (generate 시 사용)\n",
    "        forced_ids = processor.get_decoder_prompt_ids(language=LANG_NAME[lang], task=\"transcribe\")\n",
    "        trainer_obj.model.generation_config.forced_decoder_ids = forced_ids\n",
    "        trainer_obj.model.generation_config.max_length = 225\n",
    "\n",
    "        out = trainer_obj.predict(subset)  # predict_with_generate=True → 토큰 시퀀스 반환\n",
    "\n",
    "        # 예측/정답 디코딩\n",
    "        preds = tokenizer.batch_decode(out.predictions, skip_special_tokens=True)\n",
    "        label_ids = np.where(out.label_ids != -100, out.label_ids, tokenizer.pad_token_id)\n",
    "        refs  = tokenizer.batch_decode(label_ids, skip_special_tokens=True)\n",
    "\n",
    "        wer = wer_metric.compute(predictions=preds, references=refs)\n",
    "        cer = cer_metric.compute(predictions=preds, references=refs)\n",
    "        rows.append({\"set\": label, \"lang\": lang, \"WER\": wer, \"CER\": cer, \"N\": len(refs)})\n",
    "\n",
    "        if show_samples and sample_k > 0:\n",
    "            print(f\"\\n[{label}] {lang.upper()} samples (k={min(sample_k, len(refs))})\")\n",
    "            for i, (p, r) in enumerate(zip(preds, refs)):\n",
    "                if i >= sample_k: break\n",
    "                print(f\"#{i:02d} PRED: {p}\")\n",
    "                print(f\"     REF : {r}\")\n",
    "                print(\"---\")\n",
    "\n",
    "    return pd.DataFrame(rows).sort_values(\"lang\")\n",
    "\n",
    "print(f\"[CHECK] Evaluating on TEST set: size={len(proc_test_orig)} (val={len(proc_val_orig)})\")\n",
    "df_orig = eval_on(proc_test_orig, trainer_mix13, \"test_orig\", sample_k=10, show_samples=True)\n",
    "display(df_orig)\n",
    "df_orig.to_csv(\"/content/results_mix1p3_test_orig_ONLY.csv\", index=False)\n",
    "print(\"Saved -> /content/results_mix1p3_test_orig_ONLY.csv\")"
   ]
  },
  {
   "cell_type": "code",
   "execution_count": 12,
   "metadata": {
    "colab": {
     "base_uri": "https://localhost:8080/",
     "height": 507
    },
    "id": "WrH-EKRwVeHg",
    "outputId": "e8b30569-ffec-4067-de87-5f208f48d437"
   },
   "outputs": [
    {
     "data": {
      "image/png": "[encoded data removed]",
      "text/plain": [
       "<Figure size 700x500 with 1 Axes>"
      ]
     },
     "metadata": {},
     "output_type": "display_data"
    }
   ],
   "source": [
    "import matplotlib.pyplot as plt\n",
    "\n",
    "# 9) 시각화\n",
    "def bar_lang(df, label):\n",
    "    plt.figure(figsize=(7,5))\n",
    "    langs = [\"ko\",\"ja\",\"en\",\"de\"]\n",
    "    vals = []\n",
    "    for l in langs:\n",
    "        row = df[df[\"lang\"]==l]\n",
    "        vals.append(float(row[\"WER\"].values[0]) if len(row) else float(\"nan\"))\n",
    "    plt.bar([l.upper() for l in langs], vals)\n",
    "    plt.title(f\"WER - {label}\")\n",
    "    plt.ylabel(\"WER\")\n",
    "    plt.tight_layout()\n",
    "    plt.show()\n",
    "\n",
    "bar_lang(df_orig, \"Original Test (mix 1.3)\")"
   ]
  }
 ],
 "metadata": {
  "accelerator": "GPU",
  "colab": {
   "gpuType": "T4",
   "machine_shape": "hm",
   "provenance": []
  },
  "kernelspec": {
   "display_name": "Python 3",
   "name": "python3"
  },
  "language_info": {
   "name": "python"
  }
 },
 "nbformat": 4,
 "nbformat_minor": 0
}
