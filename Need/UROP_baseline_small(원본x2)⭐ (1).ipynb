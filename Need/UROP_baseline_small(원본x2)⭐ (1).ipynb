{
 "cells": [
  {
   "cell_type": "code",
   "execution_count": 1,
   "metadata": {
    "colab": {
     "base_uri": "https://localhost:8080/"
    },
    "id": "SPuUqM2aw3Zm",
    "outputId": "46a8ec1d-1333-4331-fbe2-b722ac044b99"
   },
   "outputs": [
    {
     "name": "stdout",
     "output_type": "stream",
     "text": [
      "\u001b[2K     \u001b[90m━━━━━━━━━━━━━━━━━━━━━━━━━━━━━━━━━━━━━━━━\u001b[0m \u001b[32m43.7/43.7 kB\u001b[0m \u001b[31m3.4 MB/s\u001b[0m eta \u001b[36m0:00:00\u001b[0m\n",
      "\u001b[2K   \u001b[90m━━━━━━━━━━━━━━━━━━━━━━━━━━━━━━━━━━━━━━━━\u001b[0m \u001b[32m527.3/527.3 kB\u001b[0m \u001b[31m21.4 MB/s\u001b[0m eta \u001b[36m0:00:00\u001b[0m\n",
      "\u001b[2K   \u001b[90m━━━━━━━━━━━━━━━━━━━━━━━━━━━━━━━━━━━━━━━━\u001b[0m \u001b[32m84.1/84.1 kB\u001b[0m \u001b[31m7.3 MB/s\u001b[0m eta \u001b[36m0:00:00\u001b[0m\n",
      "\u001b[2K   \u001b[90m━━━━━━━━━━━━━━━━━━━━━━━━━━━━━━━━━━━━━━━━\u001b[0m \u001b[32m9.5/9.5 MB\u001b[0m \u001b[31m28.2 MB/s\u001b[0m eta \u001b[36m0:00:00\u001b[0m\n",
      "\u001b[2K   \u001b[90m━━━━━━━━━━━━━━━━━━━━━━━━━━━━━━━━━━━━━━━━\u001b[0m \u001b[32m177.6/177.6 kB\u001b[0m \u001b[31m14.9 MB/s\u001b[0m eta \u001b[36m0:00:00\u001b[0m\n",
      "\u001b[2K   \u001b[90m━━━━━━━━━━━━━━━━━━━━━━━━━━━━━━━━━━━━━━━━\u001b[0m \u001b[32m3.1/3.1 MB\u001b[0m \u001b[31m85.6 MB/s\u001b[0m eta \u001b[36m0:00:00\u001b[0m\n",
      "\u001b[2K   \u001b[90m━━━━━━━━━━━━━━━━━━━━━━━━━━━━━━━━━━━━━━━━\u001b[0m \u001b[32m3.6/3.6 MB\u001b[0m \u001b[31m94.6 MB/s\u001b[0m eta \u001b[36m0:00:00\u001b[0m\n",
      "\u001b[?25h\u001b[31mERROR: pip's dependency resolver does not currently take into account all the packages that are installed. This behaviour is the source of the following dependency conflicts.\n",
      "gcsfs 2025.3.0 requires fsspec==2025.3.0, but you have fsspec 2024.6.1 which is incompatible.\u001b[0m\u001b[31m\n",
      "\u001b[2K   \u001b[90m━━━━━━━━━━━━━━━━━━━━━━━━━━━━━━━━━━━━━━━━\u001b[0m \u001b[32m193.6/193.6 kB\u001b[0m \u001b[31m8.4 MB/s\u001b[0m eta \u001b[36m0:00:00\u001b[0m\n",
      "\u001b[?25h\u001b[31mERROR: pip's dependency resolver does not currently take into account all the packages that are installed. This behaviour is the source of the following dependency conflicts.\n",
      "datasets 2.21.0 requires fsspec[http]<=2024.6.1,>=2023.1.0, but you have fsspec 2025.3.0 which is incompatible.\u001b[0m\u001b[31m\n",
      "\u001b[0mdatasets: 2.21.0\n",
      "evaluate: 0.4.5\n",
      "transformers: 4.44.2\n",
      "fsspec: 2025.3.0\n",
      "gcsfs: 2025.3.0\n",
      "python: 3.12.11 (main, Jun  4 2025, 08:56:18) [GCC 11.4.0]\n"
     ]
    }
   ],
   "source": [
    "# 핵심 패키지(스트리밍 호환 버전)\n",
    "!pip -q install \"datasets<3.0.0\" \"evaluate<0.5.0\" \"transformers>=4.38,<4.45\" \\\n",
    "                huggingface_hub torchaudio jiwer soundfile\n",
    "\n",
    "# fsspec/gcsfs 충돌 정리\n",
    "!pip -q install -U fsspec==2025.3.0 gcsfs\n",
    "\n",
    "import datasets, evaluate, transformers, fsspec, gcsfs, sys\n",
    "print(\"datasets:\", datasets.__version__)    # ← 2.x 여야 OK\n",
    "print(\"evaluate:\", evaluate.__version__)    # ← 0.4.x 권장\n",
    "print(\"transformers:\", transformers.__version__)\n",
    "print(\"fsspec:\", fsspec.__version__)\n",
    "print(\"gcsfs:\", gcsfs.__version__)\n",
    "print(\"python:\", sys.version)"
   ]
  },
  {
   "cell_type": "code",
   "execution_count": 2,
   "metadata": {
    "colab": {
     "base_uri": "https://localhost:8080/",
     "height": 17,
     "referenced_widgets": [
      "40e5a08521274701be83cfbfafd2efa9",
      "ffa3ba2111fd432aa2f1b422d6d39b04",
      "47190cbbad434da0b01d3ae4c75fb4e0",
      "fe806606628145a382bf4debde1b37dc",
      "215b62f1b91e4d8486e404d53436ff94",
      "a555b4298d3b405d958452d1df75c2b5",
      "4fb80c2aef6e4152bc74003ff12a8392",
      "e6bfb1950bf945129044d24a31c6e8e6",
      "ae2078c7cd904e7685ff642aa9ea7116",
      "4792fc4d3e4e4b88a3efb7c572816ed5",
      "1f9c9a1d352c4072abaec0a8e8838ec7",
      "0e2f83d48e04433f83fd2178bcd51178",
      "c07702c3fa5241aaa78e8e2e01e3ac8e",
      "b4ef181cbd914b16a85c62a79f3563c4",
      "ff0762b146d0424191ad45ea22de8870",
      "577786caaf8c4bf5983e66d3402e7a87",
      "baefb3ef1e684c14a675a53febc3f6ba",
      "0f59672e96974bdf8cb9a7ff625ce8ca",
      "0008a31d5b3a4e15995bbcabcf403e05",
      "dfbcb6096d4e416caf1d1d6b96a2e086"
     ]
    },
    "id": "ZXMP3Sj50jpk",
    "outputId": "bd5e05bb-d4a7-4427-feed-95c8d6125882"
   },
   "outputs": [
    {
     "data": {
      "application/vnd.jupyter.widget-view+json": {
       "model_id": "40e5a08521274701be83cfbfafd2efa9",
       "version_major": 2,
       "version_minor": 0
      },
      "text/plain": [
       "VBox(children=(HTML(value='<center> <img\\nsrc=https://huggingface.co/front/assets/huggingface_logo-noborder.sv…"
      ]
     },
     "metadata": {},
     "output_type": "display_data"
    }
   ],
   "source": [
    "from huggingface_hub import notebook_login\n",
    "notebook_login()"
   ]
  },
  {
   "cell_type": "code",
   "execution_count": 3,
   "metadata": {
    "colab": {
     "base_uri": "https://localhost:8080/"
    },
    "id": "FWC7iARa0oaz",
    "outputId": "a2078c84-99f4-400a-cebb-a7e6f15aaaff"
   },
   "outputs": [
    {
     "name": "stdout",
     "output_type": "stream",
     "text": [
      "Seed fixed to 42.\n"
     ]
    }
   ],
   "source": [
    "from datasets import load_dataset, Audio, Dataset, concatenate_datasets\n",
    "from transformers import (\n",
    "    WhisperProcessor, WhisperForConditionalGeneration,\n",
    "    Seq2SeqTrainingArguments, Seq2SeqTrainer, EarlyStoppingCallback\n",
    ")\n",
    "from dataclasses import dataclass\n",
    "from typing import Any, Dict, List, Union\n",
    "from evaluate import load as load_metric\n",
    "from IPython.display import display\n",
    "import pandas as pd\n",
    "import matplotlib.pyplot as plt\n",
    "\n",
    "import os, random, numpy as np, torch\n",
    "\n",
    "SEED = 42\n",
    "random.seed(SEED); np.random.seed(SEED); torch.manual_seed(SEED)\n",
    "if torch.cuda.is_available():\n",
    "    torch.cuda.manual_seed_all(SEED)\n",
    "os.environ[\"PYTHONHASHSEED\"] = str(SEED)\n",
    "torch.backends.cudnn.deterministic = True\n",
    "torch.backends.cudnn.benchmark = False\n",
    "print(\"Seed fixed to {}.\".format(SEED))"
   ]
  },
  {
   "cell_type": "code",
   "execution_count": 4,
   "metadata": {
    "colab": {
     "base_uri": "https://localhost:8080/",
     "height": 634,
     "referenced_widgets": [
      "d030f663ac21400dad81fd707d20b32d",
      "58bb4c280fbb4b0793ab43b10a2cf10f",
      "551295391c834c219a785cadcf539316",
      "16053c13fc624d35854e9009536667e0",
      "ea192f9aa96641e5b63c9a7c5b4bdbcb",
      "b6094f4c968a43ca9e9b4965ce252260",
      "0045eff4bb6a4d95b17a078b67cf0efd",
      "250daf2a309e47e7a63fa7a4912fc73d",
      "110a88ae127f4329a6134db6154d72b0",
      "0c099c7909014d2c99c15f420644bf17",
      "8bdf563da66642d5a631a6a38a2409c4",
      "712d9a0148154a9eaa719299a065006a",
      "ae7bf4d34bde45cf857f5e31f4bc821a",
      "90f25bc33b074f2bbb14b847b994cd46",
      "7b88f5dd0e4742069dff551f0977e8a5",
      "83c90da61ba145179865eb8578814336",
      "e5d124f7a08447d0b17de8d19a4246f6",
      "29cef7b51ed64abcb2be1bb9de332d7b",
      "4b70d6ad28374769b497a245d6fc0090",
      "0fb676da10ca43a9a222af331a1e0ad5",
      "944bbab3792144f59f07b6f9fec420c5",
      "925dbd8933ae4d0195dac034f4f3b216",
      "4db4ee83046645aca0aac3b2401a87a3",
      "498853f4d1cd4bcbaa2939169c339117",
      "c299fa6998834b21a1f2511d8798eeff",
      "fb72b0bb38ba496bb6a44772b7908c76",
      "237887791621410a9423816c25d92535",
      "00b4db65b14142da93d4ea2f706f885f",
      "2f18696976e54183a2f01e51f0b56d40",
      "284e44a6511548da81d2fb93bbc69a30",
      "25920fd265094a05a67f6feaf2c7d9f3",
      "44569423a15d46ae8d6f6b7c3b34187b",
      "9fc4a217a231414198b2cadc36fb9908",
      "d075fc4d5ad144899cfcfbb30f2ba27c",
      "d86cbe201ea44ee19b7484e787cd4e30",
      "670e7d5693334abb8f51dbb2b768819b",
      "e7baadf901a84bbd991d03ad9f658dbe",
      "8e9ced50f81848a5a24736e4abdea573",
      "e080e5843cb44d52a181183062065b49",
      "ad18707e20f34091af4bea34d6a85a99",
      "15dbb5df06d2404e815734003ffb5536",
      "def79e41a5074bc39b8f82f10121ab41",
      "15c782c32a284ae4b788c04942776ab5",
      "fb875b068a5a482aa8cf8718233d79c2"
     ]
    },
    "id": "CkliQleA0pHN",
    "outputId": "16e77144-1db9-45d7-f349-23c3a04d5302"
   },
   "outputs": [
    {
     "name": "stdout",
     "output_type": "stream",
     "text": [
      "✅ Loading ko...\n"
     ]
    },
    {
     "name": "stderr",
     "output_type": "stream",
     "text": [
      "/usr/local/lib/python3.12/dist-packages/huggingface_hub/utils/_auth.py:94: UserWarning: \n",
      "The secret `HF_TOKEN` does not exist in your Colab secrets.\n",
      "To authenticate with the Hugging Face Hub, create a token in your settings tab (https://huggingface.co/settings/tokens), set it as secret in your Google Colab and restart your session.\n",
      "You will be able to reuse this secret in all of your notebooks.\n",
      "Please note that authentication is recommended but still optional to access public models or datasets.\n",
      "  warnings.warn(\n"
     ]
    },
    {
     "data": {
      "application/vnd.jupyter.widget-view+json": {
       "model_id": "d030f663ac21400dad81fd707d20b32d",
       "version_major": 2,
       "version_minor": 0
      },
      "text/plain": [
       "Downloading builder script:   0%|          | 0.00/8.17k [00:00<?, ?B/s]"
      ]
     },
     "metadata": {},
     "output_type": "display_data"
    },
    {
     "data": {
      "application/vnd.jupyter.widget-view+json": {
       "model_id": "712d9a0148154a9eaa719299a065006a",
       "version_major": 2,
       "version_minor": 0
      },
      "text/plain": [
       "Downloading readme:   0%|          | 0.00/12.3k [00:00<?, ?B/s]"
      ]
     },
     "metadata": {},
     "output_type": "display_data"
    },
    {
     "data": {
      "application/vnd.jupyter.widget-view+json": {
       "model_id": "4db4ee83046645aca0aac3b2401a87a3",
       "version_major": 2,
       "version_minor": 0
      },
      "text/plain": [
       "Downloading extra modules:   0%|          | 0.00/3.74k [00:00<?, ?B/s]"
      ]
     },
     "metadata": {},
     "output_type": "display_data"
    },
    {
     "data": {
      "application/vnd.jupyter.widget-view+json": {
       "model_id": "d075fc4d5ad144899cfcfbb30f2ba27c",
       "version_major": 2,
       "version_minor": 0
      },
      "text/plain": [
       "Downloading extra modules:   0%|          | 0.00/77.3k [00:00<?, ?B/s]"
      ]
     },
     "metadata": {},
     "output_type": "display_data"
    },
    {
     "name": "stdout",
     "output_type": "stream",
     "text": [
      "The repository for mozilla-foundation/common_voice_16_1 contains custom code which must be executed to correctly load the dataset. You can inspect the repository content at https://hf.co/datasets/mozilla-foundation/common_voice_16_1.\n",
      "You can avoid this prompt in future by passing the argument `trust_remote_code=True`.\n",
      "\n",
      "Do you wish to run the custom code? [y/N] y\n"
     ]
    },
    {
     "name": "stderr",
     "output_type": "stream",
     "text": [
      "Reading metadata...: 401it [00:00, 1335.13it/s]\n",
      "Reading metadata...: 235it [00:00, 868.10it/s]\n",
      "Reading metadata...: 282it [00:00, 965.88it/s]\n"
     ]
    },
    {
     "name": "stdout",
     "output_type": "stream",
     "text": [
      "✅ Loading ja...\n"
     ]
    },
    {
     "name": "stderr",
     "output_type": "stream",
     "text": [
      "Reading metadata...: 9616it [00:00, 13929.85it/s]\n",
      "Reading metadata...: 6094it [00:00, 14347.94it/s]\n",
      "Reading metadata...: 6094it [00:00, 14455.10it/s]\n"
     ]
    },
    {
     "name": "stdout",
     "output_type": "stream",
     "text": [
      "✅ Loading en...\n"
     ]
    },
    {
     "name": "stderr",
     "output_type": "stream",
     "text": [
      "Reading metadata...: 1090061it [00:23, 46975.67it/s]\n",
      "Reading metadata...: 16390it [00:00, 21803.48it/s]\n",
      "Reading metadata...: 16390it [00:00, 34317.50it/s]\n"
     ]
    },
    {
     "name": "stdout",
     "output_type": "stream",
     "text": [
      "✅ Loading de...\n"
     ]
    },
    {
     "name": "stderr",
     "output_type": "stream",
     "text": [
      "Reading metadata...: 576207it [00:12, 47487.59it/s]\n",
      "Reading metadata...: 16173it [00:00, 21709.81it/s]\n",
      "Reading metadata...: 16173it [00:00, 28179.04it/s]\n"
     ]
    },
    {
     "name": "stdout",
     "output_type": "stream",
     "text": [
      "{'train': 1600, 'val': 400, 'test': 400}\n"
     ]
    }
   ],
   "source": [
    "# 2) 데이터 로드(Streaming -> in-memory)\n",
    "# 🔄 원본 2배: n_train을 400으로 증가\n",
    "n_train, n_val, n_test = 400, 100, 100\n",
    "langs = [\"ko\",\"ja\",\"en\",\"de\"]\n",
    "\n",
    "def take_valid(gen, n, lang_code):\n",
    "    out = []\n",
    "    for ex in gen:\n",
    "        if ex.get(\"audio\") is not None and ex.get(\"sentence\"):\n",
    "            ex = dict(ex)\n",
    "            ex[\"locale\"] = lang_code\n",
    "            out.append(ex)\n",
    "            if len(out) >= n:\n",
    "                break\n",
    "    return out\n",
    "\n",
    "train_data, val_data, test_data = [], [], []\n",
    "for lang in langs:\n",
    "    print(f\"✅ Loading {lang}...\")\n",
    "    ds_tr = load_dataset(\"mozilla-foundation/common_voice_16_1\", lang, split=\"train\",      streaming=True)\n",
    "    ds_va = load_dataset(\"mozilla-foundation/common_voice_16_1\", lang, split=\"validation\", streaming=True)\n",
    "    ds_te = load_dataset(\"mozilla-foundation/common_voice_16_1\", lang, split=\"test\",       streaming=True)\n",
    "    train_data += take_valid(ds_tr, n_train, lang)\n",
    "    val_data   += take_valid(ds_va, n_val,   lang)\n",
    "    test_data  += take_valid(ds_te, n_test,  lang)\n",
    "\n",
    "random.shuffle(train_data); random.shuffle(val_data); random.shuffle(test_data)\n",
    "train_dataset = Dataset.from_list(train_data)\n",
    "val_dataset   = Dataset.from_list(val_data)\n",
    "test_dataset  = Dataset.from_list(test_data)\n",
    "print({\"train\": len(train_dataset), \"val\": len(val_dataset), \"test\": len(test_dataset)})"
   ]
  },
  {
   "cell_type": "code",
   "execution_count": 5,
   "metadata": {
    "colab": {
     "base_uri": "https://localhost:8080/",
     "height": 386,
     "referenced_widgets": [
      "1775f43ec8c340c398ee2d73ad217e61",
      "54d7427cd1c24db1bf126ae0381335d6",
      "1342e76fd2cc42ea826e1d7150506210",
      "622e2ce37ae54bc89ccba0dab7d7ba1a",
      "dade215761cd4486b8ff5b7a607122c6",
      "3f8dd91a4e254313b99e3711638aa016",
      "f0321d20a84b449b8be8f5f7c87c74b3",
      "1ba4f44851d244398988b26598b00e01",
      "80776e58cbf84bf2be4c4cdddeae9d9d",
      "5cc622f9b83249deacfed8e7a394f92b",
      "e24544d65cc94441a6c4db5284db660c",
      "9046f66d0def47288fe29c59c0fa5b4b",
      "b19dca09288d483784701f7bd9a71e8c",
      "96e8abee8cd14aeab86640aa30c9150f",
      "b932dc2bbf594b3381e3fd118e3eb8f5",
      "19a2c9ebc82f4d57920ea1736cc3c198",
      "987b6e9953b5414f89f6472478513c5a",
      "af40d37088d24a5082763044be26f03c",
      "5af6b11883384f73895b760fc3d28c6b",
      "7fbee697ad8748be9bb578212faaf32e",
      "b692a8c6ff9543d6a87ee2f7f867a892",
      "80266e91559d41cdbcb7f63553e9de03",
      "03f2f68986ea46de9ecce04de282c92d",
      "016b924e4e9b4c739a52626a927d0421",
      "42050ea450644d8d9a6a30b1a86a17c3",
      "1bef76e097c14a3481434dea98244a3a",
      "1f4256d3beec41148985bd149883452f",
      "8b395ddbc6334772ae72bdb6ea2567f0",
      "1832693973bb4275bb67bd3542871986",
      "02871323412047a89a40aa3522e560ca",
      "2da4d1e8ce674ef0a19afd4dee1d0b62",
      "ec565ee4bd59454583d947ee938fac98",
      "8d77135147e14d64899454eda94625b8",
      "40069fd3e3b0409db27525c6e157f5b2",
      "4556d0dcda8245cd9995f1bfe78f4773",
      "e39fc744aa6d4538aeda2a7de25dcc6d",
      "64122fbee50b43c4acc43a6f3fdc545d",
      "6a84845b717f4d3392b10fad5a2dec20",
      "c23fb921fe3b4e38a807333a559fe1c0",
      "a83f451bdf8a478fa5d4795dc63f63ae",
      "f4102e1013604b73aef013177f83535b",
      "5b4d7304ba65417da9f821050e27671e",
      "e8771088a6e24fc8b5730a1e0ff71e16",
      "891f0ca79fb34897966ab6b990e9e282",
      "69eda23063ec463285690fa348742062",
      "8fa0964f147c4940b345396b8a72d628",
      "356b187b44724bb393c5c498834f6356",
      "3e201fcee0ff4d57a1c9108d4287369a",
      "39082158066b4bad8ce4d7a1eaa7040b",
      "badfec467a634131b4a5952a53d111a5",
      "c4444bc2af774f2883dbbc618dcaaacb",
      "c4ee14e0f8814c9d8305ce5af190b1f6",
      "d6e8d7d4f89149a3835f67aaa84760fb",
      "a52d723fbe314064a9bc58bfa3d340af",
      "4309b8f72d2f4cc69282d74aeb20e5ee",
      "1705e70eb8b14bcfbda5645d69909984",
      "44b7f135dd464aec93b1627893333e33",
      "96d51d8c11fd4fcaa50304cb7e8980ad",
      "b710fb4f48d44184868458c19eaf2701",
      "0cee0593b78a406e8fb2c7bc2a361cb2",
      "ded9fbe259534bd584ea7ae3b44d5949",
      "9e055bd4985947aa8379ed8c9cfc2e41",
      "dac3a4ab33a74d3b889d2a982aadf142",
      "a0acf620077b43fd9db9bc8bafcd65b8",
      "03dfbe1158aa4871b9c4737520800d66",
      "eff3d5786a6e4b2da1224444ce1e9ca6",
      "f52b9778c523430a85937420ae1bb6c9",
      "0efe567c201b46599eae011e1e92b27a",
      "d5880018ae4f4546b74b3fd247ce9a0a",
      "9dd0ff764906496b881903c148ad67b1",
      "c396ecc495684a81a5dbae9773462b74",
      "d281e4aee1f049048801b3c7008d40c4",
      "e2f87637f3424f49807c9797a6b1cd1f",
      "5d12f7c9b8da42ee9e9fa493c91b06b2",
      "4d4985e32fcf4e3f870a8e2f6771bfb4",
      "17e9a962c430430f92614b8082e57054",
      "bdc0405769c2430da6960f404383ec66",
      "aa572c3ac5694b72bc4a3a819bc71916",
      "6b250d3d76274404a25cd3923d5dd1af",
      "97dd8cb5b4434e4e9e2e09a6c86b743d",
      "3e96017c631a4beeab944d47af7efa9d",
      "adb077afea5c404ca0697226b4165e6c",
      "f59b402dafff463f9a40db931d88684a",
      "c4a9ad6e8693436a950c0f9883ad8648",
      "64e509061a0446069442b46552b1a354",
      "78cd08d6153943fc99bb65e2f76c7f56",
      "b0192132aa824c60975cf622e4fa261b",
      "24b7ff9dee8f4b7b8c84a91a8eee8a5c",
      "3f94508e5e5e48088c548ab55831ec7d",
      "b8afa80282e74a36a02c7a8aff4909eb",
      "fb5dacc7c4c1446b919872399276faaf",
      "929a510d83ab432a9b91b373a9c30488",
      "96c4002632134a06b19213a0e7b413bf",
      "36fa8620f3d047c6b074591c644c6eb7",
      "c272430c27164004a8000a289ed58bcb",
      "92bd2f62f96c4671a10f5b6308e124c3",
      "a73c840916694c49a842a7ec65f1548d",
      "abc10d5553114a51ba9f420ad37be498",
      "f6b8e80f8f19413e8423034fd10783c6",
      "0c49efc4711e44c7ba5110e415d59d46",
      "7524e3f2df6e42cabe3cbba0151f3a0a",
      "ed63f361c599423cbecec57b0f98e224",
      "c2679e7439fc471da1d9368f6506c837",
      "d857baa2b8914bc8bbe473bb9f4bdb41",
      "480edfe2b9c245409078bd273717218c",
      "71c1e4b60f4e43018510275a6d05589c",
      "a0fdbf62ce4543909285dafb8231d54b",
      "d20ef5faeb894f24a50dfd8b6106cce5",
      "4037fe91c8b84755be3dc5a3b5132a46",
      "74dccfb4f8014c66a6c1d87bee19e0cc",
      "e2443bf761964d61871484c4320290db",
      "1a32cb6a2327495184895d9cf1f44274",
      "3e708dc315464336831dd490cb7c59dc",
      "1089e7d67c3747a28310ac6127b10416",
      "cc978df1b64c47afb9c70431229ad64a",
      "e88b4828d9224389b23603f8ca5d7ed8",
      "55f91ce48fdc41e9a6d6db5e721d5aaa",
      "aad18aa4137d4b75ba8cb0b3f55457cf",
      "8413abda15f4448ab0a8e7ce949772a4",
      "a69a3398c64d48068e0801361a62c957",
      "29190df2e1d0417d81670ba938f03ac4"
     ]
    },
    "id": "GlDk4dlz0tnv",
    "outputId": "db80291a-3942-49ad-ca45-a0ce01520d2c"
   },
   "outputs": [
    {
     "data": {
      "application/vnd.jupyter.widget-view+json": {
       "model_id": "1775f43ec8c340c398ee2d73ad217e61",
       "version_major": 2,
       "version_minor": 0
      },
      "text/plain": [
       "preprocessor_config.json: 0.00B [00:00, ?B/s]"
      ]
     },
     "metadata": {},
     "output_type": "display_data"
    },
    {
     "data": {
      "application/vnd.jupyter.widget-view+json": {
       "model_id": "9046f66d0def47288fe29c59c0fa5b4b",
       "version_major": 2,
       "version_minor": 0
      },
      "text/plain": [
       "tokenizer_config.json: 0.00B [00:00, ?B/s]"
      ]
     },
     "metadata": {},
     "output_type": "display_data"
    },
    {
     "data": {
      "application/vnd.jupyter.widget-view+json": {
       "model_id": "03f2f68986ea46de9ecce04de282c92d",
       "version_major": 2,
       "version_minor": 0
      },
      "text/plain": [
       "vocab.json: 0.00B [00:00, ?B/s]"
      ]
     },
     "metadata": {},
     "output_type": "display_data"
    },
    {
     "data": {
      "application/vnd.jupyter.widget-view+json": {
       "model_id": "40069fd3e3b0409db27525c6e157f5b2",
       "version_major": 2,
       "version_minor": 0
      },
      "text/plain": [
       "tokenizer.json: 0.00B [00:00, ?B/s]"
      ]
     },
     "metadata": {},
     "output_type": "display_data"
    },
    {
     "data": {
      "application/vnd.jupyter.widget-view+json": {
       "model_id": "69eda23063ec463285690fa348742062",
       "version_major": 2,
       "version_minor": 0
      },
      "text/plain": [
       "merges.txt: 0.00B [00:00, ?B/s]"
      ]
     },
     "metadata": {},
     "output_type": "display_data"
    },
    {
     "data": {
      "application/vnd.jupyter.widget-view+json": {
       "model_id": "1705e70eb8b14bcfbda5645d69909984",
       "version_major": 2,
       "version_minor": 0
      },
      "text/plain": [
       "normalizer.json: 0.00B [00:00, ?B/s]"
      ]
     },
     "metadata": {},
     "output_type": "display_data"
    },
    {
     "data": {
      "application/vnd.jupyter.widget-view+json": {
       "model_id": "f52b9778c523430a85937420ae1bb6c9",
       "version_major": 2,
       "version_minor": 0
      },
      "text/plain": [
       "added_tokens.json: 0.00B [00:00, ?B/s]"
      ]
     },
     "metadata": {},
     "output_type": "display_data"
    },
    {
     "data": {
      "application/vnd.jupyter.widget-view+json": {
       "model_id": "aa572c3ac5694b72bc4a3a819bc71916",
       "version_major": 2,
       "version_minor": 0
      },
      "text/plain": [
       "special_tokens_map.json: 0.00B [00:00, ?B/s]"
      ]
     },
     "metadata": {},
     "output_type": "display_data"
    },
    {
     "data": {
      "application/vnd.jupyter.widget-view+json": {
       "model_id": "3f94508e5e5e48088c548ab55831ec7d",
       "version_major": 2,
       "version_minor": 0
      },
      "text/plain": [
       "Map:   0%|          | 0/1600 [00:00<?, ? examples/s]"
      ]
     },
     "metadata": {},
     "output_type": "display_data"
    },
    {
     "data": {
      "application/vnd.jupyter.widget-view+json": {
       "model_id": "0c49efc4711e44c7ba5110e415d59d46",
       "version_major": 2,
       "version_minor": 0
      },
      "text/plain": [
       "Map:   0%|          | 0/400 [00:00<?, ? examples/s]"
      ]
     },
     "metadata": {},
     "output_type": "display_data"
    },
    {
     "data": {
      "application/vnd.jupyter.widget-view+json": {
       "model_id": "e2443bf761964d61871484c4320290db",
       "version_major": 2,
       "version_minor": 0
      },
      "text/plain": [
       "Map:   0%|          | 0/400 [00:00<?, ? examples/s]"
      ]
     },
     "metadata": {},
     "output_type": "display_data"
    },
    {
     "name": "stdout",
     "output_type": "stream",
     "text": [
      "Device: cuda | Seed: 42\n"
     ]
    }
   ],
   "source": [
    "# 3) 전처리\n",
    "TARGET_SR = 16000\n",
    "model_checkpoint = \"openai/whisper-small\"\n",
    "\n",
    "processor = WhisperProcessor.from_pretrained(model_checkpoint)\n",
    "feature_extractor = processor.feature_extractor\n",
    "tokenizer = processor.tokenizer\n",
    "\n",
    "train_dataset = train_dataset.cast_column(\"audio\", Audio(sampling_rate=TARGET_SR))\n",
    "val_dataset   = val_dataset.cast_column(\"audio\",   Audio(sampling_rate=TARGET_SR))\n",
    "test_dataset  = test_dataset.cast_column(\"audio\",  Audio(sampling_rate=TARGET_SR))\n",
    "\n",
    "def prepare_dataset(example):\n",
    "    a = example[\"audio\"]\n",
    "    example[\"input_features\"] = feature_extractor(a[\"array\"], sampling_rate=TARGET_SR).input_features[0]\n",
    "    example[\"labels\"] = tokenizer(example[\"sentence\"]).input_ids\n",
    "    return example\n",
    "\n",
    "keep_cols = {\"input_features\",\"labels\",\"locale\"}\n",
    "proc_train_orig = train_dataset.map(prepare_dataset, remove_columns=[c for c in train_dataset.column_names if c not in keep_cols])\n",
    "proc_val_orig   = val_dataset.map(  prepare_dataset, remove_columns=[c for c in val_dataset.column_names   if c not in keep_cols])\n",
    "proc_test_orig  = test_dataset.map( prepare_dataset, remove_columns=[c for c in test_dataset.column_names  if c not in keep_cols])\n",
    "\n",
    "for ds_ in (proc_train_orig, proc_val_orig, proc_test_orig):\n",
    "    ds_.set_format(columns=list(keep_cols))\n",
    "\n",
    "device = \"cuda\" if torch.cuda.is_available() else \"cpu\"\n",
    "print(\"Device:\", device, \"| Seed:\", SEED)"
   ]
  },
  {
   "cell_type": "code",
   "execution_count": 6,
   "metadata": {
    "colab": {
     "base_uri": "https://localhost:8080/",
     "height": 113,
     "referenced_widgets": [
      "b370276e568140159c5fcecf98c808ac",
      "1ba73d36b53c4c51919b1f83351e70ba",
      "0fb8df00097e45dcbe168a56be78880a",
      "d6ef0ad69a5647b3ad2da03f13b35bdd",
      "c1839155b3b64b83932d316f1f0ac55d",
      "b043bee44fb340b1aa4f19b0ed4bfae7",
      "175c3b152fef4b02bf997224261c60d9",
      "4dcd0d07aa954e5b8bd88c00e89713e9",
      "4ee6593300964f20877089379678baca",
      "e4b8450cac2c4f0992d6b9bca831fe92",
      "1f72fe66c2ee4f0ab525a260fec01a8a",
      "b2078e1458ca47c095735b16a085f184",
      "e39d29cc2ec34259959bf12fe74c0786",
      "6cffa906fb1445e9913de6e216f841fc",
      "445dbcaa48d64ed8bca47633f723b9b2",
      "6b7951a80e0e4c4b8c9d68505ca6828a",
      "6eee1910830d4933810d5b991ef819d7",
      "ec96f742de9847229811bcb26aa5efb5",
      "65ab9785f9b24bbfa84c8ab18cdef292",
      "1183a00aa1cb4ef3b953de4f2aa07403",
      "c83cba754e394805bbe941c3c61ff4ec",
      "3d85dbc41efc4ac6b82873e736998359",
      "e92d589f4dfc4f839e948674e61f021b",
      "1933abbd290b4a5cb59587c13bb7d46f",
      "d5246bf459ff42c491fec4c79bc24c8c",
      "e55712d8770d4e5c8dc25af7e70b4b94",
      "462dd76ad8aa46de973a082ae7d0b74c",
      "b618196052c640f2a0a29be87958eaa3",
      "b5e6bf527cdb4e94a7934a2bf800b514",
      "f7c02aba46f049248687aebd50702563",
      "acf59d9e6be5475eb72cc3aac12a5164",
      "d86f94ab5e2f40f6904101a68bb76a6f",
      "6aca2b3bb97541c583fec9896de767b2"
     ]
    },
    "id": "ysFzbuf40uG5",
    "outputId": "415a35b7-5595-4109-fb30-91d028588e64"
   },
   "outputs": [
    {
     "data": {
      "application/vnd.jupyter.widget-view+json": {
       "model_id": "b370276e568140159c5fcecf98c808ac",
       "version_major": 2,
       "version_minor": 0
      },
      "text/plain": [
       "config.json: 0.00B [00:00, ?B/s]"
      ]
     },
     "metadata": {},
     "output_type": "display_data"
    },
    {
     "data": {
      "application/vnd.jupyter.widget-view+json": {
       "model_id": "b2078e1458ca47c095735b16a085f184",
       "version_major": 2,
       "version_minor": 0
      },
      "text/plain": [
       "model.safetensors:   0%|          | 0.00/967M [00:00<?, ?B/s]"
      ]
     },
     "metadata": {},
     "output_type": "display_data"
    },
    {
     "data": {
      "application/vnd.jupyter.widget-view+json": {
       "model_id": "e92d589f4dfc4f839e948674e61f021b",
       "version_major": 2,
       "version_minor": 0
      },
      "text/plain": [
       "generation_config.json: 0.00B [00:00, ?B/s]"
      ]
     },
     "metadata": {},
     "output_type": "display_data"
    }
   ],
   "source": [
    "# 4) 모델 로딩 & Whisper generate() 안전 세팅\n",
    "model = WhisperForConditionalGeneration.from_pretrained(model_checkpoint).to(device)\n",
    "\n",
    "# pad/eos/start/forced 프롬프트 확정\n",
    "tok = processor.tokenizer\n",
    "if tok.pad_token_id is None:\n",
    "    tok.pad_token = tok.eos_token\n",
    "\n",
    "start_id = tok.convert_tokens_to_ids(\"<|startoftranscript|>\")\n",
    "if start_id is None:\n",
    "    start_id = processor.get_decoder_prompt_ids(language=\"english\", task=\"transcribe\")[0][1]\n",
    "\n",
    "forced_ids_en = processor.get_decoder_prompt_ids(language=\"english\", task=\"transcribe\")\n",
    "\n",
    "for cfg in (model.config, model.generation_config):\n",
    "    cfg.pad_token_id = tok.pad_token_id\n",
    "    cfg.eos_token_id = tok.eos_token_id\n",
    "    cfg.decoder_start_token_id = start_id\n",
    "    cfg.forced_decoder_ids = forced_ids_en\n",
    "\n",
    "model.config.use_cache = False\n",
    "model.config.suppress_tokens = []\n",
    "\n",
    "# 5) Collator: 라벨 패딩 & decoder_input_ids 생성(우리가 명시 제공)\n",
    "@dataclass\n",
    "class DataCollatorSpeechSeq2SeqWithPadding:\n",
    "    processor: Any\n",
    "    padding: Union[bool, str] = True\n",
    "    def __call__(self, features: List[Dict[str, Union[List[int], torch.Tensor]]]) -> Dict[str, torch.Tensor]:\n",
    "        # 입력 피처\n",
    "        input_features = [{\"input_features\": f[\"input_features\"]} for f in features]\n",
    "        batch = self.processor.feature_extractor.pad(input_features, return_tensors=\"pt\")\n",
    "\n",
    "        # 라벨 패딩 + -100 마스킹\n",
    "        label_features = [{\"input_ids\": f[\"labels\"]} for f in features]\n",
    "        labels_batch = self.processor.tokenizer.pad(label_features, return_tensors=\"pt\")\n",
    "        labels = labels_batch[\"input_ids\"].masked_fill(labels_batch.attention_mask.ne(1), -100)\n",
    "        batch[\"labels\"] = labels.contiguous()\n",
    "\n",
    "        # decoder_input_ids (right-shift with <|startoftranscript|>)\n",
    "        tok = self.processor.tokenizer\n",
    "        start_id = tok.convert_tokens_to_ids(\"<|startoftranscript|>\")\n",
    "        if start_id is None:\n",
    "            start_id = self.processor.get_decoder_prompt_ids(language=\"english\", task=\"transcribe\")[0][1]\n",
    "        pad_id = tok.pad_token_id\n",
    "\n",
    "        labels_clean = labels.clone()\n",
    "        labels_clean[labels_clean == -100] = pad_id\n",
    "\n",
    "        dec_inp = torch.full_like(labels_clean, fill_value=pad_id)\n",
    "        dec_inp[:, 0] = start_id\n",
    "        dec_inp[:, 1:] = labels_clean[:, :-1]\n",
    "\n",
    "        batch[\"decoder_input_ids\"] = dec_inp.contiguous()\n",
    "        batch[\"decoder_attention_mask\"] = (dec_inp != pad_id).long()\n",
    "        batch[\"input_features\"] = batch[\"input_features\"].contiguous()\n",
    "        return batch\n",
    "\n",
    "data_collator = DataCollatorSpeechSeq2SeqWithPadding(processor=processor)"
   ]
  },
  {
   "cell_type": "code",
   "execution_count": 7,
   "metadata": {
    "colab": {
     "base_uri": "https://localhost:8080/"
    },
    "id": "Z7RXJNDfK9xq",
    "outputId": "74f52862-a67c-4a56-8e07-ec4bdb863f6b"
   },
   "outputs": [
    {
     "name": "stdout",
     "output_type": "stream",
     "text": [
      "Reading package lists... Done\n",
      "Building dependency tree... Done\n",
      "Reading state information... Done\n",
      "The following additional packages will be installed:\n",
      "  libao-common libao4 libid3tag0 libmad0 libopencore-amrnb0 libopencore-amrwb0\n",
      "  libsox-fmt-alsa libsox-fmt-ao libsox-fmt-base libsox-fmt-mp3 libsox-fmt-oss\n",
      "  libsox-fmt-pulse libsox3 libwavpack1\n",
      "Suggested packages:\n",
      "  libaudio2 libsndio6.1\n",
      "The following NEW packages will be installed:\n",
      "  libao-common libao4 libid3tag0 libmad0 libopencore-amrnb0 libopencore-amrwb0\n",
      "  libsox-dev libsox-fmt-all libsox-fmt-alsa libsox-fmt-ao libsox-fmt-base\n",
      "  libsox-fmt-mp3 libsox-fmt-oss libsox-fmt-pulse libsox3 libwavpack1 sox\n",
      "0 upgraded, 17 newly installed, 0 to remove and 35 not upgraded.\n",
      "Need to get 1,157 kB of archives.\n",
      "After this operation, 4,262 kB of additional disk space will be used.\n",
      "Get:1 http://archive.ubuntu.com/ubuntu jammy/main amd64 libao-common all 1.2.2+20180113-1.1ubuntu3 [6,568 B]\n",
      "Get:2 http://archive.ubuntu.com/ubuntu jammy/main amd64 libao4 amd64 1.2.2+20180113-1.1ubuntu3 [35.2 kB]\n",
      "Get:3 http://archive.ubuntu.com/ubuntu jammy/universe amd64 libid3tag0 amd64 0.15.1b-14 [31.3 kB]\n",
      "Get:4 http://archive.ubuntu.com/ubuntu jammy/universe amd64 libmad0 amd64 0.15.1b-10ubuntu1 [63.1 kB]\n",
      "Get:5 http://archive.ubuntu.com/ubuntu jammy/universe amd64 libopencore-amrnb0 amd64 0.1.5-1 [94.8 kB]\n",
      "Get:6 http://archive.ubuntu.com/ubuntu jammy/universe amd64 libopencore-amrwb0 amd64 0.1.5-1 [49.1 kB]\n",
      "Get:7 http://archive.ubuntu.com/ubuntu jammy-updates/universe amd64 libsox3 amd64 14.4.2+git20190427-2+deb11u2ubuntu0.22.04.1 [240 kB]\n",
      "Get:8 http://archive.ubuntu.com/ubuntu jammy-updates/universe amd64 libsox-fmt-alsa amd64 14.4.2+git20190427-2+deb11u2ubuntu0.22.04.1 [11.2 kB]\n",
      "Get:9 http://archive.ubuntu.com/ubuntu jammy-updates/universe amd64 libsox-fmt-ao amd64 14.4.2+git20190427-2+deb11u2ubuntu0.22.04.1 [7,740 B]\n",
      "Get:10 http://archive.ubuntu.com/ubuntu jammy/main amd64 libwavpack1 amd64 5.4.0-1build2 [83.7 kB]\n",
      "Get:11 http://archive.ubuntu.com/ubuntu jammy-updates/universe amd64 libsox-fmt-base amd64 14.4.2+git20190427-2+deb11u2ubuntu0.22.04.1 [33.7 kB]\n",
      "Get:12 http://archive.ubuntu.com/ubuntu jammy-updates/universe amd64 libsox-fmt-mp3 amd64 14.4.2+git20190427-2+deb11u2ubuntu0.22.04.1 [17.3 kB]\n",
      "Get:13 http://archive.ubuntu.com/ubuntu jammy-updates/universe amd64 libsox-fmt-oss amd64 14.4.2+git20190427-2+deb11u2ubuntu0.22.04.1 [9,424 B]\n",
      "Get:14 http://archive.ubuntu.com/ubuntu jammy-updates/universe amd64 libsox-fmt-pulse amd64 14.4.2+git20190427-2+deb11u2ubuntu0.22.04.1 [7,732 B]\n",
      "Get:15 http://archive.ubuntu.com/ubuntu jammy-updates/universe amd64 libsox-fmt-all amd64 14.4.2+git20190427-2+deb11u2ubuntu0.22.04.1 [5,016 B]\n",
      "Get:16 http://archive.ubuntu.com/ubuntu jammy-updates/universe amd64 libsox-dev amd64 14.4.2+git20190427-2+deb11u2ubuntu0.22.04.1 [356 kB]\n",
      "Get:17 http://archive.ubuntu.com/ubuntu jammy-updates/universe amd64 sox amd64 14.4.2+git20190427-2+deb11u2ubuntu0.22.04.1 [104 kB]\n",
      "Fetched 1,157 kB in 1s (1,518 kB/s)\n",
      "Selecting previously unselected package libao-common.\n",
      "(Reading database ... 126371 files and directories currently installed.)\n",
      "Preparing to unpack .../00-libao-common_1.2.2+20180113-1.1ubuntu3_all.deb ...\n",
      "Unpacking libao-common (1.2.2+20180113-1.1ubuntu3) ...\n",
      "Selecting previously unselected package libao4:amd64.\n",
      "Preparing to unpack .../01-libao4_1.2.2+20180113-1.1ubuntu3_amd64.deb ...\n",
      "Unpacking libao4:amd64 (1.2.2+20180113-1.1ubuntu3) ...\n",
      "Selecting previously unselected package libid3tag0:amd64.\n",
      "Preparing to unpack .../02-libid3tag0_0.15.1b-14_amd64.deb ...\n",
      "Unpacking libid3tag0:amd64 (0.15.1b-14) ...\n",
      "Selecting previously unselected package libmad0:amd64.\n",
      "Preparing to unpack .../03-libmad0_0.15.1b-10ubuntu1_amd64.deb ...\n",
      "Unpacking libmad0:amd64 (0.15.1b-10ubuntu1) ...\n",
      "Selecting previously unselected package libopencore-amrnb0:amd64.\n",
      "Preparing to unpack .../04-libopencore-amrnb0_0.1.5-1_amd64.deb ...\n",
      "Unpacking libopencore-amrnb0:amd64 (0.1.5-1) ...\n",
      "Selecting previously unselected package libopencore-amrwb0:amd64.\n",
      "Preparing to unpack .../05-libopencore-amrwb0_0.1.5-1_amd64.deb ...\n",
      "Unpacking libopencore-amrwb0:amd64 (0.1.5-1) ...\n",
      "Selecting previously unselected package libsox3:amd64.\n",
      "Preparing to unpack .../06-libsox3_14.4.2+git20190427-2+deb11u2ubuntu0.22.04.1_amd64.deb ...\n",
      "Unpacking libsox3:amd64 (14.4.2+git20190427-2+deb11u2ubuntu0.22.04.1) ...\n",
      "Selecting previously unselected package libsox-fmt-alsa:amd64.\n",
      "Preparing to unpack .../07-libsox-fmt-alsa_14.4.2+git20190427-2+deb11u2ubuntu0.22.04.1_amd64.deb ...\n",
      "Unpacking libsox-fmt-alsa:amd64 (14.4.2+git20190427-2+deb11u2ubuntu0.22.04.1) ...\n",
      "Selecting previously unselected package libsox-fmt-ao:amd64.\n",
      "Preparing to unpack .../08-libsox-fmt-ao_14.4.2+git20190427-2+deb11u2ubuntu0.22.04.1_amd64.deb ...\n",
      "Unpacking libsox-fmt-ao:amd64 (14.4.2+git20190427-2+deb11u2ubuntu0.22.04.1) ...\n",
      "Selecting previously unselected package libwavpack1:amd64.\n",
      "Preparing to unpack .../09-libwavpack1_5.4.0-1build2_amd64.deb ...\n",
      "Unpacking libwavpack1:amd64 (5.4.0-1build2) ...\n",
      "Selecting previously unselected package libsox-fmt-base:amd64.\n",
      "Preparing to unpack .../10-libsox-fmt-base_14.4.2+git20190427-2+deb11u2ubuntu0.22.04.1_amd64.deb ...\n",
      "Unpacking libsox-fmt-base:amd64 (14.4.2+git20190427-2+deb11u2ubuntu0.22.04.1) ...\n",
      "Selecting previously unselected package libsox-fmt-mp3:amd64.\n",
      "Preparing to unpack .../11-libsox-fmt-mp3_14.4.2+git20190427-2+deb11u2ubuntu0.22.04.1_amd64.deb ...\n",
      "Unpacking libsox-fmt-mp3:amd64 (14.4.2+git20190427-2+deb11u2ubuntu0.22.04.1) ...\n",
      "Selecting previously unselected package libsox-fmt-oss:amd64.\n",
      "Preparing to unpack .../12-libsox-fmt-oss_14.4.2+git20190427-2+deb11u2ubuntu0.22.04.1_amd64.deb ...\n",
      "Unpacking libsox-fmt-oss:amd64 (14.4.2+git20190427-2+deb11u2ubuntu0.22.04.1) ...\n",
      "Selecting previously unselected package libsox-fmt-pulse:amd64.\n",
      "Preparing to unpack .../13-libsox-fmt-pulse_14.4.2+git20190427-2+deb11u2ubuntu0.22.04.1_amd64.deb ...\n",
      "Unpacking libsox-fmt-pulse:amd64 (14.4.2+git20190427-2+deb11u2ubuntu0.22.04.1) ...\n",
      "Selecting previously unselected package libsox-fmt-all:amd64.\n",
      "Preparing to unpack .../14-libsox-fmt-all_14.4.2+git20190427-2+deb11u2ubuntu0.22.04.1_amd64.deb ...\n",
      "Unpacking libsox-fmt-all:amd64 (14.4.2+git20190427-2+deb11u2ubuntu0.22.04.1) ...\n",
      "Selecting previously unselected package libsox-dev:amd64.\n",
      "Preparing to unpack .../15-libsox-dev_14.4.2+git20190427-2+deb11u2ubuntu0.22.04.1_amd64.deb ...\n",
      "Unpacking libsox-dev:amd64 (14.4.2+git20190427-2+deb11u2ubuntu0.22.04.1) ...\n",
      "Selecting previously unselected package sox.\n",
      "Preparing to unpack .../16-sox_14.4.2+git20190427-2+deb11u2ubuntu0.22.04.1_amd64.deb ...\n",
      "Unpacking sox (14.4.2+git20190427-2+deb11u2ubuntu0.22.04.1) ...\n",
      "Setting up libsox3:amd64 (14.4.2+git20190427-2+deb11u2ubuntu0.22.04.1) ...\n",
      "Setting up libsox-fmt-oss:amd64 (14.4.2+git20190427-2+deb11u2ubuntu0.22.04.1) ...\n",
      "Setting up libao-common (1.2.2+20180113-1.1ubuntu3) ...\n",
      "Setting up libid3tag0:amd64 (0.15.1b-14) ...\n",
      "Setting up libopencore-amrwb0:amd64 (0.1.5-1) ...\n",
      "Setting up libsox-fmt-alsa:amd64 (14.4.2+git20190427-2+deb11u2ubuntu0.22.04.1) ...\n",
      "Setting up libao4:amd64 (1.2.2+20180113-1.1ubuntu3) ...\n",
      "Setting up libmad0:amd64 (0.15.1b-10ubuntu1) ...\n",
      "Setting up libwavpack1:amd64 (5.4.0-1build2) ...\n",
      "Setting up libopencore-amrnb0:amd64 (0.1.5-1) ...\n",
      "Setting up libsox-fmt-base:amd64 (14.4.2+git20190427-2+deb11u2ubuntu0.22.04.1) ...\n",
      "Setting up libsox-fmt-ao:amd64 (14.4.2+git20190427-2+deb11u2ubuntu0.22.04.1) ...\n",
      "Setting up libsox-fmt-mp3:amd64 (14.4.2+git20190427-2+deb11u2ubuntu0.22.04.1) ...\n",
      "Setting up libsox-fmt-pulse:amd64 (14.4.2+git20190427-2+deb11u2ubuntu0.22.04.1) ...\n",
      "Setting up sox (14.4.2+git20190427-2+deb11u2ubuntu0.22.04.1) ...\n",
      "Setting up libsox-fmt-all:amd64 (14.4.2+git20190427-2+deb11u2ubuntu0.22.04.1) ...\n",
      "Setting up libsox-dev:amd64 (14.4.2+git20190427-2+deb11u2ubuntu0.22.04.1) ...\n",
      "Processing triggers for libc-bin (2.35-0ubuntu3.8) ...\n",
      "/sbin/ldconfig.real: /usr/local/lib/libtbbbind_2_5.so.3 is not a symbolic link\n",
      "\n",
      "/sbin/ldconfig.real: /usr/local/lib/libtbbmalloc_proxy.so.2 is not a symbolic link\n",
      "\n",
      "/sbin/ldconfig.real: /usr/local/lib/libur_adapter_opencl.so.0 is not a symbolic link\n",
      "\n",
      "/sbin/ldconfig.real: /usr/local/lib/libtbbbind.so.3 is not a symbolic link\n",
      "\n",
      "/sbin/ldconfig.real: /usr/local/lib/libtbb.so.12 is not a symbolic link\n",
      "\n",
      "/sbin/ldconfig.real: /usr/local/lib/libumf.so.0 is not a symbolic link\n",
      "\n",
      "/sbin/ldconfig.real: /usr/local/lib/libtbbbind_2_0.so.3 is not a symbolic link\n",
      "\n",
      "/sbin/ldconfig.real: /usr/local/lib/libtcm.so.1 is not a symbolic link\n",
      "\n",
      "/sbin/ldconfig.real: /usr/local/lib/libur_adapter_level_zero_v2.so.0 is not a symbolic link\n",
      "\n",
      "/sbin/ldconfig.real: /usr/local/lib/libtbbmalloc.so.2 is not a symbolic link\n",
      "\n",
      "/sbin/ldconfig.real: /usr/local/lib/libhwloc.so.15 is not a symbolic link\n",
      "\n",
      "/sbin/ldconfig.real: /usr/local/lib/libtcm_debug.so.1 is not a symbolic link\n",
      "\n",
      "/sbin/ldconfig.real: /usr/local/lib/libur_adapter_level_zero.so.0 is not a symbolic link\n",
      "\n",
      "/sbin/ldconfig.real: /usr/local/lib/libur_loader.so.0 is not a symbolic link\n",
      "\n",
      "Processing triggers for man-db (2.10.2-1) ...\n",
      "Processing triggers for mailcap (3.70+nmu1ubuntu1) ...\n"
     ]
    }
   ],
   "source": [
    "# (SoX/증강 함수들은 남겨둬도 무방하지만, 여기선 사용하지 않음)\n",
    "!apt-get -y install sox libsox-dev libsox-fmt-all"
   ]
  },
  {
   "cell_type": "code",
   "execution_count": 8,
   "metadata": {
    "colab": {
     "base_uri": "https://localhost:8080/"
    },
    "id": "Kz5h4rE900xf",
    "outputId": "bbbab38a-fecb-4707-d40d-846c0056a4aa"
   },
   "outputs": [
    {
     "name": "stdout",
     "output_type": "stream",
     "text": [
      "Train(orig x2): 1600\n"
     ]
    }
   ],
   "source": [
    "import numpy as np, torchaudio\n",
    "def _to_tensor_1ch(x_np):\n",
    "    x = torch.tensor(np.asarray(x_np, dtype=np.float32))\n",
    "    if x.dim() == 1:\n",
    "        x = x.unsqueeze(0)\n",
    "    return x\n",
    "def speed_perturb_np(wav_np, sr, rate: float):\n",
    "    if rate == 1.0:\n",
    "        return wav_np, sr\n",
    "    try:\n",
    "        wav = _to_tensor_1ch(wav_np)\n",
    "        effects = [[\"tempo\", str(rate)]]\n",
    "        aug, sr_out = torchaudio.sox_effects.apply_effects_tensor(wav, sr, effects)\n",
    "        return aug.squeeze(0).numpy(), sr_out\n",
    "    except Exception as e:\n",
    "        print(\"[WARN][sox] tempo failed -> fallback(no-aug):\", e)\n",
    "        return wav_np, sr\n",
    "train_raw_16k = train_dataset.cast_column(\"audio\", Audio(sampling_rate=TARGET_SR))\n",
    "def augment_copy(ds_raw, rate: float):\n",
    "    def _aug(b):\n",
    "        a = b[\"audio\"]\n",
    "        aug_np, sr_out = speed_perturb_np(a[\"array\"], a[\"sampling_rate\"], rate)\n",
    "        b = dict(b)\n",
    "        b[\"audio\"] = {\"array\": aug_np, \"path\": None, \"sampling_rate\": sr_out}\n",
    "        return b\n",
    "    ds_aug = ds_raw.map(_aug)\n",
    "    ds_proc = ds_aug.map(\n",
    "        prepare_dataset,\n",
    "        remove_columns=[c for c in ds_aug.column_names if c not in {\"input_features\",\"labels\",\"locale\"}]\n",
    "    )\n",
    "    ds_proc.set_format(columns=[\"input_features\",\"labels\",\"locale\"])\n",
    "    return ds_proc\n",
    "\n",
    "# === 여기서부터: 증강 없음 — 원본만(언어별 400개) 사용 ===\n",
    "proc_train_mix = proc_train_orig.shuffle(seed=SEED)\n",
    "print(\"Train(orig x2):\", len(proc_train_mix))"
   ]
  },
  {
   "cell_type": "code",
   "execution_count": 9,
   "metadata": {
    "colab": {
     "base_uri": "https://localhost:8080/",
     "height": 446
    },
    "id": "JvCUJTAq02wy",
    "outputId": "813858e5-85a5-4257-e465-94561adc7906"
   },
   "outputs": [
    {
     "name": "stdout",
     "output_type": "stream",
     "text": [
      "[sanity] before train: 0\n"
     ]
    },
    {
     "name": "stderr",
     "output_type": "stream",
     "text": [
      "/usr/local/lib/python3.12/dist-packages/transformers/training_args.py:1525: FutureWarning: `evaluation_strategy` is deprecated and will be removed in version 4.46 of 🤗 Transformers. Use `eval_strategy` instead\n",
      "  warnings.warn(\n"
     ]
    },
    {
     "data": {
      "text/html": [
       "\n",
       "    <div>\n",
       "      \n",
       "      <progress value='800' max='1600' style='width:300px; height:20px; vertical-align: middle;'></progress>\n",
       "      [ 800/1600 28:06 < 28:11, 0.47 it/s, Epoch 4/8]\n",
       "    </div>\n",
       "    <table border=\"1\" class=\"dataframe\">\n",
       "  <thead>\n",
       " <tr style=\"text-align: left;\">\n",
       "      <th>Epoch</th>\n",
       "      <th>Training Loss</th>\n",
       "      <th>Validation Loss</th>\n",
       "    </tr>\n",
       "  </thead>\n",
       "  <tbody>\n",
       "    <tr>\n",
       "      <td>1</td>\n",
       "      <td>No log</td>\n",
       "      <td>1.957293</td>\n",
       "    </tr>\n",
       "    <tr>\n",
       "      <td>2</td>\n",
       "      <td>No log</td>\n",
       "      <td>1.950114</td>\n",
       "    </tr>\n",
       "    <tr>\n",
       "      <td>3</td>\n",
       "      <td>2.222100</td>\n",
       "      <td>1.983032</td>\n",
       "    </tr>\n",
       "    <tr>\n",
       "      <td>4</td>\n",
       "      <td>2.222100</td>\n",
       "      <td>2.033867</td>\n",
       "    </tr>\n",
       "  </tbody>\n",
       "</table><p>"
      ],
      "text/plain": [
       "<IPython.core.display.HTML object>"
      ]
     },
     "metadata": {},
     "output_type": "display_data"
    },
    {
     "name": "stderr",
     "output_type": "stream",
     "text": [
      "Some non-default generation parameters are set in the model config. These should go into a GenerationConfig file (https://huggingface.co/docs/transformers/generation_strategies#save-a-custom-decoding-strategy-with-your-model) instead. This warning will be raised to an exception in v4.41.\n",
      "Non-default generation parameters: {'max_length': 448, 'suppress_tokens': [], 'begin_suppress_tokens': [220, 50257]}\n",
      "Some non-default generation parameters are set in the model config. These should go into a GenerationConfig file (https://huggingface.co/docs/transformers/generation_strategies#save-a-custom-decoding-strategy-with-your-model) instead. This warning will be raised to an exception in v4.41.\n",
      "Non-default generation parameters: {'max_length': 448, 'suppress_tokens': [], 'begin_suppress_tokens': [220, 50257]}\n",
      "Some non-default generation parameters are set in the model config. These should go into a GenerationConfig file (https://huggingface.co/docs/transformers/generation_strategies#save-a-custom-decoding-strategy-with-your-model) instead. This warning will be raised to an exception in v4.41.\n",
      "Non-default generation parameters: {'max_length': 448, 'suppress_tokens': [], 'begin_suppress_tokens': [220, 50257]}\n",
      "Some non-default generation parameters are set in the model config. These should go into a GenerationConfig file (https://huggingface.co/docs/transformers/generation_strategies#save-a-custom-decoding-strategy-with-your-model) instead. This warning will be raised to an exception in v4.41.\n",
      "Non-default generation parameters: {'max_length': 448, 'suppress_tokens': [], 'begin_suppress_tokens': [220, 50257]}\n",
      "There were missing keys in the checkpoint model loaded: ['proj_out.weight'].\n"
     ]
    },
    {
     "name": "stdout",
     "output_type": "stream",
     "text": [
      "[sanity] after  train: 800\n"
     ]
    }
   ],
   "source": [
    "# 7) Trainer 설정 (기타 조건 동일)\n",
    "args = Seq2SeqTrainingArguments(\n",
    "    output_dir=\"./whisper-small-orig_x2\",  # 원하면 이전 경로로 유지해도 됨\n",
    "    per_device_train_batch_size=4,\n",
    "    gradient_accumulation_steps=2,\n",
    "    learning_rate=2e-5,\n",
    "    num_train_epochs=8,\n",
    "    weight_decay=0.01,\n",
    "    label_smoothing_factor=0.1,\n",
    "    warmup_ratio=0.1,\n",
    "    lr_scheduler_type=\"linear\",\n",
    "    max_grad_norm=1.0,\n",
    "    fp16=torch.cuda.is_available(),\n",
    "    report_to=\"none\",\n",
    "\n",
    "    predict_with_generate=True,      # eval/predict 시 generate 사용\n",
    "    generation_max_length=225,\n",
    "\n",
    "    evaluation_strategy=\"epoch\",\n",
    "    save_strategy=\"epoch\",\n",
    "    load_best_model_at_end=True,\n",
    "    metric_for_best_model=\"eval_loss\",\n",
    "    greater_is_better=False,\n",
    "\n",
    "    remove_unused_columns=False,\n",
    ")\n",
    "\n",
    "trainer_orig2x = Seq2SeqTrainer(\n",
    "    model=model,\n",
    "    args=args,\n",
    "    train_dataset=proc_train_mix,\n",
    "    eval_dataset=proc_val_orig,\n",
    "    tokenizer=processor.tokenizer,\n",
    "    data_collator=data_collator,\n",
    "    callbacks=[EarlyStoppingCallback(early_stopping_patience=2)],\n",
    ")\n",
    "\n",
    "print(\"[sanity] before train:\", trainer_orig2x.state.global_step)\n",
    "trainer_orig2x.train()\n",
    "print(\"[sanity] after  train:\", trainer_orig2x.state.global_step)"
   ]
  },
  {
   "cell_type": "code",
   "execution_count": 10,
   "metadata": {
    "colab": {
     "base_uri": "https://localhost:8080/",
     "height": 1000,
     "referenced_widgets": [
      "cd8bb09a2cbb453aa9c90136bccfd657",
      "e4794f2b1abb450fa4bdf4d2430c1425",
      "3e1134b202eb43f1804eafac102088f3",
      "dd005cb6c64440b7a0e33aca3c095326",
      "81707c31f2bf4769860b9ef0c860bf7d",
      "131d38890dc94e888f2d3efa1a82799c",
      "e0a7be2dff0c47f69e5d331514de43f8",
      "87604e6607684b41b490bc812f77de58",
      "68e6c8a6877a4723af25145b7e982ce6",
      "53fb60132af7400fbd6b123c057f311f",
      "2ec3f33bb8cd488fbcf7d3b56459c699",
      "563b6ae3b40e4af09e2fc62af7242961",
      "739860e656ac4814b366c250fdccd523",
      "e41fd3d659c64657ab8fc37c08958f1f",
      "06ce476e763c43fbada52cbbf70490ea",
      "8307b5035c854c539ecb0e5d4f0e1858",
      "a22351ddb59b4b72869b0e01c27ce0d3",
      "e5ee4dd40f37464395cd60d27405ccda",
      "15ef5b9d4e6c46488c871c0b29acbd1b",
      "422758489b5746bdbeb41b5ad9cc28c8",
      "1f07619da1ed43eab53612f2633fa676",
      "19a660f8f19a426c955df58dfed5da68",
      "24822798cbd1484999f5b2a682aa54a3",
      "c382eeb977944610a739505c8de238ed",
      "68199c1064344e538997643c1b5723e7",
      "94a8c65260064b2ea390a8de670e2c88",
      "22cea98b720d42dd9e3c5aaa3c6e5737",
      "4c75036d66774e7f98baced1bdd5bb1c",
      "4b4091df5dac41c5bbc0044f554cc7f2",
      "3d0c63a6e2f2400f9739ba7750981132",
      "744fed52dc894f55b06a24ead0cd6098",
      "4f1998eb633644cba52950aad04bee13",
      "b2f5f525571042439c574ce802e9d5f9",
      "cb741fd75fcf4418ae662b3a75036b78",
      "785fbf9703c4421794c5d3dc64c7fbb9",
      "519d8d50989940bbbcb319173ba0e5ea",
      "40f0e1be6a41465083f950bb189dccea",
      "0128fe6ba57e44bebb87c333ecabf415",
      "d902139800254c7c90fdb7420e0b71cd",
      "dedd4f3e72ae44b59e7530d16da44b38",
      "52d19bcc89dd41828cf92097df4e10d2",
      "3089aa6e28324bfe9d0bad762e48b896",
      "c8a8a14dabdb42af9a85c37816e89a90",
      "2f1db00d652d4dbfbd1fc05ea8cafc49",
      "d119e00b6d9e4af5bc2c21851e529de2",
      "cf55c1075f8647559fe228bbf8702599",
      "7b4b79d7874e43d5b9e695a593ff9dcb",
      "e512b5ec0cf54965ae0ee7e2b5bc6096",
      "85ff78e5df194441b551f8d2f24d0b2f",
      "83f4940e59284a5087013b3f4b5d7da4",
      "3ceb90fd1ae94e0bb512cd463932877c",
      "648095755f1b44ab9f83f1a8eb353c31",
      "c492285336b9444d97051b04e3c26bd9",
      "a0db2653b93341249af348f35e217cab",
      "581dba6b1708454e91b04c049a7985ef",
      "5166f832ede048bbb45f21f5a06630af",
      "9c9e975f8ecc412895106da497499f61",
      "aec3c9cf0514460481f70c5b2a3dddec",
      "06e23a829fdd4a7fb0433997ca055897",
      "8cf06b181ef14471a3737fe972e769fe",
      "23692b36815c4fea84e7e9ed23919b15",
      "41951a7df8314c0a8b3cf763acdc8d4f",
      "1891527437fd4170a561bdaa15335b37",
      "1a16a960dcc447fea58ef9d831718d6a",
      "de6a36d425d344df86038b351e3cd441",
      "22406e2e622a414a810109b3dca802e9"
     ]
    },
    "id": "i3l9a4GVLFtH",
    "outputId": "6703322f-3512-4e15-9413-c8346059f400"
   },
   "outputs": [
    {
     "data": {
      "application/vnd.jupyter.widget-view+json": {
       "model_id": "cd8bb09a2cbb453aa9c90136bccfd657",
       "version_major": 2,
       "version_minor": 0
      },
      "text/plain": [
       "Downloading builder script: 0.00B [00:00, ?B/s]"
      ]
     },
     "metadata": {},
     "output_type": "display_data"
    },
    {
     "data": {
      "application/vnd.jupyter.widget-view+json": {
       "model_id": "563b6ae3b40e4af09e2fc62af7242961",
       "version_major": 2,
       "version_minor": 0
      },
      "text/plain": [
       "Downloading builder script: 0.00B [00:00, ?B/s]"
      ]
     },
     "metadata": {},
     "output_type": "display_data"
    },
    {
     "name": "stdout",
     "output_type": "stream",
     "text": [
      "[CHECK] Evaluating on TEST set: size=400 (val=400)\n"
     ]
    },
    {
     "data": {
      "application/vnd.jupyter.widget-view+json": {
       "model_id": "24822798cbd1484999f5b2a682aa54a3",
       "version_major": 2,
       "version_minor": 0
      },
      "text/plain": [
       "Filter:   0%|          | 0/400 [00:00<?, ? examples/s]"
      ]
     },
     "metadata": {},
     "output_type": "display_data"
    },
    {
     "name": "stderr",
     "output_type": "stream",
     "text": [
      "The attention mask is not set and cannot be inferred from input because pad token is same as eos token. As a consequence, you may observe unexpected behavior. Please pass your input's `attention_mask` to obtain reliable results.\n"
     ]
    },
    {
     "data": {
      "text/html": [],
      "text/plain": [
       "<IPython.core.display.HTML object>"
      ]
     },
     "metadata": {},
     "output_type": "display_data"
    },
    {
     "name": "stdout",
     "output_type": "stream",
     "text": [
      "\n",
      "[test_orig] KO samples (k=10)\n",
      "#00 PRED: 놈댓더면 찾지 말고 해결체가 되다라\n",
      "     REF : 문제점을 찾지 말고 해결책을 찾아라.\n",
      "---\n",
      "#01 PRED: 신철이는 저헷발을 바라보면서 지금 11시 번이나 되었을 것을 짐작하였다.\n",
      "     REF : 신철이는 저 햇발을 바라보면서 지금 열한시 반이나 되었을 것을 짐작하였다.\n",
      "---\n",
      "#02 PRED: 할멈은 올가을의 새로운 이 무명사골이를 아까워서 잊지 못하고 주웠던 것이다.\n",
      "     REF : 할멈은 올 가을에 새로한 이 무명저고리를 아까워서 입지 못하고 두었던 것이다.\n",
      "---\n",
      "#03 PRED: 그들은 이 종잇조각을 발견할 때마다 머리를 맞대고 재민하게 읽어 보았다.\n",
      "     REF : 그들은 이 종잇조각을 발견할 때마다 머리를 맞대고 재미나게 읽어 보았다.\n",
      "---\n",
      "#04 PRED: 마스크 잘 쓰고 다니고 길쥐 조심해서 다녀와\n",
      "     REF : 마스크 잘 쓰고 다니고, 길 조심해서 다녀와.\n",
      "---\n",
      "#05 PRED: 건덜패와 논단이들이 얼어져서 약물이 아닌 누룩국물을 마시구 그심부름을 하는 모양이다.\n",
      "     REF : 건달패와 논다니들이 어우러져서 약물이 아닌 누룩 국물을 마시고 그 심부름을 하는 모양이다.\n",
      "---\n",
      "#06 PRED: 이거나 놀아고\n",
      "     REF : 이거 놔! 놓으라고!\n",
      "---\n",
      "#07 PRED: 지압이는 돌아오지않고 어린 딸은 돌아지 꽃이 좋아 돌묻어 무더운 것 같다.\n",
      "     REF : 지아비는 돌아오지 않고 어린 딸은 도라지꽃이 좋아 돌무덤으로 갔다\n",
      "---\n",
      "#08 PRED: 그러나 또 얼마나 푸른 화려\n",
      "     REF : 그러나 또 얼마나 불행하랴.\n",
      "---\n",
      "#09 PRED: 그런지라\n",
      "     REF : 그런지라.\n",
      "---\n"
     ]
    },
    {
     "data": {
      "application/vnd.jupyter.widget-view+json": {
       "model_id": "cb741fd75fcf4418ae662b3a75036b78",
       "version_major": 2,
       "version_minor": 0
      },
      "text/plain": [
       "Filter:   0%|          | 0/400 [00:00<?, ? examples/s]"
      ]
     },
     "metadata": {},
     "output_type": "display_data"
    },
    {
     "data": {
      "text/html": [],
      "text/plain": [
       "<IPython.core.display.HTML object>"
      ]
     },
     "metadata": {},
     "output_type": "display_data"
    },
    {
     "name": "stdout",
     "output_type": "stream",
     "text": [
      "\n",
      "[test_orig] JA samples (k=10)\n",
      "#00 PRED: 高橋駆いと\n",
      "     REF : 高橋海人\n",
      "---\n",
      "#01 PRED: 動物に合う\n",
      "     REF : 動物にあう\n",
      "---\n",
      "#02 PRED: そこで自分で出かけていって、調べ始めました。彼はさんざん、探し回りました。\n",
      "     REF : そこで自分で出かけて行って、調べはじめました。かれはさんざんさがしまわりました。\n",
      "---\n",
      "#03 PRED: いけたんすいですよ。\n",
      "     REF : 私は、猫の鼻先をわざと、五六回、行ったり来たりしてやりました。それから、ずっと側まで近づいて行ってみました。\n",
      "---\n",
      "#04 PRED: ラブストーリー\n",
      "     REF : ラブストーリー\n",
      "---\n",
      "#05 PRED: ただこの国で一枚の夢のみなとまちだったころの記録映像は観ていた。\n",
      "     REF : ただ、この国で一番有名な港町だったころの記録映像は見ていた\n",
      "---\n",
      "#06 PRED: 指をつめて、足や耳に両者は、歯になり、枝になり、茎を鼻めらになって、重なりつながり、根しれに、特別の形を作っていた。\n",
      "     REF : 指や爪、手や足や耳に似たものが、葉になり、枝になり、茎や花びらになって、重なり、繋がり、捻れ、植物の形を作っていた\n",
      "---\n",
      "#07 PRED: 膝をすりむいた\n",
      "     REF : 膝を擦りむいた\n",
      "---\n",
      "#08 PRED: だがコトワル\n",
      "     REF : だが断る\n",
      "---\n",
      "#09 PRED: 君の前にしに僕は似合わないからな。\n",
      "     REF : 君の毎日に僕は似合わないかな\n",
      "---\n"
     ]
    },
    {
     "data": {
      "application/vnd.jupyter.widget-view+json": {
       "model_id": "d119e00b6d9e4af5bc2c21851e529de2",
       "version_major": 2,
       "version_minor": 0
      },
      "text/plain": [
       "Filter:   0%|          | 0/400 [00:00<?, ? examples/s]"
      ]
     },
     "metadata": {},
     "output_type": "display_data"
    },
    {
     "data": {
      "text/html": [],
      "text/plain": [
       "<IPython.core.display.HTML object>"
      ]
     },
     "metadata": {},
     "output_type": "display_data"
    },
    {
     "name": "stdout",
     "output_type": "stream",
     "text": [
      "\n",
      "[test_orig] EN samples (k=10)\n",
      "#00 PRED: Maybe he just put it there for safekeeping?\n",
      "     REF : Maybe he just put it there for safe keeping?\n",
      "---\n",
      "#01 PRED: They found one such edge in the Farweand system.\n",
      "     REF : They found one such edge in Fairbairn's system.\n",
      "---\n",
      "#02 PRED: A bit later on the firetruck was not long enough.\n",
      "     REF : The ladder on the fire truck was not long enough.\n",
      "---\n",
      "#03 PRED: She'll be alright.\n",
      "     REF : She'll be all right.\n",
      "---\n",
      "#04 PRED: Gabby Hospital, I met a very nice nurse.\n",
      "     REF : At the hospital, I met a very nice nurse.\n",
      "---\n",
      "#05 PRED: I pointed out Mars a bright dot of light.\n",
      "     REF : I pointed out Mars, a bright dot of light.\n",
      "---\n",
      "#06 PRED: He ended up running to the bars which fortified the windows of the first floor.\n",
      "     REF : He ended up running to the bars which fortified the windows of the first floor.\n",
      "---\n",
      "#07 PRED: That man is your brother?\n",
      "     REF : That man is your brother?\n",
      "---\n",
      "#08 PRED: Religious festivals include the Muslim Eids and the Christian Christmas and Easter.\n",
      "     REF : Religious festivals include the Muslim Eids and the Christian Christmas and Easter.\n",
      "---\n",
      "#09 PRED: The state plans to reward those groups to improve safety.\n",
      "     REF : The state plans to re-work those curves to improve safety.\n",
      "---\n"
     ]
    },
    {
     "data": {
      "application/vnd.jupyter.widget-view+json": {
       "model_id": "5166f832ede048bbb45f21f5a06630af",
       "version_major": 2,
       "version_minor": 0
      },
      "text/plain": [
       "Filter:   0%|          | 0/400 [00:00<?, ? examples/s]"
      ]
     },
     "metadata": {},
     "output_type": "display_data"
    },
    {
     "data": {
      "text/html": [],
      "text/plain": [
       "<IPython.core.display.HTML object>"
      ]
     },
     "metadata": {},
     "output_type": "display_data"
    },
    {
     "name": "stdout",
     "output_type": "stream",
     "text": [
      "\n",
      "[test_orig] DE samples (k=10)\n",
      "#00 PRED: Sie gewannen das Match mit sechs Lösern vorschsprungen.\n",
      "     REF : Sie gewannen das Match mit sechs Löchern Vorsprung.\n",
      "---\n",
      "#01 PRED: Zu seinen weiteren Aufgaben gehört die Abnahme von neu eingekauften oder geliechten Flugzeugen.\n",
      "     REF : Zu seinen weiteren Aufgaben gehört die Abnahme von neu eingekauften oder geleasten Flugzeugen.\n",
      "---\n",
      "#02 PRED: Es kommt zum Schreudewagen der Hand.\n",
      "     REF : Es kommt zum Showdown in Gstaad.\n",
      "---\n",
      "#03 PRED: Es gibt auch mehrere Gewingplätze.\n",
      "     REF : Es gibt auch mehrere Campingplätze.\n",
      "---\n",
      "#04 PRED: Dieses ist der erste Messer der Meckern mit dem Hördnussabli.\n",
      "     REF : Zusätzlich wird noch zwischen Messgrößen und Messmethoden unterschieden.\n",
      "---\n",
      "#05 PRED: Sie wurden nach der Stadt Boise in Eiderhoe benannt.\n",
      "     REF : Sie wurde nach der Stadt Boise in Idaho benannt.\n",
      "---\n",
      "#06 PRED: Dieleich können sie uns diese Frage am Ende der Aussprache beantworten.\n",
      "     REF : Vielleicht können Sie uns diese Frage am Ende der Aussprache beantworten.\n",
      "---\n",
      "#07 PRED: Während der Streife hatte Paffee und Engel ein Streit.\n",
      "     REF : Während der Streife hatten Buffy und Angel einen Streit.\n",
      "---\n",
      "#08 PRED: Im Winter war Rugby-Union gespielt im Sommerkriegert.\n",
      "     REF : Im Winter wird Rugby Union gespielt, im Sommer Cricket.\n",
      "---\n",
      "#09 PRED: Macht euch nur darüber lustig.\n",
      "     REF : Macht euch nur darüber lustig.\n",
      "---\n"
     ]
    },
    {
     "data": {
      "application/vnd.google.colaboratory.intrinsic+json": {
       "summary": "{\n  \"name\": \"df_orig\",\n  \"rows\": 4,\n  \"fields\": [\n    {\n      \"column\": \"set\",\n      \"properties\": {\n        \"dtype\": \"category\",\n        \"num_unique_values\": 1,\n        \"samples\": [\n          \"test_orig\"\n        ],\n        \"semantic_type\": \"\",\n        \"description\": \"\"\n      }\n    },\n    {\n      \"column\": \"lang\",\n      \"properties\": {\n        \"dtype\": \"string\",\n        \"num_unique_values\": 4,\n        \"samples\": [\n          \"en\"\n        ],\n        \"semantic_type\": \"\",\n        \"description\": \"\"\n      }\n    },\n    {\n      \"column\": \"WER\",\n      \"properties\": {\n        \"dtype\": \"number\",\n        \"std\": 0.304273653818254,\n        \"min\": 0.23687150837988827,\n        \"max\": 0.9099099099099099,\n        \"num_unique_values\": 4,\n        \"samples\": [\n          0.23687150837988827\n        ],\n        \"semantic_type\": \"\",\n        \"description\": \"\"\n      }\n    },\n    {\n      \"column\": \"CER\",\n      \"properties\": {\n        \"dtype\": \"number\",\n        \"std\": 0.10698253587484875,\n        \"min\": 0.11316155988857939,\n        \"max\": 0.341747572815534,\n        \"num_unique_values\": 4,\n        \"samples\": [\n          0.11656318846384939\n        ],\n        \"semantic_type\": \"\",\n        \"description\": \"\"\n      }\n    },\n    {\n      \"column\": \"N\",\n      \"properties\": {\n        \"dtype\": \"number\",\n        \"std\": 0,\n        \"min\": 100,\n        \"max\": 100,\n        \"num_unique_values\": 1,\n        \"samples\": [\n          100\n        ],\n        \"semantic_type\": \"\",\n        \"description\": \"\"\n      }\n    }\n  ]\n}",
       "type": "dataframe",
       "variable_name": "df_orig"
      },
      "text/html": [
       "\n",
       "  <div id=\"df-07f9d8b7-a24d-412f-ae3c-9ff4e0b9dfee\" class=\"colab-df-container\">\n",
       "    <div>\n",
       "<style scoped>\n",
       "    .dataframe tbody tr th:only-of-type {\n",
       "        vertical-align: middle;\n",
       "    }\n",
       "\n",
       "    .dataframe tbody tr th {\n",
       "        vertical-align: top;\n",
       "    }\n",
       "\n",
       "    .dataframe thead th {\n",
       "        text-align: right;\n",
       "    }\n",
       "</style>\n",
       "<table border=\"1\" class=\"dataframe\">\n",
       "  <thead>\n",
       "    <tr style=\"text-align: right;\">\n",
       "      <th></th>\n",
       "      <th>set</th>\n",
       "      <th>lang</th>\n",
       "      <th>WER</th>\n",
       "      <th>CER</th>\n",
       "      <th>N</th>\n",
       "    </tr>\n",
       "  </thead>\n",
       "  <tbody>\n",
       "    <tr>\n",
       "      <th>3</th>\n",
       "      <td>test_orig</td>\n",
       "      <td>de</td>\n",
       "      <td>0.301549</td>\n",
       "      <td>0.113162</td>\n",
       "      <td>100</td>\n",
       "    </tr>\n",
       "    <tr>\n",
       "      <th>2</th>\n",
       "      <td>test_orig</td>\n",
       "      <td>en</td>\n",
       "      <td>0.236872</td>\n",
       "      <td>0.116563</td>\n",
       "      <td>100</td>\n",
       "    </tr>\n",
       "    <tr>\n",
       "      <th>1</th>\n",
       "      <td>test_orig</td>\n",
       "      <td>ja</td>\n",
       "      <td>0.909910</td>\n",
       "      <td>0.341748</td>\n",
       "      <td>100</td>\n",
       "    </tr>\n",
       "    <tr>\n",
       "      <th>0</th>\n",
       "      <td>test_orig</td>\n",
       "      <td>ko</td>\n",
       "      <td>0.431242</td>\n",
       "      <td>0.194503</td>\n",
       "      <td>100</td>\n",
       "    </tr>\n",
       "  </tbody>\n",
       "</table>\n",
       "</div>\n",
       "    <div class=\"colab-df-buttons\">\n",
       "\n",
       "  <div class=\"colab-df-container\">\n",
       "    <button class=\"colab-df-convert\" onclick=\"convertToInteractive('df-07f9d8b7-a24d-412f-ae3c-9ff4e0b9dfee')\"\n",
       "            title=\"Convert this dataframe to an interactive table.\"\n",
       "            style=\"display:none;\">\n",
       "\n",
       "  <svg xmlns=\"http://www.w3.org/2000/svg\" height=\"24px\" viewBox=\"0 -960 960 960\">\n",
       "    <path d=\"M120-120v-720h720v720H120Zm60-500h600v-160H180v160Zm220 220h160v-160H400v160Zm0 220h160v-160H400v160ZM180-400h160v-160H180v160Zm440 0h160v-160H620v160ZM180-180h160v-160H180v160Zm440 0h160v-160H620v160Z\"/>\n",
       "  </svg>\n",
       "    </button>\n",
       "\n",
       "  <style>\n",
       "    .colab-df-container {\n",
       "      display:flex;\n",
       "      gap: 12px;\n",
       "    }\n",
       "\n",
       "    .colab-df-convert {\n",
       "      background-color: #E8F0FE;\n",
       "      border: none;\n",
       "      border-radius: 50%;\n",
       "      cursor: pointer;\n",
       "      display: none;\n",
       "      fill: #1967D2;\n",
       "      height: 32px;\n",
       "      padding: 0 0 0 0;\n",
       "      width: 32px;\n",
       "    }\n",
       "\n",
       "    .colab-df-convert:hover {\n",
       "      background-color: #E2EBFA;\n",
       "      box-shadow: 0px 1px 2px rgba(60, 64, 67, 0.3), 0px 1px 3px 1px rgba(60, 64, 67, 0.15);\n",
       "      fill: #174EA6;\n",
       "    }\n",
       "\n",
       "    .colab-df-buttons div {\n",
       "      margin-bottom: 4px;\n",
       "    }\n",
       "\n",
       "    [theme=dark] .colab-df-convert {\n",
       "      background-color: #3B4455;\n",
       "      fill: #D2E3FC;\n",
       "    }\n",
       "\n",
       "    [theme=dark] .colab-df-convert:hover {\n",
       "      background-color: #434B5C;\n",
       "      box-shadow: 0px 1px 3px 1px rgba(0, 0, 0, 0.15);\n",
       "      filter: drop-shadow(0px 1px 2px rgba(0, 0, 0, 0.3));\n",
       "      fill: #FFFFFF;\n",
       "    }\n",
       "  </style>\n",
       "\n",
       "    <script>\n",
       "      const buttonEl =\n",
       "        document.querySelector('#df-07f9d8b7-a24d-412f-ae3c-9ff4e0b9dfee button.colab-df-convert');\n",
       "      buttonEl.style.display =\n",
       "        google.colab.kernel.accessAllowed ? 'block' : 'none';\n",
       "\n",
       "      async function convertToInteractive(key) {\n",
       "        const element = document.querySelector('#df-07f9d8b7-a24d-412f-ae3c-9ff4e0b9dfee');\n",
       "        const dataTable =\n",
       "          await google.colab.kernel.invokeFunction('convertToInteractive',\n",
       "                                                    [key], {});\n",
       "        if (!dataTable) return;\n",
       "\n",
       "        const docLinkHtml = 'Like what you see? Visit the ' +\n",
       "          '<a target=\"_blank\" href=https://colab.research.google.com/notebooks/data_table.ipynb>data table notebook</a>'\n",
       "          + ' to learn more about interactive tables.';\n",
       "        element.innerHTML = '';\n",
       "        dataTable['output_type'] = 'display_data';\n",
       "        await google.colab.output.renderOutput(dataTable, element);\n",
       "        const docLink = document.createElement('div');\n",
       "        docLink.innerHTML = docLinkHtml;\n",
       "        element.appendChild(docLink);\n",
       "      }\n",
       "    </script>\n",
       "  </div>\n",
       "\n",
       "\n",
       "    <div id=\"df-5cf84c20-4b54-4f01-a23c-5daf3852e7b3\">\n",
       "      <button class=\"colab-df-quickchart\" onclick=\"quickchart('df-5cf84c20-4b54-4f01-a23c-5daf3852e7b3')\"\n",
       "                title=\"Suggest charts\"\n",
       "                style=\"display:none;\">\n",
       "\n",
       "<svg xmlns=\"http://www.w3.org/2000/svg\" height=\"24px\"viewBox=\"0 0 24 24\"\n",
       "     width=\"24px\">\n",
       "    <g>\n",
       "        <path d=\"M19 3H5c-1.1 0-2 .9-2 2v14c0 1.1.9 2 2 2h14c1.1 0 2-.9 2-2V5c0-1.1-.9-2-2-2zM9 17H7v-7h2v7zm4 0h-2V7h2v10zm4 0h-2v-4h2v4z\"/>\n",
       "    </g>\n",
       "</svg>\n",
       "      </button>\n",
       "\n",
       "<style>\n",
       "  .colab-df-quickchart {\n",
       "      --bg-color: #E8F0FE;\n",
       "      --fill-color: #1967D2;\n",
       "      --hover-bg-color: #E2EBFA;\n",
       "      --hover-fill-color: #174EA6;\n",
       "      --disabled-fill-color: #AAA;\n",
       "      --disabled-bg-color: #DDD;\n",
       "  }\n",
       "\n",
       "  [theme=dark] .colab-df-quickchart {\n",
       "      --bg-color: #3B4455;\n",
       "      --fill-color: #D2E3FC;\n",
       "      --hover-bg-color: #434B5C;\n",
       "      --hover-fill-color: #FFFFFF;\n",
       "      --disabled-bg-color: #3B4455;\n",
       "      --disabled-fill-color: #666;\n",
       "  }\n",
       "\n",
       "  .colab-df-quickchart {\n",
       "    background-color: var(--bg-color);\n",
       "    border: none;\n",
       "    border-radius: 50%;\n",
       "    cursor: pointer;\n",
       "    display: none;\n",
       "    fill: var(--fill-color);\n",
       "    height: 32px;\n",
       "    padding: 0;\n",
       "    width: 32px;\n",
       "  }\n",
       "\n",
       "  .colab-df-quickchart:hover {\n",
       "    background-color: var(--hover-bg-color);\n",
       "    box-shadow: 0 1px 2px rgba(60, 64, 67, 0.3), 0 1px 3px 1px rgba(60, 64, 67, 0.15);\n",
       "    fill: var(--button-hover-fill-color);\n",
       "  }\n",
       "\n",
       "  .colab-df-quickchart-complete:disabled,\n",
       "  .colab-df-quickchart-complete:disabled:hover {\n",
       "    background-color: var(--disabled-bg-color);\n",
       "    fill: var(--disabled-fill-color);\n",
       "    box-shadow: none;\n",
       "  }\n",
       "\n",
       "  .colab-df-spinner {\n",
       "    border: 2px solid var(--fill-color);\n",
       "    border-color: transparent;\n",
       "    border-bottom-color: var(--fill-color);\n",
       "    animation:\n",
       "      spin 1s steps(1) infinite;\n",
       "  }\n",
       "\n",
       "  @keyframes spin {\n",
       "    0% {\n",
       "      border-color: transparent;\n",
       "      border-bottom-color: var(--fill-color);\n",
       "      border-left-color: var(--fill-color);\n",
       "    }\n",
       "    20% {\n",
       "      border-color: transparent;\n",
       "      border-left-color: var(--fill-color);\n",
       "      border-top-color: var(--fill-color);\n",
       "    }\n",
       "    30% {\n",
       "      border-color: transparent;\n",
       "      border-left-color: var(--fill-color);\n",
       "      border-top-color: var(--fill-color);\n",
       "      border-right-color: var(--fill-color);\n",
       "    }\n",
       "    40% {\n",
       "      border-color: transparent;\n",
       "      border-right-color: var(--fill-color);\n",
       "      border-top-color: var(--fill-color);\n",
       "    }\n",
       "    60% {\n",
       "      border-color: transparent;\n",
       "      border-right-color: var(--fill-color);\n",
       "    }\n",
       "    80% {\n",
       "      border-color: transparent;\n",
       "      border-right-color: var(--fill-color);\n",
       "      border-bottom-color: var(--fill-color);\n",
       "    }\n",
       "    90% {\n",
       "      border-color: transparent;\n",
       "      border-bottom-color: var(--fill-color);\n",
       "    }\n",
       "  }\n",
       "</style>\n",
       "\n",
       "      <script>\n",
       "        async function quickchart(key) {\n",
       "          const quickchartButtonEl =\n",
       "            document.querySelector('#' + key + ' button');\n",
       "          quickchartButtonEl.disabled = true;  // To prevent multiple clicks.\n",
       "          quickchartButtonEl.classList.add('colab-df-spinner');\n",
       "          try {\n",
       "            const charts = await google.colab.kernel.invokeFunction(\n",
       "                'suggestCharts', [key], {});\n",
       "          } catch (error) {\n",
       "            console.error('Error during call to suggestCharts:', error);\n",
       "          }\n",
       "          quickchartButtonEl.classList.remove('colab-df-spinner');\n",
       "          quickchartButtonEl.classList.add('colab-df-quickchart-complete');\n",
       "        }\n",
       "        (() => {\n",
       "          let quickchartButtonEl =\n",
       "            document.querySelector('#df-5cf84c20-4b54-4f01-a23c-5daf3852e7b3 button');\n",
       "          quickchartButtonEl.style.display =\n",
       "            google.colab.kernel.accessAllowed ? 'block' : 'none';\n",
       "        })();\n",
       "      </script>\n",
       "    </div>\n",
       "\n",
       "  <div id=\"id_ef2b4b6a-77c1-4a0f-b37f-6adfae5a7bb0\">\n",
       "    <style>\n",
       "      .colab-df-generate {\n",
       "        background-color: #E8F0FE;\n",
       "        border: none;\n",
       "        border-radius: 50%;\n",
       "        cursor: pointer;\n",
       "        display: none;\n",
       "        fill: #1967D2;\n",
       "        height: 32px;\n",
       "        padding: 0 0 0 0;\n",
       "        width: 32px;\n",
       "      }\n",
       "\n",
       "      .colab-df-generate:hover {\n",
       "        background-color: #E2EBFA;\n",
       "        box-shadow: 0px 1px 2px rgba(60, 64, 67, 0.3), 0px 1px 3px 1px rgba(60, 64, 67, 0.15);\n",
       "        fill: #174EA6;\n",
       "      }\n",
       "\n",
       "      [theme=dark] .colab-df-generate {\n",
       "        background-color: #3B4455;\n",
       "        fill: #D2E3FC;\n",
       "      }\n",
       "\n",
       "      [theme=dark] .colab-df-generate:hover {\n",
       "        background-color: #434B5C;\n",
       "        box-shadow: 0px 1px 3px 1px rgba(0, 0, 0, 0.15);\n",
       "        filter: drop-shadow(0px 1px 2px rgba(0, 0, 0, 0.3));\n",
       "        fill: #FFFFFF;\n",
       "      }\n",
       "    </style>\n",
       "    <button class=\"colab-df-generate\" onclick=\"generateWithVariable('df_orig')\"\n",
       "            title=\"Generate code using this dataframe.\"\n",
       "            style=\"display:none;\">\n",
       "\n",
       "  <svg xmlns=\"http://www.w3.org/2000/svg\" height=\"24px\"viewBox=\"0 0 24 24\"\n",
       "       width=\"24px\">\n",
       "    <path d=\"M7,19H8.4L18.45,9,17,7.55,7,17.6ZM5,21V16.75L18.45,3.32a2,2,0,0,1,2.83,0l1.4,1.43a1.91,1.91,0,0,1,.58,1.4,1.91,1.91,0,0,1-.58,1.4L9.25,21ZM18.45,9,17,7.55Zm-12,3A5.31,5.31,0,0,0,4.9,8.1,5.31,5.31,0,0,0,1,6.5,5.31,5.31,0,0,0,4.9,4.9,5.31,5.31,0,0,0,6.5,1,5.31,5.31,0,0,0,8.1,4.9,5.31,5.31,0,0,0,12,6.5,5.46,5.46,0,0,0,6.5,12Z\"/>\n",
       "  </svg>\n",
       "    </button>\n",
       "    <script>\n",
       "      (() => {\n",
       "      const buttonEl =\n",
       "        document.querySelector('#id_ef2b4b6a-77c1-4a0f-b37f-6adfae5a7bb0 button.colab-df-generate');\n",
       "      buttonEl.style.display =\n",
       "        google.colab.kernel.accessAllowed ? 'block' : 'none';\n",
       "\n",
       "      buttonEl.onclick = () => {\n",
       "        google.colab.notebook.generateWithVariable('df_orig');\n",
       "      }\n",
       "      })();\n",
       "    </script>\n",
       "  </div>\n",
       "\n",
       "    </div>\n",
       "  </div>\n"
      ],
      "text/plain": [
       "         set lang       WER       CER    N\n",
       "3  test_orig   de  0.301549  0.113162  100\n",
       "2  test_orig   en  0.236872  0.116563  100\n",
       "1  test_orig   ja  0.909910  0.341748  100\n",
       "0  test_orig   ko  0.431242  0.194503  100"
      ]
     },
     "metadata": {},
     "output_type": "display_data"
    },
    {
     "name": "stdout",
     "output_type": "stream",
     "text": [
      "Saved -> /content/results_orig_x2_test_orig_ONLY.csv\n"
     ]
    }
   ],
   "source": [
    "# 8) 평가\n",
    "LANG_NAME = {\"ko\":\"korean\", \"ja\":\"japanese\", \"en\":\"english\", \"de\":\"german\"}\n",
    "wer_metric = load_metric(\"wer\"); cer_metric = load_metric(\"cer\")\n",
    "\n",
    "def eval_on(ds_proc, trainer_obj, label, sample_k=10, show_samples=True):\n",
    "    rows = []\n",
    "    for lang in [\"ko\",\"ja\",\"en\",\"de\"]:\n",
    "        subset = ds_proc.filter(lambda x: x[\"locale\"] == lang)\n",
    "        if len(subset) == 0:\n",
    "            print(f\"[WARN] No samples for {lang} in {label}\")\n",
    "            rows.append({\"set\": label, \"lang\": lang, \"WER\": float(\"nan\"), \"CER\": float(\"nan\"), \"N\": 0})\n",
    "            continue\n",
    "\n",
    "        forced_ids = processor.get_decoder_prompt_ids(language=LANG_NAME[lang], task=\"transcribe\")\n",
    "        trainer_obj.model.generation_config.forced_decoder_ids = forced_ids\n",
    "        trainer_obj.model.generation_config.max_length = 225\n",
    "\n",
    "        out = trainer_obj.predict(subset)\n",
    "        preds = tokenizer.batch_decode(out.predictions, skip_special_tokens=True)\n",
    "        label_ids = np.where(out.label_ids != -100, out.label_ids, tokenizer.pad_token_id)\n",
    "        refs  = tokenizer.batch_decode(label_ids, skip_special_tokens=True)\n",
    "\n",
    "        wer = wer_metric.compute(predictions=preds, references=refs)\n",
    "        cer = cer_metric.compute(predictions=preds, references=refs)\n",
    "        rows.append({\"set\": label, \"lang\": lang, \"WER\": wer, \"CER\": cer, \"N\": len(refs)})\n",
    "\n",
    "        if show_samples and sample_k > 0:\n",
    "            print(f\"\\n[{label}] {lang.upper()} samples (k={min(sample_k, len(refs))})\")\n",
    "            for i, (p, r) in enumerate(zip(preds, refs)):\n",
    "                if i >= sample_k: break\n",
    "                print(f\"#{i:02d} PRED: {p}\")\n",
    "                print(f\"     REF : {r}\")\n",
    "                print(\"---\")\n",
    "    return pd.DataFrame(rows).sort_values(\"lang\")\n",
    "\n",
    "print(f\"[CHECK] Evaluating on TEST set: size={len(proc_test_orig)} (val={len(proc_val_orig)})\")\n",
    "df_orig = eval_on(proc_test_orig, trainer_orig2x, \"test_orig\", sample_k=10, show_samples=True)\n",
    "display(df_orig)\n",
    "df_orig.to_csv(\"/content/results_orig_x2_test_orig_ONLY.csv\", index=False)\n",
    "print(\"Saved -> /content/results_orig_x2_test_orig_ONLY.csv\")"
   ]
  },
  {
   "cell_type": "code",
   "execution_count": 11,
   "metadata": {
    "colab": {
     "base_uri": "https://localhost:8080/",
     "height": 507
    },
    "id": "5BCxm4pjLIvt",
    "outputId": "10a81b9e-35f6-4644-e30f-51802751be5d"
   },
   "outputs": [
    {
     "data": {
      "image/png": "[encoded data removed]",
      "text/plain": [
       "<Figure size 700x500 with 1 Axes>"
      ]
     },
     "metadata": {},
     "output_type": "display_data"
    }
   ],
   "source": [
    "# 9) 시각화\n",
    "def bar_lang(df, label):\n",
    "    plt.figure(figsize=(7,5))\n",
    "    langs = [\"ko\",\"ja\",\"en\",\"de\"]\n",
    "    vals = []\n",
    "    for l in langs:\n",
    "        row = df[df[\"lang\"]==l]\n",
    "        vals.append(float(row[\"WER\"].values[0]) if len(row) else float(\"nan\"))\n",
    "    plt.bar([l.upper() for l in langs], vals)\n",
    "    plt.title(f\"WER - {label}\")\n",
    "    plt.ylabel(\"WER\")\n",
    "    plt.tight_layout()\n",
    "    plt.show()\n",
    "\n",
    "bar_lang(df_orig, \"Original Test (orig x2)\")"
   ]
  }
 ],
 "metadata": {
  "accelerator": "GPU",
  "colab": {
   "gpuType": "T4",
   "machine_shape": "hm",
   "provenance": []
  },
  "kernelspec": {
   "display_name": "Python 3",
   "name": "python3"
  },
  "language_info": {
   "name": "python"
  }
 },
 "nbformat": 4,
 "nbformat_minor": 0
}
