{
 "cells": [
  {
   "cell_type": "code",
   "execution_count": 1,
   "metadata": {
    "colab": {
     "base_uri": "https://localhost:8080/"
    },
    "id": "SPuUqM2aw3Zm",
    "outputId": "e780b93a-285b-45d0-e4bb-4a67d343fa51"
   },
   "outputs": [
    {
     "name": "stdout",
     "output_type": "stream",
     "text": [
      "\u001b[2K     \u001b[90m━━━━━━━━━━━━━━━━━━━━━━━━━━━━━━━━━━━━━━━━\u001b[0m \u001b[32m43.7/43.7 kB\u001b[0m \u001b[31m1.9 MB/s\u001b[0m eta \u001b[36m0:00:00\u001b[0m\n",
      "\u001b[2K   \u001b[90m━━━━━━━━━━━━━━━━━━━━━━━━━━━━━━━━━━━━━━━━\u001b[0m \u001b[32m527.3/527.3 kB\u001b[0m \u001b[31m10.8 MB/s\u001b[0m eta \u001b[36m0:00:00\u001b[0m\n",
      "\u001b[2K   \u001b[90m━━━━━━━━━━━━━━━━━━━━━━━━━━━━━━━━━━━━━━━━\u001b[0m \u001b[32m84.1/84.1 kB\u001b[0m \u001b[31m8.5 MB/s\u001b[0m eta \u001b[36m0:00:00\u001b[0m\n",
      "\u001b[2K   \u001b[90m━━━━━━━━━━━━━━━━━━━━━━━━━━━━━━━━━━━━━━━━\u001b[0m \u001b[32m9.5/9.5 MB\u001b[0m \u001b[31m94.0 MB/s\u001b[0m eta \u001b[36m0:00:00\u001b[0m\n",
      "\u001b[2K   \u001b[90m━━━━━━━━━━━━━━━━━━━━━━━━━━━━━━━━━━━━━━━━\u001b[0m \u001b[32m177.6/177.6 kB\u001b[0m \u001b[31m15.8 MB/s\u001b[0m eta \u001b[36m0:00:00\u001b[0m\n",
      "\u001b[2K   \u001b[90m━━━━━━━━━━━━━━━━━━━━━━━━━━━━━━━━━━━━━━━━\u001b[0m \u001b[32m3.1/3.1 MB\u001b[0m \u001b[31m93.8 MB/s\u001b[0m eta \u001b[36m0:00:00\u001b[0m\n",
      "\u001b[2K   \u001b[90m━━━━━━━━━━━━━━━━━━━━━━━━━━━━━━━━━━━━━━━━\u001b[0m \u001b[32m3.6/3.6 MB\u001b[0m \u001b[31m118.8 MB/s\u001b[0m eta \u001b[36m0:00:00\u001b[0m\n",
      "\u001b[?25h\u001b[31mERROR: pip's dependency resolver does not currently take into account all the packages that are installed. This behaviour is the source of the following dependency conflicts.\n",
      "gcsfs 2025.3.0 requires fsspec==2025.3.0, but you have fsspec 2024.6.1 which is incompatible.\u001b[0m\u001b[31m\n",
      "\u001b[2K   \u001b[90m━━━━━━━━━━━━━━━━━━━━━━━━━━━━━━━━━━━━━━━━\u001b[0m \u001b[32m193.6/193.6 kB\u001b[0m \u001b[31m4.6 MB/s\u001b[0m eta \u001b[36m0:00:00\u001b[0m\n",
      "\u001b[?25h\u001b[31mERROR: pip's dependency resolver does not currently take into account all the packages that are installed. This behaviour is the source of the following dependency conflicts.\n",
      "datasets 2.21.0 requires fsspec[http]<=2024.6.1,>=2023.1.0, but you have fsspec 2025.3.0 which is incompatible.\u001b[0m\u001b[31m\n",
      "\u001b[0mdatasets: 2.21.0\n",
      "evaluate: 0.4.5\n",
      "transformers: 4.44.2\n",
      "fsspec: 2025.3.0\n",
      "gcsfs: 2025.3.0\n",
      "python: 3.12.11 (main, Jun  4 2025, 08:56:18) [GCC 11.4.0]\n"
     ]
    }
   ],
   "source": [
    "# 핵심 패키지(스트리밍 호환 버전)\n",
    "!pip -q install \"datasets<3.0.0\" \"evaluate<0.5.0\" \"transformers>=4.38,<4.45\" \\\n",
    "                huggingface_hub torchaudio jiwer soundfile\n",
    "\n",
    "# fsspec/gcsfs 충돌 정리\n",
    "!pip -q install -U fsspec==2025.3.0 gcsfs\n",
    "\n",
    "import datasets, evaluate, transformers, fsspec, gcsfs, sys\n",
    "print(\"datasets:\", datasets.__version__)    # ← 2.x 여야 OK\n",
    "print(\"evaluate:\", evaluate.__version__)    # ← 0.4.x 권장\n",
    "print(\"transformers:\", transformers.__version__)\n",
    "print(\"fsspec:\", fsspec.__version__)\n",
    "print(\"gcsfs:\", gcsfs.__version__)\n",
    "print(\"python:\", sys.version)"
   ]
  },
  {
   "cell_type": "code",
   "execution_count": 2,
   "metadata": {
    "colab": {
     "base_uri": "https://localhost:8080/",
     "height": 17,
     "referenced_widgets": [
      "12a28212a0f8414e9a01bf0a51682b3a",
      "93e464ec7dc74441841d09d23d216ec1",
      "6e90b2c664b841edb637a7d8ef06cfee",
      "c7533bcd455443eb9fa730da660d157d",
      "1a37098a2e6d458b975977219f77c787",
      "ddde1436ec8b4996a0c9f0a8075bc15e",
      "340b84b106474e20b10064d976987eb7",
      "99cf0116ebf44e5886a0a5451bd32874",
      "714f1a3dfa48457494f1b877e9622585",
      "8ae3f2556b254db2ad92b2e0cd2934ea",
      "0d50c765d87d4b08beb1adc33284f084",
      "ffd7123a4efb4d6eb8b815af655132f4",
      "b435c41b2a3847c7a33687d1c43e4d75",
      "631409584718479899b104a76226ca7c",
      "5ee126cb3fab418cbce6dc1eed38a309",
      "accdf1f6260b4af4909e1e63074fab57",
      "5ef864e2b727409492dd7f9e95c92d9b",
      "c9c3d9bcf3cd40d18caf649f9f4ead09",
      "cf2fc30892b2493c8ca309900ab5b661",
      "8f9894811301460cb2acb8b8d17eaf33"
     ]
    },
    "id": "ZXMP3Sj50jpk",
    "outputId": "1f7da312-ceea-47f4-dc3c-c43e479fa70a"
   },
   "outputs": [
    {
     "data": {
      "application/vnd.jupyter.widget-view+json": {
       "model_id": "12a28212a0f8414e9a01bf0a51682b3a",
       "version_major": 2,
       "version_minor": 0
      },
      "text/plain": [
       "VBox(children=(HTML(value='<center> <img\\nsrc=https://huggingface.co/front/assets/huggingface_logo-noborder.sv…"
      ]
     },
     "metadata": {},
     "output_type": "display_data"
    }
   ],
   "source": [
    "from huggingface_hub import notebook_login\n",
    "notebook_login()"
   ]
  },
  {
   "cell_type": "code",
   "execution_count": 3,
   "metadata": {
    "colab": {
     "base_uri": "https://localhost:8080/"
    },
    "id": "gwXxOGuM0c0J",
    "outputId": "967c29fe-3d3d-41b0-c3fd-8d5a91f7b2b1"
   },
   "outputs": [
    {
     "name": "stdout",
     "output_type": "stream",
     "text": [
      "Mounted at /content/drive\n"
     ]
    }
   ],
   "source": [
    "from google.colab import drive\n",
    "drive.mount(\"/content/drive\", force_remount=True)"
   ]
  },
  {
   "cell_type": "code",
   "execution_count": 4,
   "metadata": {
    "colab": {
     "base_uri": "https://localhost:8080/"
    },
    "id": "FWC7iARa0oaz",
    "outputId": "d24c2b68-93ea-4225-8c36-e973769111e0"
   },
   "outputs": [
    {
     "name": "stdout",
     "output_type": "stream",
     "text": [
      "Seed fixed to 42.\n"
     ]
    }
   ],
   "source": [
    "from datasets import load_dataset, Audio, Dataset, load_from_disk\n",
    "from transformers import WhisperProcessor, WhisperForConditionalGeneration, Seq2SeqTrainingArguments, Seq2SeqTrainer\n",
    "from evaluate import load\n",
    "import random\n",
    "import torch\n",
    "\n",
    "from dataclasses import dataclass\n",
    "from typing import Any, Dict, List, Union\n",
    "from evaluate import load as load_metric\n",
    "import pandas as pd\n",
    "import numpy as np\n",
    "\n",
    "# 2) 재현성 고정\n",
    "import os, random, numpy as np, torch\n",
    "SEED = 42\n",
    "random.seed(SEED)\n",
    "np.random.seed(SEED)\n",
    "torch.manual_seed(SEED)\n",
    "if torch.cuda.is_available():\n",
    "    torch.cuda.manual_seed_all(SEED)\n",
    "os.environ[\"PYTHONHASHSEED\"] = str(SEED)\n",
    "\n",
    "# 결정적 연산(권장)\n",
    "torch.backends.cudnn.deterministic = True\n",
    "torch.backends.cudnn.benchmark = False\n",
    "\n",
    "print(\"Seed fixed to {}.\".format(SEED))"
   ]
  },
  {
   "cell_type": "code",
   "execution_count": 5,
   "metadata": {
    "colab": {
     "base_uri": "https://localhost:8080/"
    },
    "id": "CkliQleA0pHN",
    "outputId": "f429414a-d12f-4a3e-b8b0-66c1b921bdbc"
   },
   "outputs": [
    {
     "name": "stdout",
     "output_type": "stream",
     "text": [
      "✅ Loading fixed splits from disk: /content/drive/MyDrive/data/asr_splits/cv16_v1\n",
      "{'train': 800, 'val': 400, 'test': 400}\n"
     ]
    }
   ],
   "source": [
    "n_train = 200\n",
    "n_val   = 100\n",
    "n_test  = 100\n",
    "\n",
    "langs = [\"ko\", \"ja\", \"en\", \"de\"]\n",
    "\n",
    "# =========================================================\n",
    "# (중요) 고정 split만 로드: 증강 실험과 동일 테스트셋 사용\n",
    "# =========================================================\n",
    "SPLIT_DIR = \"/content/drive/MyDrive/data/asr_splits/cv16_v1\"  # 네가 저장해 둔 경로\n",
    "required = [\"train\",\"val\",\"test\"]\n",
    "if not (os.path.isdir(SPLIT_DIR) and all(os.path.isdir(os.path.join(SPLIT_DIR, d)) for d in required)):\n",
    "    raise RuntimeError(f\"[STOP] Fixed splits not found under {SPLIT_DIR} (need subdirs: train/ val/ test/).\")\n",
    "\n",
    "print(\"✅ Loading fixed splits from disk:\", SPLIT_DIR)\n",
    "train_dataset = load_from_disk(os.path.join(SPLIT_DIR, \"train\"))\n",
    "val_dataset   = load_from_disk(os.path.join(SPLIT_DIR, \"val\"))\n",
    "test_dataset  = load_from_disk(os.path.join(SPLIT_DIR, \"test\"))\n",
    "print({ \"train\": len(train_dataset), \"val\": len(val_dataset), \"test\": len(test_dataset) })"
   ]
  },
  {
   "cell_type": "code",
   "execution_count": 6,
   "metadata": {
    "colab": {
     "base_uri": "https://localhost:8080/",
     "height": 493,
     "referenced_widgets": [
      "b953028c3e69436696103abb77301b51",
      "5f1e1f77c17b472abf0c585efed08711",
      "ab223568db5541b7a11fb44e0e975e6f",
      "dce878f42999493c97d86c02cb60025b",
      "3daf449838514c36adec91355c0ef052",
      "3a075d08fac441bbbc4bb863a19aac05",
      "e7c9790a74cb4d54b4ea7c3fdada5c10",
      "5c9d563cbd0f4e49857e9954090d7b4e",
      "0c287ecdbd2242c987b71641d632d90a",
      "fde590e9fac24554b110e40198174a04",
      "912bcc61d2b648a9b5bddb50cc3d8e44",
      "8b64adde80484a8ea7284f36820e3209",
      "bd750d5399334f0c95d2f4dbecca9c51",
      "73108dc6a5e64e5ebcc854f9a07ceff2",
      "281501d58aa94e50b3e30ee4509e261f",
      "12742abf2ddb4b25b25297477ee3ca79",
      "419e886aac4b4eacb1d4622f59177dbd",
      "679c969d05124014a3a52c8e98a2f0c4",
      "57f4ba4453d2442aaca7b3a6b0e9a301",
      "0c4c0bf1719b48a1b551cc3cd93f18db",
      "f92085052ee342159d58a88fdafc21df",
      "13b02739134d485792f7beef1cf52516",
      "fad4e988d986455292d0d76b1301ea97",
      "e0b3bf1bcec44ceaad33ecc905b83415",
      "831c27e88a334ee4bc5981af01fb4c05",
      "012b6b732e264e9499d06af93d003e68",
      "6536d0047ce34cd68c728c2788dd1d9d",
      "aeaf294b21db4a6692a9e9f47985389a",
      "d7c46be797464ba2bd902ae678727dca",
      "ac02eec3879240339a38fb8012bbecc5",
      "8b0c2fd6e9e14b788dff28e4fa3678b3",
      "930f2314f65c42e6954d93cfebf2295c",
      "d6cafeeb6ce14b1cbc756c5dcf3a8364",
      "625ab7aefd9f45f7a0a4f20a0395e937",
      "7ef2b8c805b145e39ead313e87f4a0d7",
      "e0b6113bbfb34d66a03d399543e863a9",
      "9b1a9fd0dff040c293b769a46524c39c",
      "891f6ecf6bcf454e9dcc49934e61189e",
      "022cc8c4b9a94d2ba685b75fc0dfd528",
      "aa965819a5ed410faac5ef5308024fbd",
      "ee4236ba029a4f92b94b998078a8e9ab",
      "66067d0ce9584bd19d278ad2318f7629",
      "3db80dab7cb94e03a676c5845c9de6fe",
      "a0fde255403540a885aa121904d80cfc",
      "c0b1dcfa8b1f42a7b2acc7d99ca2e413",
      "20742cd2e9784ddd8d869d708bec59da",
      "3766c5f8347047828c70fc089ac6aec5",
      "47684f23e735432faab0a5f50bccda44",
      "a6be58acb7304f14a3941bda0fe7b826",
      "4d0d699ecbcb4947902a04a65533ef21",
      "6c2ec03939c44b24b50dc4c90ad557d9",
      "4959903d47eb4735af792fa4a738919f",
      "78b12797ac614dd5abd795fb86167443",
      "f2d101477a4d4beb84250588d8c198b5",
      "5531cc2358d7447e901ffd855f7c1f4a",
      "7b04ae8ac8454f9687623f2496d9c58f",
      "63818ec475b342359aed06d02e81db99",
      "b19b0ac88c8446e096fe9840bea0f14b",
      "b9a7f74b1b94434995e9faee3ac38d31",
      "3f026d2ea1aa4280b98138ecf93fdb55",
      "493b65897151422480e03f3258492146",
      "21213d7a52e441829ee79518ad526eea",
      "4faf5be5b1834222a2ba47a373266803",
      "6300ceebdf294d0c9bb6b33e83d34a0f",
      "f1956cc4e0874c2b8af3698346e53267",
      "605b96b8ca1148ac9cdfed8f3531fddc",
      "936a458433bf4059b1155cba6817bf22",
      "77106f1e5a9840ab8d7fcc606f71cdfc",
      "a01ec517d6104c09babfe26051c08e01",
      "95181edf0aa34b38be26a4b6f603abf2",
      "5dd57a43cb4f41d1b380a2cd010a980f",
      "0b73327911f54018b3536f156773e846",
      "3693fb192ffa468cbef623a26d544f39",
      "fed174503b134fc39ef4dbbd0fe16679",
      "bb200d58d95048a5823f6388b7c513e4",
      "24188dc4a093478fbbc1f31dba90d774",
      "fb6ca742a9944728b20a7dbb7ac09044",
      "8f719c46193749edac60335dfe2b2b42",
      "0b5c375a17404bb4a3f3f3844d812793",
      "da8968b4f27a4a26a8b0ad9afde84bfa",
      "f78fef570ec2494bb6feb714eafa30db",
      "dc12ec2567f442bcac6371a4671cc0de",
      "cf8df228a1a54791aafc6b387a1b6b3a",
      "b02c54a21a2a49f6a993fec04cfbb9a7",
      "41319b7c857c4a8ebd0933abc84cad2f",
      "2c66574bd61942e4859ef716758c57d5",
      "da8846f83fca4b8082eb7f3675bd830d",
      "b39d9ffc46a9401087c65e69c33a7f57",
      "6a68db4438c64bbbbf3a2a970dd21100",
      "6eea49aa816a44df94412f96cb896e09",
      "dfc9f080f4fc488487b8330dd0d7b0d2",
      "390907a60bb44dfbb413c2d1bb78ce7f",
      "3f4649dbb0cc46dd9b2bbf342476e3aa",
      "211402d39c48435eb6ec16acd5c4d9cb",
      "e23786daf45b4757b55c144ff991d4ef",
      "361eaf93283d41578f500e5b595886b6",
      "a47736aa49c64d16a81a5b3174969093",
      "083f3015a2914985ae0a0b7d2faec290",
      "f568cf332b57419f86d747038a28a08a",
      "5474d232e06948af9cec0c2db670c3de",
      "4c5bb06b85b446dfb266487a2796bf97",
      "3be12a965c4743c1b2071035882e5260",
      "658ca38cb31e45e7b6fe52dd5fc116dd",
      "74a0d29c730d4840b2dea059b34faf36",
      "89aa7f8de2714e6594fc37bc09cd638a",
      "0ca91170317248f3b9b28b9bbbc7c46e",
      "e3ee3e8a7bcf451eba60005bb017fd54",
      "81213d4a647342338876154a98c74a32",
      "2dc669f777f7479ca4ad0a8822218897",
      "b4a05126a5b044ef97c39c7992606835",
      "fb40d7cc6cb645499480ecf2c4a83d82",
      "7346b3b234f6478f87c95386e1a93e6b",
      "496f55b11fef4f0b8684852dfd740473",
      "23cb4682398a4d57be7d35b1f8351038",
      "1085e5a08fe8449f878e8d48a5d645ff",
      "2a7cef787321493abbc8f3aeee079200",
      "ba23eb4c22f44f78a7881c144fe27a13",
      "177f233bc4b641328e35dda1e6c1cb77",
      "60e16339dc4a41d180373cefbee72d06",
      "580a254723e04d969c8db22f3b64bf47",
      "822bc710c2f54eb6b395ab19c9c507f8"
     ]
    },
    "id": "GlDk4dlz0tnv",
    "outputId": "88943443-b036-4e48-ebc7-b4612c195a51"
   },
   "outputs": [
    {
     "name": "stderr",
     "output_type": "stream",
     "text": [
      "/usr/local/lib/python3.12/dist-packages/huggingface_hub/utils/_auth.py:94: UserWarning: \n",
      "The secret `HF_TOKEN` does not exist in your Colab secrets.\n",
      "To authenticate with the Hugging Face Hub, create a token in your settings tab (https://huggingface.co/settings/tokens), set it as secret in your Google Colab and restart your session.\n",
      "You will be able to reuse this secret in all of your notebooks.\n",
      "Please note that authentication is recommended but still optional to access public models or datasets.\n",
      "  warnings.warn(\n"
     ]
    },
    {
     "data": {
      "application/vnd.jupyter.widget-view+json": {
       "model_id": "b953028c3e69436696103abb77301b51",
       "version_major": 2,
       "version_minor": 0
      },
      "text/plain": [
       "preprocessor_config.json: 0.00B [00:00, ?B/s]"
      ]
     },
     "metadata": {},
     "output_type": "display_data"
    },
    {
     "data": {
      "application/vnd.jupyter.widget-view+json": {
       "model_id": "8b64adde80484a8ea7284f36820e3209",
       "version_major": 2,
       "version_minor": 0
      },
      "text/plain": [
       "tokenizer_config.json: 0.00B [00:00, ?B/s]"
      ]
     },
     "metadata": {},
     "output_type": "display_data"
    },
    {
     "data": {
      "application/vnd.jupyter.widget-view+json": {
       "model_id": "fad4e988d986455292d0d76b1301ea97",
       "version_major": 2,
       "version_minor": 0
      },
      "text/plain": [
       "vocab.json: 0.00B [00:00, ?B/s]"
      ]
     },
     "metadata": {},
     "output_type": "display_data"
    },
    {
     "data": {
      "application/vnd.jupyter.widget-view+json": {
       "model_id": "625ab7aefd9f45f7a0a4f20a0395e937",
       "version_major": 2,
       "version_minor": 0
      },
      "text/plain": [
       "tokenizer.json: 0.00B [00:00, ?B/s]"
      ]
     },
     "metadata": {},
     "output_type": "display_data"
    },
    {
     "data": {
      "application/vnd.jupyter.widget-view+json": {
       "model_id": "c0b1dcfa8b1f42a7b2acc7d99ca2e413",
       "version_major": 2,
       "version_minor": 0
      },
      "text/plain": [
       "merges.txt: 0.00B [00:00, ?B/s]"
      ]
     },
     "metadata": {},
     "output_type": "display_data"
    },
    {
     "data": {
      "application/vnd.jupyter.widget-view+json": {
       "model_id": "7b04ae8ac8454f9687623f2496d9c58f",
       "version_major": 2,
       "version_minor": 0
      },
      "text/plain": [
       "normalizer.json: 0.00B [00:00, ?B/s]"
      ]
     },
     "metadata": {},
     "output_type": "display_data"
    },
    {
     "data": {
      "application/vnd.jupyter.widget-view+json": {
       "model_id": "936a458433bf4059b1155cba6817bf22",
       "version_major": 2,
       "version_minor": 0
      },
      "text/plain": [
       "added_tokens.json: 0.00B [00:00, ?B/s]"
      ]
     },
     "metadata": {},
     "output_type": "display_data"
    },
    {
     "data": {
      "application/vnd.jupyter.widget-view+json": {
       "model_id": "8f719c46193749edac60335dfe2b2b42",
       "version_major": 2,
       "version_minor": 0
      },
      "text/plain": [
       "special_tokens_map.json: 0.00B [00:00, ?B/s]"
      ]
     },
     "metadata": {},
     "output_type": "display_data"
    },
    {
     "data": {
      "application/vnd.jupyter.widget-view+json": {
       "model_id": "6a68db4438c64bbbbf3a2a970dd21100",
       "version_major": 2,
       "version_minor": 0
      },
      "text/plain": [
       "Map:   0%|          | 0/800 [00:00<?, ? examples/s]"
      ]
     },
     "metadata": {},
     "output_type": "display_data"
    },
    {
     "data": {
      "application/vnd.jupyter.widget-view+json": {
       "model_id": "5474d232e06948af9cec0c2db670c3de",
       "version_major": 2,
       "version_minor": 0
      },
      "text/plain": [
       "Map:   0%|          | 0/400 [00:00<?, ? examples/s]"
      ]
     },
     "metadata": {},
     "output_type": "display_data"
    },
    {
     "data": {
      "application/vnd.jupyter.widget-view+json": {
       "model_id": "fb40d7cc6cb645499480ecf2c4a83d82",
       "version_major": 2,
       "version_minor": 0
      },
      "text/plain": [
       "Map:   0%|          | 0/400 [00:00<?, ? examples/s]"
      ]
     },
     "metadata": {},
     "output_type": "display_data"
    }
   ],
   "source": [
    "model_checkpoint = \"openai/whisper-base\"\n",
    "\n",
    "processor = WhisperProcessor.from_pretrained(model_checkpoint)\n",
    "feature_extractor = processor.feature_extractor\n",
    "tokenizer = processor.tokenizer\n",
    "\n",
    "# 16kHz 캐스팅\n",
    "train_dataset = train_dataset.cast_column(\"audio\", Audio(sampling_rate=16000))\n",
    "val_dataset   = val_dataset.cast_column(\"audio\",   Audio(sampling_rate=16000))\n",
    "test_dataset  = test_dataset.cast_column(\"audio\",  Audio(sampling_rate=16000))\n",
    "\n",
    "def prepare_dataset(example):\n",
    "    audio = example[\"audio\"]\n",
    "    example[\"input_features\"] = processor.feature_extractor(\n",
    "        audio[\"array\"], sampling_rate=16000\n",
    "    ).input_features[0]\n",
    "    example[\"labels\"] = processor.tokenizer(example[\"sentence\"]).input_ids\n",
    "    return example\n",
    "\n",
    "keep_cols = {\"input_features\", \"labels\", \"locale\"}\n",
    "\n",
    "processed_dataset_train = train_dataset.map(\n",
    "    prepare_dataset,\n",
    "    remove_columns=[c for c in train_dataset.column_names if c not in keep_cols]\n",
    ")\n",
    "processed_dataset_val = val_dataset.map(\n",
    "    prepare_dataset,\n",
    "    remove_columns=[c for c in val_dataset.column_names if c not in keep_cols]\n",
    ")\n",
    "processed_dataset_test = test_dataset.map(\n",
    "    prepare_dataset,\n",
    "    remove_columns=[c for c in test_dataset.column_names if c not in keep_cols]\n",
    ")\n",
    "\n",
    "processed_dataset_train.set_format(columns=[\"input_features\", \"labels\", \"locale\"])\n",
    "processed_dataset_val.set_format(columns=[\"input_features\", \"labels\", \"locale\"])\n",
    "processed_dataset_test.set_format(columns=[\"input_features\", \"labels\", \"locale\"])"
   ]
  },
  {
   "cell_type": "code",
   "execution_count": 7,
   "metadata": {
    "colab": {
     "base_uri": "https://localhost:8080/",
     "height": 528,
     "referenced_widgets": [
      "bbc70ba69098498fbc0449f4626b9110",
      "c7da6e5d99604d4a87cfb6ea645249c2",
      "d04191e7b27540b1b544d473152907f2",
      "860a544642054afaa7d6b793e2708fb5",
      "3d69e91a1e7d4ec9a44f8f8bc04dd138",
      "65d5b3b204f04b25b5e639e6183d7966",
      "ced1ca286b8545ccbf978d36aff0d4de",
      "4bcd34228bea4782a5772276702174c9",
      "292cc128029e4a1599acedd508286cc6",
      "e91c90c2f2364395b55d6b761f7786b4",
      "dc049e78cab34fd5a50a86d1aff5c6e8",
      "feba9cf1bc9d4269ad70e8c66a03f548",
      "12af9a3ee7da4ab2ab0999250f195d16",
      "307f3e675b35421abc4dcaa1fa9cdf89",
      "af9b76455cbc457583abe03ef35da8b5",
      "0cce43e6e1d9483caa97014f6f3f9f07",
      "4a3e5f397b674e5aa99748e316fe65dd",
      "668368aae5d64af397aa07b6f8e1626e",
      "382d70bb7ffb4ad1af2dfcd2b736e526",
      "cec456b87976494db65f26cb4a74b7db",
      "460f641abccd47c39216f71e5188972b",
      "b411d8b0a256495fb958723fc683e0cd",
      "28d332ae26f34b1690a740eeabf07510",
      "4b9d14bfa4244fa4bc05227034f17e8f",
      "53de5e03042149e9a3945004f040dd76",
      "4de5e72f66874c389ad555c3aaff1e15",
      "36166ce7c32e43388ca45150c98db616",
      "1636081064cb49c0a791ec30008c5b6b",
      "61b9639db9a84a25912fa0bab6f20f68",
      "95c4564b687b42ae85fbd50b44c604fb",
      "ed4ee12b239449788f090b6178de2973",
      "cc0ac2aabaec47579800024b490c3f40",
      "adda78d484244d22ac0349aec733f9db"
     ]
    },
    "id": "ysFzbuf40uG5",
    "outputId": "fdfcd7cc-f05b-4b82-8f4c-c7acbed7d58c"
   },
   "outputs": [
    {
     "data": {
      "application/vnd.jupyter.widget-view+json": {
       "model_id": "bbc70ba69098498fbc0449f4626b9110",
       "version_major": 2,
       "version_minor": 0
      },
      "text/plain": [
       "config.json: 0.00B [00:00, ?B/s]"
      ]
     },
     "metadata": {},
     "output_type": "display_data"
    },
    {
     "data": {
      "application/vnd.jupyter.widget-view+json": {
       "model_id": "feba9cf1bc9d4269ad70e8c66a03f548",
       "version_major": 2,
       "version_minor": 0
      },
      "text/plain": [
       "model.safetensors:   0%|          | 0.00/290M [00:00<?, ?B/s]"
      ]
     },
     "metadata": {},
     "output_type": "display_data"
    },
    {
     "data": {
      "application/vnd.jupyter.widget-view+json": {
       "model_id": "28d332ae26f34b1690a740eeabf07510",
       "version_major": 2,
       "version_minor": 0
      },
      "text/plain": [
       "generation_config.json: 0.00B [00:00, ?B/s]"
      ]
     },
     "metadata": {},
     "output_type": "display_data"
    },
    {
     "name": "stderr",
     "output_type": "stream",
     "text": [
      "/usr/local/lib/python3.12/dist-packages/transformers/training_args.py:1525: FutureWarning: `evaluation_strategy` is deprecated and will be removed in version 4.46 of 🤗 Transformers. Use `eval_strategy` instead\n",
      "  warnings.warn(\n"
     ]
    },
    {
     "data": {
      "text/html": [
       "\n",
       "    <div>\n",
       "      \n",
       "      <progress value='300' max='300' style='width:300px; height:20px; vertical-align: middle;'></progress>\n",
       "      [300/300 07:54, Epoch 3/3]\n",
       "    </div>\n",
       "    <table border=\"1\" class=\"dataframe\">\n",
       "  <thead>\n",
       " <tr style=\"text-align: left;\">\n",
       "      <th>Epoch</th>\n",
       "      <th>Training Loss</th>\n",
       "      <th>Validation Loss</th>\n",
       "    </tr>\n",
       "  </thead>\n",
       "  <tbody>\n",
       "    <tr>\n",
       "      <td>1</td>\n",
       "      <td>0.825500</td>\n",
       "      <td>0.813608</td>\n",
       "    </tr>\n",
       "    <tr>\n",
       "      <td>2</td>\n",
       "      <td>0.215200</td>\n",
       "      <td>0.786639</td>\n",
       "    </tr>\n",
       "    <tr>\n",
       "      <td>3</td>\n",
       "      <td>0.037000</td>\n",
       "      <td>0.782506</td>\n",
       "    </tr>\n",
       "  </tbody>\n",
       "</table><p>"
      ],
      "text/plain": [
       "<IPython.core.display.HTML object>"
      ]
     },
     "metadata": {},
     "output_type": "display_data"
    },
    {
     "name": "stderr",
     "output_type": "stream",
     "text": [
      "Some non-default generation parameters are set in the model config. These should go into a GenerationConfig file (https://huggingface.co/docs/transformers/generation_strategies#save-a-custom-decoding-strategy-with-your-model) instead. This warning will be raised to an exception in v4.41.\n",
      "Non-default generation parameters: {'max_length': 448, 'suppress_tokens': [], 'begin_suppress_tokens': [220, 50257]}\n",
      "Some non-default generation parameters are set in the model config. These should go into a GenerationConfig file (https://huggingface.co/docs/transformers/generation_strategies#save-a-custom-decoding-strategy-with-your-model) instead. This warning will be raised to an exception in v4.41.\n",
      "Non-default generation parameters: {'max_length': 448, 'suppress_tokens': [], 'begin_suppress_tokens': [220, 50257]}\n",
      "Some non-default generation parameters are set in the model config. These should go into a GenerationConfig file (https://huggingface.co/docs/transformers/generation_strategies#save-a-custom-decoding-strategy-with-your-model) instead. This warning will be raised to an exception in v4.41.\n",
      "Non-default generation parameters: {'max_length': 448, 'suppress_tokens': [], 'begin_suppress_tokens': [220, 50257]}\n",
      "Some non-default generation parameters are set in the model config. These should go into a GenerationConfig file (https://huggingface.co/docs/transformers/generation_strategies#save-a-custom-decoding-strategy-with-your-model) instead. This warning will be raised to an exception in v4.41.\n",
      "Non-default generation parameters: {'max_length': 448, 'suppress_tokens': [], 'begin_suppress_tokens': [220, 50257]}\n",
      "There were missing keys in the checkpoint model loaded: ['proj_out.weight'].\n",
      "Some non-default generation parameters are set in the model config. These should go into a GenerationConfig file (https://huggingface.co/docs/transformers/generation_strategies#save-a-custom-decoding-strategy-with-your-model) instead. This warning will be raised to an exception in v4.41.\n",
      "Non-default generation parameters: {'max_length': 448, 'suppress_tokens': [], 'begin_suppress_tokens': [220, 50257]}\n"
     ]
    },
    {
     "data": {
      "text/plain": [
       "[]"
      ]
     },
     "execution_count": 7,
     "metadata": {},
     "output_type": "execute_result"
    }
   ],
   "source": [
    "import torch\n",
    "from torch import nn\n",
    "from transformers import WhisperForConditionalGeneration\n",
    "\n",
    "model = WhisperForConditionalGeneration.from_pretrained(model_checkpoint)\n",
    "# 학습 중 캐시 비활성(메모리/안정성)\n",
    "model.config.use_cache = False\n",
    "# 평가 때 경고 줄이기용(안전)\n",
    "start_id = processor.tokenizer.convert_tokens_to_ids(\"<|startoftranscript|>\")\n",
    "model.config.decoder_start_token_id = start_id\n",
    "model.generation_config.decoder_start_token_id = start_id\n",
    "model.config.pad_token_id = processor.tokenizer.pad_token_id\n",
    "model.generation_config.pad_token_id = processor.tokenizer.pad_token_id\n",
    "# 학습 중 언어 강제 OFF (평가 시만 ON)\n",
    "model.config.forced_decoder_ids = None\n",
    "model.config.suppress_tokens = []\n",
    "\n",
    "from dataclasses import dataclass\n",
    "\n",
    "@dataclass\n",
    "class DataCollatorSpeechSeq2SeqWithPadding:\n",
    "    processor: Any\n",
    "    padding: Union[bool, str] = True\n",
    "    def __call__(self, features: List[Dict[str, Union[List[int], torch.Tensor]]]) -> Dict[str, torch.Tensor]:\n",
    "        input_features = [{\"input_features\": f[\"input_features\"]} for f in features]\n",
    "        label_features = [{\"input_ids\": f[\"labels\"]} for f in features]\n",
    "        batch = self.processor.feature_extractor.pad(input_features, return_tensors=\"pt\")\n",
    "        labels_batch = self.processor.tokenizer.pad(label_features, return_tensors=\"pt\")\n",
    "        labels = labels_batch[\"input_ids\"].masked_fill(labels_batch.attention_mask.ne(1), -100)\n",
    "        batch[\"labels\"] = labels\n",
    "        return batch\n",
    "\n",
    "data_collator = DataCollatorSpeechSeq2SeqWithPadding(processor=processor)\n",
    "\n",
    "from transformers import Seq2SeqTrainingArguments, Seq2SeqTrainer\n",
    "\n",
    "training_args = Seq2SeqTrainingArguments(\n",
    "    output_dir=\"./whisper-base-finetuned\",\n",
    "    per_device_train_batch_size=4,\n",
    "    gradient_accumulation_steps=2,\n",
    "    learning_rate=5e-5,\n",
    "    num_train_epochs=3,\n",
    "    logging_steps=10,\n",
    "    save_steps=50,\n",
    "    fp16=torch.cuda.is_available(),\n",
    "    report_to=\"none\",\n",
    "\n",
    "    predict_with_generate=True,    # ★ generate() 기반 평가\n",
    "    generation_max_length=225,\n",
    "    # 아래 3개 켜면 epoch별 평가/저장/베스트모델 사용 가능(그래프용)\n",
    "    evaluation_strategy=\"epoch\",\n",
    "    save_strategy=\"epoch\",\n",
    "    load_best_model_at_end=True,\n",
    "\n",
    "    remove_unused_columns=False,   # input_features 보존\n",
    ")\n",
    "\n",
    "trainer = Seq2SeqTrainer(\n",
    "    model=model,\n",
    "    args=training_args,\n",
    "    train_dataset=processed_dataset_train,\n",
    "    eval_dataset=processed_dataset_val,   # ← 학습 중 평가는 여전히 VAL\n",
    "    tokenizer=processor,\n",
    "    data_collator=data_collator,\n",
    ")\n",
    "\n",
    "trainer.train()\n",
    "\n",
    "trainer.save_model(\"./whisper-base-finetuned\")\n",
    "processor.save_pretrained(\"./whisper-base-finetuned\")"
   ]
  },
  {
   "cell_type": "code",
   "execution_count": 8,
   "metadata": {
    "colab": {
     "base_uri": "https://localhost:8080/",
     "height": 1000,
     "referenced_widgets": [
      "2dc0be6d90b1438592141cd8b3c49283",
      "39f4fdac30434618b9f47e312da5e285",
      "e057c7c5293f4516bdc3e764579157eb",
      "4d8f886c266f4179961ab4c9b7cd5205",
      "f479b6562c9d4fd8ba20375266c5ec6c",
      "d0fc577bfda04e589eb9893518b92c93",
      "82e67eaefbd1489e975e4da58765be17",
      "3d7e41455497445c9fa41e951f1650cc",
      "1f521e9239f84d2fbe385d78d70ed493",
      "538013071b4d4d97b384429799012d44",
      "efab1f82647f43c8ab35eafb37479b05",
      "62fbfeb7b24e479faf65617bf47173e0",
      "cc2a40f8c49f4d2b83d4c0e53a923751",
      "e7942276c6794dbca72bbdd57f21ddc3",
      "7f542aa4fbf142b0aa92ccf8983722ae",
      "00fe7d1a56a94047a9c0619bcd84c6e8",
      "d47263b3072f47269ba1fed21c219f9c",
      "ac6750edbd4c44c5bdc9fffce8817769",
      "0cb8632cc26b4eaa91adee45f727318d",
      "5c9dec3c2b8b4978ab2a55e04f39f84c",
      "9b44652fe8a04c04b9988878ef355695",
      "55236b05ead146cfbb5b8f264f2e09eb",
      "8b0e253b9a724479956dcead00a72b68",
      "31bdc71aea624a44ad8e0fb1b1f23b91",
      "c70eb835f92e49d5bad4b2d9ccdf587c",
      "0684d59f2d8f4aaf93c4eb76c2fc305f",
      "4b945d878a4c4c1987673cea5afee235",
      "220058c4126d4188ad2d3e7fae0ab466",
      "c41d28ea1c2c4481beb6906e58150c59",
      "0258d8c8e0474a8b8f01365d7b762e96",
      "9efc3022437d4167be4fc54c618e7cb4",
      "e540527a8dd046838354aadc543cc58b",
      "9831c94647fc4a5da6f0be54d1b4c977",
      "e8d4b514de4145f48e2f8f374e7c119d",
      "6bc3fc549b5640a382cfca965ab77430",
      "28282e9f9c884f6c8965054b3e75ff27",
      "69cf274686cf484fa4413cdf258f19cd",
      "4dd0cedd8932453aab2e2752ec88ab20",
      "528854326b81431794aa278515b8d2be",
      "ce8cb0dd7c6f49d0ac0ee45ed6d03dd2",
      "0f91aa19884b4c6a80514e2b30885215",
      "ee000b9264af4ae3bb746288de459d5b",
      "a40289fbcb04404590d0df831f475e78",
      "6c5713624ac8440d95a358cb8b4edc0e",
      "842b6ebea97a4f89b18d96225a3c994b",
      "fb38008bd5b8439dbb546ddeeb06f3cd",
      "799a3ec052a347f4ad7bf0bc1348e6b9",
      "138aeb3da45548cab7028f7c1f2af3ac",
      "bdc3a99594a948308bf00653f7c3054f",
      "7fdd973e44cd45118d1e6bbf40f2be5e",
      "e97298814ff24a378c20e3078b486a70",
      "00448d7b72944b97af86531d4a0c0096",
      "c6c370592e844aab90a66f6baabc3bf9",
      "13d6a4dada1c4846972bba4cb89cfb95",
      "d653f5cb74f845e882bab1d192eebf93",
      "a8860bd295df42d3856970efe38902ff",
      "b5a7f983f9074f7daa3b28764d86658f",
      "7efefd1c6e9a4295920de6924c56d64f",
      "1019ed6de9f94f46a4fc9e552f38b75f",
      "46763e1d375d4159aa640b02166c3e25",
      "963d566925724596bd1bc9082a52a5d6",
      "60fdd47c368944a4baf7a1863a93e7c6",
      "75c6708aa55a49d098d18b389356736d",
      "5ec4185ec2c441448d7883167fd16366",
      "3ac17ac61e694e4796c92742e4a9a809",
      "c6d009e6a0f24e158de49f88b3ef2d4f"
     ]
    },
    "id": "Kz5h4rE900xf",
    "outputId": "922bfdab-25e4-4ed9-8ba8-69129f8ba9a1"
   },
   "outputs": [
    {
     "data": {
      "application/vnd.jupyter.widget-view+json": {
       "model_id": "2dc0be6d90b1438592141cd8b3c49283",
       "version_major": 2,
       "version_minor": 0
      },
      "text/plain": [
       "Filter:   0%|          | 0/400 [00:00<?, ? examples/s]"
      ]
     },
     "metadata": {},
     "output_type": "display_data"
    },
    {
     "data": {
      "application/vnd.jupyter.widget-view+json": {
       "model_id": "62fbfeb7b24e479faf65617bf47173e0",
       "version_major": 2,
       "version_minor": 0
      },
      "text/plain": [
       "Filter:   0%|          | 0/400 [00:00<?, ? examples/s]"
      ]
     },
     "metadata": {},
     "output_type": "display_data"
    },
    {
     "data": {
      "application/vnd.jupyter.widget-view+json": {
       "model_id": "8b0e253b9a724479956dcead00a72b68",
       "version_major": 2,
       "version_minor": 0
      },
      "text/plain": [
       "Filter:   0%|          | 0/400 [00:00<?, ? examples/s]"
      ]
     },
     "metadata": {},
     "output_type": "display_data"
    },
    {
     "data": {
      "application/vnd.jupyter.widget-view+json": {
       "model_id": "e8d4b514de4145f48e2f8f374e7c119d",
       "version_major": 2,
       "version_minor": 0
      },
      "text/plain": [
       "Filter:   0%|          | 0/400 [00:00<?, ? examples/s]"
      ]
     },
     "metadata": {},
     "output_type": "display_data"
    },
    {
     "name": "stdout",
     "output_type": "stream",
     "text": [
      "🔎 Evaluating on: TEST split (fixed)\n"
     ]
    },
    {
     "data": {
      "application/vnd.jupyter.widget-view+json": {
       "model_id": "842b6ebea97a4f89b18d96225a3c994b",
       "version_major": 2,
       "version_minor": 0
      },
      "text/plain": [
       "Downloading builder script: 0.00B [00:00, ?B/s]"
      ]
     },
     "metadata": {},
     "output_type": "display_data"
    },
    {
     "data": {
      "application/vnd.jupyter.widget-view+json": {
       "model_id": "a8860bd295df42d3856970efe38902ff",
       "version_major": 2,
       "version_minor": 0
      },
      "text/plain": [
       "Downloading builder script: 0.00B [00:00, ?B/s]"
      ]
     },
     "metadata": {},
     "output_type": "display_data"
    },
    {
     "name": "stdout",
     "output_type": "stream",
     "text": [
      "\n",
      "🌍 Language: KO\n"
     ]
    },
    {
     "name": "stderr",
     "output_type": "stream",
     "text": [
      "The attention mask is not set and cannot be inferred from input because pad token is same as eos token. As a consequence, you may observe unexpected behavior. Please pass your input's `attention_mask` to obtain reliable results.\n"
     ]
    },
    {
     "data": {
      "text/html": [],
      "text/plain": [
       "<IPython.core.display.HTML object>"
      ]
     },
     "metadata": {},
     "output_type": "display_data"
    },
    {
     "name": "stdout",
     "output_type": "stream",
     "text": [
      "🔹Pred: 그러나 실제로 뽑은 숫자는 지난 주의 비취지 못한 것으로 나타났다.\n",
      "🔸Ref : 그러나 실제로 뽑은 숫자는 지난 주에 미치지 못한 것으로 나타났다.\n",
      "---\n",
      "🔹Pred:  싱아때는 이렇게 말하며 유서방을 겹붉은 질해보았다.\n",
      "🔸Ref : 싱앗대는 이렇게 말하며 유서방을 곁눈질해 보았다.\n",
      "---\n",
      "🔹Pred:  신철이는 어짖지 보면 감정을 가진 사람같이 안아보었다.\n",
      "🔸Ref : 신철이는 어찌 보면 감정을 가진 사람 같지 않아 보였다.\n",
      "---\n",
      "✅ KO WER: 0.5167\n",
      "✅ KO CER: 0.2431\n",
      "\n",
      "🌍 Language: EN\n"
     ]
    },
    {
     "data": {
      "text/html": [],
      "text/plain": [
       "<IPython.core.display.HTML object>"
      ]
     },
     "metadata": {},
     "output_type": "display_data"
    },
    {
     "name": "stdout",
     "output_type": "stream",
     "text": [
      "🔹Pred:  Hello, this was a large period, along with the class of two smaller students, but now the period of class has become much more successful.\n",
      "🔸Ref : Enoxaparin belongs to the class of drugs known as low molecular weight heparins.\n",
      "---\n",
      "🔹Pred:  Eibed.\n",
      "🔸Ref : eight\n",
      "---\n",
      "🔹Pred:  W.\n",
      "🔸Ref : Do you mean it?\n",
      "---\n",
      "✅ EN WER: 0.3810\n",
      "✅ EN CER: 0.2061\n",
      "\n",
      "🌍 Language: JA\n"
     ]
    },
    {
     "data": {
      "text/html": [],
      "text/plain": [
       "<IPython.core.display.HTML object>"
      ]
     },
     "metadata": {},
     "output_type": "display_data"
    },
    {
     "name": "stdout",
     "output_type": "stream",
     "text": [
      "🔹Pred: 福島県非論の町\n",
      "🔸Ref : 福島県広野町\n",
      "---\n",
      "🔹Pred: だがことはある。\n",
      "🔸Ref : だが断る\n",
      "---\n",
      "🔹Pred: そして、いくら、見舞いとしても君のあるければ、我々の帰って、その髪をじっと見つめないではいられませんでした。\n",
      "🔸Ref : そして、いくら見まいとしても、きみが悪ければ悪いほど、かえってその影を、じっと見つめないではいられませんでした。\n",
      "---\n",
      "✅ JA WER: 0.9730\n",
      "✅ JA CER: 0.4971\n",
      "\n",
      "🌍 Language: DE\n"
     ]
    },
    {
     "data": {
      "text/html": [],
      "text/plain": [
       "<IPython.core.display.HTML object>"
      ]
     },
     "metadata": {},
     "output_type": "display_data"
    },
    {
     "name": "stdout",
     "output_type": "stream",
     "text": [
      "🔹Pred:  Wenn nicht, dann legt man sie hier in den Furchtien, wo Platz ist.\n",
      "🔸Ref : Wenn nicht, dann legt man sie irgendwo hin, wo Platz ist.\n",
      "---\n",
      "🔹Pred:  Wie ist die derzeitige Verkehrssituation?\n",
      "🔸Ref : Wie ist die derzeitige Verkehrssituation?\n",
      "---\n",
      "🔹Pred:  Das sind für 10 Sassakten der Hexin für Fri合burgungs- und Kino-Authentische Tätsel bekommen.\n",
      "🔸Ref : Aus den Prozessakten der Hexenverfolgung sind keine authentischen Rezepte bekannt.\n",
      "---\n",
      "✅ DE WER: 0.5638\n",
      "✅ DE CER: 0.2813\n"
     ]
    },
    {
     "data": {
      "application/vnd.google.colaboratory.intrinsic+json": {
       "summary": "{\n  \"name\": \"df_base\",\n  \"rows\": 4,\n  \"fields\": [\n    {\n      \"column\": \"lang\",\n      \"properties\": {\n        \"dtype\": \"string\",\n        \"num_unique_values\": 4,\n        \"samples\": [\n          \"en\",\n          \"ko\",\n          \"de\"\n        ],\n        \"semantic_type\": \"\",\n        \"description\": \"\"\n      }\n    },\n    {\n      \"column\": \"WER\",\n      \"properties\": {\n        \"dtype\": \"number\",\n        \"std\": 0.2549670434700979,\n        \"min\": 0.38100558659217876,\n        \"max\": 0.972972972972973,\n        \"num_unique_values\": 4,\n        \"samples\": [\n          0.38100558659217876,\n          0.5166889185580774,\n          0.5637663885578069\n        ],\n        \"semantic_type\": \"\",\n        \"description\": \"\"\n      }\n    },\n    {\n      \"column\": \"CER\",\n      \"properties\": {\n        \"dtype\": \"number\",\n        \"std\": 0.13045357007343877,\n        \"min\": 0.2060885239335069,\n        \"max\": 0.4970873786407767,\n        \"num_unique_values\": 4,\n        \"samples\": [\n          0.2060885239335069,\n          0.24312896405919662,\n          0.28133704735376047\n        ],\n        \"semantic_type\": \"\",\n        \"description\": \"\"\n      }\n    },\n    {\n      \"column\": \"N\",\n      \"properties\": {\n        \"dtype\": \"number\",\n        \"std\": 0,\n        \"min\": 100,\n        \"max\": 100,\n        \"num_unique_values\": 1,\n        \"samples\": [\n          100\n        ],\n        \"semantic_type\": \"\",\n        \"description\": \"\"\n      }\n    }\n  ]\n}",
       "type": "dataframe",
       "variable_name": "df_base"
      },
      "text/html": [
       "\n",
       "  <div id=\"df-2b6db8ce-e898-4ac4-9ba0-7175a89b18d9\" class=\"colab-df-container\">\n",
       "    <div>\n",
       "<style scoped>\n",
       "    .dataframe tbody tr th:only-of-type {\n",
       "        vertical-align: middle;\n",
       "    }\n",
       "\n",
       "    .dataframe tbody tr th {\n",
       "        vertical-align: top;\n",
       "    }\n",
       "\n",
       "    .dataframe thead th {\n",
       "        text-align: right;\n",
       "    }\n",
       "</style>\n",
       "<table border=\"1\" class=\"dataframe\">\n",
       "  <thead>\n",
       "    <tr style=\"text-align: right;\">\n",
       "      <th></th>\n",
       "      <th>lang</th>\n",
       "      <th>WER</th>\n",
       "      <th>CER</th>\n",
       "      <th>N</th>\n",
       "    </tr>\n",
       "  </thead>\n",
       "  <tbody>\n",
       "    <tr>\n",
       "      <th>3</th>\n",
       "      <td>de</td>\n",
       "      <td>0.563766</td>\n",
       "      <td>0.281337</td>\n",
       "      <td>100</td>\n",
       "    </tr>\n",
       "    <tr>\n",
       "      <th>1</th>\n",
       "      <td>en</td>\n",
       "      <td>0.381006</td>\n",
       "      <td>0.206089</td>\n",
       "      <td>100</td>\n",
       "    </tr>\n",
       "    <tr>\n",
       "      <th>2</th>\n",
       "      <td>ja</td>\n",
       "      <td>0.972973</td>\n",
       "      <td>0.497087</td>\n",
       "      <td>100</td>\n",
       "    </tr>\n",
       "    <tr>\n",
       "      <th>0</th>\n",
       "      <td>ko</td>\n",
       "      <td>0.516689</td>\n",
       "      <td>0.243129</td>\n",
       "      <td>100</td>\n",
       "    </tr>\n",
       "  </tbody>\n",
       "</table>\n",
       "</div>\n",
       "    <div class=\"colab-df-buttons\">\n",
       "\n",
       "  <div class=\"colab-df-container\">\n",
       "    <button class=\"colab-df-convert\" onclick=\"convertToInteractive('df-2b6db8ce-e898-4ac4-9ba0-7175a89b18d9')\"\n",
       "            title=\"Convert this dataframe to an interactive table.\"\n",
       "            style=\"display:none;\">\n",
       "\n",
       "  <svg xmlns=\"http://www.w3.org/2000/svg\" height=\"24px\" viewBox=\"0 -960 960 960\">\n",
       "    <path d=\"M120-120v-720h720v720H120Zm60-500h600v-160H180v160Zm220 220h160v-160H400v160Zm0 220h160v-160H400v160ZM180-400h160v-160H180v160Zm440 0h160v-160H620v160ZM180-180h160v-160H180v160Zm440 0h160v-160H620v160Z\"/>\n",
       "  </svg>\n",
       "    </button>\n",
       "\n",
       "  <style>\n",
       "    .colab-df-container {\n",
       "      display:flex;\n",
       "      gap: 12px;\n",
       "    }\n",
       "\n",
       "    .colab-df-convert {\n",
       "      background-color: #E8F0FE;\n",
       "      border: none;\n",
       "      border-radius: 50%;\n",
       "      cursor: pointer;\n",
       "      display: none;\n",
       "      fill: #1967D2;\n",
       "      height: 32px;\n",
       "      padding: 0 0 0 0;\n",
       "      width: 32px;\n",
       "    }\n",
       "\n",
       "    .colab-df-convert:hover {\n",
       "      background-color: #E2EBFA;\n",
       "      box-shadow: 0px 1px 2px rgba(60, 64, 67, 0.3), 0px 1px 3px 1px rgba(60, 64, 67, 0.15);\n",
       "      fill: #174EA6;\n",
       "    }\n",
       "\n",
       "    .colab-df-buttons div {\n",
       "      margin-bottom: 4px;\n",
       "    }\n",
       "\n",
       "    [theme=dark] .colab-df-convert {\n",
       "      background-color: #3B4455;\n",
       "      fill: #D2E3FC;\n",
       "    }\n",
       "\n",
       "    [theme=dark] .colab-df-convert:hover {\n",
       "      background-color: #434B5C;\n",
       "      box-shadow: 0px 1px 3px 1px rgba(0, 0, 0, 0.15);\n",
       "      filter: drop-shadow(0px 1px 2px rgba(0, 0, 0, 0.3));\n",
       "      fill: #FFFFFF;\n",
       "    }\n",
       "  </style>\n",
       "\n",
       "    <script>\n",
       "      const buttonEl =\n",
       "        document.querySelector('#df-2b6db8ce-e898-4ac4-9ba0-7175a89b18d9 button.colab-df-convert');\n",
       "      buttonEl.style.display =\n",
       "        google.colab.kernel.accessAllowed ? 'block' : 'none';\n",
       "\n",
       "      async function convertToInteractive(key) {\n",
       "        const element = document.querySelector('#df-2b6db8ce-e898-4ac4-9ba0-7175a89b18d9');\n",
       "        const dataTable =\n",
       "          await google.colab.kernel.invokeFunction('convertToInteractive',\n",
       "                                                    [key], {});\n",
       "        if (!dataTable) return;\n",
       "\n",
       "        const docLinkHtml = 'Like what you see? Visit the ' +\n",
       "          '<a target=\"_blank\" href=https://colab.research.google.com/notebooks/data_table.ipynb>data table notebook</a>'\n",
       "          + ' to learn more about interactive tables.';\n",
       "        element.innerHTML = '';\n",
       "        dataTable['output_type'] = 'display_data';\n",
       "        await google.colab.output.renderOutput(dataTable, element);\n",
       "        const docLink = document.createElement('div');\n",
       "        docLink.innerHTML = docLinkHtml;\n",
       "        element.appendChild(docLink);\n",
       "      }\n",
       "    </script>\n",
       "  </div>\n",
       "\n",
       "\n",
       "    <div id=\"df-44cd8933-ba9b-437e-9b32-70dacfbab071\">\n",
       "      <button class=\"colab-df-quickchart\" onclick=\"quickchart('df-44cd8933-ba9b-437e-9b32-70dacfbab071')\"\n",
       "                title=\"Suggest charts\"\n",
       "                style=\"display:none;\">\n",
       "\n",
       "<svg xmlns=\"http://www.w3.org/2000/svg\" height=\"24px\"viewBox=\"0 0 24 24\"\n",
       "     width=\"24px\">\n",
       "    <g>\n",
       "        <path d=\"M19 3H5c-1.1 0-2 .9-2 2v14c0 1.1.9 2 2 2h14c1.1 0 2-.9 2-2V5c0-1.1-.9-2-2-2zM9 17H7v-7h2v7zm4 0h-2V7h2v10zm4 0h-2v-4h2v4z\"/>\n",
       "    </g>\n",
       "</svg>\n",
       "      </button>\n",
       "\n",
       "<style>\n",
       "  .colab-df-quickchart {\n",
       "      --bg-color: #E8F0FE;\n",
       "      --fill-color: #1967D2;\n",
       "      --hover-bg-color: #E2EBFA;\n",
       "      --hover-fill-color: #174EA6;\n",
       "      --disabled-fill-color: #AAA;\n",
       "      --disabled-bg-color: #DDD;\n",
       "  }\n",
       "\n",
       "  [theme=dark] .colab-df-quickchart {\n",
       "      --bg-color: #3B4455;\n",
       "      --fill-color: #D2E3FC;\n",
       "      --hover-bg-color: #434B5C;\n",
       "      --hover-fill-color: #FFFFFF;\n",
       "      --disabled-bg-color: #3B4455;\n",
       "      --disabled-fill-color: #666;\n",
       "  }\n",
       "\n",
       "  .colab-df-quickchart {\n",
       "    background-color: var(--bg-color);\n",
       "    border: none;\n",
       "    border-radius: 50%;\n",
       "    cursor: pointer;\n",
       "    display: none;\n",
       "    fill: var(--fill-color);\n",
       "    height: 32px;\n",
       "    padding: 0;\n",
       "    width: 32px;\n",
       "  }\n",
       "\n",
       "  .colab-df-quickchart:hover {\n",
       "    background-color: var(--hover-bg-color);\n",
       "    box-shadow: 0 1px 2px rgba(60, 64, 67, 0.3), 0 1px 3px 1px rgba(60, 64, 67, 0.15);\n",
       "    fill: var(--button-hover-fill-color);\n",
       "  }\n",
       "\n",
       "  .colab-df-quickchart-complete:disabled,\n",
       "  .colab-df-quickchart-complete:disabled:hover {\n",
       "    background-color: var(--disabled-bg-color);\n",
       "    fill: var(--disabled-fill-color);\n",
       "    box-shadow: none;\n",
       "  }\n",
       "\n",
       "  .colab-df-spinner {\n",
       "    border: 2px solid var(--fill-color);\n",
       "    border-color: transparent;\n",
       "    border-bottom-color: var(--fill-color);\n",
       "    animation:\n",
       "      spin 1s steps(1) infinite;\n",
       "  }\n",
       "\n",
       "  @keyframes spin {\n",
       "    0% {\n",
       "      border-color: transparent;\n",
       "      border-bottom-color: var(--fill-color);\n",
       "      border-left-color: var(--fill-color);\n",
       "    }\n",
       "    20% {\n",
       "      border-color: transparent;\n",
       "      border-left-color: var(--fill-color);\n",
       "      border-top-color: var(--fill-color);\n",
       "    }\n",
       "    30% {\n",
       "      border-color: transparent;\n",
       "      border-left-color: var(--fill-color);\n",
       "      border-top-color: var(--fill-color);\n",
       "      border-right-color: var(--fill-color);\n",
       "    }\n",
       "    40% {\n",
       "      border-color: transparent;\n",
       "      border-right-color: var(--fill-color);\n",
       "      border-top-color: var(--fill-color);\n",
       "    }\n",
       "    60% {\n",
       "      border-color: transparent;\n",
       "      border-right-color: var(--fill-color);\n",
       "    }\n",
       "    80% {\n",
       "      border-color: transparent;\n",
       "      border-right-color: var(--fill-color);\n",
       "      border-bottom-color: var(--fill-color);\n",
       "    }\n",
       "    90% {\n",
       "      border-color: transparent;\n",
       "      border-bottom-color: var(--fill-color);\n",
       "    }\n",
       "  }\n",
       "</style>\n",
       "\n",
       "      <script>\n",
       "        async function quickchart(key) {\n",
       "          const quickchartButtonEl =\n",
       "            document.querySelector('#' + key + ' button');\n",
       "          quickchartButtonEl.disabled = true;  // To prevent multiple clicks.\n",
       "          quickchartButtonEl.classList.add('colab-df-spinner');\n",
       "          try {\n",
       "            const charts = await google.colab.kernel.invokeFunction(\n",
       "                'suggestCharts', [key], {});\n",
       "          } catch (error) {\n",
       "            console.error('Error during call to suggestCharts:', error);\n",
       "          }\n",
       "          quickchartButtonEl.classList.remove('colab-df-spinner');\n",
       "          quickchartButtonEl.classList.add('colab-df-quickchart-complete');\n",
       "        }\n",
       "        (() => {\n",
       "          let quickchartButtonEl =\n",
       "            document.querySelector('#df-44cd8933-ba9b-437e-9b32-70dacfbab071 button');\n",
       "          quickchartButtonEl.style.display =\n",
       "            google.colab.kernel.accessAllowed ? 'block' : 'none';\n",
       "        })();\n",
       "      </script>\n",
       "    </div>\n",
       "\n",
       "  <div id=\"id_61532680-c9b7-45e5-a0d9-633b587d3c0d\">\n",
       "    <style>\n",
       "      .colab-df-generate {\n",
       "        background-color: #E8F0FE;\n",
       "        border: none;\n",
       "        border-radius: 50%;\n",
       "        cursor: pointer;\n",
       "        display: none;\n",
       "        fill: #1967D2;\n",
       "        height: 32px;\n",
       "        padding: 0 0 0 0;\n",
       "        width: 32px;\n",
       "      }\n",
       "\n",
       "      .colab-df-generate:hover {\n",
       "        background-color: #E2EBFA;\n",
       "        box-shadow: 0px 1px 2px rgba(60, 64, 67, 0.3), 0px 1px 3px 1px rgba(60, 64, 67, 0.15);\n",
       "        fill: #174EA6;\n",
       "      }\n",
       "\n",
       "      [theme=dark] .colab-df-generate {\n",
       "        background-color: #3B4455;\n",
       "        fill: #D2E3FC;\n",
       "      }\n",
       "\n",
       "      [theme=dark] .colab-df-generate:hover {\n",
       "        background-color: #434B5C;\n",
       "        box-shadow: 0px 1px 3px 1px rgba(0, 0, 0, 0.15);\n",
       "        filter: drop-shadow(0px 1px 2px rgba(0, 0, 0, 0.3));\n",
       "        fill: #FFFFFF;\n",
       "      }\n",
       "    </style>\n",
       "    <button class=\"colab-df-generate\" onclick=\"generateWithVariable('df_base')\"\n",
       "            title=\"Generate code using this dataframe.\"\n",
       "            style=\"display:none;\">\n",
       "\n",
       "  <svg xmlns=\"http://www.w3.org/2000/svg\" height=\"24px\"viewBox=\"0 0 24 24\"\n",
       "       width=\"24px\">\n",
       "    <path d=\"M7,19H8.4L18.45,9,17,7.55,7,17.6ZM5,21V16.75L18.45,3.32a2,2,0,0,1,2.83,0l1.4,1.43a1.91,1.91,0,0,1,.58,1.4,1.91,1.91,0,0,1-.58,1.4L9.25,21ZM18.45,9,17,7.55Zm-12,3A5.31,5.31,0,0,0,4.9,8.1,5.31,5.31,0,0,0,1,6.5,5.31,5.31,0,0,0,4.9,4.9,5.31,5.31,0,0,0,6.5,1,5.31,5.31,0,0,0,8.1,4.9,5.31,5.31,0,0,0,12,6.5,5.46,5.46,0,0,0,6.5,12Z\"/>\n",
       "  </svg>\n",
       "    </button>\n",
       "    <script>\n",
       "      (() => {\n",
       "      const buttonEl =\n",
       "        document.querySelector('#id_61532680-c9b7-45e5-a0d9-633b587d3c0d button.colab-df-generate');\n",
       "      buttonEl.style.display =\n",
       "        google.colab.kernel.accessAllowed ? 'block' : 'none';\n",
       "\n",
       "      buttonEl.onclick = () => {\n",
       "        google.colab.notebook.generateWithVariable('df_base');\n",
       "      }\n",
       "      })();\n",
       "    </script>\n",
       "  </div>\n",
       "\n",
       "    </div>\n",
       "  </div>\n"
      ],
      "text/plain": [
       "  lang       WER       CER    N\n",
       "3   de  0.563766  0.281337  100\n",
       "1   en  0.381006  0.206089  100\n",
       "2   ja  0.972973  0.497087  100\n",
       "0   ko  0.516689  0.243129  100"
      ]
     },
     "metadata": {},
     "output_type": "display_data"
    },
    {
     "name": "stdout",
     "output_type": "stream",
     "text": [
      "Saved -> /content/baseline_cv16_1_whisper_base_FIXEDSPLIT_TEST.csv\n"
     ]
    }
   ],
   "source": [
    "test_ko = processed_dataset_test.filter(lambda x: x[\"locale\"] == \"ko\")\n",
    "test_en = processed_dataset_test.filter(lambda x: x[\"locale\"] == \"en\")\n",
    "test_ja = processed_dataset_test.filter(lambda x: x[\"locale\"] == \"ja\")\n",
    "test_de = processed_dataset_test.filter(lambda x: x[\"locale\"] == \"de\")\n",
    "\n",
    "lang_datasets = {\"ko\": test_ko, \"en\": test_en, \"ja\": test_ja, \"de\": test_de}\n",
    "print(\"🔎 Evaluating on: TEST split (fixed)\")\n",
    "\n",
    "wer_metric = load_metric(\"wer\")\n",
    "cer_metric = load_metric(\"cer\")\n",
    "\n",
    "LANG_NAME = {\"ko\":\"korean\", \"ja\":\"japanese\", \"en\":\"english\", \"de\":\"german\"}\n",
    "\n",
    "lang_scores = {}\n",
    "for lang, dataset in lang_datasets.items():\n",
    "    print(f\"\\n🌍 Language: {lang.upper()}\")\n",
    "    # 언어 강제 프롬프트 → 인퍼런스 안정화\n",
    "    forced_ids = processor.get_decoder_prompt_ids(language=LANG_NAME[lang], task=\"transcribe\")\n",
    "    trainer.model.generation_config.forced_decoder_ids = forced_ids\n",
    "    trainer.model.generation_config.max_length = 225\n",
    "\n",
    "    pred_output = trainer.predict(dataset)  # generate 결과 반환\n",
    "    decoded_preds = processor.tokenizer.batch_decode(pred_output.predictions, skip_special_tokens=True)\n",
    "    decoded_labels = processor.tokenizer.batch_decode(pred_output.label_ids,   skip_special_tokens=True)\n",
    "\n",
    "    # 샘플 출력\n",
    "    for p, r in list(zip(decoded_preds, decoded_labels))[:3]:\n",
    "        print(f\"🔹Pred: {p}\\n🔸Ref : {r}\\n---\")\n",
    "\n",
    "    wer_score = wer_metric.compute(predictions=decoded_preds, references=decoded_labels)\n",
    "    cer_score = cer_metric.compute(predictions=decoded_preds, references=decoded_labels)\n",
    "    lang_scores[lang] = {\"WER\": wer_score, \"CER\": cer_score, \"N\": len(decoded_labels)}\n",
    "\n",
    "    print(f\"✅ {lang.upper()} WER: {wer_score:.4f}\")\n",
    "    print(f\"✅ {lang.upper()} CER: {cer_score:.4f}\")\n",
    "\n",
    "import pandas as pd\n",
    "df_base = pd.DataFrame(\n",
    "    [{\"lang\": k, \"WER\": v[\"WER\"], \"CER\": v[\"CER\"], \"N\": v[\"N\"]} for k, v in lang_scores.items()]\n",
    ").sort_values(\"lang\")\n",
    "display(df_base)\n",
    "df_base.to_csv(\"/content/baseline_cv16_1_whisper_base_FIXEDSPLIT_TEST.csv\", index=False)\n",
    "print(\"Saved -> /content/baseline_cv16_1_whisper_base_FIXEDSPLIT_TEST.csv\")"
   ]
  },
  {
   "cell_type": "code",
   "execution_count": 9,
   "metadata": {
    "colab": {
     "base_uri": "https://localhost:8080/",
     "height": 582
    },
    "id": "JvCUJTAq02wy",
    "outputId": "7b9e53e1-db06-4270-cbf1-4e550730fe2c"
   },
   "outputs": [
    {
     "data": {
      "image/png": "[encoded data removed]",
      "text/plain": [
       "<Figure size 800x600 with 1 Axes>"
      ]
     },
     "metadata": {},
     "output_type": "display_data"
    }
   ],
   "source": [
    "# 시각화\n",
    "import matplotlib.pyplot as plt\n",
    "\n",
    "languages = [\"Korean\", \"Japanese\", \"English\", \"German\"]\n",
    "wer = [df_base[df_base[\"lang\"]==k][\"WER\"].values[0] for k in [\"ko\",\"ja\",\"en\",\"de\"]]\n",
    "cer = [df_base[df_base[\"lang\"]==k][\"CER\"].values[0] for k in [\"ko\",\"ja\",\"en\",\"de\"]]\n",
    "\n",
    "x = np.arange(len(languages))  # 언어 개수만큼 위치\n",
    "width = 0.35  # 막대 너비\n",
    "\n",
    "plt.figure(figsize=(8,6))\n",
    "plt.bar(x - width/2, wer, width, label=\"WER\", color=\"#6A5ACD\")\n",
    "plt.bar(x + width/2, cer, width, label=\"CER\", color=\"#ff7f0e\")\n",
    "plt.xticks(x, languages, fontsize=12)\n",
    "plt.ylabel(\"Error Rate\", fontsize=12)\n",
    "plt.title(\"Language-wise WER vs CER (Fixed Split)\")\n",
    "plt.legend()\n",
    "for i in range(len(languages)):\n",
    "    plt.text(x[i] - width/2, wer[i] + 0.01, f\"{wer[i]:.2f}\", ha=\"center\", fontsize=10)\n",
    "    plt.text(x[i] + width/2, cer[i] + 0.01, f\"{cer[i]:.2f}\", ha=\"center\", fontsize=10)\n",
    "plt.tight_layout()\n",
    "plt.show()"
   ]
  }
 ],
 "metadata": {
  "accelerator": "GPU",
  "colab": {
   "gpuType": "T4",
   "machine_shape": "hm",
   "provenance": []
  },
  "kernelspec": {
   "display_name": "Python 3",
   "name": "python3"
  },
  "language_info": {
   "name": "python"
  }
 },
 "nbformat": 4,
 "nbformat_minor": 0
}
