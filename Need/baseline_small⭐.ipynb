{
 "cells": [
  {
   "cell_type": "code",
   "execution_count": 1,
   "metadata": {
    "colab": {
     "base_uri": "https://localhost:8080/"
    },
    "id": "SPuUqM2aw3Zm",
    "outputId": "02b86027-c12b-4fd8-bf8f-57e7f582609c"
   },
   "outputs": [
    {
     "name": "stdout",
     "output_type": "stream",
     "text": [
      "\u001b[2K     \u001b[90m━━━━━━━━━━━━━━━━━━━━━━━━━━━━━━━━━━━━━━━━\u001b[0m \u001b[32m43.7/43.7 kB\u001b[0m \u001b[31m3.6 MB/s\u001b[0m eta \u001b[36m0:00:00\u001b[0m\n",
      "\u001b[2K   \u001b[90m━━━━━━━━━━━━━━━━━━━━━━━━━━━━━━━━━━━━━━━━\u001b[0m \u001b[32m527.3/527.3 kB\u001b[0m \u001b[31m32.6 MB/s\u001b[0m eta \u001b[36m0:00:00\u001b[0m\n",
      "\u001b[2K   \u001b[90m━━━━━━━━━━━━━━━━━━━━━━━━━━━━━━━━━━━━━━━━\u001b[0m \u001b[32m84.1/84.1 kB\u001b[0m \u001b[31m8.1 MB/s\u001b[0m eta \u001b[36m0:00:00\u001b[0m\n",
      "\u001b[2K   \u001b[90m━━━━━━━━━━━━━━━━━━━━━━━━━━━━━━━━━━━━━━━━\u001b[0m \u001b[32m9.5/9.5 MB\u001b[0m \u001b[31m129.8 MB/s\u001b[0m eta \u001b[36m0:00:00\u001b[0m\n",
      "\u001b[2K   \u001b[90m━━━━━━━━━━━━━━━━━━━━━━━━━━━━━━━━━━━━━━━━\u001b[0m \u001b[32m177.6/177.6 kB\u001b[0m \u001b[31m16.4 MB/s\u001b[0m eta \u001b[36m0:00:00\u001b[0m\n",
      "\u001b[2K   \u001b[90m━━━━━━━━━━━━━━━━━━━━━━━━━━━━━━━━━━━━━━━━\u001b[0m \u001b[32m3.1/3.1 MB\u001b[0m \u001b[31m105.0 MB/s\u001b[0m eta \u001b[36m0:00:00\u001b[0m\n",
      "\u001b[2K   \u001b[90m━━━━━━━━━━━━━━━━━━━━━━━━━━━━━━━━━━━━━━━━\u001b[0m \u001b[32m3.6/3.6 MB\u001b[0m \u001b[31m99.7 MB/s\u001b[0m eta \u001b[36m0:00:00\u001b[0m\n",
      "\u001b[?25h\u001b[31mERROR: pip's dependency resolver does not currently take into account all the packages that are installed. This behaviour is the source of the following dependency conflicts.\n",
      "gcsfs 2025.3.0 requires fsspec==2025.3.0, but you have fsspec 2024.6.1 which is incompatible.\u001b[0m\u001b[31m\n",
      "\u001b[2K   \u001b[90m━━━━━━━━━━━━━━━━━━━━━━━━━━━━━━━━━━━━━━━━\u001b[0m \u001b[32m193.6/193.6 kB\u001b[0m \u001b[31m12.9 MB/s\u001b[0m eta \u001b[36m0:00:00\u001b[0m\n",
      "\u001b[?25h\u001b[31mERROR: pip's dependency resolver does not currently take into account all the packages that are installed. This behaviour is the source of the following dependency conflicts.\n",
      "datasets 2.21.0 requires fsspec[http]<=2024.6.1,>=2023.1.0, but you have fsspec 2025.3.0 which is incompatible.\u001b[0m\u001b[31m\n",
      "\u001b[0mdatasets: 2.21.0\n",
      "evaluate: 0.4.5\n",
      "transformers: 4.44.2\n",
      "fsspec: 2025.3.0\n",
      "gcsfs: 2025.3.0\n",
      "python: 3.12.11 (main, Jun  4 2025, 08:56:18) [GCC 11.4.0]\n"
     ]
    }
   ],
   "source": [
    "# 핵심 패키지(스트리밍 호환 버전)\n",
    "!pip -q install \"datasets<3.0.0\" \"evaluate<0.5.0\" \"transformers>=4.38,<4.45\" \\\n",
    "                huggingface_hub torchaudio jiwer soundfile\n",
    "\n",
    "# fsspec/gcsfs 충돌 정리\n",
    "!pip -q install -U fsspec==2025.3.0 gcsfs\n",
    "\n",
    "import datasets, evaluate, transformers, fsspec, gcsfs, sys\n",
    "print(\"datasets:\", datasets.__version__)    # ← 2.x 여야 OK\n",
    "print(\"evaluate:\", evaluate.__version__)    # ← 0.4.x 권장\n",
    "print(\"transformers:\", transformers.__version__)\n",
    "print(\"fsspec:\", fsspec.__version__)\n",
    "print(\"gcsfs:\", gcsfs.__version__)\n",
    "print(\"python:\", sys.version)"
   ]
  },
  {
   "cell_type": "code",
   "execution_count": 2,
   "metadata": {
    "colab": {
     "base_uri": "https://localhost:8080/",
     "height": 17,
     "referenced_widgets": [
      "7e592139660041a899ca139211ae1734",
      "50583b5b7ad14fbab8fa7d6fb5324ea4",
      "266435e8aa99401b93f3c5ee562e4c08",
      "a149dca150fd4b25a73a5001e72a327e",
      "aa64b4b321554e2dad7191180c462171",
      "8d91abfe0e7e44bcba089e57aa94bccb",
      "e3b215026bfd46eb92df125212f205bf",
      "5cd1d31fdc5d45aab8a9a70474fe810c",
      "2c30d7fef9d3433496e325a72abf3d7c",
      "b6d2ab0483e544658e0dc9ef3cd90e2c",
      "e28206e313a04b368998ea8e220150fe",
      "a35a1527c62949a0b274a4d559d5c249",
      "606902eb3df34cf98a7f140f08a45228",
      "9ea617e2fdee4ce88daa750583020ffe",
      "ad9aedcd8a494a33b91a14edfecba434",
      "a3ff617c5ded48768c55f2e8ae34019f",
      "83e122c2470e4666a96eb2cb94eab599",
      "02bde377942b44a8b2e7154ea5c4ccf7",
      "78a22cf530f44650b6d838ada631f4e2",
      "ec88d473fb3548939636399c0c43f1a5"
     ]
    },
    "id": "ZXMP3Sj50jpk",
    "outputId": "51fe2c9c-1626-4870-a048-7a86e5b987d2"
   },
   "outputs": [
    {
     "data": {
      "application/vnd.jupyter.widget-view+json": {
       "model_id": "7e592139660041a899ca139211ae1734",
       "version_major": 2,
       "version_minor": 0
      },
      "text/plain": [
       "VBox(children=(HTML(value='<center> <img\\nsrc=https://huggingface.co/front/assets/huggingface_logo-noborder.sv…"
      ]
     },
     "metadata": {},
     "output_type": "display_data"
    }
   ],
   "source": [
    "from huggingface_hub import notebook_login\n",
    "notebook_login()"
   ]
  },
  {
   "cell_type": "code",
   "execution_count": 3,
   "metadata": {
    "colab": {
     "base_uri": "https://localhost:8080/"
    },
    "id": "gwXxOGuM0c0J",
    "outputId": "74458acb-fc60-4997-9904-75208458a7f8"
   },
   "outputs": [
    {
     "name": "stdout",
     "output_type": "stream",
     "text": [
      "Mounted at /content/drive\n"
     ]
    }
   ],
   "source": [
    "from google.colab import drive\n",
    "drive.mount(\"/content/drive\", force_remount=True)"
   ]
  },
  {
   "cell_type": "code",
   "execution_count": 4,
   "metadata": {
    "colab": {
     "base_uri": "https://localhost:8080/"
    },
    "id": "FWC7iARa0oaz",
    "outputId": "addddbd7-34b2-47a8-fa00-4e561e998dc4"
   },
   "outputs": [
    {
     "name": "stdout",
     "output_type": "stream",
     "text": [
      "Seed fixed to 42.\n"
     ]
    }
   ],
   "source": [
    "from datasets import load_dataset, Audio, Dataset, load_from_disk\n",
    "from transformers import WhisperProcessor, WhisperForConditionalGeneration, Seq2SeqTrainingArguments, Seq2SeqTrainer\n",
    "from evaluate import load\n",
    "import random\n",
    "import torch\n",
    "\n",
    "from dataclasses import dataclass\n",
    "from typing import Any, Dict, List, Union\n",
    "from evaluate import load as load_metric\n",
    "import pandas as pd\n",
    "import numpy as np\n",
    "\n",
    "# 2) 재현성 고정\n",
    "import os, random, numpy as np, torch\n",
    "SEED = 42\n",
    "random.seed(SEED)\n",
    "np.random.seed(SEED)\n",
    "torch.manual_seed(SEED)\n",
    "if torch.cuda.is_available():\n",
    "    torch.cuda.manual_seed_all(SEED)\n",
    "os.environ[\"PYTHONHASHSEED\"] = str(SEED)\n",
    "\n",
    "# 결정적 연산(권장)\n",
    "torch.backends.cudnn.deterministic = True\n",
    "torch.backends.cudnn.benchmark = False\n",
    "\n",
    "print(\"Seed fixed to {}.\".format(SEED))"
   ]
  },
  {
   "cell_type": "code",
   "execution_count": 5,
   "metadata": {
    "colab": {
     "base_uri": "https://localhost:8080/"
    },
    "id": "CkliQleA0pHN",
    "outputId": "bb40d252-65e4-4188-de0b-1f11825696b3"
   },
   "outputs": [
    {
     "name": "stdout",
     "output_type": "stream",
     "text": [
      "✅ Loading fixed splits from disk: /content/drive/MyDrive/data/asr_splits/cv16_v1\n",
      "{'train': 800, 'val': 400, 'test': 400}\n"
     ]
    }
   ],
   "source": [
    "n_train = 200\n",
    "n_val   = 100\n",
    "n_test  = 100\n",
    "\n",
    "langs = [\"ko\", \"ja\", \"en\", \"de\"]\n",
    "\n",
    "# =========================================================\n",
    "# (중요) 고정 split만 로드: 증강 실험과 동일 테스트셋 사용\n",
    "# =========================================================\n",
    "SPLIT_DIR = \"/content/drive/MyDrive/data/asr_splits/cv16_v1\"  # 네가 저장해 둔 경로\n",
    "required = [\"train\",\"val\",\"test\"]\n",
    "if not (os.path.isdir(SPLIT_DIR) and all(os.path.isdir(os.path.join(SPLIT_DIR, d)) for d in required)):\n",
    "    raise RuntimeError(f\"[STOP] Fixed splits not found under {SPLIT_DIR} (need subdirs: train/ val/ test/).\")\n",
    "\n",
    "print(\"✅ Loading fixed splits from disk:\", SPLIT_DIR)\n",
    "train_dataset = load_from_disk(os.path.join(SPLIT_DIR, \"train\"))\n",
    "val_dataset   = load_from_disk(os.path.join(SPLIT_DIR, \"val\"))\n",
    "test_dataset  = load_from_disk(os.path.join(SPLIT_DIR, \"test\"))\n",
    "print({ \"train\": len(train_dataset), \"val\": len(val_dataset), \"test\": len(test_dataset) })"
   ]
  },
  {
   "cell_type": "code",
   "execution_count": 6,
   "metadata": {
    "colab": {
     "base_uri": "https://localhost:8080/",
     "height": 397,
     "referenced_widgets": [
      "050af73c159d4816bf18b264d0a107f6",
      "d79107abfb554be69d837444ec936821",
      "a314853102b24f3991437ffa87d1c64c",
      "bdbcc4c79fd5488a9490b311183ae211",
      "5479449590904111b62445b45af06a4d",
      "7d03d5678d2a45e2ad768ef183e1842c",
      "258ad629b9694b30852e3b35817bec83",
      "becdb152394146d09defce39c205b1b4",
      "0c9e81c118da4bcab531465c2880f5e8",
      "47c8d5ee344740aab425b4243c1ebbfb",
      "b14cc9bb10b94c4ab7a121f00f931131",
      "9b8851d6fada443db297a10e3a30222c",
      "243110b14c8a4ac08a0df3b5ca80f214",
      "bee629a68d9244078122bf8c49ed34bd",
      "e4029f131aa247fda410711a599fbbd9",
      "5d180c4620734c55ad5613b866347661",
      "e3dfde8213264faabe5f846dcc11e769",
      "ce741a7f16e54779af1bdbd921ae94d7",
      "c820713eddd0422aa80571ce3632bfe0",
      "f3e2117a87ac468ca9240eb23a1e5596",
      "d77821d1e57d4346936bf1029c3fa3ef",
      "ab9e6289c4a6484292231ce94d1cedad",
      "755bb1c7a7424ea19f4c30c84494e5bf",
      "b42c1a373b91474788472c18dbaffb6e",
      "8784a6b6cb4e4e6cb2f81465112fe5ee",
      "832cbbcaf2f54d659254b2aeb50fa60b",
      "d024fca4dc154d03bf73a34895e831bb",
      "6bd10d91048a4f16b89fa40dae86ba8d",
      "003ff35b888b4512b1fa3585b8963854",
      "a92597810cfb42e484bff445d3825952",
      "95174b3efee24e8db5f6f512f7c4bc7d",
      "e61aa865315b43a499e86350fed01903",
      "d469f47a4fb64573b2001990edbd7fa2",
      "33412676c22649408e4bc53c5c7af7f1",
      "d306749d24e444b385c94a3ec4804517",
      "96ba9f9649294313897ce5ff96e82854",
      "6e691625ecd34560aa173cd3d1e60c3c",
      "210a424d6c9c4bf1bf899ffd8e3e4d6a",
      "608669e620ab4b10954f52681752c54a",
      "e66e020608aa460ab144640e6065fc13",
      "eaccd0d5e79f43f4ab1d0a94a04f289a",
      "3325cc01c8a44ff6abe9e4be49045dc7",
      "51251eb3a5374b95aa0e1cb1e2965a61",
      "3aa28cd1c6cd40b4aec3277a892bb855",
      "6f7e9bdc787448c090a6e3184d368ae9",
      "b20fddaac9d0433caa153ba447a8fe86",
      "8702c2510799480cbcd9627ddd5e4dcf",
      "9b5f80f12f6f496483c19a2d5f49d6b8",
      "1d86ca21791247a1aa11ba939202a845",
      "e393d2ff7a3944678547825c7f163745",
      "3cab4c97b7c34374a3e363366180c8db",
      "6672fa87c8544ef6a18fe00502ed8278",
      "b9e0b95506a54335bb2270e444bea796",
      "cfae57dd7c074da8bc22fcbaff6a1ea6",
      "092e39c8b9224948b94e7483552355b9",
      "9f25442b512a4338829fcf10edd31ca1",
      "bcf686dc70e24dbc9d73a3ab4bb48dff",
      "63fd79677d524dcbb2982e73e3e02c9d",
      "0562ad53d4ae4872ab2a6a402350b6b6",
      "c30a09f1e1764c9fbcd925ecb4cc8027",
      "2b73d2f63dba4bb791866fb7594f3ef4",
      "d9e0c3538a5c45d3b46c0e957a4826a1",
      "f0955329fb57474e9d2a9ff39fe5b7b2",
      "0b7338467f634d1995ae5a077591d5a0",
      "9ecfc7054c5942a8a9eaf5ad26f6bbdc",
      "9b48f29868c6418a9f4027dc6bde7d26",
      "6eaa8707d0fb439ab120dfb646c1780f",
      "08efa5a7c88443dc927ccb2bd84addc9",
      "11e876ff0f044d858f557d28415a143b",
      "08b895957a7f4b8bb4f22511d0655489",
      "8ea7a834f7b94179a25eef63320f229e",
      "62751a0cdbef4dbcb3dd16aa1378c4c1",
      "67ef58f3cd1541bd8d0f2b4324ded81b",
      "23ce73e61fb54143accf1d45dd7d1832",
      "bed69d649b3a41ca9cc0c433b9816615",
      "2606c743c8b04db4b512ab7d5323bde4",
      "35bc066409374c76af17327e6c9e66f6",
      "1f56380f7d28438c9bcdea3c4c0abcb9",
      "2d9d91f0323e45bab01014141e24303b",
      "aef7e5a989214086a13088367a666ffd",
      "3865207095114d62a62c2b87e2756b38",
      "cf1623444c604276816774e70ec04d8f",
      "1829066bdb614146940cd09130ef566b",
      "07e80ee610204bb18d0f2cdf6c43adcf",
      "558ef48062ad46c9b7885d2d3b0fe621",
      "acac008162fb42d595e205e9eb9ead50",
      "bf5a389ba5c84e29ba273940aa37cf6a",
      "62a4922482c44fd6b17e7192cc21c5ac"
     ]
    },
    "id": "GlDk4dlz0tnv",
    "outputId": "acf1b138-6dbb-4ded-e93f-c61a9069ba8e"
   },
   "outputs": [
    {
     "name": "stderr",
     "output_type": "stream",
     "text": [
      "/usr/local/lib/python3.12/dist-packages/huggingface_hub/utils/_auth.py:94: UserWarning: \n",
      "The secret `HF_TOKEN` does not exist in your Colab secrets.\n",
      "To authenticate with the Hugging Face Hub, create a token in your settings tab (https://huggingface.co/settings/tokens), set it as secret in your Google Colab and restart your session.\n",
      "You will be able to reuse this secret in all of your notebooks.\n",
      "Please note that authentication is recommended but still optional to access public models or datasets.\n",
      "  warnings.warn(\n"
     ]
    },
    {
     "data": {
      "application/vnd.jupyter.widget-view+json": {
       "model_id": "050af73c159d4816bf18b264d0a107f6",
       "version_major": 2,
       "version_minor": 0
      },
      "text/plain": [
       "preprocessor_config.json: 0.00B [00:00, ?B/s]"
      ]
     },
     "metadata": {},
     "output_type": "display_data"
    },
    {
     "data": {
      "application/vnd.jupyter.widget-view+json": {
       "model_id": "9b8851d6fada443db297a10e3a30222c",
       "version_major": 2,
       "version_minor": 0
      },
      "text/plain": [
       "tokenizer_config.json: 0.00B [00:00, ?B/s]"
      ]
     },
     "metadata": {},
     "output_type": "display_data"
    },
    {
     "data": {
      "application/vnd.jupyter.widget-view+json": {
       "model_id": "755bb1c7a7424ea19f4c30c84494e5bf",
       "version_major": 2,
       "version_minor": 0
      },
      "text/plain": [
       "vocab.json: 0.00B [00:00, ?B/s]"
      ]
     },
     "metadata": {},
     "output_type": "display_data"
    },
    {
     "data": {
      "application/vnd.jupyter.widget-view+json": {
       "model_id": "33412676c22649408e4bc53c5c7af7f1",
       "version_major": 2,
       "version_minor": 0
      },
      "text/plain": [
       "tokenizer.json: 0.00B [00:00, ?B/s]"
      ]
     },
     "metadata": {},
     "output_type": "display_data"
    },
    {
     "data": {
      "application/vnd.jupyter.widget-view+json": {
       "model_id": "6f7e9bdc787448c090a6e3184d368ae9",
       "version_major": 2,
       "version_minor": 0
      },
      "text/plain": [
       "merges.txt: 0.00B [00:00, ?B/s]"
      ]
     },
     "metadata": {},
     "output_type": "display_data"
    },
    {
     "data": {
      "application/vnd.jupyter.widget-view+json": {
       "model_id": "9f25442b512a4338829fcf10edd31ca1",
       "version_major": 2,
       "version_minor": 0
      },
      "text/plain": [
       "normalizer.json: 0.00B [00:00, ?B/s]"
      ]
     },
     "metadata": {},
     "output_type": "display_data"
    },
    {
     "data": {
      "application/vnd.jupyter.widget-view+json": {
       "model_id": "6eaa8707d0fb439ab120dfb646c1780f",
       "version_major": 2,
       "version_minor": 0
      },
      "text/plain": [
       "added_tokens.json: 0.00B [00:00, ?B/s]"
      ]
     },
     "metadata": {},
     "output_type": "display_data"
    },
    {
     "data": {
      "application/vnd.jupyter.widget-view+json": {
       "model_id": "1f56380f7d28438c9bcdea3c4c0abcb9",
       "version_major": 2,
       "version_minor": 0
      },
      "text/plain": [
       "special_tokens_map.json: 0.00B [00:00, ?B/s]"
      ]
     },
     "metadata": {},
     "output_type": "display_data"
    }
   ],
   "source": [
    "model_checkpoint = \"openai/whisper-small\"\n",
    "\n",
    "processor = WhisperProcessor.from_pretrained(model_checkpoint)\n",
    "feature_extractor = processor.feature_extractor\n",
    "tokenizer = processor.tokenizer\n",
    "\n",
    "# 16kHz 캐스팅\n",
    "train_dataset = train_dataset.cast_column(\"audio\", Audio(sampling_rate=16000))\n",
    "val_dataset   = val_dataset.cast_column(\"audio\",   Audio(sampling_rate=16000))\n",
    "test_dataset  = test_dataset.cast_column(\"audio\",  Audio(sampling_rate=16000))\n",
    "\n",
    "def prepare_dataset(example):\n",
    "    audio = example[\"audio\"]\n",
    "    example[\"input_features\"] = processor.feature_extractor(\n",
    "        audio[\"array\"], sampling_rate=16000\n",
    "    ).input_features[0]\n",
    "    example[\"labels\"] = processor.tokenizer(example[\"sentence\"]).input_ids\n",
    "    return example\n",
    "\n",
    "keep_cols = {\"input_features\", \"labels\", \"locale\"}\n",
    "\n",
    "processed_dataset_train = train_dataset.map(\n",
    "    prepare_dataset,\n",
    "    remove_columns=[c for c in train_dataset.column_names if c not in keep_cols]\n",
    ")\n",
    "processed_dataset_val = val_dataset.map(\n",
    "    prepare_dataset,\n",
    "    remove_columns=[c for c in val_dataset.column_names if c not in keep_cols]\n",
    ")\n",
    "processed_dataset_test = test_dataset.map(\n",
    "    prepare_dataset,\n",
    "    remove_columns=[c for c in test_dataset.column_names if c not in keep_cols]\n",
    ")\n",
    "\n",
    "processed_dataset_train.set_format(columns=[\"input_features\", \"labels\", \"locale\"])\n",
    "processed_dataset_val.set_format(columns=[\"input_features\", \"labels\", \"locale\"])\n",
    "processed_dataset_test.set_format(columns=[\"input_features\", \"labels\", \"locale\"])"
   ]
  },
  {
   "cell_type": "code",
   "execution_count": 7,
   "metadata": {
    "colab": {
     "base_uri": "https://localhost:8080/",
     "height": 528,
     "referenced_widgets": [
      "c7b116e0dea94a2d9a87d0f6a1a6371c",
      "163ae68cb9b04641952ec7625d860e12",
      "b7ae7d34745e40468c75222180b6238d",
      "46c0f45b635f4b35a1f11940c450294b",
      "523bc1a4c7514f76ba7045f43ad09121",
      "bc5a1e51bde34169ad6a3e7dc0cb3fa9",
      "0c477c45054d4a3da658c7acbd30f49e",
      "34e791ba58a644eb9437450a679931b4",
      "29e9d51523614c91bac4bf3ae85f7cac",
      "37027c8bbb034d38a72daeda0c4ebdff",
      "b2edfe0ddd1c4769868840d58dc12c95",
      "232607a5712d4ea88d0af31634ac1e71",
      "51009b600f62402584cbf068d8fd0df1",
      "e72592afce04416bba71eb8c48eec70f",
      "9245a31f6605465cbc2602cd9f20e34b",
      "63defac3e7bc4a15a056278fedc496e6",
      "36a8cbd7a1f3445088a0b78e25de1ff2",
      "837a980a1d6e42dcabc31567c0fab2a1",
      "94315910612d4d668d222b1a6bb52e24",
      "00f8a27f9610492b83a47ff1c66cdcb7",
      "7a1283f5466c474b98670c0a3aeda9e2",
      "ea3c7510e33442b19f8537f8d30601b6",
      "43bfb54d33544c8e8c43d25a0ebce2b9",
      "cfc07a0ff1654179b0c09e61bde84e1c",
      "e260700991f14478b397654cccd47ab5",
      "b12bb960d86e425eb83a7f73f1dcf893",
      "968b9d50065743abb1272812100ab538",
      "68f75265942c4ddfa9673b1eb6a3c69b",
      "8b191cb247f14bac904557cc766e2922",
      "0ff38a200b53450db207df393fd3ae8d",
      "2b5750c9d3c74f59914ed37c2805b5de",
      "b81e26ee2f714ad6b217bbe6612d03b7",
      "c90442ec9f4c4d4db145185974228676"
     ]
    },
    "id": "ysFzbuf40uG5",
    "outputId": "c1d7ccc7-1e78-444f-ec4d-6b0ef0ceb334"
   },
   "outputs": [
    {
     "data": {
      "application/vnd.jupyter.widget-view+json": {
       "model_id": "c7b116e0dea94a2d9a87d0f6a1a6371c",
       "version_major": 2,
       "version_minor": 0
      },
      "text/plain": [
       "config.json: 0.00B [00:00, ?B/s]"
      ]
     },
     "metadata": {},
     "output_type": "display_data"
    },
    {
     "data": {
      "application/vnd.jupyter.widget-view+json": {
       "model_id": "232607a5712d4ea88d0af31634ac1e71",
       "version_major": 2,
       "version_minor": 0
      },
      "text/plain": [
       "model.safetensors:   0%|          | 0.00/967M [00:00<?, ?B/s]"
      ]
     },
     "metadata": {},
     "output_type": "display_data"
    },
    {
     "data": {
      "application/vnd.jupyter.widget-view+json": {
       "model_id": "43bfb54d33544c8e8c43d25a0ebce2b9",
       "version_major": 2,
       "version_minor": 0
      },
      "text/plain": [
       "generation_config.json: 0.00B [00:00, ?B/s]"
      ]
     },
     "metadata": {},
     "output_type": "display_data"
    },
    {
     "name": "stderr",
     "output_type": "stream",
     "text": [
      "/usr/local/lib/python3.12/dist-packages/transformers/training_args.py:1525: FutureWarning: `evaluation_strategy` is deprecated and will be removed in version 4.46 of 🤗 Transformers. Use `eval_strategy` instead\n",
      "  warnings.warn(\n"
     ]
    },
    {
     "data": {
      "text/html": [
       "\n",
       "    <div>\n",
       "      \n",
       "      <progress value='300' max='300' style='width:300px; height:20px; vertical-align: middle;'></progress>\n",
       "      [300/300 11:53, Epoch 3/3]\n",
       "    </div>\n",
       "    <table border=\"1\" class=\"dataframe\">\n",
       "  <thead>\n",
       " <tr style=\"text-align: left;\">\n",
       "      <th>Epoch</th>\n",
       "      <th>Training Loss</th>\n",
       "      <th>Validation Loss</th>\n",
       "    </tr>\n",
       "  </thead>\n",
       "  <tbody>\n",
       "    <tr>\n",
       "      <td>1</td>\n",
       "      <td>0.627900</td>\n",
       "      <td>0.626048</td>\n",
       "    </tr>\n",
       "    <tr>\n",
       "      <td>2</td>\n",
       "      <td>0.134800</td>\n",
       "      <td>0.616272</td>\n",
       "    </tr>\n",
       "    <tr>\n",
       "      <td>3</td>\n",
       "      <td>0.032500</td>\n",
       "      <td>0.618760</td>\n",
       "    </tr>\n",
       "  </tbody>\n",
       "</table><p>"
      ],
      "text/plain": [
       "<IPython.core.display.HTML object>"
      ]
     },
     "metadata": {},
     "output_type": "display_data"
    },
    {
     "name": "stderr",
     "output_type": "stream",
     "text": [
      "Some non-default generation parameters are set in the model config. These should go into a GenerationConfig file (https://huggingface.co/docs/transformers/generation_strategies#save-a-custom-decoding-strategy-with-your-model) instead. This warning will be raised to an exception in v4.41.\n",
      "Non-default generation parameters: {'max_length': 448, 'suppress_tokens': [], 'begin_suppress_tokens': [220, 50257]}\n",
      "Some non-default generation parameters are set in the model config. These should go into a GenerationConfig file (https://huggingface.co/docs/transformers/generation_strategies#save-a-custom-decoding-strategy-with-your-model) instead. This warning will be raised to an exception in v4.41.\n",
      "Non-default generation parameters: {'max_length': 448, 'suppress_tokens': [], 'begin_suppress_tokens': [220, 50257]}\n",
      "Some non-default generation parameters are set in the model config. These should go into a GenerationConfig file (https://huggingface.co/docs/transformers/generation_strategies#save-a-custom-decoding-strategy-with-your-model) instead. This warning will be raised to an exception in v4.41.\n",
      "Non-default generation parameters: {'max_length': 448, 'suppress_tokens': [], 'begin_suppress_tokens': [220, 50257]}\n",
      "Some non-default generation parameters are set in the model config. These should go into a GenerationConfig file (https://huggingface.co/docs/transformers/generation_strategies#save-a-custom-decoding-strategy-with-your-model) instead. This warning will be raised to an exception in v4.41.\n",
      "Non-default generation parameters: {'max_length': 448, 'suppress_tokens': [], 'begin_suppress_tokens': [220, 50257]}\n",
      "There were missing keys in the checkpoint model loaded: ['proj_out.weight'].\n",
      "Some non-default generation parameters are set in the model config. These should go into a GenerationConfig file (https://huggingface.co/docs/transformers/generation_strategies#save-a-custom-decoding-strategy-with-your-model) instead. This warning will be raised to an exception in v4.41.\n",
      "Non-default generation parameters: {'max_length': 448, 'suppress_tokens': [], 'begin_suppress_tokens': [220, 50257]}\n"
     ]
    },
    {
     "data": {
      "text/plain": [
       "[]"
      ]
     },
     "execution_count": 7,
     "metadata": {},
     "output_type": "execute_result"
    }
   ],
   "source": [
    "import torch\n",
    "from torch import nn\n",
    "from transformers import WhisperForConditionalGeneration\n",
    "\n",
    "model = WhisperForConditionalGeneration.from_pretrained(model_checkpoint)\n",
    "# 학습 중 캐시 비활성(메모리/안정성)\n",
    "model.config.use_cache = False\n",
    "# 평가 때 경고 줄이기용(안전)\n",
    "start_id = processor.tokenizer.convert_tokens_to_ids(\"<|startoftranscript|>\")\n",
    "model.config.decoder_start_token_id = start_id\n",
    "model.generation_config.decoder_start_token_id = start_id\n",
    "model.config.pad_token_id = processor.tokenizer.pad_token_id\n",
    "model.generation_config.pad_token_id = processor.tokenizer.pad_token_id\n",
    "# 학습 중 언어 강제 OFF (평가 시만 ON)\n",
    "model.config.forced_decoder_ids = None\n",
    "model.config.suppress_tokens = []\n",
    "\n",
    "from dataclasses import dataclass\n",
    "\n",
    "@dataclass\n",
    "class DataCollatorSpeechSeq2SeqWithPadding:\n",
    "    processor: Any\n",
    "    padding: Union[bool, str] = True\n",
    "    def __call__(self, features: List[Dict[str, Union[List[int], torch.Tensor]]]) -> Dict[str, torch.Tensor]:\n",
    "        input_features = [{\"input_features\": f[\"input_features\"]} for f in features]\n",
    "        label_features = [{\"input_ids\": f[\"labels\"]} for f in features]\n",
    "        batch = self.processor.feature_extractor.pad(input_features, return_tensors=\"pt\")\n",
    "        labels_batch = self.processor.tokenizer.pad(label_features, return_tensors=\"pt\")\n",
    "        labels = labels_batch[\"input_ids\"].masked_fill(labels_batch.attention_mask.ne(1), -100)\n",
    "        batch[\"labels\"] = labels\n",
    "        return batch\n",
    "\n",
    "data_collator = DataCollatorSpeechSeq2SeqWithPadding(processor=processor)\n",
    "\n",
    "from transformers import Seq2SeqTrainingArguments, Seq2SeqTrainer\n",
    "\n",
    "training_args = Seq2SeqTrainingArguments(\n",
    "    output_dir=\"./whisper-small-finetuned\",\n",
    "    per_device_train_batch_size=4,\n",
    "    gradient_accumulation_steps=2,\n",
    "    learning_rate=5e-5,\n",
    "    num_train_epochs=3,\n",
    "    logging_steps=10,\n",
    "    save_steps=50,\n",
    "    fp16=torch.cuda.is_available(),\n",
    "    report_to=\"none\",\n",
    "\n",
    "    predict_with_generate=True,    # ★ generate() 기반 평가\n",
    "    generation_max_length=225,\n",
    "    # 아래 3개 켜면 epoch별 평가/저장/베스트모델 사용 가능(그래프용)\n",
    "    evaluation_strategy=\"epoch\",\n",
    "    save_strategy=\"epoch\",\n",
    "    load_best_model_at_end=True,\n",
    "\n",
    "    remove_unused_columns=False,   # input_features 보존\n",
    ")\n",
    "\n",
    "trainer = Seq2SeqTrainer(\n",
    "    model=model,\n",
    "    args=training_args,\n",
    "    train_dataset=processed_dataset_train,\n",
    "    eval_dataset=processed_dataset_val,   # ← 학습 중 평가는 여전히 VAL\n",
    "    tokenizer=processor,\n",
    "    data_collator=data_collator,\n",
    ")\n",
    "\n",
    "trainer.train()\n",
    "\n",
    "trainer.save_model(\"./whisper-small-finetuned\")\n",
    "processor.save_pretrained(\"./whisper-small-finetuned\")"
   ]
  },
  {
   "cell_type": "code",
   "execution_count": 8,
   "metadata": {
    "colab": {
     "base_uri": "https://localhost:8080/",
     "height": 1000,
     "referenced_widgets": [
      "322d8f2d41b2416b8e408258fc286a5e",
      "588bcf00ade74ef6a238296f939ad34c",
      "f80ae93087a6453887fcfcb1353341fd",
      "61fd877fef6c47ba9b829670c6d6350e",
      "a7ee5c316d32494cba64dcb367ac9d4d",
      "e0f23bad65664f268e02c9f8abe004c3",
      "c6ce3ff17118458f957cff8db25c5797",
      "4ea77844c74046fb9bdd3c553a5519c0",
      "2bd479fe56604d2eb7a26cc786054ebd",
      "569899fb612943879e4955c9b607821e",
      "baffdbbb3f614d28894fdcadf1d41622",
      "c78b41e86db146019c5e8b21259a365f",
      "a5f3b830bd664711b94fcd6c26a3d3cf",
      "37873ef1dc8a45a09cf3ba9969fc0696",
      "ddb29e21e4d348b685f3a7fa5427d87b",
      "58117aebcf5946d6b7ecf1197733101d",
      "c59d2662e0d84851978ce69b80d57a7c",
      "5a9cba638fa048c293e8b51492ae0b42",
      "060ab932521d4459990c7564528a9110",
      "b19abe38e35e4a8abcf49a0fb1b3e99b",
      "4ffccd67bf444297aef8cf75456787fb",
      "7c36c32bbe4a4c8c98ccf8861e8be5a1",
      "d1cb80ac7cad4eb687806f32dc85d81e",
      "c02d51fd94224cf7afb862101e1ec4b4",
      "217b6fd8c94b4587a86f3b3f92c19d42",
      "0a417c68ce504fc5a933e2e10b65e9d3",
      "6d51e1d327a4406abe72af88d3489d37",
      "65ef9bb29a724b16b06c265b8cbdf304",
      "0afcaacb439f49ba852d661205d4f35c",
      "c1e41d0b87c14856b531248f236cd307",
      "8dd8f8fed2494648b26593fc5ce5f728",
      "e42240a5a3b1421886f8af3e89d877e3",
      "2f2c3c0b72914a27afd944bbe6efb3bd",
      "c3fdc5c5473849489e852ccc5638a02a",
      "8bf8925405ca41a8afc1147a81ce0201",
      "740429eb3bbc4c9ca23c4eb6ed804761",
      "96bc94fcc32b4b7e8d68dd6dec4a9861",
      "0f26385bb7f747d6b8f38e656b3c6c88",
      "9ca6119a3de14c068e679f2ef4adafbb",
      "2613b1468bc74f3fabbc65792ff43491",
      "e1b7f52dcba74bb1a0ab25b3dbe69733",
      "62e61e4eee614459842d301d1ffdc91e",
      "e1c6c4a8826e41e9bced91198374863f",
      "8b33ad6723164a24a77348fef0913b94",
      "436a55e0d4ef4ee2972644c9ef146378",
      "8fb1f25e9e2a43459c63f5132ee96621",
      "5aa2853be7ff4fadb903f2cab766a4bf",
      "7de9d9bf13454e05aedf9418f48f27cf",
      "91a1323d8690436a9d02abac656aa831",
      "29d3eadeb11a4a57aadc03ffeb7fcc04",
      "23d7e37521f44ddda4198c7a672ce23a",
      "2c3b3c4293a5489f8e1a2179246d663a",
      "84c2cbe88a2b45b0983943629815ee13",
      "28966367fd2843a39a3a069da95f2918",
      "0c4e7a246e6943c6bf7a8a9c79236344",
      "4e6ca630b59240da9b1a61f9474a4619",
      "72e1582aade849158adede14da6fdb82",
      "f365146029804aae8742217bc51edceb",
      "e61df2b1ff8740d3b055f18a29cee8e6",
      "f1988535cf0941e48f0dc6348068c2f0",
      "8545741ec2864e3c94b173386a6b8f2b",
      "6e1808bc9622407d8f64e3d69b88cf68",
      "5e48dcdcd73644828b1f8087fd9619cd",
      "61a7c6c1efe14280ab0e5729fcce60f8",
      "5872c50994b24f2896d1da01559f78b5",
      "cad3e9d7d6664e36a94a86aaa1e59e06"
     ]
    },
    "id": "Kz5h4rE900xf",
    "outputId": "11b697cd-85cf-486b-89a5-37e23f89669b"
   },
   "outputs": [
    {
     "data": {
      "application/vnd.jupyter.widget-view+json": {
       "model_id": "322d8f2d41b2416b8e408258fc286a5e",
       "version_major": 2,
       "version_minor": 0
      },
      "text/plain": [
       "Filter:   0%|          | 0/400 [00:00<?, ? examples/s]"
      ]
     },
     "metadata": {},
     "output_type": "display_data"
    },
    {
     "data": {
      "application/vnd.jupyter.widget-view+json": {
       "model_id": "c78b41e86db146019c5e8b21259a365f",
       "version_major": 2,
       "version_minor": 0
      },
      "text/plain": [
       "Filter:   0%|          | 0/400 [00:00<?, ? examples/s]"
      ]
     },
     "metadata": {},
     "output_type": "display_data"
    },
    {
     "data": {
      "application/vnd.jupyter.widget-view+json": {
       "model_id": "d1cb80ac7cad4eb687806f32dc85d81e",
       "version_major": 2,
       "version_minor": 0
      },
      "text/plain": [
       "Filter:   0%|          | 0/400 [00:00<?, ? examples/s]"
      ]
     },
     "metadata": {},
     "output_type": "display_data"
    },
    {
     "data": {
      "application/vnd.jupyter.widget-view+json": {
       "model_id": "c3fdc5c5473849489e852ccc5638a02a",
       "version_major": 2,
       "version_minor": 0
      },
      "text/plain": [
       "Filter:   0%|          | 0/400 [00:00<?, ? examples/s]"
      ]
     },
     "metadata": {},
     "output_type": "display_data"
    },
    {
     "name": "stdout",
     "output_type": "stream",
     "text": [
      "🔎 Evaluating on: TEST split (fixed)\n"
     ]
    },
    {
     "data": {
      "application/vnd.jupyter.widget-view+json": {
       "model_id": "436a55e0d4ef4ee2972644c9ef146378",
       "version_major": 2,
       "version_minor": 0
      },
      "text/plain": [
       "Downloading builder script: 0.00B [00:00, ?B/s]"
      ]
     },
     "metadata": {},
     "output_type": "display_data"
    },
    {
     "data": {
      "application/vnd.jupyter.widget-view+json": {
       "model_id": "4e6ca630b59240da9b1a61f9474a4619",
       "version_major": 2,
       "version_minor": 0
      },
      "text/plain": [
       "Downloading builder script: 0.00B [00:00, ?B/s]"
      ]
     },
     "metadata": {},
     "output_type": "display_data"
    },
    {
     "name": "stdout",
     "output_type": "stream",
     "text": [
      "\n",
      "🌍 Language: KO\n"
     ]
    },
    {
     "name": "stderr",
     "output_type": "stream",
     "text": [
      "The attention mask is not set and cannot be inferred from input because pad token is same as eos token. As a consequence, you may observe unexpected behavior. Please pass your input's `attention_mask` to obtain reliable results.\n"
     ]
    },
    {
     "data": {
      "text/html": [],
      "text/plain": [
       "<IPython.core.display.HTML object>"
      ]
     },
     "metadata": {},
     "output_type": "display_data"
    },
    {
     "name": "stdout",
     "output_type": "stream",
     "text": [
      "🔹Pred: 그러나 실제로 뽑은 숫자는 지난주에 미치지 못한 것으로 나타났다.\n",
      "🔸Ref : 그러나 실제로 뽑은 숫자는 지난 주에 미치지 못한 것으로 나타났다.\n",
      "---\n",
      "🔹Pred: 신압대는 이렇게 말하며 유서방을 견눈질해보았다.\n",
      "🔸Ref : 싱앗대는 이렇게 말하며 유서방을 곁눈질해 보았다.\n",
      "---\n",
      "🔹Pred: 신철이는 어찌 보면 감정을 가진 사람같지 않아 보였다.\n",
      "🔸Ref : 신철이는 어찌 보면 감정을 가진 사람 같지 않아 보였다.\n",
      "---\n",
      "✅ KO WER: 0.4166\n",
      "✅ KO CER: 0.1624\n",
      "\n",
      "🌍 Language: EN\n"
     ]
    },
    {
     "data": {
      "text/html": [],
      "text/plain": [
       "<IPython.core.display.HTML object>"
      ]
     },
     "metadata": {},
     "output_type": "display_data"
    },
    {
     "name": "stdout",
     "output_type": "stream",
     "text": [
      "🔹Pred: A lot of the area belonged to the class of the notes known as the Bore-Modernia-Berts-Hepernitska.\n",
      "🔸Ref : Enoxaparin belongs to the class of drugs known as low molecular weight heparins.\n",
      "---\n",
      "🔹Pred: Eight.\n",
      "🔸Ref : eight\n",
      "---\n",
      "🔹Pred: Do you read it?\n",
      "🔸Ref : Do you mean it?\n",
      "---\n",
      "✅ EN WER: 0.2615\n",
      "✅ EN CER: 0.1268\n",
      "\n",
      "🌍 Language: JA\n"
     ]
    },
    {
     "data": {
      "text/html": [],
      "text/plain": [
       "<IPython.core.display.HTML object>"
      ]
     },
     "metadata": {},
     "output_type": "display_data"
    },
    {
     "name": "stdout",
     "output_type": "stream",
     "text": [
      "🔹Pred: 福島県広野町\n",
      "🔸Ref : 福島県広野町\n",
      "---\n",
      "🔹Pred: だが言わる\n",
      "🔸Ref : だが断る\n",
      "---\n",
      "🔹Pred: そして、いくら見舞いとしても、君が悪ければ悪いほど書いてその紙をじっと見つめないではいられませんでした。\n",
      "🔸Ref : そして、いくら見まいとしても、きみが悪ければ悪いほど、かえってその影を、じっと見つめないではいられませんでした。\n",
      "---\n",
      "✅ JA WER: 0.9099\n",
      "✅ JA CER: 0.5214\n",
      "\n",
      "🌍 Language: DE\n"
     ]
    },
    {
     "data": {
      "text/html": [],
      "text/plain": [
       "<IPython.core.display.HTML object>"
      ]
     },
     "metadata": {},
     "output_type": "display_data"
    },
    {
     "name": "stdout",
     "output_type": "stream",
     "text": [
      "🔹Pred: Wenn nicht, dann läckt man sie irgendwo hin, woplatz ist.\n",
      "🔸Ref : Wenn nicht, dann legt man sie irgendwo hin, wo Platz ist.\n",
      "---\n",
      "🔹Pred: Wie ist die derzeitige Verkehrssituation?\n",
      "🔸Ref : Wie ist die derzeitige Verkehrssituation?\n",
      "---\n",
      "🔹Pred: Auch den Prozesse haben wir Hexen, Verfolgungen und Kamerotenten, die scheren Räte bekommen.\n",
      "🔸Ref : Aus den Prozessakten der Hexenverfolgung sind keine authentischen Rezepte bekannt.\n",
      "---\n",
      "✅ DE WER: 0.3302\n",
      "✅ DE CER: 0.1264\n"
     ]
    },
    {
     "data": {
      "application/vnd.google.colaboratory.intrinsic+json": {
       "summary": "{\n  \"name\": \"df_base\",\n  \"rows\": 4,\n  \"fields\": [\n    {\n      \"column\": \"lang\",\n      \"properties\": {\n        \"dtype\": \"string\",\n        \"num_unique_values\": 4,\n        \"samples\": [\n          \"en\",\n          \"ko\",\n          \"de\"\n        ],\n        \"semantic_type\": \"\",\n        \"description\": \"\"\n      }\n    },\n    {\n      \"column\": \"WER\",\n      \"properties\": {\n        \"dtype\": \"number\",\n        \"std\": 0.29386128371332376,\n        \"min\": 0.26145251396648045,\n        \"max\": 0.9099099099099099,\n        \"num_unique_values\": 4,\n        \"samples\": [\n          0.26145251396648045,\n          0.4165554072096128,\n          0.3301549463647199\n        ],\n        \"semantic_type\": \"\",\n        \"description\": \"\"\n      }\n    },\n    {\n      \"column\": \"CER\",\n      \"properties\": {\n        \"dtype\": \"number\",\n        \"std\": 0.19215631333672667,\n        \"min\": 0.12639275766016714,\n        \"max\": 0.5213592233009708,\n        \"num_unique_values\": 4,\n        \"samples\": [\n          0.12677748848387743,\n          0.1624383368569415,\n          0.12639275766016714\n        ],\n        \"semantic_type\": \"\",\n        \"description\": \"\"\n      }\n    },\n    {\n      \"column\": \"N\",\n      \"properties\": {\n        \"dtype\": \"number\",\n        \"std\": 0,\n        \"min\": 100,\n        \"max\": 100,\n        \"num_unique_values\": 1,\n        \"samples\": [\n          100\n        ],\n        \"semantic_type\": \"\",\n        \"description\": \"\"\n      }\n    }\n  ]\n}",
       "type": "dataframe",
       "variable_name": "df_base"
      },
      "text/html": [
       "\n",
       "  <div id=\"df-76214517-5706-4962-8242-e508455a647c\" class=\"colab-df-container\">\n",
       "    <div>\n",
       "<style scoped>\n",
       "    .dataframe tbody tr th:only-of-type {\n",
       "        vertical-align: middle;\n",
       "    }\n",
       "\n",
       "    .dataframe tbody tr th {\n",
       "        vertical-align: top;\n",
       "    }\n",
       "\n",
       "    .dataframe thead th {\n",
       "        text-align: right;\n",
       "    }\n",
       "</style>\n",
       "<table border=\"1\" class=\"dataframe\">\n",
       "  <thead>\n",
       "    <tr style=\"text-align: right;\">\n",
       "      <th></th>\n",
       "      <th>lang</th>\n",
       "      <th>WER</th>\n",
       "      <th>CER</th>\n",
       "      <th>N</th>\n",
       "    </tr>\n",
       "  </thead>\n",
       "  <tbody>\n",
       "    <tr>\n",
       "      <th>3</th>\n",
       "      <td>de</td>\n",
       "      <td>0.330155</td>\n",
       "      <td>0.126393</td>\n",
       "      <td>100</td>\n",
       "    </tr>\n",
       "    <tr>\n",
       "      <th>1</th>\n",
       "      <td>en</td>\n",
       "      <td>0.261453</td>\n",
       "      <td>0.126777</td>\n",
       "      <td>100</td>\n",
       "    </tr>\n",
       "    <tr>\n",
       "      <th>2</th>\n",
       "      <td>ja</td>\n",
       "      <td>0.909910</td>\n",
       "      <td>0.521359</td>\n",
       "      <td>100</td>\n",
       "    </tr>\n",
       "    <tr>\n",
       "      <th>0</th>\n",
       "      <td>ko</td>\n",
       "      <td>0.416555</td>\n",
       "      <td>0.162438</td>\n",
       "      <td>100</td>\n",
       "    </tr>\n",
       "  </tbody>\n",
       "</table>\n",
       "</div>\n",
       "    <div class=\"colab-df-buttons\">\n",
       "\n",
       "  <div class=\"colab-df-container\">\n",
       "    <button class=\"colab-df-convert\" onclick=\"convertToInteractive('df-76214517-5706-4962-8242-e508455a647c')\"\n",
       "            title=\"Convert this dataframe to an interactive table.\"\n",
       "            style=\"display:none;\">\n",
       "\n",
       "  <svg xmlns=\"http://www.w3.org/2000/svg\" height=\"24px\" viewBox=\"0 -960 960 960\">\n",
       "    <path d=\"M120-120v-720h720v720H120Zm60-500h600v-160H180v160Zm220 220h160v-160H400v160Zm0 220h160v-160H400v160ZM180-400h160v-160H180v160Zm440 0h160v-160H620v160ZM180-180h160v-160H180v160Zm440 0h160v-160H620v160Z\"/>\n",
       "  </svg>\n",
       "    </button>\n",
       "\n",
       "  <style>\n",
       "    .colab-df-container {\n",
       "      display:flex;\n",
       "      gap: 12px;\n",
       "    }\n",
       "\n",
       "    .colab-df-convert {\n",
       "      background-color: #E8F0FE;\n",
       "      border: none;\n",
       "      border-radius: 50%;\n",
       "      cursor: pointer;\n",
       "      display: none;\n",
       "      fill: #1967D2;\n",
       "      height: 32px;\n",
       "      padding: 0 0 0 0;\n",
       "      width: 32px;\n",
       "    }\n",
       "\n",
       "    .colab-df-convert:hover {\n",
       "      background-color: #E2EBFA;\n",
       "      box-shadow: 0px 1px 2px rgba(60, 64, 67, 0.3), 0px 1px 3px 1px rgba(60, 64, 67, 0.15);\n",
       "      fill: #174EA6;\n",
       "    }\n",
       "\n",
       "    .colab-df-buttons div {\n",
       "      margin-bottom: 4px;\n",
       "    }\n",
       "\n",
       "    [theme=dark] .colab-df-convert {\n",
       "      background-color: #3B4455;\n",
       "      fill: #D2E3FC;\n",
       "    }\n",
       "\n",
       "    [theme=dark] .colab-df-convert:hover {\n",
       "      background-color: #434B5C;\n",
       "      box-shadow: 0px 1px 3px 1px rgba(0, 0, 0, 0.15);\n",
       "      filter: drop-shadow(0px 1px 2px rgba(0, 0, 0, 0.3));\n",
       "      fill: #FFFFFF;\n",
       "    }\n",
       "  </style>\n",
       "\n",
       "    <script>\n",
       "      const buttonEl =\n",
       "        document.querySelector('#df-76214517-5706-4962-8242-e508455a647c button.colab-df-convert');\n",
       "      buttonEl.style.display =\n",
       "        google.colab.kernel.accessAllowed ? 'block' : 'none';\n",
       "\n",
       "      async function convertToInteractive(key) {\n",
       "        const element = document.querySelector('#df-76214517-5706-4962-8242-e508455a647c');\n",
       "        const dataTable =\n",
       "          await google.colab.kernel.invokeFunction('convertToInteractive',\n",
       "                                                    [key], {});\n",
       "        if (!dataTable) return;\n",
       "\n",
       "        const docLinkHtml = 'Like what you see? Visit the ' +\n",
       "          '<a target=\"_blank\" href=https://colab.research.google.com/notebooks/data_table.ipynb>data table notebook</a>'\n",
       "          + ' to learn more about interactive tables.';\n",
       "        element.innerHTML = '';\n",
       "        dataTable['output_type'] = 'display_data';\n",
       "        await google.colab.output.renderOutput(dataTable, element);\n",
       "        const docLink = document.createElement('div');\n",
       "        docLink.innerHTML = docLinkHtml;\n",
       "        element.appendChild(docLink);\n",
       "      }\n",
       "    </script>\n",
       "  </div>\n",
       "\n",
       "\n",
       "    <div id=\"df-7b0c47dd-108f-4801-b148-461025e54d9e\">\n",
       "      <button class=\"colab-df-quickchart\" onclick=\"quickchart('df-7b0c47dd-108f-4801-b148-461025e54d9e')\"\n",
       "                title=\"Suggest charts\"\n",
       "                style=\"display:none;\">\n",
       "\n",
       "<svg xmlns=\"http://www.w3.org/2000/svg\" height=\"24px\"viewBox=\"0 0 24 24\"\n",
       "     width=\"24px\">\n",
       "    <g>\n",
       "        <path d=\"M19 3H5c-1.1 0-2 .9-2 2v14c0 1.1.9 2 2 2h14c1.1 0 2-.9 2-2V5c0-1.1-.9-2-2-2zM9 17H7v-7h2v7zm4 0h-2V7h2v10zm4 0h-2v-4h2v4z\"/>\n",
       "    </g>\n",
       "</svg>\n",
       "      </button>\n",
       "\n",
       "<style>\n",
       "  .colab-df-quickchart {\n",
       "      --bg-color: #E8F0FE;\n",
       "      --fill-color: #1967D2;\n",
       "      --hover-bg-color: #E2EBFA;\n",
       "      --hover-fill-color: #174EA6;\n",
       "      --disabled-fill-color: #AAA;\n",
       "      --disabled-bg-color: #DDD;\n",
       "  }\n",
       "\n",
       "  [theme=dark] .colab-df-quickchart {\n",
       "      --bg-color: #3B4455;\n",
       "      --fill-color: #D2E3FC;\n",
       "      --hover-bg-color: #434B5C;\n",
       "      --hover-fill-color: #FFFFFF;\n",
       "      --disabled-bg-color: #3B4455;\n",
       "      --disabled-fill-color: #666;\n",
       "  }\n",
       "\n",
       "  .colab-df-quickchart {\n",
       "    background-color: var(--bg-color);\n",
       "    border: none;\n",
       "    border-radius: 50%;\n",
       "    cursor: pointer;\n",
       "    display: none;\n",
       "    fill: var(--fill-color);\n",
       "    height: 32px;\n",
       "    padding: 0;\n",
       "    width: 32px;\n",
       "  }\n",
       "\n",
       "  .colab-df-quickchart:hover {\n",
       "    background-color: var(--hover-bg-color);\n",
       "    box-shadow: 0 1px 2px rgba(60, 64, 67, 0.3), 0 1px 3px 1px rgba(60, 64, 67, 0.15);\n",
       "    fill: var(--button-hover-fill-color);\n",
       "  }\n",
       "\n",
       "  .colab-df-quickchart-complete:disabled,\n",
       "  .colab-df-quickchart-complete:disabled:hover {\n",
       "    background-color: var(--disabled-bg-color);\n",
       "    fill: var(--disabled-fill-color);\n",
       "    box-shadow: none;\n",
       "  }\n",
       "\n",
       "  .colab-df-spinner {\n",
       "    border: 2px solid var(--fill-color);\n",
       "    border-color: transparent;\n",
       "    border-bottom-color: var(--fill-color);\n",
       "    animation:\n",
       "      spin 1s steps(1) infinite;\n",
       "  }\n",
       "\n",
       "  @keyframes spin {\n",
       "    0% {\n",
       "      border-color: transparent;\n",
       "      border-bottom-color: var(--fill-color);\n",
       "      border-left-color: var(--fill-color);\n",
       "    }\n",
       "    20% {\n",
       "      border-color: transparent;\n",
       "      border-left-color: var(--fill-color);\n",
       "      border-top-color: var(--fill-color);\n",
       "    }\n",
       "    30% {\n",
       "      border-color: transparent;\n",
       "      border-left-color: var(--fill-color);\n",
       "      border-top-color: var(--fill-color);\n",
       "      border-right-color: var(--fill-color);\n",
       "    }\n",
       "    40% {\n",
       "      border-color: transparent;\n",
       "      border-right-color: var(--fill-color);\n",
       "      border-top-color: var(--fill-color);\n",
       "    }\n",
       "    60% {\n",
       "      border-color: transparent;\n",
       "      border-right-color: var(--fill-color);\n",
       "    }\n",
       "    80% {\n",
       "      border-color: transparent;\n",
       "      border-right-color: var(--fill-color);\n",
       "      border-bottom-color: var(--fill-color);\n",
       "    }\n",
       "    90% {\n",
       "      border-color: transparent;\n",
       "      border-bottom-color: var(--fill-color);\n",
       "    }\n",
       "  }\n",
       "</style>\n",
       "\n",
       "      <script>\n",
       "        async function quickchart(key) {\n",
       "          const quickchartButtonEl =\n",
       "            document.querySelector('#' + key + ' button');\n",
       "          quickchartButtonEl.disabled = true;  // To prevent multiple clicks.\n",
       "          quickchartButtonEl.classList.add('colab-df-spinner');\n",
       "          try {\n",
       "            const charts = await google.colab.kernel.invokeFunction(\n",
       "                'suggestCharts', [key], {});\n",
       "          } catch (error) {\n",
       "            console.error('Error during call to suggestCharts:', error);\n",
       "          }\n",
       "          quickchartButtonEl.classList.remove('colab-df-spinner');\n",
       "          quickchartButtonEl.classList.add('colab-df-quickchart-complete');\n",
       "        }\n",
       "        (() => {\n",
       "          let quickchartButtonEl =\n",
       "            document.querySelector('#df-7b0c47dd-108f-4801-b148-461025e54d9e button');\n",
       "          quickchartButtonEl.style.display =\n",
       "            google.colab.kernel.accessAllowed ? 'block' : 'none';\n",
       "        })();\n",
       "      </script>\n",
       "    </div>\n",
       "\n",
       "  <div id=\"id_dbce68fe-66c4-4678-910f-4d41c697c1a2\">\n",
       "    <style>\n",
       "      .colab-df-generate {\n",
       "        background-color: #E8F0FE;\n",
       "        border: none;\n",
       "        border-radius: 50%;\n",
       "        cursor: pointer;\n",
       "        display: none;\n",
       "        fill: #1967D2;\n",
       "        height: 32px;\n",
       "        padding: 0 0 0 0;\n",
       "        width: 32px;\n",
       "      }\n",
       "\n",
       "      .colab-df-generate:hover {\n",
       "        background-color: #E2EBFA;\n",
       "        box-shadow: 0px 1px 2px rgba(60, 64, 67, 0.3), 0px 1px 3px 1px rgba(60, 64, 67, 0.15);\n",
       "        fill: #174EA6;\n",
       "      }\n",
       "\n",
       "      [theme=dark] .colab-df-generate {\n",
       "        background-color: #3B4455;\n",
       "        fill: #D2E3FC;\n",
       "      }\n",
       "\n",
       "      [theme=dark] .colab-df-generate:hover {\n",
       "        background-color: #434B5C;\n",
       "        box-shadow: 0px 1px 3px 1px rgba(0, 0, 0, 0.15);\n",
       "        filter: drop-shadow(0px 1px 2px rgba(0, 0, 0, 0.3));\n",
       "        fill: #FFFFFF;\n",
       "      }\n",
       "    </style>\n",
       "    <button class=\"colab-df-generate\" onclick=\"generateWithVariable('df_base')\"\n",
       "            title=\"Generate code using this dataframe.\"\n",
       "            style=\"display:none;\">\n",
       "\n",
       "  <svg xmlns=\"http://www.w3.org/2000/svg\" height=\"24px\"viewBox=\"0 0 24 24\"\n",
       "       width=\"24px\">\n",
       "    <path d=\"M7,19H8.4L18.45,9,17,7.55,7,17.6ZM5,21V16.75L18.45,3.32a2,2,0,0,1,2.83,0l1.4,1.43a1.91,1.91,0,0,1,.58,1.4,1.91,1.91,0,0,1-.58,1.4L9.25,21ZM18.45,9,17,7.55Zm-12,3A5.31,5.31,0,0,0,4.9,8.1,5.31,5.31,0,0,0,1,6.5,5.31,5.31,0,0,0,4.9,4.9,5.31,5.31,0,0,0,6.5,1,5.31,5.31,0,0,0,8.1,4.9,5.31,5.31,0,0,0,12,6.5,5.46,5.46,0,0,0,6.5,12Z\"/>\n",
       "  </svg>\n",
       "    </button>\n",
       "    <script>\n",
       "      (() => {\n",
       "      const buttonEl =\n",
       "        document.querySelector('#id_dbce68fe-66c4-4678-910f-4d41c697c1a2 button.colab-df-generate');\n",
       "      buttonEl.style.display =\n",
       "        google.colab.kernel.accessAllowed ? 'block' : 'none';\n",
       "\n",
       "      buttonEl.onclick = () => {\n",
       "        google.colab.notebook.generateWithVariable('df_base');\n",
       "      }\n",
       "      })();\n",
       "    </script>\n",
       "  </div>\n",
       "\n",
       "    </div>\n",
       "  </div>\n"
      ],
      "text/plain": [
       "  lang       WER       CER    N\n",
       "3   de  0.330155  0.126393  100\n",
       "1   en  0.261453  0.126777  100\n",
       "2   ja  0.909910  0.521359  100\n",
       "0   ko  0.416555  0.162438  100"
      ]
     },
     "metadata": {},
     "output_type": "display_data"
    },
    {
     "name": "stdout",
     "output_type": "stream",
     "text": [
      "Saved -> /content/baseline_cv16_1_whisper_small_FIXEDSPLIT_TEST.csv\n"
     ]
    }
   ],
   "source": [
    "test_ko = processed_dataset_test.filter(lambda x: x[\"locale\"] == \"ko\")\n",
    "test_en = processed_dataset_test.filter(lambda x: x[\"locale\"] == \"en\")\n",
    "test_ja = processed_dataset_test.filter(lambda x: x[\"locale\"] == \"ja\")\n",
    "test_de = processed_dataset_test.filter(lambda x: x[\"locale\"] == \"de\")\n",
    "\n",
    "lang_datasets = {\"ko\": test_ko, \"en\": test_en, \"ja\": test_ja, \"de\": test_de}\n",
    "print(\"🔎 Evaluating on: TEST split (fixed)\")\n",
    "\n",
    "wer_metric = load_metric(\"wer\")\n",
    "cer_metric = load_metric(\"cer\")\n",
    "\n",
    "LANG_NAME = {\"ko\":\"korean\", \"ja\":\"japanese\", \"en\":\"english\", \"de\":\"german\"}\n",
    "\n",
    "lang_scores = {}\n",
    "for lang, dataset in lang_datasets.items():\n",
    "    print(f\"\\n🌍 Language: {lang.upper()}\")\n",
    "    # 언어 강제 프롬프트 → 인퍼런스 안정화\n",
    "    forced_ids = processor.get_decoder_prompt_ids(language=LANG_NAME[lang], task=\"transcribe\")\n",
    "    trainer.model.generation_config.forced_decoder_ids = forced_ids\n",
    "    trainer.model.generation_config.max_length = 225\n",
    "\n",
    "    pred_output = trainer.predict(dataset)  # generate 결과 반환\n",
    "    decoded_preds = processor.tokenizer.batch_decode(pred_output.predictions, skip_special_tokens=True)\n",
    "    decoded_labels = processor.tokenizer.batch_decode(pred_output.label_ids,   skip_special_tokens=True)\n",
    "\n",
    "    # 샘플 출력\n",
    "    for p, r in list(zip(decoded_preds, decoded_labels))[:3]:\n",
    "        print(f\"🔹Pred: {p}\\n🔸Ref : {r}\\n---\")\n",
    "\n",
    "    wer_score = wer_metric.compute(predictions=decoded_preds, references=decoded_labels)\n",
    "    cer_score = cer_metric.compute(predictions=decoded_preds, references=decoded_labels)\n",
    "    lang_scores[lang] = {\"WER\": wer_score, \"CER\": cer_score, \"N\": len(decoded_labels)}\n",
    "\n",
    "    print(f\"✅ {lang.upper()} WER: {wer_score:.4f}\")\n",
    "    print(f\"✅ {lang.upper()} CER: {cer_score:.4f}\")\n",
    "\n",
    "import pandas as pd\n",
    "df_base = pd.DataFrame(\n",
    "    [{\"lang\": k, \"WER\": v[\"WER\"], \"CER\": v[\"CER\"], \"N\": v[\"N\"]} for k, v in lang_scores.items()]\n",
    ").sort_values(\"lang\")\n",
    "display(df_base)\n",
    "df_base.to_csv(\"/content/baseline_cv16_1_whisper_small_FIXEDSPLIT_TEST.csv\", index=False)\n",
    "print(\"Saved -> /content/baseline_cv16_1_whisper_small_FIXEDSPLIT_TEST.csv\")"
   ]
  },
  {
   "cell_type": "code",
   "execution_count": 9,
   "metadata": {
    "colab": {
     "base_uri": "https://localhost:8080/",
     "height": 582
    },
    "id": "JvCUJTAq02wy",
    "outputId": "b0018d4a-07c1-4d75-a4de-8c4923e21863"
   },
   "outputs": [
    {
     "data": {
      "image/png": "[encoded data removed]",
      "text/plain": [
       "<Figure size 800x600 with 1 Axes>"
      ]
     },
     "metadata": {},
     "output_type": "display_data"
    }
   ],
   "source": [
    "# 시각화\n",
    "import matplotlib.pyplot as plt\n",
    "\n",
    "languages = [\"Korean\", \"Japanese\", \"English\", \"German\"]\n",
    "wer = [df_base[df_base[\"lang\"]==k][\"WER\"].values[0] for k in [\"ko\",\"ja\",\"en\",\"de\"]]\n",
    "cer = [df_base[df_base[\"lang\"]==k][\"CER\"].values[0] for k in [\"ko\",\"ja\",\"en\",\"de\"]]\n",
    "\n",
    "x = np.arange(len(languages))  # 언어 개수만큼 위치\n",
    "width = 0.35  # 막대 너비\n",
    "\n",
    "plt.figure(figsize=(8,6))\n",
    "plt.bar(x - width/2, wer, width, label=\"WER\", color=\"#6A5ACD\")\n",
    "plt.bar(x + width/2, cer, width, label=\"CER\", color=\"#ff7f0e\")\n",
    "plt.xticks(x, languages, fontsize=12)\n",
    "plt.ylabel(\"Error Rate\", fontsize=12)\n",
    "plt.title(\"Language-wise WER vs CER (Fixed Split)\")\n",
    "plt.legend()\n",
    "for i in range(len(languages)):\n",
    "    plt.text(x[i] - width/2, wer[i] + 0.01, f\"{wer[i]:.2f}\", ha=\"center\", fontsize=10)\n",
    "    plt.text(x[i] + width/2, cer[i] + 0.01, f\"{cer[i]:.2f}\", ha=\"center\", fontsize=10)\n",
    "plt.tight_layout()\n",
    "plt.show()"
   ]
  }
 ],
 "metadata": {
  "accelerator": "GPU",
  "colab": {
   "gpuType": "T4",
   "machine_shape": "hm",
   "provenance": []
  },
  "kernelspec": {
   "display_name": "Python 3",
   "name": "python3"
  },
  "language_info": {
   "name": "python"
  }
 },
 "nbformat": 4,
 "nbformat_minor": 0
}
